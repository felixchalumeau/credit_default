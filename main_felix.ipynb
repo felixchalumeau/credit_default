{
 "cells": [
  {
   "cell_type": "markdown",
   "metadata": {},
   "source": [
    "# CREDIT DEFAULT - MLII (MAP 569)\n",
    "**Alexander Davi & Félix Chalumeau**"
   ]
  },
  {
   "cell_type": "code",
   "execution_count": 7,
   "metadata": {},
   "outputs": [],
   "source": [
    "import numpy as np\n",
    "import pandas as pd \n",
    "\n",
    "import warnings\n",
    "warnings.filterwarnings('ignore')\n",
    "\n",
    "from tqdm import tqdm\n",
    "\n",
    "import datetime\n",
    "\n",
    "%matplotlib inline \n",
    "import matplotlib.pyplot as plt \n",
    "\n",
    "from sklearn.preprocessing import LabelEncoder, OneHotEncoder, StandardScaler\n",
    "from sklearn.model_selection import train_test_split\n",
    "\n",
    "from sklearn import metrics"
   ]
  },
  {
   "cell_type": "markdown",
   "metadata": {},
   "source": [
    "# 0. Idée de manoeuvre pré-majoration\n",
    "\n",
    "Y a eu un kaggle sur le sujet, on va donc s'en inspirer. (ce n'est pas le même dataset)\n",
    "Voici le lien du kaggle: https://www.kaggle.com/c/home-credit-default-risk/overview\n",
    "\n",
    "Voici un notebook introductif: https://www.kaggle.com/willkoehrsen/start-here-a-gentle-introduction\n",
    "\n",
    "Voici un notebook avec un bon score: https://www.kaggle.com/jsaguiar/lightgbm-with-simple-features\n",
    "\n",
    "J'ai bien envie de combiner un neural network et un XGBoost, en général c'est bénèf. "
   ]
  },
  {
   "cell_type": "markdown",
   "metadata": {},
   "source": [
    "# TO DO:\n",
    "\n",
    "- comment everything\n",
    "- do parameter tuning\n",
    "- write a conclusiion with performance on the test data set\n",
    "- draw an ROC plot"
   ]
  },
  {
   "cell_type": "markdown",
   "metadata": {},
   "source": [
    "# Introduction\n",
    "\n",
    "### The data set\n",
    "We are provided a dataset about credit default. It contains 5380 raws, each described by 19 features. Those features are of different types, amongst them are date values, numeric values and categorical values. \n",
    "We are going to see how to handle each of them as well as how to manage the NaN and unfeasible values in this dataset in order to be able to model it afterwards. \n",
    "\n",
    "### The problem\n",
    "This problem is a tabular one with a classification task. It is quite particular as the data seems unbalanced. We will try to resample it or we will use an appropriate model for this use case. \n",
    "\n",
    "### Our plan\n",
    "First, we are going to explore the data and infere transformations from our observations. Then we will design our pipeline. We will split the dataset in three parts: train, validation, test. The test set will be only used at the very end of our work to make sure we have not overfitted the validation set ! \n",
    "We will then try different models, choose the most promising one and tune some of its hyperparameters. \n",
    "We will finally conclude by analysing our final performance on the test set and our features importance. \n",
    "\n",
    "### Our metrics\n",
    "To measure the performance of our model, we will use accuracy and ROC AUC score, which are common metrics for classification tasks."
   ]
  },
  {
   "cell_type": "markdown",
   "metadata": {},
   "source": [
    "# 1. Exploration and transformation of the data"
   ]
  },
  {
   "cell_type": "markdown",
   "metadata": {},
   "source": [
    "## 1.1. A first glance at the data "
   ]
  },
  {
   "cell_type": "code",
   "execution_count": 8,
   "metadata": {
    "scrolled": false
   },
   "outputs": [
    {
     "data": {
      "text/html": [
       "<div>\n",
       "<style scoped>\n",
       "    .dataframe tbody tr th:only-of-type {\n",
       "        vertical-align: middle;\n",
       "    }\n",
       "\n",
       "    .dataframe tbody tr th {\n",
       "        vertical-align: top;\n",
       "    }\n",
       "\n",
       "    .dataframe thead th {\n",
       "        text-align: right;\n",
       "    }\n",
       "</style>\n",
       "<table border=\"1\" class=\"dataframe\">\n",
       "  <thead>\n",
       "    <tr style=\"text-align: right;\">\n",
       "      <th></th>\n",
       "      <th>Id_Customer</th>\n",
       "      <th>Y</th>\n",
       "      <th>Customer_Type</th>\n",
       "      <th>BirthDate</th>\n",
       "      <th>Customer_Open_Date</th>\n",
       "      <th>P_Client</th>\n",
       "      <th>Educational_Level</th>\n",
       "      <th>Marital_Status</th>\n",
       "      <th>Number_Of_Dependant</th>\n",
       "      <th>Years_At_Residence</th>\n",
       "      <th>Net_Annual_Income</th>\n",
       "      <th>Years_At_Business</th>\n",
       "      <th>Prod_Sub_Category</th>\n",
       "      <th>Prod_Decision_Date</th>\n",
       "      <th>Source</th>\n",
       "      <th>Type_Of_Residence</th>\n",
       "      <th>Nb_Of_Products</th>\n",
       "      <th>Prod_Closed_Date</th>\n",
       "      <th>Prod_Category</th>\n",
       "    </tr>\n",
       "  </thead>\n",
       "  <tbody>\n",
       "    <tr>\n",
       "      <th>0</th>\n",
       "      <td>7440</td>\n",
       "      <td>0</td>\n",
       "      <td>Non Existing Client</td>\n",
       "      <td>1977-07-08</td>\n",
       "      <td>2012-02-13</td>\n",
       "      <td>NP_Client</td>\n",
       "      <td>University</td>\n",
       "      <td>Married</td>\n",
       "      <td>3.0</td>\n",
       "      <td>1</td>\n",
       "      <td>36</td>\n",
       "      <td>1.0</td>\n",
       "      <td>C</td>\n",
       "      <td>2012-02-14</td>\n",
       "      <td>Sales</td>\n",
       "      <td>Owned</td>\n",
       "      <td>1</td>\n",
       "      <td>NaT</td>\n",
       "      <td>B</td>\n",
       "    </tr>\n",
       "    <tr>\n",
       "      <th>1</th>\n",
       "      <td>573</td>\n",
       "      <td>0</td>\n",
       "      <td>Existing Client</td>\n",
       "      <td>1974-06-13</td>\n",
       "      <td>2009-04-02</td>\n",
       "      <td>P_Client</td>\n",
       "      <td>University</td>\n",
       "      <td>Married</td>\n",
       "      <td>0.0</td>\n",
       "      <td>12</td>\n",
       "      <td>18</td>\n",
       "      <td>2.0</td>\n",
       "      <td>C</td>\n",
       "      <td>2011-06-30</td>\n",
       "      <td>Sales</td>\n",
       "      <td>Parents</td>\n",
       "      <td>1</td>\n",
       "      <td>NaT</td>\n",
       "      <td>G</td>\n",
       "    </tr>\n",
       "    <tr>\n",
       "      <th>2</th>\n",
       "      <td>9194</td>\n",
       "      <td>0</td>\n",
       "      <td>Non Existing Client</td>\n",
       "      <td>1973-07-11</td>\n",
       "      <td>2012-03-04</td>\n",
       "      <td>NP_Client</td>\n",
       "      <td>University</td>\n",
       "      <td>Married</td>\n",
       "      <td>2.0</td>\n",
       "      <td>10</td>\n",
       "      <td>36</td>\n",
       "      <td>1.0</td>\n",
       "      <td>C</td>\n",
       "      <td>2012-04-04</td>\n",
       "      <td>Sales</td>\n",
       "      <td>Owned</td>\n",
       "      <td>1</td>\n",
       "      <td>NaT</td>\n",
       "      <td>B</td>\n",
       "    </tr>\n",
       "    <tr>\n",
       "      <th>3</th>\n",
       "      <td>3016</td>\n",
       "      <td>1</td>\n",
       "      <td>Existing Client</td>\n",
       "      <td>1982-08-07</td>\n",
       "      <td>2011-08-25</td>\n",
       "      <td>NP_Client</td>\n",
       "      <td>University</td>\n",
       "      <td>Married</td>\n",
       "      <td>3.0</td>\n",
       "      <td>3</td>\n",
       "      <td>36</td>\n",
       "      <td>1.0</td>\n",
       "      <td>C</td>\n",
       "      <td>2011-07-09</td>\n",
       "      <td>Sales</td>\n",
       "      <td>New rent</td>\n",
       "      <td>1</td>\n",
       "      <td>2012-12-31</td>\n",
       "      <td>L</td>\n",
       "    </tr>\n",
       "    <tr>\n",
       "      <th>4</th>\n",
       "      <td>6524</td>\n",
       "      <td>0</td>\n",
       "      <td>Non Existing Client</td>\n",
       "      <td>1953-08-18</td>\n",
       "      <td>2012-10-01</td>\n",
       "      <td>NP_Client</td>\n",
       "      <td>University</td>\n",
       "      <td>Married</td>\n",
       "      <td>2.0</td>\n",
       "      <td>1</td>\n",
       "      <td>36</td>\n",
       "      <td>1.0</td>\n",
       "      <td>C</td>\n",
       "      <td>2012-11-01</td>\n",
       "      <td>Sales</td>\n",
       "      <td>Owned</td>\n",
       "      <td>1</td>\n",
       "      <td>NaT</td>\n",
       "      <td>D</td>\n",
       "    </tr>\n",
       "  </tbody>\n",
       "</table>\n",
       "</div>"
      ],
      "text/plain": [
       "   Id_Customer  Y        Customer_Type  BirthDate Customer_Open_Date  \\\n",
       "0         7440  0  Non Existing Client 1977-07-08         2012-02-13   \n",
       "1          573  0      Existing Client 1974-06-13         2009-04-02   \n",
       "2         9194  0  Non Existing Client 1973-07-11         2012-03-04   \n",
       "3         3016  1      Existing Client 1982-08-07         2011-08-25   \n",
       "4         6524  0  Non Existing Client 1953-08-18         2012-10-01   \n",
       "\n",
       "    P_Client Educational_Level Marital_Status  Number_Of_Dependant  \\\n",
       "0  NP_Client        University        Married                  3.0   \n",
       "1   P_Client        University        Married                  0.0   \n",
       "2  NP_Client        University        Married                  2.0   \n",
       "3  NP_Client        University        Married                  3.0   \n",
       "4  NP_Client        University        Married                  2.0   \n",
       "\n",
       "   Years_At_Residence Net_Annual_Income  Years_At_Business Prod_Sub_Category  \\\n",
       "0                   1                36                1.0                 C   \n",
       "1                  12                18                2.0                 C   \n",
       "2                  10                36                1.0                 C   \n",
       "3                   3                36                1.0                 C   \n",
       "4                   1                36                1.0                 C   \n",
       "\n",
       "  Prod_Decision_Date Source Type_Of_Residence  Nb_Of_Products  \\\n",
       "0         2012-02-14  Sales             Owned               1   \n",
       "1         2011-06-30  Sales           Parents               1   \n",
       "2         2012-04-04  Sales             Owned               1   \n",
       "3         2011-07-09  Sales          New rent               1   \n",
       "4         2012-11-01  Sales             Owned               1   \n",
       "\n",
       "  Prod_Closed_Date Prod_Category  \n",
       "0              NaT             B  \n",
       "1              NaT             G  \n",
       "2              NaT             B  \n",
       "3       2012-12-31             L  \n",
       "4              NaT             D  "
      ]
     },
     "execution_count": 8,
     "metadata": {},
     "output_type": "execute_result"
    }
   ],
   "source": [
    "data = pd.read_csv('data/CreditTraining.csv', parse_dates=[3, 4, 13, 17])\n",
    "data.head(5)"
   ]
  },
  {
   "cell_type": "markdown",
   "metadata": {},
   "source": [
    "### Modify unfeasible data\n",
    "\n",
    "You cannot spend more years in a residence or working than you spent years on the earth... which is why we make sure that all the values are feasible, and if they are not, we replace them by feasible values ! Instead of taking the mean value, we use a approximate linear regression, saying that it is equal to 1 x Age + constant, with constant being 18 or 22."
   ]
  },
  {
   "cell_type": "code",
   "execution_count": 9,
   "metadata": {},
   "outputs": [],
   "source": [
    "#ONE_DAY = datetime.timedelta(days = 1)\n",
    "#data['Age'] = (data['Prod_Closed_Date'].max() - data['BirthDate']) / (ONE_DAY*365)"
   ]
  },
  {
   "cell_type": "code",
   "execution_count": 10,
   "metadata": {},
   "outputs": [],
   "source": [
    "#for i in tqdm(range(data.shape[0])):\n",
    "#    diff_res = data['Age'][i] - data['Years_At_Residence'][i]\n",
    "#    diff_bus = data['Age'][i] - data['Years_At_Business'][i]\n",
    "#    if (diff_res < 0):\n",
    "#        data['Years_At_Residence'][i] = max(1, data['Age'][i] - 18)\n",
    "#    if (diff_bus < 10):\n",
    "#        data['Years_At_Business'][i] = max(1, data['Age'][i] - 22)"
   ]
  },
  {
   "cell_type": "code",
   "execution_count": 11,
   "metadata": {},
   "outputs": [],
   "source": [
    "#data = data.drop(columns=['Age'])"
   ]
  },
  {
   "cell_type": "markdown",
   "metadata": {},
   "source": [
    "We can already delete the Id_Customer feature, which is a identification variable, but this role is already taken by our index, hence we have no reason to keep this value."
   ]
  },
  {
   "cell_type": "code",
   "execution_count": 12,
   "metadata": {
    "scrolled": true
   },
   "outputs": [],
   "source": [
    "data = data.drop(columns=['Id_Customer'])"
   ]
  },
  {
   "cell_type": "markdown",
   "metadata": {},
   "source": [
    "### Another quick little fix\n",
    "\n",
    "The feature Net_Annual_Income is not considered as a float but as a string. To do so, we need to replace the ',' in '.' and then to convert the string to a float."
   ]
  },
  {
   "cell_type": "code",
   "execution_count": 13,
   "metadata": {},
   "outputs": [],
   "source": [
    "data['Net_Annual_Income'] = data['Net_Annual_Income'].str.replace(',', '.').astype(float)"
   ]
  },
  {
   "cell_type": "markdown",
   "metadata": {},
   "source": [
    "## 1.2. Let's look at the target value "
   ]
  },
  {
   "cell_type": "code",
   "execution_count": 14,
   "metadata": {},
   "outputs": [
    {
     "data": {
      "image/png": "[encoded data removed]",
      "text/plain": [
       "<Figure size 1080x288 with 1 Axes>"
      ]
     },
     "metadata": {},
     "output_type": "display_data"
    }
   ],
   "source": [
    "fig = plt.figure(figsize=(15, 4))\n",
    "plt.hist(data['Y'], bins = 2)\n",
    "plt.title(\"Credit default\")\n",
    "plt.ylabel('Value occurence')\n",
    "plt.xlabel(\"Value\")\n",
    "# plt.grid()\n",
    "plt.show()"
   ]
  },
  {
   "cell_type": "markdown",
   "metadata": {},
   "source": [
    "We can see that the **data is very unbalanced**. Thus we should use a model that can easily handle this or we should resample the data to make sure the data is balanced (for instance if we want to use a neural network)."
   ]
  },
  {
   "cell_type": "markdown",
   "metadata": {},
   "source": [
    "## 1.3. Handle the date values\n",
    "\n",
    "Here we will not treat data as time series, the timestamp is not interesting in itself, but time deltas are interesting in our use case, we are going to make those timestamps timedeltas and divise them by a time unit to convert them to floats !\n",
    "\n",
    "We have those date values:\n",
    "- BirthDate\n",
    "- Customer_Open_Date\n",
    "- Prod_Decision_Date\n",
    "- Prod_Closed_Date\n",
    "\n",
    "Here are the feature that we are going to create:\n",
    "\n",
    "\n",
    "- Cusomer_Open_Date is taken as the difference in days between the latest Customer_Open_Date and the current one. Thus, we will have a positive count of days.\n",
    "- Rather than considering the BirthDate, it seems more logical to consider the age at the time when the desision is taken (ie. Prod_Decision_Date). To do that, we will count the amount of days the customer has lived when the Decision is taken.\n",
    "- The Prod_Decision_Date is taken as the difference in days with the latest one.\n",
    "- We will proceed in the same way with Prod_Closed_Date"
   ]
  },
  {
   "cell_type": "code",
   "execution_count": 15,
   "metadata": {},
   "outputs": [],
   "source": [
    "ONE_DAY = datetime.timedelta(days = 1)"
   ]
  },
  {
   "cell_type": "code",
   "execution_count": 16,
   "metadata": {},
   "outputs": [],
   "source": [
    "# open date\n",
    "data['Customer_Open_Date'] = (data['Customer_Open_Date'].max() - data['Customer_Open_Date']) / ONE_DAY\n",
    "# birthdate \n",
    "data['BirthDate'] = (data['Prod_Decision_Date'] - data['BirthDate']) / ONE_DAY\n",
    "# prod decision date\n",
    "data['Prod_Decision_Date'] = (data['Prod_Decision_Date'].max() - data['Prod_Decision_Date']) / ONE_DAY"
   ]
  },
  {
   "cell_type": "markdown",
   "metadata": {},
   "source": [
    "As they seem to be a huge correlation between the feature Prod_Closed_Date and the credit default, the high number of NaN is not sufficient at all to delete it ! We just replace them with 0."
   ]
  },
  {
   "cell_type": "code",
   "execution_count": 17,
   "metadata": {},
   "outputs": [],
   "source": [
    "data['Prod_Closed_Date'] = (data['Prod_Closed_Date'].max() - data['Prod_Closed_Date']) / ONE_DAY\n",
    "data['Prod_Closed_Date'] = data['Prod_Closed_Date'].fillna(0)"
   ]
  },
  {
   "cell_type": "markdown",
   "metadata": {},
   "source": [
    "## 1.4. Let's explore the continuous features\n",
    "\n",
    "On trace des histogrammes pour les variables continues, voir si on observe quelque chose, peut-être des outliers..."
   ]
  },
  {
   "cell_type": "markdown",
   "metadata": {},
   "source": [
    "### 1.4.1. Visualisation"
   ]
  },
  {
   "cell_type": "code",
   "execution_count": 18,
   "metadata": {},
   "outputs": [],
   "source": [
    "CONTINUOUS_FEATURES = {\n",
    "    'BirthDate': 100,\n",
    "    'Customer_Open_Date': 100,\n",
    "    'Number_Of_Dependant': 20,\n",
    "    'Years_At_Residence': 60,\n",
    "    'Net_Annual_Income': 100,\n",
    "    'Years_At_Business': 100,\n",
    "    'Prod_Decision_Date': 70,\n",
    "    'Nb_Of_Products': 3,\n",
    "    'Prod_Closed_Date': 30\n",
    "}"
   ]
  },
  {
   "cell_type": "code",
   "execution_count": 19,
   "metadata": {},
   "outputs": [
    {
     "ename": "ValueError",
     "evalue": "max must be larger than min in range parameter.",
     "output_type": "error",
     "traceback": [
      "\u001b[0;31m---------------------------------------------------------------------------\u001b[0m",
      "\u001b[0;31mValueError\u001b[0m                                Traceback (most recent call last)",
      "\u001b[0;32m<ipython-input-19-3efd68f8109a>\u001b[0m in \u001b[0;36m<module>\u001b[0;34m()\u001b[0m\n\u001b[1;32m      8\u001b[0m \u001b[0;34m\u001b[0m\u001b[0m\n\u001b[1;32m      9\u001b[0m     \u001b[0;31m# manage plot\u001b[0m\u001b[0;34m\u001b[0m\u001b[0;34m\u001b[0m\u001b[0m\n\u001b[0;32m---> 10\u001b[0;31m     \u001b[0maxs\u001b[0m\u001b[0;34m[\u001b[0m\u001b[0mnx\u001b[0m\u001b[0;34m,\u001b[0m \u001b[0mny\u001b[0m\u001b[0;34m]\u001b[0m\u001b[0;34m.\u001b[0m\u001b[0mhist\u001b[0m\u001b[0;34m(\u001b[0m\u001b[0mdata\u001b[0m\u001b[0;34m[\u001b[0m\u001b[0mfeature\u001b[0m\u001b[0;34m]\u001b[0m\u001b[0;34m,\u001b[0m \u001b[0mbins\u001b[0m \u001b[0;34m=\u001b[0m \u001b[0mn_bins\u001b[0m\u001b[0;34m)\u001b[0m\u001b[0;34m\u001b[0m\u001b[0m\n\u001b[0m\u001b[1;32m     11\u001b[0m     \u001b[0maxs\u001b[0m\u001b[0;34m[\u001b[0m\u001b[0mnx\u001b[0m\u001b[0;34m,\u001b[0m \u001b[0mny\u001b[0m\u001b[0;34m]\u001b[0m\u001b[0;34m.\u001b[0m\u001b[0mset_title\u001b[0m\u001b[0;34m(\u001b[0m\u001b[0mfeature\u001b[0m\u001b[0;34m)\u001b[0m\u001b[0;34m\u001b[0m\u001b[0m\n\u001b[1;32m     12\u001b[0m \u001b[0;34m\u001b[0m\u001b[0m\n",
      "\u001b[0;32m~/anaconda3/lib/python3.6/site-packages/matplotlib/__init__.py\u001b[0m in \u001b[0;36minner\u001b[0;34m(ax, *args, **kwargs)\u001b[0m\n\u001b[1;32m   1853\u001b[0m                         \u001b[0;34m\"the Matplotlib list!)\"\u001b[0m \u001b[0;34m%\u001b[0m \u001b[0;34m(\u001b[0m\u001b[0mlabel_namer\u001b[0m\u001b[0;34m,\u001b[0m \u001b[0mfunc\u001b[0m\u001b[0;34m.\u001b[0m\u001b[0m__name__\u001b[0m\u001b[0;34m)\u001b[0m\u001b[0;34m,\u001b[0m\u001b[0;34m\u001b[0m\u001b[0m\n\u001b[1;32m   1854\u001b[0m                         RuntimeWarning, stacklevel=2)\n\u001b[0;32m-> 1855\u001b[0;31m             \u001b[0;32mreturn\u001b[0m \u001b[0mfunc\u001b[0m\u001b[0;34m(\u001b[0m\u001b[0max\u001b[0m\u001b[0;34m,\u001b[0m \u001b[0;34m*\u001b[0m\u001b[0margs\u001b[0m\u001b[0;34m,\u001b[0m \u001b[0;34m**\u001b[0m\u001b[0mkwargs\u001b[0m\u001b[0;34m)\u001b[0m\u001b[0;34m\u001b[0m\u001b[0m\n\u001b[0m\u001b[1;32m   1856\u001b[0m \u001b[0;34m\u001b[0m\u001b[0m\n\u001b[1;32m   1857\u001b[0m         inner.__doc__ = _add_data_doc(inner.__doc__,\n",
      "\u001b[0;32m~/anaconda3/lib/python3.6/site-packages/matplotlib/axes/_axes.py\u001b[0m in \u001b[0;36mhist\u001b[0;34m(***failed resolving arguments***)\u001b[0m\n\u001b[1;32m   6528\u001b[0m             \u001b[0;31m# this will automatically overwrite bins,\u001b[0m\u001b[0;34m\u001b[0m\u001b[0;34m\u001b[0m\u001b[0m\n\u001b[1;32m   6529\u001b[0m             \u001b[0;31m# so that each histogram uses the same bins\u001b[0m\u001b[0;34m\u001b[0m\u001b[0;34m\u001b[0m\u001b[0m\n\u001b[0;32m-> 6530\u001b[0;31m             \u001b[0mm\u001b[0m\u001b[0;34m,\u001b[0m \u001b[0mbins\u001b[0m \u001b[0;34m=\u001b[0m \u001b[0mnp\u001b[0m\u001b[0;34m.\u001b[0m\u001b[0mhistogram\u001b[0m\u001b[0;34m(\u001b[0m\u001b[0mx\u001b[0m\u001b[0;34m[\u001b[0m\u001b[0mi\u001b[0m\u001b[0;34m]\u001b[0m\u001b[0;34m,\u001b[0m \u001b[0mbins\u001b[0m\u001b[0;34m,\u001b[0m \u001b[0mweights\u001b[0m\u001b[0;34m=\u001b[0m\u001b[0mw\u001b[0m\u001b[0;34m[\u001b[0m\u001b[0mi\u001b[0m\u001b[0;34m]\u001b[0m\u001b[0;34m,\u001b[0m \u001b[0;34m**\u001b[0m\u001b[0mhist_kwargs\u001b[0m\u001b[0;34m)\u001b[0m\u001b[0;34m\u001b[0m\u001b[0m\n\u001b[0m\u001b[1;32m   6531\u001b[0m             \u001b[0mm\u001b[0m \u001b[0;34m=\u001b[0m \u001b[0mm\u001b[0m\u001b[0;34m.\u001b[0m\u001b[0mastype\u001b[0m\u001b[0;34m(\u001b[0m\u001b[0mfloat\u001b[0m\u001b[0;34m)\u001b[0m  \u001b[0;31m# causes problems later if it's an int\u001b[0m\u001b[0;34m\u001b[0m\u001b[0m\n\u001b[1;32m   6532\u001b[0m             \u001b[0;32mif\u001b[0m \u001b[0mmlast\u001b[0m \u001b[0;32mis\u001b[0m \u001b[0;32mNone\u001b[0m\u001b[0;34m:\u001b[0m\u001b[0;34m\u001b[0m\u001b[0m\n",
      "\u001b[0;32m~/anaconda3/lib/python3.6/site-packages/numpy/lib/histograms.py\u001b[0m in \u001b[0;36mhistogram\u001b[0;34m(a, bins, range, normed, weights, density)\u001b[0m\n\u001b[1;32m    778\u001b[0m     \u001b[0ma\u001b[0m\u001b[0;34m,\u001b[0m \u001b[0mweights\u001b[0m \u001b[0;34m=\u001b[0m \u001b[0m_ravel_and_check_weights\u001b[0m\u001b[0;34m(\u001b[0m\u001b[0ma\u001b[0m\u001b[0;34m,\u001b[0m \u001b[0mweights\u001b[0m\u001b[0;34m)\u001b[0m\u001b[0;34m\u001b[0m\u001b[0m\n\u001b[1;32m    779\u001b[0m \u001b[0;34m\u001b[0m\u001b[0m\n\u001b[0;32m--> 780\u001b[0;31m     \u001b[0mbin_edges\u001b[0m\u001b[0;34m,\u001b[0m \u001b[0muniform_bins\u001b[0m \u001b[0;34m=\u001b[0m \u001b[0m_get_bin_edges\u001b[0m\u001b[0;34m(\u001b[0m\u001b[0ma\u001b[0m\u001b[0;34m,\u001b[0m \u001b[0mbins\u001b[0m\u001b[0;34m,\u001b[0m \u001b[0mrange\u001b[0m\u001b[0;34m,\u001b[0m \u001b[0mweights\u001b[0m\u001b[0;34m)\u001b[0m\u001b[0;34m\u001b[0m\u001b[0m\n\u001b[0m\u001b[1;32m    781\u001b[0m \u001b[0;34m\u001b[0m\u001b[0m\n\u001b[1;32m    782\u001b[0m     \u001b[0;31m# Histogram is an integer or a float array depending on the weights.\u001b[0m\u001b[0;34m\u001b[0m\u001b[0;34m\u001b[0m\u001b[0m\n",
      "\u001b[0;32m~/anaconda3/lib/python3.6/site-packages/numpy/lib/histograms.py\u001b[0m in \u001b[0;36m_get_bin_edges\u001b[0;34m(a, bins, range, weights)\u001b[0m\n\u001b[1;32m    415\u001b[0m             \u001b[0;32mraise\u001b[0m \u001b[0mValueError\u001b[0m\u001b[0;34m(\u001b[0m\u001b[0;34m'`bins` must be positive, when an integer'\u001b[0m\u001b[0;34m)\u001b[0m\u001b[0;34m\u001b[0m\u001b[0m\n\u001b[1;32m    416\u001b[0m \u001b[0;34m\u001b[0m\u001b[0m\n\u001b[0;32m--> 417\u001b[0;31m         \u001b[0mfirst_edge\u001b[0m\u001b[0;34m,\u001b[0m \u001b[0mlast_edge\u001b[0m \u001b[0;34m=\u001b[0m \u001b[0m_get_outer_edges\u001b[0m\u001b[0;34m(\u001b[0m\u001b[0ma\u001b[0m\u001b[0;34m,\u001b[0m \u001b[0mrange\u001b[0m\u001b[0;34m)\u001b[0m\u001b[0;34m\u001b[0m\u001b[0m\n\u001b[0m\u001b[1;32m    418\u001b[0m \u001b[0;34m\u001b[0m\u001b[0m\n\u001b[1;32m    419\u001b[0m     \u001b[0;32melif\u001b[0m \u001b[0mnp\u001b[0m\u001b[0;34m.\u001b[0m\u001b[0mndim\u001b[0m\u001b[0;34m(\u001b[0m\u001b[0mbins\u001b[0m\u001b[0;34m)\u001b[0m \u001b[0;34m==\u001b[0m \u001b[0;36m1\u001b[0m\u001b[0;34m:\u001b[0m\u001b[0;34m\u001b[0m\u001b[0m\n",
      "\u001b[0;32m~/anaconda3/lib/python3.6/site-packages/numpy/lib/histograms.py\u001b[0m in \u001b[0;36m_get_outer_edges\u001b[0;34m(a, range)\u001b[0m\n\u001b[1;32m    302\u001b[0m         \u001b[0;32mif\u001b[0m \u001b[0mfirst_edge\u001b[0m \u001b[0;34m>\u001b[0m \u001b[0mlast_edge\u001b[0m\u001b[0;34m:\u001b[0m\u001b[0;34m\u001b[0m\u001b[0m\n\u001b[1;32m    303\u001b[0m             raise ValueError(\n\u001b[0;32m--> 304\u001b[0;31m                 'max must be larger than min in range parameter.')\n\u001b[0m\u001b[1;32m    305\u001b[0m         \u001b[0;32mif\u001b[0m \u001b[0;32mnot\u001b[0m \u001b[0;34m(\u001b[0m\u001b[0mnp\u001b[0m\u001b[0;34m.\u001b[0m\u001b[0misfinite\u001b[0m\u001b[0;34m(\u001b[0m\u001b[0mfirst_edge\u001b[0m\u001b[0;34m)\u001b[0m \u001b[0;32mand\u001b[0m \u001b[0mnp\u001b[0m\u001b[0;34m.\u001b[0m\u001b[0misfinite\u001b[0m\u001b[0;34m(\u001b[0m\u001b[0mlast_edge\u001b[0m\u001b[0;34m)\u001b[0m\u001b[0;34m)\u001b[0m\u001b[0;34m:\u001b[0m\u001b[0;34m\u001b[0m\u001b[0m\n\u001b[1;32m    306\u001b[0m             raise ValueError(\n",
      "\u001b[0;31mValueError\u001b[0m: max must be larger than min in range parameter."
     ]
    },
    {
     "data": {
      "image/png": "[encoded data removed]",
      "text/plain": [
       "<Figure size 1440x2160 with 10 Axes>"
      ]
     },
     "metadata": {},
     "output_type": "display_data"
    }
   ],
   "source": [
    "N = len(CONTINUOUS_FEATURES.keys())\n",
    "Nx = N // 2 + N % 2\n",
    "\n",
    "fig, axs = plt.subplots(Nx, 2, figsize=(20, Nx * 6))\n",
    "nx, ny = 0, 0\n",
    "for i, plot_infos in enumerate(CONTINUOUS_FEATURES.items()):\n",
    "    feature, n_bins = plot_infos\n",
    "    \n",
    "    # manage plot\n",
    "    axs[nx, ny].hist(data[feature], bins = n_bins)\n",
    "    axs[nx, ny].set_title(feature)\n",
    "    \n",
    "    # generate new indices for the next subplot\n",
    "    nx += (i%2 == 1)*1\n",
    "    ny = 1 - i%2 \n",
    "\n",
    "# for ax in axs.flat:\n",
    "#     ax.set(xlabel='x-label', ylabel='y-label')\n",
    "    \n",
    "plt.show()"
   ]
  },
  {
   "cell_type": "markdown",
   "metadata": {},
   "source": [
    "### 1.4.2 Analysis\n",
    "\n",
    "These graphs allow us to make some precious observations, which will lead us to modify slightly the data. \n",
    "\n",
    "- Concerning the number of Years_At_Business, there seems to be some strange values, around 100, which are not feasible. We will replace these values by mean(Years_At_Business).\n",
    "\n",
    "- We can observe a similar phenomenon for Customer_Open_Date, which is around 10000 days, meaning around 30 years. We will leave these values as they are feasible.\n",
    "\n",
    "- For the Years_At_Residence variable, it is interesting to realise that we have wery high peaks around 10,20,30 years, as if the customers gave approximate answers for this data. This meansthat the data is somewhat unbalanced and not smoothly dispatched. This might be a problem for some models, such as logistic regression. However, other models such as decision trees and XGBOOST, which we will use, are unbothered by such issues. We will not modify this aspect of the data. "
   ]
  },
  {
   "cell_type": "markdown",
   "metadata": {},
   "source": [
    "### 1.4.3 Removing the outliers"
   ]
  },
  {
   "cell_type": "code",
   "execution_count": null,
   "metadata": {},
   "outputs": [],
   "source": [
    "mean = data['Years_At_Business'].mean()\n",
    "data['Years_At_Business'].loc[data['Years_At_Business'] > 95] = mean"
   ]
  },
  {
   "cell_type": "markdown",
   "metadata": {},
   "source": [
    "### 1.4.3. Handle NaN values\n",
    "We search were the NaN are."
   ]
  },
  {
   "cell_type": "code",
   "execution_count": 20,
   "metadata": {
    "scrolled": true
   },
   "outputs": [
    {
     "data": {
      "text/plain": [
       "Y                      0\n",
       "Customer_Type          0\n",
       "BirthDate              0\n",
       "Customer_Open_Date     0\n",
       "P_Client               0\n",
       "Educational_Level      0\n",
       "Marital_Status         0\n",
       "Number_Of_Dependant    2\n",
       "Years_At_Residence     0\n",
       "Net_Annual_Income      2\n",
       "Years_At_Business      2\n",
       "Prod_Sub_Category      0\n",
       "Prod_Decision_Date     0\n",
       "Source                 0\n",
       "Type_Of_Residence      0\n",
       "Nb_Of_Products         0\n",
       "Prod_Closed_Date       0\n",
       "Prod_Category          0\n",
       "dtype: int64"
      ]
     },
     "execution_count": 20,
     "metadata": {},
     "output_type": "execute_result"
    }
   ],
   "source": [
    "data.isna().sum()"
   ]
  },
  {
   "cell_type": "markdown",
   "metadata": {},
   "source": [
    "For the unfeasible data, we replaced absurd values thanks to a quick approximation of a linear regression. Here we can hardly do this, hence we simply replace the NaN values with the mean of the feature. "
   ]
  },
  {
   "cell_type": "code",
   "execution_count": 21,
   "metadata": {},
   "outputs": [
    {
     "data": {
      "text/html": [
       "<div>\n",
       "<style scoped>\n",
       "    .dataframe tbody tr th:only-of-type {\n",
       "        vertical-align: middle;\n",
       "    }\n",
       "\n",
       "    .dataframe tbody tr th {\n",
       "        vertical-align: top;\n",
       "    }\n",
       "\n",
       "    .dataframe thead th {\n",
       "        text-align: right;\n",
       "    }\n",
       "</style>\n",
       "<table border=\"1\" class=\"dataframe\">\n",
       "  <thead>\n",
       "    <tr style=\"text-align: right;\">\n",
       "      <th></th>\n",
       "      <th>Y</th>\n",
       "      <th>Customer_Type</th>\n",
       "      <th>BirthDate</th>\n",
       "      <th>Customer_Open_Date</th>\n",
       "      <th>P_Client</th>\n",
       "      <th>Educational_Level</th>\n",
       "      <th>Marital_Status</th>\n",
       "      <th>Number_Of_Dependant</th>\n",
       "      <th>Years_At_Residence</th>\n",
       "      <th>Net_Annual_Income</th>\n",
       "      <th>Years_At_Business</th>\n",
       "      <th>Prod_Sub_Category</th>\n",
       "      <th>Prod_Decision_Date</th>\n",
       "      <th>Source</th>\n",
       "      <th>Type_Of_Residence</th>\n",
       "      <th>Nb_Of_Products</th>\n",
       "      <th>Prod_Closed_Date</th>\n",
       "      <th>Prod_Category</th>\n",
       "    </tr>\n",
       "  </thead>\n",
       "  <tbody>\n",
       "    <tr>\n",
       "      <th>634</th>\n",
       "      <td>1</td>\n",
       "      <td>Existing Client</td>\n",
       "      <td>7957.0</td>\n",
       "      <td>806.0</td>\n",
       "      <td>P_Client</td>\n",
       "      <td>University</td>\n",
       "      <td>Single</td>\n",
       "      <td>NaN</td>\n",
       "      <td>21</td>\n",
       "      <td>33.6</td>\n",
       "      <td>1.0</td>\n",
       "      <td>C</td>\n",
       "      <td>230.0</td>\n",
       "      <td>Branch</td>\n",
       "      <td>Owned</td>\n",
       "      <td>2</td>\n",
       "      <td>249.0</td>\n",
       "      <td>G</td>\n",
       "    </tr>\n",
       "    <tr>\n",
       "      <th>5045</th>\n",
       "      <td>0</td>\n",
       "      <td>Existing Client</td>\n",
       "      <td>22635.0</td>\n",
       "      <td>2999.0</td>\n",
       "      <td>NP_Client</td>\n",
       "      <td>Master/PhD</td>\n",
       "      <td>Married</td>\n",
       "      <td>NaN</td>\n",
       "      <td>10</td>\n",
       "      <td>50.0</td>\n",
       "      <td>10.0</td>\n",
       "      <td>C</td>\n",
       "      <td>222.0</td>\n",
       "      <td>Sales</td>\n",
       "      <td>Owned</td>\n",
       "      <td>1</td>\n",
       "      <td>0.0</td>\n",
       "      <td>B</td>\n",
       "    </tr>\n",
       "  </tbody>\n",
       "</table>\n",
       "</div>"
      ],
      "text/plain": [
       "      Y    Customer_Type  BirthDate  Customer_Open_Date   P_Client  \\\n",
       "634   1  Existing Client     7957.0               806.0   P_Client   \n",
       "5045  0  Existing Client    22635.0              2999.0  NP_Client   \n",
       "\n",
       "     Educational_Level Marital_Status  Number_Of_Dependant  \\\n",
       "634         University         Single                  NaN   \n",
       "5045        Master/PhD        Married                  NaN   \n",
       "\n",
       "      Years_At_Residence  Net_Annual_Income  Years_At_Business  \\\n",
       "634                   21               33.6                1.0   \n",
       "5045                  10               50.0               10.0   \n",
       "\n",
       "     Prod_Sub_Category  Prod_Decision_Date  Source Type_Of_Residence  \\\n",
       "634                  C               230.0  Branch             Owned   \n",
       "5045                 C               222.0   Sales             Owned   \n",
       "\n",
       "      Nb_Of_Products  Prod_Closed_Date Prod_Category  \n",
       "634                2             249.0             G  \n",
       "5045               1               0.0             B  "
      ]
     },
     "execution_count": 21,
     "metadata": {},
     "output_type": "execute_result"
    }
   ],
   "source": [
    "nb_dep = data['Number_Of_Dependant'].mean()\n",
    "data[data['Number_Of_Dependant'].isna()]"
   ]
  },
  {
   "cell_type": "code",
   "execution_count": 22,
   "metadata": {},
   "outputs": [],
   "source": [
    "data['Number_Of_Dependant'][634] = nb_dep\n",
    "data['Number_Of_Dependant'][5045] = nb_dep"
   ]
  },
  {
   "cell_type": "code",
   "execution_count": 23,
   "metadata": {},
   "outputs": [],
   "source": [
    "annual_inc = data['Net_Annual_Income'].mean()\n",
    "# data[data['Net_Annual_Income'].isna()]\n",
    "data['Net_Annual_Income'][1879] = annual_inc\n",
    "data['Net_Annual_Income'][5144] = annual_inc"
   ]
  },
  {
   "cell_type": "markdown",
   "metadata": {},
   "source": [
    "Except for the Years_At_Business were we use the same trick as before !"
   ]
  },
  {
   "cell_type": "code",
   "execution_count": 24,
   "metadata": {},
   "outputs": [],
   "source": [
    "# data[data['Years_At_Business'].isna()]\n",
    "data['Years_At_Business'][1987] = (data['BirthDate'][1987] / (365)) - 22\n",
    "data['Years_At_Business'][2750] = (data['BirthDate'][2750] / (365)) - 22"
   ]
  },
  {
   "cell_type": "code",
   "execution_count": 25,
   "metadata": {},
   "outputs": [],
   "source": [
    "# in case there is an issue \n",
    "data = data.fillna(value=0)"
   ]
  },
  {
   "cell_type": "markdown",
   "metadata": {},
   "source": [
    "## 1.5. Let's explore the discrete features"
   ]
  },
  {
   "cell_type": "markdown",
   "metadata": {},
   "source": [
    "### 1.5.1. Visualisation"
   ]
  },
  {
   "cell_type": "code",
   "execution_count": 26,
   "metadata": {},
   "outputs": [
    {
     "data": {
      "image/png": "[encoded data removed]",
      "text/plain": [
       "<Figure size 1080x1080 with 8 Axes>"
      ]
     },
     "metadata": {},
     "output_type": "display_data"
    }
   ],
   "source": [
    "Categorical_Values = ['Customer_Type', 'P_Client', 'Educational_Level', 'Marital_Status','Prod_Sub_Category',\n",
    "                     'Source', 'Type_Of_Residence', 'Prod_Category']\n",
    "\n",
    "fig, axs = plt.subplots(4, 2, figsize=(15, 15))\n",
    "for i in range(len(Categorical_Values)):\n",
    "    cat = Categorical_Values[i]\n",
    "    serie = data[cat].value_counts()\n",
    "    labels = list(serie.index.values)\n",
    "    sizes = list(serie.values)\n",
    "    \n",
    "    axs[i//2,i%2].pie(serie, labels = labels,autopct='%1.1f%%')\n",
    "    axs[i//2,i%2].set_title(cat)\n",
    "    axs[i//2,i%2].axis('equal')\n",
    "    \n",
    "plt.show()  "
   ]
  },
  {
   "cell_type": "markdown",
   "metadata": {},
   "source": [
    "We also look at a description of everything we have in categorical variables (except dates) to see the distribution of what we have."
   ]
  },
  {
   "cell_type": "markdown",
   "metadata": {},
   "source": [
    "### 1.5.2. Analysis - Model Selection\n",
    "\n",
    "There seems to be quite a large amount  of categories here, maby we can try to regroup some together, in order to have a simpler model.\n",
    "\n",
    "Lets take a look at the Category Marital_Status in more detail :"
   ]
  },
  {
   "cell_type": "code",
   "execution_count": 27,
   "metadata": {},
   "outputs": [
    {
     "name": "stdout",
     "output_type": "stream",
     "text": [
      "------------------------------------------------------\n",
      "Category Married\n",
      "Percent of negatives : 6.9186875891583455\n",
      "Size of category : 4206\n",
      "------------------------------------------------------\n",
      "Category Single\n",
      "Percent of negatives : 8.891013384321223\n",
      "Size of category : 1046\n",
      "------------------------------------------------------\n",
      "Category Widowed\n",
      "Percent of negatives : 6.25\n",
      "Size of category : 64\n",
      "------------------------------------------------------\n",
      "Category Separated\n",
      "Percent of negatives : 0.0\n",
      "Size of category : 1\n",
      "------------------------------------------------------\n",
      "Category Divorced\n",
      "Percent of negatives : 7.936507936507942\n",
      "Size of category : 63\n"
     ]
    }
   ],
   "source": [
    "Marital_Categories = ['Married',  'Single', 'Widowed', 'Separated', 'Divorced']\n",
    "for let in Marital_Categories:\n",
    "    print('------------------------------------------------------')\n",
    "    print('Category '+ let)\n",
    "    \n",
    "    serie = data.loc[data['Marital_Status'] == let]['Y'].value_counts()\n",
    "    \n",
    "    print('Percent of negatives : ' + str((1 - serie[0]/serie.sum())*100))\n",
    "    print('Size of category : '+ str(serie.sum()))"
   ]
  },
  {
   "cell_type": "markdown",
   "metadata": {},
   "source": [
    "The category 'Separated' seems of very little importance considering its size. We will regroup it with the 'Divorced' category as they are semantically similar."
   ]
  },
  {
   "cell_type": "code",
   "execution_count": 28,
   "metadata": {},
   "outputs": [],
   "source": [
    "data['Marital_Status'].loc[data['Marital_Status'] == 'Separated'] = 'Separated_Or_Divorced'\n",
    "data['Marital_Status'].loc[data['Marital_Status'] == 'Divorced'] = 'Separated_Or_Divorced'"
   ]
  },
  {
   "cell_type": "markdown",
   "metadata": {},
   "source": [
    "When running our model whilst testing, we found out that quite a few categories of Prod_Category turned out having an extremely weak feature importance. For this reason, we regrouped them in a class called 'Regrouping_Class', allowing us to simplify the model."
   ]
  },
  {
   "cell_type": "code",
   "execution_count": 29,
   "metadata": {},
   "outputs": [],
   "source": [
    "data['Prod_Category'].loc[data['Prod_Category'] == 'A'] = 'Regrouping_Class'\n",
    "data['Prod_Category'].loc[data['Prod_Category'] == 'E'] = 'Regrouping_Class'\n",
    "data['Prod_Category'].loc[data['Prod_Category'] == 'F'] = 'Regrouping_Class'\n",
    "data['Prod_Category'].loc[data['Prod_Category'] == 'G'] = 'Regrouping_Class'\n",
    "data['Prod_Category'].loc[data['Prod_Category'] == 'I'] = 'Regrouping_Class'\n",
    "data['Prod_Category'].loc[data['Prod_Category'] == 'J'] = 'Regrouping_Class'\n"
   ]
  },
  {
   "cell_type": "markdown",
   "metadata": {},
   "source": [
    "These previous manipulations have allowed us to simplify the model. If we wonsider indicators such as BIC, these would now have a better value."
   ]
  },
  {
   "cell_type": "markdown",
   "metadata": {},
   "source": [
    "### 1.5.3. Label Encoding \n",
    "\n",
    "\n",
    "For some variables, we will simply use label encoding. The easiest is to apply label encoding to any categorical variable with only two levels. For these, there is no need to use One-Hot encoding."
   ]
  },
  {
   "cell_type": "code",
   "execution_count": 30,
   "metadata": {},
   "outputs": [
    {
     "data": {
      "text/plain": [
       "LabelEncoder()"
      ]
     },
     "execution_count": 30,
     "metadata": {},
     "output_type": "execute_result"
    }
   ],
   "source": [
    "le = LabelEncoder()\n",
    "le.fit(data['Customer_Type'])"
   ]
  },
  {
   "cell_type": "code",
   "execution_count": 31,
   "metadata": {},
   "outputs": [
    {
     "data": {
      "text/plain": [
       "['Existing Client', 'Non Existing Client']"
      ]
     },
     "execution_count": 31,
     "metadata": {},
     "output_type": "execute_result"
    }
   ],
   "source": [
    "list(le.classes_)"
   ]
  },
  {
   "cell_type": "code",
   "execution_count": 32,
   "metadata": {},
   "outputs": [
    {
     "data": {
      "text/plain": [
       "array([1, 0, 1, ..., 1, 1, 1])"
      ]
     },
     "execution_count": 32,
     "metadata": {},
     "output_type": "execute_result"
    }
   ],
   "source": [
    "le.transform(data['Customer_Type']) "
   ]
  },
  {
   "cell_type": "code",
   "execution_count": 33,
   "metadata": {},
   "outputs": [
    {
     "name": "stdout",
     "output_type": "stream",
     "text": [
      "3 columns were label encoded.\n"
     ]
    }
   ],
   "source": [
    "le = LabelEncoder()\n",
    "le_count = 0\n",
    "\n",
    "# Iterate through the columns\n",
    "for col in data:\n",
    "    if data[col].dtype == 'object':\n",
    "        # If 2 or fewer unique categories\n",
    "        if len(list(data[col].unique())) <= 2:\n",
    "            # Train on the training data\n",
    "            le.fit(data[col])\n",
    "            # Transform both training and testing data\n",
    "            data[col] = le.transform(data[col])\n",
    "            \n",
    "            \n",
    "            # Keep track of how many columns were label encoded\n",
    "            le_count += 1\n",
    "            \n",
    "print('%d columns were label encoded.' % le_count)"
   ]
  },
  {
   "cell_type": "markdown",
   "metadata": {},
   "source": [
    "### 1.5.4. One Hot Encoding \n",
    "\n",
    "For the other variables, there exists a pandas function that allows us to create One Hot encoding immediately."
   ]
  },
  {
   "cell_type": "code",
   "execution_count": 34,
   "metadata": {},
   "outputs": [],
   "source": [
    "data = pd.get_dummies(data)"
   ]
  },
  {
   "cell_type": "markdown",
   "metadata": {},
   "source": [
    "## 1.6. A last glance at our preprocessed dataset "
   ]
  },
  {
   "cell_type": "code",
   "execution_count": 35,
   "metadata": {
    "scrolled": true
   },
   "outputs": [
    {
     "data": {
      "text/html": [
       "<div>\n",
       "<style scoped>\n",
       "    .dataframe tbody tr th:only-of-type {\n",
       "        vertical-align: middle;\n",
       "    }\n",
       "\n",
       "    .dataframe tbody tr th {\n",
       "        vertical-align: top;\n",
       "    }\n",
       "\n",
       "    .dataframe thead th {\n",
       "        text-align: right;\n",
       "    }\n",
       "</style>\n",
       "<table border=\"1\" class=\"dataframe\">\n",
       "  <thead>\n",
       "    <tr style=\"text-align: right;\">\n",
       "      <th></th>\n",
       "      <th>Y</th>\n",
       "      <th>Customer_Type</th>\n",
       "      <th>BirthDate</th>\n",
       "      <th>Customer_Open_Date</th>\n",
       "      <th>P_Client</th>\n",
       "      <th>Number_Of_Dependant</th>\n",
       "      <th>Years_At_Residence</th>\n",
       "      <th>Net_Annual_Income</th>\n",
       "      <th>Years_At_Business</th>\n",
       "      <th>Prod_Decision_Date</th>\n",
       "      <th>...</th>\n",
       "      <th>Type_Of_Residence_Owned</th>\n",
       "      <th>Type_Of_Residence_Parents</th>\n",
       "      <th>Prod_Category_B</th>\n",
       "      <th>Prod_Category_C</th>\n",
       "      <th>Prod_Category_D</th>\n",
       "      <th>Prod_Category_H</th>\n",
       "      <th>Prod_Category_K</th>\n",
       "      <th>Prod_Category_L</th>\n",
       "      <th>Prod_Category_M</th>\n",
       "      <th>Prod_Category_Regrouping_Class</th>\n",
       "    </tr>\n",
       "  </thead>\n",
       "  <tbody>\n",
       "    <tr>\n",
       "      <th>0</th>\n",
       "      <td>0</td>\n",
       "      <td>1</td>\n",
       "      <td>12639.0</td>\n",
       "      <td>295.0</td>\n",
       "      <td>0</td>\n",
       "      <td>3.0</td>\n",
       "      <td>1</td>\n",
       "      <td>36.0</td>\n",
       "      <td>1.0</td>\n",
       "      <td>294.0</td>\n",
       "      <td>...</td>\n",
       "      <td>1</td>\n",
       "      <td>0</td>\n",
       "      <td>1</td>\n",
       "      <td>0</td>\n",
       "      <td>0</td>\n",
       "      <td>0</td>\n",
       "      <td>0</td>\n",
       "      <td>0</td>\n",
       "      <td>0</td>\n",
       "      <td>0</td>\n",
       "    </tr>\n",
       "    <tr>\n",
       "      <th>1</th>\n",
       "      <td>0</td>\n",
       "      <td>0</td>\n",
       "      <td>13531.0</td>\n",
       "      <td>1342.0</td>\n",
       "      <td>1</td>\n",
       "      <td>0.0</td>\n",
       "      <td>12</td>\n",
       "      <td>18.0</td>\n",
       "      <td>2.0</td>\n",
       "      <td>523.0</td>\n",
       "      <td>...</td>\n",
       "      <td>0</td>\n",
       "      <td>1</td>\n",
       "      <td>0</td>\n",
       "      <td>0</td>\n",
       "      <td>0</td>\n",
       "      <td>0</td>\n",
       "      <td>0</td>\n",
       "      <td>0</td>\n",
       "      <td>0</td>\n",
       "      <td>1</td>\n",
       "    </tr>\n",
       "    <tr>\n",
       "      <th>2</th>\n",
       "      <td>0</td>\n",
       "      <td>1</td>\n",
       "      <td>14147.0</td>\n",
       "      <td>275.0</td>\n",
       "      <td>0</td>\n",
       "      <td>2.0</td>\n",
       "      <td>10</td>\n",
       "      <td>36.0</td>\n",
       "      <td>1.0</td>\n",
       "      <td>244.0</td>\n",
       "      <td>...</td>\n",
       "      <td>1</td>\n",
       "      <td>0</td>\n",
       "      <td>1</td>\n",
       "      <td>0</td>\n",
       "      <td>0</td>\n",
       "      <td>0</td>\n",
       "      <td>0</td>\n",
       "      <td>0</td>\n",
       "      <td>0</td>\n",
       "      <td>0</td>\n",
       "    </tr>\n",
       "    <tr>\n",
       "      <th>3</th>\n",
       "      <td>1</td>\n",
       "      <td>0</td>\n",
       "      <td>10563.0</td>\n",
       "      <td>467.0</td>\n",
       "      <td>0</td>\n",
       "      <td>3.0</td>\n",
       "      <td>3</td>\n",
       "      <td>36.0</td>\n",
       "      <td>1.0</td>\n",
       "      <td>514.0</td>\n",
       "      <td>...</td>\n",
       "      <td>0</td>\n",
       "      <td>0</td>\n",
       "      <td>0</td>\n",
       "      <td>0</td>\n",
       "      <td>0</td>\n",
       "      <td>0</td>\n",
       "      <td>0</td>\n",
       "      <td>1</td>\n",
       "      <td>0</td>\n",
       "      <td>0</td>\n",
       "    </tr>\n",
       "    <tr>\n",
       "      <th>4</th>\n",
       "      <td>0</td>\n",
       "      <td>1</td>\n",
       "      <td>21625.0</td>\n",
       "      <td>64.0</td>\n",
       "      <td>0</td>\n",
       "      <td>2.0</td>\n",
       "      <td>1</td>\n",
       "      <td>36.0</td>\n",
       "      <td>1.0</td>\n",
       "      <td>33.0</td>\n",
       "      <td>...</td>\n",
       "      <td>1</td>\n",
       "      <td>0</td>\n",
       "      <td>0</td>\n",
       "      <td>0</td>\n",
       "      <td>1</td>\n",
       "      <td>0</td>\n",
       "      <td>0</td>\n",
       "      <td>0</td>\n",
       "      <td>0</td>\n",
       "      <td>0</td>\n",
       "    </tr>\n",
       "  </tbody>\n",
       "</table>\n",
       "<p>5 rows × 37 columns</p>\n",
       "</div>"
      ],
      "text/plain": [
       "   Y  Customer_Type  BirthDate  Customer_Open_Date  P_Client  \\\n",
       "0  0              1    12639.0               295.0         0   \n",
       "1  0              0    13531.0              1342.0         1   \n",
       "2  0              1    14147.0               275.0         0   \n",
       "3  1              0    10563.0               467.0         0   \n",
       "4  0              1    21625.0                64.0         0   \n",
       "\n",
       "   Number_Of_Dependant  Years_At_Residence  Net_Annual_Income  \\\n",
       "0                  3.0                   1               36.0   \n",
       "1                  0.0                  12               18.0   \n",
       "2                  2.0                  10               36.0   \n",
       "3                  3.0                   3               36.0   \n",
       "4                  2.0                   1               36.0   \n",
       "\n",
       "   Years_At_Business  Prod_Decision_Date               ...                \\\n",
       "0                1.0               294.0               ...                 \n",
       "1                2.0               523.0               ...                 \n",
       "2                1.0               244.0               ...                 \n",
       "3                1.0               514.0               ...                 \n",
       "4                1.0                33.0               ...                 \n",
       "\n",
       "   Type_Of_Residence_Owned  Type_Of_Residence_Parents  Prod_Category_B  \\\n",
       "0                        1                          0                1   \n",
       "1                        0                          1                0   \n",
       "2                        1                          0                1   \n",
       "3                        0                          0                0   \n",
       "4                        1                          0                0   \n",
       "\n",
       "   Prod_Category_C  Prod_Category_D  Prod_Category_H  Prod_Category_K  \\\n",
       "0                0                0                0                0   \n",
       "1                0                0                0                0   \n",
       "2                0                0                0                0   \n",
       "3                0                0                0                0   \n",
       "4                0                1                0                0   \n",
       "\n",
       "   Prod_Category_L  Prod_Category_M  Prod_Category_Regrouping_Class  \n",
       "0                0                0                               0  \n",
       "1                0                0                               1  \n",
       "2                0                0                               0  \n",
       "3                1                0                               0  \n",
       "4                0                0                               0  \n",
       "\n",
       "[5 rows x 37 columns]"
      ]
     },
     "execution_count": 35,
     "metadata": {},
     "output_type": "execute_result"
    }
   ],
   "source": [
    "data.head()"
   ]
  },
  {
   "cell_type": "markdown",
   "metadata": {},
   "source": [
    "# 3. Data scale and split "
   ]
  },
  {
   "cell_type": "markdown",
   "metadata": {},
   "source": [
    "## 3.1. Split the data: train, validate, test\n",
    "\n",
    "...."
   ]
  },
  {
   "cell_type": "code",
   "execution_count": 36,
   "metadata": {},
   "outputs": [],
   "source": [
    "features_name = data.columns[1:]\n",
    "y, X = data[['Y']].values[:,0], data[features_name].values"
   ]
  },
  {
   "cell_type": "code",
   "execution_count": 37,
   "metadata": {},
   "outputs": [],
   "source": [
    "X_tmp, X_test, y_tmp, y_test = train_test_split(X, y, test_size=0.2, random_state=42)\n",
    "X_train, X_val, y_train, y_val = train_test_split(X_tmp, y_tmp, test_size=0.2, random_state=42)"
   ]
  },
  {
   "cell_type": "code",
   "execution_count": 38,
   "metadata": {},
   "outputs": [
    {
     "data": {
      "text/plain": [
       "(0.07319198373511472, 0.06736353077816493, 0.07713754646840149)"
      ]
     },
     "execution_count": 38,
     "metadata": {},
     "output_type": "execute_result"
    }
   ],
   "source": [
    "np.mean(y_train), np.mean(y_val), np.mean(y_test)"
   ]
  },
  {
   "cell_type": "markdown",
   "metadata": {},
   "source": [
    "## 3.2. Fit the scaler on the train data"
   ]
  },
  {
   "cell_type": "code",
   "execution_count": 39,
   "metadata": {},
   "outputs": [
    {
     "data": {
      "text/plain": [
       "StandardScaler(copy=True, with_mean=True, with_std=True)"
      ]
     },
     "execution_count": 39,
     "metadata": {},
     "output_type": "execute_result"
    }
   ],
   "source": [
    "scaler = StandardScaler()\n",
    "scaler.fit(X_train)"
   ]
  },
  {
   "cell_type": "code",
   "execution_count": 40,
   "metadata": {},
   "outputs": [
    {
     "data": {
      "text/plain": [
       "array([[1.0000e+00, 1.1528e+04, 3.0700e+02, ..., 0.0000e+00, 0.0000e+00,\n",
       "        0.0000e+00],\n",
       "       [1.0000e+00, 9.1100e+03, 5.6900e+02, ..., 0.0000e+00, 0.0000e+00,\n",
       "        0.0000e+00],\n",
       "       [1.0000e+00, 2.0151e+04, 1.2200e+02, ..., 0.0000e+00, 0.0000e+00,\n",
       "        0.0000e+00],\n",
       "       ...,\n",
       "       [1.0000e+00, 9.3780e+03, 4.8700e+02, ..., 0.0000e+00, 0.0000e+00,\n",
       "        0.0000e+00],\n",
       "       [1.0000e+00, 1.4267e+04, 2.2700e+02, ..., 0.0000e+00, 0.0000e+00,\n",
       "        0.0000e+00],\n",
       "       [0.0000e+00, 1.7655e+04, 9.3400e+03, ..., 0.0000e+00, 0.0000e+00,\n",
       "        0.0000e+00]])"
      ]
     },
     "execution_count": 40,
     "metadata": {},
     "output_type": "execute_result"
    }
   ],
   "source": [
    "X_train"
   ]
  },
  {
   "cell_type": "code",
   "execution_count": 41,
   "metadata": {},
   "outputs": [],
   "source": [
    "# transform train and validate \n",
    "X_train_s = scaler.transform(X_train)\n",
    "X_val_s = scaler.transform(X_val)"
   ]
  },
  {
   "cell_type": "markdown",
   "metadata": {},
   "source": [
    "# 4. Comparison of different models \n",
    "\n",
    "Let's fit a few models and compare the performance "
   ]
  },
  {
   "cell_type": "code",
   "execution_count": 42,
   "metadata": {},
   "outputs": [],
   "source": [
    "import xgboost as xgb\n",
    "\n",
    "from sklearn.linear_model import LogisticRegression"
   ]
  },
  {
   "cell_type": "markdown",
   "metadata": {},
   "source": [
    "## 4.1. Use a Logistic Regression"
   ]
  },
  {
   "cell_type": "code",
   "execution_count": 43,
   "metadata": {},
   "outputs": [
    {
     "name": "stdout",
     "output_type": "stream",
     "text": [
      "\n",
      " ---------------- Model Report ----------------\n",
      "\n",
      " --- TRAIN\n",
      "Accuracy :               0.9459773453383677\n",
      "ROC AUC (Train):         0.9317400625767909\n",
      "\n",
      " --- VALIDATE\n",
      "Accuracy :               0.9465737514518002\n",
      "ROC AUC (Validate):      0.9197620990252073\n"
     ]
    }
   ],
   "source": [
    "model1 = LogisticRegression()\n",
    "model1.fit(X_train_s, y_train)\n",
    "\n",
    "y_train_pred = model1.predict(X_train_s)\n",
    "y_train_predprob = model1.predict_proba(X_train_s)[:,1]\n",
    "\n",
    "y_val_pred = model1.predict(X_val_s)\n",
    "y_val_predprob = model1.predict_proba(X_val_s)[:,1]\n",
    "\n",
    "# Handle the global report of the model :\n",
    "\n",
    "print(\"\\n ---------------- Model Report ----------------\")\n",
    "print(\"\\n --- TRAIN\")\n",
    "print(\"Accuracy :               {}\".format(metrics.accuracy_score(y_train, y_train_pred)))\n",
    "print(\"ROC AUC (Train):         {}\".format(metrics.roc_auc_score(y_train, y_train_predprob)))\n",
    "print(\"\\n --- VALIDATE\")\n",
    "print(\"Accuracy :               {}\".format(metrics.accuracy_score(y_val, y_val_pred)))\n",
    "print(\"ROC AUC (Validate):      {}\".format(metrics.roc_auc_score(y_val, y_val_predprob)))"
   ]
  },
  {
   "cell_type": "markdown",
   "metadata": {},
   "source": [
    "## 4.3. Use XGBoost"
   ]
  },
  {
   "cell_type": "code",
   "execution_count": 44,
   "metadata": {},
   "outputs": [
    {
     "name": "stdout",
     "output_type": "stream",
     "text": [
      "\n",
      " ---------------- Model Report ----------------\n",
      "\n",
      " --- TRAIN\n",
      "Accuracy :               0.9979668893406912\n",
      "ROC AUC (Train):         0.9997761561534673\n",
      "\n",
      " --- VALIDATE\n",
      "Accuracy :               0.9535423925667829\n",
      "ROC AUC (Validate):      0.927148194271482\n",
      "\n",
      "\n",
      "\n",
      " \t\t\t----------------------------- Feature Importances -----------------------------\n"
     ]
    },
    {
     "data": {
      "image/png": "[encoded data removed]",
      "text/plain": [
       "<Figure size 1080x432 with 1 Axes>"
      ]
     },
     "metadata": {},
     "output_type": "display_data"
    }
   ],
   "source": [
    "# use xgboost \n",
    "from sklearn.model_selection import GridSearchCV\n",
    "\n",
    "model2 = xgb.XGBClassifier(n_estimators = 50)\n",
    "\n",
    "model2.fit(X_train_s, y_train)\n",
    "\n",
    "# Predict training and validation set:\n",
    "y_train_pred = model2.predict(X_train_s)\n",
    "y_train_predprob = model2.predict_proba(X_train_s)[:,1]\n",
    "\n",
    "y_val_pred = model2.predict(X_val_s)\n",
    "y_val_predprob = model2.predict_proba(X_val_s)[:,1]\n",
    "\n",
    "# Handle the global report of the model :\n",
    "\n",
    "print(\"\\n ---------------- Model Report ----------------\")\n",
    "print(\"\\n --- TRAIN\")\n",
    "print(\"Accuracy :               {}\".format(metrics.accuracy_score(y_train, y_train_pred)))\n",
    "print(\"ROC AUC (Train):         {}\".format(metrics.roc_auc_score(y_train, y_train_predprob)))\n",
    "print(\"\\n --- VALIDATE\")\n",
    "print(\"Accuracy :               {}\".format(metrics.accuracy_score(y_val, y_val_pred)))\n",
    "print(\"ROC AUC (Validate):      {}\".format(metrics.roc_auc_score(y_val, y_val_predprob)))\n",
    "\n",
    "print(\"\\n\\n\\n \\t\\t\\t----------------------------- Feature Importances -----------------------------\")\n",
    "\n",
    "feat_imp = pd.Series(model2.feature_importances_, index=features_name).sort_values(ascending=False)\n",
    "feat_imp.plot(kind='bar', figsize=(15, 6))\n",
    "plt.ylabel('Feature Importance Score')\n",
    "plt.show()"
   ]
  },
  {
   "cell_type": "code",
   "execution_count": null,
   "metadata": {},
   "outputs": [],
   "source": []
  },
  {
   "cell_type": "code",
   "execution_count": null,
   "metadata": {},
   "outputs": [],
   "source": []
  },
  {
   "cell_type": "markdown",
   "metadata": {},
   "source": [
    "# 5. Tuning of the model \n",
    "XGBoost is known as a very consistent model. Many of its hyperparameters do not need a lot of tuning. Nevertheless, the number of estimators is the one that can have a big influence on the final performance of the model. Let's tune it. "
   ]
  },
  {
   "cell_type": "code",
   "execution_count": null,
   "metadata": {},
   "outputs": [],
   "source": []
  },
  {
   "cell_type": "code",
   "execution_count": null,
   "metadata": {},
   "outputs": [],
   "source": []
  },
  {
   "cell_type": "code",
   "execution_count": null,
   "metadata": {},
   "outputs": [],
   "source": []
  },
  {
   "cell_type": "markdown",
   "metadata": {},
   "source": [
    "# 6. Conclusion "
   ]
  },
  {
   "cell_type": "markdown",
   "metadata": {},
   "source": [
    "To conclude, we will use our Test Set to make sure that our models are efficient classifiers. Our most effective model seems to be the XGBOOST model. Let's see how it performs on the Test Set, now that we have tuned the hyperparameters."
   ]
  },
  {
   "cell_type": "code",
   "execution_count": 47,
   "metadata": {},
   "outputs": [],
   "source": [
    "#Scaling the test set\n",
    "X_test_s = scaler.transform(X_test)"
   ]
  },
  {
   "cell_type": "code",
   "execution_count": 48,
   "metadata": {},
   "outputs": [
    {
     "name": "stdout",
     "output_type": "stream",
     "text": [
      "\n",
      " ---------------- Final Results ----------------\n",
      "\n",
      " --- TEST\n",
      "Accuracy :               0.9507434944237918\n",
      "ROC AUC (Train):         0.933886603817081\n"
     ]
    }
   ],
   "source": [
    "y_test_pred = model2.predict(X_test_s)\n",
    "y_test_predprob = model2.predict_proba(X_test_s)[:,1]\n",
    "\n",
    "print(\"\\n ---------------- Final Results ----------------\")\n",
    "print(\"\\n --- TEST\")\n",
    "print(\"Accuracy :               {}\".format(metrics.accuracy_score(y_test, y_test_pred)))\n",
    "print(\"ROC AUC (Train):         {}\".format(metrics.roc_auc_score(y_test, y_test_predprob)))"
   ]
  },
  {
   "cell_type": "markdown",
   "metadata": {},
   "source": [
    "## Plotting the ROC curve"
   ]
  },
  {
   "cell_type": "code",
   "execution_count": 49,
   "metadata": {},
   "outputs": [
    {
     "data": {
      "image/png": "[encoded data removed]",
      "text/plain": [
       "<Figure size 432x288 with 1 Axes>"
      ]
     },
     "metadata": {},
     "output_type": "display_data"
    }
   ],
   "source": [
    "fpr, tpr, threshold = metrics.roc_curve(y_test, y_test_predprob)\n",
    "roc_auc = metrics.auc(fpr, tpr)\n",
    "\n",
    "plt.title('Receiver Operating Characteristic')\n",
    "plt.plot(fpr, tpr, 'b', label = 'AUC = %0.2f' % roc_auc)\n",
    "plt.legend(loc = 'lower right')\n",
    "plt.plot([0, 1], [0, 1],'r--')\n",
    "plt.xlim([0, 1])\n",
    "plt.ylim([0, 1])\n",
    "plt.ylabel('True Positive Rate')\n",
    "plt.xlabel('False Positive Rate')\n",
    "plt.show()"
   ]
  },
  {
   "cell_type": "markdown",
   "metadata": {},
   "source": [
    "The way this ROC curve looks suggests an efficient model, meaning that the distribution curves of True Positives and True Negatives barely overlap."
   ]
  },
  {
   "cell_type": "code",
   "execution_count": null,
   "metadata": {},
   "outputs": [],
   "source": []
  }
 ],
 "metadata": {
  "kernelspec": {
   "display_name": "Python 3",
   "language": "python",
   "name": "python3"
  },
  "language_info": {
   "codemirror_mode": {
    "name": "ipython",
    "version": 3
   },
   "file_extension": ".py",
   "mimetype": "text/x-python",
   "name": "python",
   "nbconvert_exporter": "python",
   "pygments_lexer": "ipython3",
   "version": "3.6.5"
  }
 },
 "nbformat": 4,
 "nbformat_minor": 2
}
