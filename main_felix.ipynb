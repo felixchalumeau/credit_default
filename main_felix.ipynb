{
 "cells": [
  {
   "cell_type": "markdown",
   "metadata": {},
   "source": [
    "# CREDIT DEFAULT - MLII (MAP 569)\n",
    "**Alexander Davi & Félix Chalumeau**"
   ]
  },
  {
   "cell_type": "code",
   "execution_count": 777,
   "metadata": {},
   "outputs": [],
   "source": [
    "import numpy as np\n",
    "import pandas as pd \n",
    "\n",
    "import warnings\n",
    "warnings.filterwarnings('ignore')\n",
    "\n",
    "from tqdm import tqdm\n",
    "\n",
    "import datetime\n",
    "\n",
    "%matplotlib inline \n",
    "import matplotlib.pyplot as plt \n",
    "\n",
    "from sklearn.preprocessing import LabelEncoder, OneHotEncoder, StandardScaler\n",
    "from sklearn.model_selection import train_test_split\n",
    "\n",
    "from sklearn import metrics"
   ]
  },
  {
   "cell_type": "markdown",
   "metadata": {},
   "source": [
    "# 0. Idée de manoeuvre pré-majoration\n",
    "\n",
    "Y a eu un kaggle sur le sujet, on va donc s'en inspirer. (ce n'est pas le même dataset)\n",
    "Voici le lien du kaggle: https://www.kaggle.com/c/home-credit-default-risk/overview\n",
    "\n",
    "Voici un notebook introductif: https://www.kaggle.com/willkoehrsen/start-here-a-gentle-introduction\n",
    "\n",
    "Voici un notebook avec un bon score: https://www.kaggle.com/jsaguiar/lightgbm-with-simple-features\n",
    "\n",
    "J'ai bien envie de combiner un neural network et un XGBoost, en général c'est bénèf. "
   ]
  },
  {
   "cell_type": "markdown",
   "metadata": {},
   "source": [
    "# TO DO:\n",
    "\n",
    "- comment everything\n",
    "- do parameter tuning\n",
    "- write a conclusiion with performance on the test data set\n",
    "- draw an ROC plot"
   ]
  },
  {
   "cell_type": "markdown",
   "metadata": {},
   "source": [
    "# Introduction\n",
    "\n",
    "### The data set\n",
    "We are provided a dataset about credit default. It contains 5380 raws with each 19 features. Those features are of different types, amongst them are date values, numeric values and categorical values. \n",
    "We are going to see how to handle each of them as well as how to manage the NaN and unfeasible values in this dataset in order to be able to model it afterwards. \n",
    "\n",
    "### The problem\n",
    "This problem is a tabular one with a classification task. It is quite particular as the data seems unbalanced. We will try to resample it or we will use an appropriate model for this use case. \n",
    "\n",
    "### Our plan\n",
    "First, we are going to explore the data and infere transformations from our observations. Then we will design our pipeline. We will split the dataset in three parts: train, validation, test. The test set will be only used at the very end of our work to make sure we have not overfitted the validation set ! \n",
    "We will then try different models, choose the most promising one and tune some of its hyperparameters. \n",
    "We will finally conclude by analysing our final performance on the test set and our features importance. \n",
    "\n",
    "### Our metrics\n",
    "To measure the performance of our model, we will use accuracy and ROC AUC score ! "
   ]
  },
  {
   "cell_type": "markdown",
   "metadata": {},
   "source": [
    "# 1. Exploration and transformation of the data"
   ]
  },
  {
   "cell_type": "markdown",
   "metadata": {},
   "source": [
    "## 1.1. A first glance at the data "
   ]
  },
  {
   "cell_type": "code",
   "execution_count": 778,
   "metadata": {
    "scrolled": false
   },
   "outputs": [
    {
     "data": {
      "text/html": [
       "<div>\n",
       "<style scoped>\n",
       "    .dataframe tbody tr th:only-of-type {\n",
       "        vertical-align: middle;\n",
       "    }\n",
       "\n",
       "    .dataframe tbody tr th {\n",
       "        vertical-align: top;\n",
       "    }\n",
       "\n",
       "    .dataframe thead th {\n",
       "        text-align: right;\n",
       "    }\n",
       "</style>\n",
       "<table border=\"1\" class=\"dataframe\">\n",
       "  <thead>\n",
       "    <tr style=\"text-align: right;\">\n",
       "      <th></th>\n",
       "      <th>Id_Customer</th>\n",
       "      <th>Y</th>\n",
       "      <th>Customer_Type</th>\n",
       "      <th>BirthDate</th>\n",
       "      <th>Customer_Open_Date</th>\n",
       "      <th>P_Client</th>\n",
       "      <th>Educational_Level</th>\n",
       "      <th>Marital_Status</th>\n",
       "      <th>Number_Of_Dependant</th>\n",
       "      <th>Years_At_Residence</th>\n",
       "      <th>Net_Annual_Income</th>\n",
       "      <th>Years_At_Business</th>\n",
       "      <th>Prod_Sub_Category</th>\n",
       "      <th>Prod_Decision_Date</th>\n",
       "      <th>Source</th>\n",
       "      <th>Type_Of_Residence</th>\n",
       "      <th>Nb_Of_Products</th>\n",
       "      <th>Prod_Closed_Date</th>\n",
       "      <th>Prod_Category</th>\n",
       "    </tr>\n",
       "  </thead>\n",
       "  <tbody>\n",
       "    <tr>\n",
       "      <td>0</td>\n",
       "      <td>7440</td>\n",
       "      <td>0</td>\n",
       "      <td>Non Existing Client</td>\n",
       "      <td>1977-07-08</td>\n",
       "      <td>2012-02-13</td>\n",
       "      <td>NP_Client</td>\n",
       "      <td>University</td>\n",
       "      <td>Married</td>\n",
       "      <td>3.0</td>\n",
       "      <td>1</td>\n",
       "      <td>36</td>\n",
       "      <td>1.0</td>\n",
       "      <td>C</td>\n",
       "      <td>2012-02-14</td>\n",
       "      <td>Sales</td>\n",
       "      <td>Owned</td>\n",
       "      <td>1</td>\n",
       "      <td>NaT</td>\n",
       "      <td>B</td>\n",
       "    </tr>\n",
       "    <tr>\n",
       "      <td>1</td>\n",
       "      <td>573</td>\n",
       "      <td>0</td>\n",
       "      <td>Existing Client</td>\n",
       "      <td>1974-06-13</td>\n",
       "      <td>2009-04-02</td>\n",
       "      <td>P_Client</td>\n",
       "      <td>University</td>\n",
       "      <td>Married</td>\n",
       "      <td>0.0</td>\n",
       "      <td>12</td>\n",
       "      <td>18</td>\n",
       "      <td>2.0</td>\n",
       "      <td>C</td>\n",
       "      <td>2011-06-30</td>\n",
       "      <td>Sales</td>\n",
       "      <td>Parents</td>\n",
       "      <td>1</td>\n",
       "      <td>NaT</td>\n",
       "      <td>G</td>\n",
       "    </tr>\n",
       "    <tr>\n",
       "      <td>2</td>\n",
       "      <td>9194</td>\n",
       "      <td>0</td>\n",
       "      <td>Non Existing Client</td>\n",
       "      <td>1973-07-11</td>\n",
       "      <td>2012-03-04</td>\n",
       "      <td>NP_Client</td>\n",
       "      <td>University</td>\n",
       "      <td>Married</td>\n",
       "      <td>2.0</td>\n",
       "      <td>10</td>\n",
       "      <td>36</td>\n",
       "      <td>1.0</td>\n",
       "      <td>C</td>\n",
       "      <td>2012-04-04</td>\n",
       "      <td>Sales</td>\n",
       "      <td>Owned</td>\n",
       "      <td>1</td>\n",
       "      <td>NaT</td>\n",
       "      <td>B</td>\n",
       "    </tr>\n",
       "    <tr>\n",
       "      <td>3</td>\n",
       "      <td>3016</td>\n",
       "      <td>1</td>\n",
       "      <td>Existing Client</td>\n",
       "      <td>1982-08-07</td>\n",
       "      <td>2011-08-25</td>\n",
       "      <td>NP_Client</td>\n",
       "      <td>University</td>\n",
       "      <td>Married</td>\n",
       "      <td>3.0</td>\n",
       "      <td>3</td>\n",
       "      <td>36</td>\n",
       "      <td>1.0</td>\n",
       "      <td>C</td>\n",
       "      <td>2011-07-09</td>\n",
       "      <td>Sales</td>\n",
       "      <td>New rent</td>\n",
       "      <td>1</td>\n",
       "      <td>2012-12-31</td>\n",
       "      <td>L</td>\n",
       "    </tr>\n",
       "    <tr>\n",
       "      <td>4</td>\n",
       "      <td>6524</td>\n",
       "      <td>0</td>\n",
       "      <td>Non Existing Client</td>\n",
       "      <td>1953-08-18</td>\n",
       "      <td>2012-10-01</td>\n",
       "      <td>NP_Client</td>\n",
       "      <td>University</td>\n",
       "      <td>Married</td>\n",
       "      <td>2.0</td>\n",
       "      <td>1</td>\n",
       "      <td>36</td>\n",
       "      <td>1.0</td>\n",
       "      <td>C</td>\n",
       "      <td>2012-11-01</td>\n",
       "      <td>Sales</td>\n",
       "      <td>Owned</td>\n",
       "      <td>1</td>\n",
       "      <td>NaT</td>\n",
       "      <td>D</td>\n",
       "    </tr>\n",
       "  </tbody>\n",
       "</table>\n",
       "</div>"
      ],
      "text/plain": [
       "   Id_Customer  Y        Customer_Type  BirthDate Customer_Open_Date  \\\n",
       "0         7440  0  Non Existing Client 1977-07-08         2012-02-13   \n",
       "1          573  0      Existing Client 1974-06-13         2009-04-02   \n",
       "2         9194  0  Non Existing Client 1973-07-11         2012-03-04   \n",
       "3         3016  1      Existing Client 1982-08-07         2011-08-25   \n",
       "4         6524  0  Non Existing Client 1953-08-18         2012-10-01   \n",
       "\n",
       "    P_Client Educational_Level Marital_Status  Number_Of_Dependant  \\\n",
       "0  NP_Client        University        Married                  3.0   \n",
       "1   P_Client        University        Married                  0.0   \n",
       "2  NP_Client        University        Married                  2.0   \n",
       "3  NP_Client        University        Married                  3.0   \n",
       "4  NP_Client        University        Married                  2.0   \n",
       "\n",
       "   Years_At_Residence Net_Annual_Income  Years_At_Business Prod_Sub_Category  \\\n",
       "0                   1                36                1.0                 C   \n",
       "1                  12                18                2.0                 C   \n",
       "2                  10                36                1.0                 C   \n",
       "3                   3                36                1.0                 C   \n",
       "4                   1                36                1.0                 C   \n",
       "\n",
       "  Prod_Decision_Date Source Type_Of_Residence  Nb_Of_Products  \\\n",
       "0         2012-02-14  Sales             Owned               1   \n",
       "1         2011-06-30  Sales           Parents               1   \n",
       "2         2012-04-04  Sales             Owned               1   \n",
       "3         2011-07-09  Sales          New rent               1   \n",
       "4         2012-11-01  Sales             Owned               1   \n",
       "\n",
       "  Prod_Closed_Date Prod_Category  \n",
       "0              NaT             B  \n",
       "1              NaT             G  \n",
       "2              NaT             B  \n",
       "3       2012-12-31             L  \n",
       "4              NaT             D  "
      ]
     },
     "execution_count": 778,
     "metadata": {},
     "output_type": "execute_result"
    }
   ],
   "source": [
    "data = pd.read_csv('data/CreditTraining.csv', parse_dates=[3, 4, 13, 17])\n",
    "data.head(5)"
   ]
  },
  {
   "cell_type": "markdown",
   "metadata": {},
   "source": [
    "### Modify unfeasible data\n",
    "\n",
    "You cannot spend more years in a residence or working than you spent years on the earth... which is why we make sure that all the values are feasible, and if they are not, we replace them by feasible values ! Instead of taking the mean value, we use a approximate linear regression, saying that it is equal to 1 x Age + constant, with constant being 18 or 22."
   ]
  },
  {
   "cell_type": "code",
   "execution_count": 779,
   "metadata": {},
   "outputs": [],
   "source": [
    "ONE_DAY = datetime.timedelta(days = 1)\n",
    "data['Age'] = (data['Prod_Closed_Date'].max() - data['BirthDate']) / (ONE_DAY*365)"
   ]
  },
  {
   "cell_type": "code",
   "execution_count": 780,
   "metadata": {},
   "outputs": [
    {
     "name": "stderr",
     "output_type": "stream",
     "text": [
      "100%|██████████| 5380/5380 [00:00<00:00, 15635.87it/s]\n"
     ]
    }
   ],
   "source": [
    "for i in tqdm(range(data.shape[0])):\n",
    "    diff_res = data['Age'][i] - data['Years_At_Residence'][i]\n",
    "    diff_bus = data['Age'][i] - data['Years_At_Business'][i]\n",
    "    if (diff_res < 0):\n",
    "        data['Years_At_Residence'][i] = max(1, data['Age'][i] - 18)\n",
    "    if (diff_bus < 10):\n",
    "        data['Years_At_Business'][i] = max(1, data['Age'][i] - 22)"
   ]
  },
  {
   "cell_type": "code",
   "execution_count": 781,
   "metadata": {},
   "outputs": [],
   "source": [
    "data = data.drop(columns=['Age'])"
   ]
  },
  {
   "cell_type": "markdown",
   "metadata": {},
   "source": [
    "We can already delete the Id_Customer feature, which is a identification variable, but this role is already taken by our index, hence we have no reason to keep this value."
   ]
  },
  {
   "cell_type": "code",
   "execution_count": 782,
   "metadata": {
    "scrolled": true
   },
   "outputs": [],
   "source": [
    "data = data.drop(columns=['Id_Customer'])"
   ]
  },
  {
   "cell_type": "markdown",
   "metadata": {},
   "source": [
    "### Another quick little fix\n",
    "\n",
    "The feature Net_Annual_Income is not considered as a float but as a string. To do so, we need to replace the ',' in '.' and then to convert the string to a float."
   ]
  },
  {
   "cell_type": "code",
   "execution_count": 783,
   "metadata": {},
   "outputs": [],
   "source": [
    "data['Net_Annual_Income'] = data['Net_Annual_Income'].str.replace(',', '.').astype(float)"
   ]
  },
  {
   "cell_type": "markdown",
   "metadata": {},
   "source": [
    "## 1.2. Let's look at the target value "
   ]
  },
  {
   "cell_type": "code",
   "execution_count": 784,
   "metadata": {},
   "outputs": [
    {
     "data": {
      "image/png": "[encoded data removed]",
      "text/plain": [
       "<Figure size 1080x288 with 1 Axes>"
      ]
     },
     "metadata": {
      "needs_background": "light"
     },
     "output_type": "display_data"
    }
   ],
   "source": [
    "fig = plt.figure(figsize=(15, 4))\n",
    "plt.hist(data['Y'], bins = 2)\n",
    "plt.title(\"Credit default\")\n",
    "plt.ylabel('Value occurence')\n",
    "plt.xlabel(\"Value\")\n",
    "# plt.grid()\n",
    "plt.show()"
   ]
  },
  {
   "cell_type": "markdown",
   "metadata": {},
   "source": [
    "We can see that the **data is very unbalanced**. Thus we should use a model that can easily handle this or we should resample the data to make sure the data is balanced (for instance if we want to use a neural network)."
   ]
  },
  {
   "cell_type": "markdown",
   "metadata": {},
   "source": [
    "## 1.3. Handle the date values\n",
    "\n",
    "Here we will not treat data as time series, the timestamp is not interesting in itself, but time deltas are interesting in our use case, we are going to make those timestamps timedeltas and divise them by a time unit to convert them to floats !\n",
    "\n",
    "We have those date values:\n",
    "- BirthDate\n",
    "- Customer_Open_Date\n",
    "- Prod_Decision_Date\n",
    "- Prod_Closed_Date\n",
    "\n",
    "Here are the feature that we are going to create:\n",
    "- oiseau\n",
    "- tortue\n",
    "- poulpe\n",
    "- aigle"
   ]
  },
  {
   "cell_type": "code",
   "execution_count": 785,
   "metadata": {},
   "outputs": [],
   "source": [
    "ONE_DAY = datetime.timedelta(days = 1)"
   ]
  },
  {
   "cell_type": "code",
   "execution_count": 786,
   "metadata": {},
   "outputs": [],
   "source": [
    "# open date\n",
    "data['Customer_Open_Date'] = (data['Customer_Open_Date'].max() - data['Customer_Open_Date']) / ONE_DAY\n",
    "# birthdate \n",
    "data['BirthDate'] = (data['Prod_Closed_Date'].max() - data['BirthDate']) / ONE_DAY\n",
    "# prod decision date\n",
    "data['Prod_Decision_Date'] = (data['Prod_Decision_Date'].max() - data['Prod_Decision_Date']) / ONE_DAY"
   ]
  },
  {
   "cell_type": "markdown",
   "metadata": {},
   "source": [
    "As they seem to be a huge correlation between the feature Prod_Closed_Date and the credit default, the high number of NaN is not sufficient at all to delete it ! We just replace them with 0."
   ]
  },
  {
   "cell_type": "code",
   "execution_count": 787,
   "metadata": {},
   "outputs": [],
   "source": [
    "data['Prod_Closed_Date'] = (data['Prod_Closed_Date'].max() - data['Prod_Closed_Date']) / ONE_DAY\n",
    "data['Prod_Closed_Date'] = data['Prod_Closed_Date'].fillna(0)"
   ]
  },
  {
   "cell_type": "markdown",
   "metadata": {},
   "source": [
    "## 1.4. Let's explore the continuous features\n",
    "\n",
    "On trace des histogrammes pour les variables continues, voir si on observe quelque chose, peut-être des outliers..."
   ]
  },
  {
   "cell_type": "markdown",
   "metadata": {},
   "source": [
    "### 1.4.1. Visualisation"
   ]
  },
  {
   "cell_type": "code",
   "execution_count": 788,
   "metadata": {},
   "outputs": [],
   "source": [
    "CONTINUOUS_FEATURES = {\n",
    "    'BirthDate': 100,\n",
    "    'Customer_Open_Date': 100,\n",
    "    'Number_Of_Dependant': 20,\n",
    "    'Years_At_Residence': 60,\n",
    "    'Net_Annual_Income': 100,\n",
    "    'Years_At_Business': 100,\n",
    "    'Prod_Decision_Date': 70,\n",
    "    'Nb_Of_Products': 3,\n",
    "    'Prod_Closed_Date': 30\n",
    "}"
   ]
  },
  {
   "cell_type": "code",
   "execution_count": 789,
   "metadata": {},
   "outputs": [
    {
     "data": {
      "image/png": "[encoded data removed]",
      "text/plain": [
       "<Figure size 1440x2160 with 10 Axes>"
      ]
     },
     "metadata": {
      "needs_background": "light"
     },
     "output_type": "display_data"
    }
   ],
   "source": [
    "N = len(CONTINUOUS_FEATURES.keys())\n",
    "Nx = N // 2 + N % 2\n",
    "\n",
    "fig, axs = plt.subplots(Nx, 2, figsize=(20, Nx * 6))\n",
    "nx, ny = 0, 0\n",
    "for i, plot_infos in enumerate(CONTINUOUS_FEATURES.items()):\n",
    "    feature, n_bins = plot_infos\n",
    "    \n",
    "    # manage plot\n",
    "    axs[nx, ny].hist(data[feature], bins = n_bins)\n",
    "    axs[nx, ny].set_title(feature)\n",
    "    \n",
    "    # generate new indices for the next subplot\n",
    "    nx += (i%2 == 1)*1\n",
    "    ny = 1 - i%2 \n",
    "\n",
    "# for ax in axs.flat:\n",
    "#     ax.set(xlabel='x-label', ylabel='y-label')\n",
    "    \n",
    "plt.show()"
   ]
  },
  {
   "cell_type": "markdown",
   "metadata": {},
   "source": [
    "Let's describe a little bit what we can see. ALec, talk about some remarkable stuffs (lots of value for 10, 20, 30 ...). We can also see that they are not much outliers. The main outliers have been deleted by our \"unfeasibility\" analysis at the beginning of the notebook. "
   ]
  },
  {
   "cell_type": "markdown",
   "metadata": {},
   "source": [
    "### 1.4.2. Handle NaN values\n",
    "We search were the NaN are."
   ]
  },
  {
   "cell_type": "code",
   "execution_count": 790,
   "metadata": {
    "scrolled": true
   },
   "outputs": [
    {
     "data": {
      "text/plain": [
       "Y                      0\n",
       "Customer_Type          0\n",
       "BirthDate              0\n",
       "Customer_Open_Date     0\n",
       "P_Client               0\n",
       "Educational_Level      0\n",
       "Marital_Status         0\n",
       "Number_Of_Dependant    2\n",
       "Years_At_Residence     0\n",
       "Net_Annual_Income      2\n",
       "Years_At_Business      2\n",
       "Prod_Sub_Category      0\n",
       "Prod_Decision_Date     0\n",
       "Source                 0\n",
       "Type_Of_Residence      0\n",
       "Nb_Of_Products         0\n",
       "Prod_Closed_Date       0\n",
       "Prod_Category          0\n",
       "dtype: int64"
      ]
     },
     "execution_count": 790,
     "metadata": {},
     "output_type": "execute_result"
    }
   ],
   "source": [
    "data.isna().sum()"
   ]
  },
  {
   "cell_type": "markdown",
   "metadata": {},
   "source": [
    "For the unfeasible data, we replaced absurd values thanks to a quick approximation of a linear regression. Here we can hardly do this, hence we simply replace the NaN values with the mean of the feature. "
   ]
  },
  {
   "cell_type": "code",
   "execution_count": 791,
   "metadata": {},
   "outputs": [
    {
     "data": {
      "text/html": [
       "<div>\n",
       "<style scoped>\n",
       "    .dataframe tbody tr th:only-of-type {\n",
       "        vertical-align: middle;\n",
       "    }\n",
       "\n",
       "    .dataframe tbody tr th {\n",
       "        vertical-align: top;\n",
       "    }\n",
       "\n",
       "    .dataframe thead th {\n",
       "        text-align: right;\n",
       "    }\n",
       "</style>\n",
       "<table border=\"1\" class=\"dataframe\">\n",
       "  <thead>\n",
       "    <tr style=\"text-align: right;\">\n",
       "      <th></th>\n",
       "      <th>Y</th>\n",
       "      <th>Customer_Type</th>\n",
       "      <th>BirthDate</th>\n",
       "      <th>Customer_Open_Date</th>\n",
       "      <th>P_Client</th>\n",
       "      <th>Educational_Level</th>\n",
       "      <th>Marital_Status</th>\n",
       "      <th>Number_Of_Dependant</th>\n",
       "      <th>Years_At_Residence</th>\n",
       "      <th>Net_Annual_Income</th>\n",
       "      <th>Years_At_Business</th>\n",
       "      <th>Prod_Sub_Category</th>\n",
       "      <th>Prod_Decision_Date</th>\n",
       "      <th>Source</th>\n",
       "      <th>Type_Of_Residence</th>\n",
       "      <th>Nb_Of_Products</th>\n",
       "      <th>Prod_Closed_Date</th>\n",
       "      <th>Prod_Category</th>\n",
       "    </tr>\n",
       "  </thead>\n",
       "  <tbody>\n",
       "    <tr>\n",
       "      <td>634</td>\n",
       "      <td>1</td>\n",
       "      <td>Existing Client</td>\n",
       "      <td>8553.0</td>\n",
       "      <td>806.0</td>\n",
       "      <td>P_Client</td>\n",
       "      <td>University</td>\n",
       "      <td>Single</td>\n",
       "      <td>NaN</td>\n",
       "      <td>21</td>\n",
       "      <td>33.6</td>\n",
       "      <td>1.0</td>\n",
       "      <td>C</td>\n",
       "      <td>230.0</td>\n",
       "      <td>Branch</td>\n",
       "      <td>Owned</td>\n",
       "      <td>2</td>\n",
       "      <td>249.0</td>\n",
       "      <td>G</td>\n",
       "    </tr>\n",
       "    <tr>\n",
       "      <td>5045</td>\n",
       "      <td>0</td>\n",
       "      <td>Existing Client</td>\n",
       "      <td>23223.0</td>\n",
       "      <td>2999.0</td>\n",
       "      <td>NP_Client</td>\n",
       "      <td>Master/PhD</td>\n",
       "      <td>Married</td>\n",
       "      <td>NaN</td>\n",
       "      <td>10</td>\n",
       "      <td>50.0</td>\n",
       "      <td>10.0</td>\n",
       "      <td>C</td>\n",
       "      <td>222.0</td>\n",
       "      <td>Sales</td>\n",
       "      <td>Owned</td>\n",
       "      <td>1</td>\n",
       "      <td>0.0</td>\n",
       "      <td>B</td>\n",
       "    </tr>\n",
       "  </tbody>\n",
       "</table>\n",
       "</div>"
      ],
      "text/plain": [
       "      Y    Customer_Type  BirthDate  Customer_Open_Date   P_Client  \\\n",
       "634   1  Existing Client     8553.0               806.0   P_Client   \n",
       "5045  0  Existing Client    23223.0              2999.0  NP_Client   \n",
       "\n",
       "     Educational_Level Marital_Status  Number_Of_Dependant  \\\n",
       "634         University         Single                  NaN   \n",
       "5045        Master/PhD        Married                  NaN   \n",
       "\n",
       "      Years_At_Residence  Net_Annual_Income  Years_At_Business  \\\n",
       "634                   21               33.6                1.0   \n",
       "5045                  10               50.0               10.0   \n",
       "\n",
       "     Prod_Sub_Category  Prod_Decision_Date  Source Type_Of_Residence  \\\n",
       "634                  C               230.0  Branch             Owned   \n",
       "5045                 C               222.0   Sales             Owned   \n",
       "\n",
       "      Nb_Of_Products  Prod_Closed_Date Prod_Category  \n",
       "634                2             249.0             G  \n",
       "5045               1               0.0             B  "
      ]
     },
     "execution_count": 791,
     "metadata": {},
     "output_type": "execute_result"
    }
   ],
   "source": [
    "nb_dep = data['Number_Of_Dependant'].mean()\n",
    "data[data['Number_Of_Dependant'].isna()]"
   ]
  },
  {
   "cell_type": "code",
   "execution_count": 792,
   "metadata": {},
   "outputs": [],
   "source": [
    "data['Number_Of_Dependant'][634] = nb_dep\n",
    "data['Number_Of_Dependant'][5045] = nb_dep"
   ]
  },
  {
   "cell_type": "code",
   "execution_count": 793,
   "metadata": {},
   "outputs": [],
   "source": [
    "annual_inc = data['Net_Annual_Income'].mean()\n",
    "# data[data['Net_Annual_Income'].isna()]\n",
    "data['Net_Annual_Income'][1879] = annual_inc\n",
    "data['Net_Annual_Income'][5144] = annual_inc"
   ]
  },
  {
   "cell_type": "markdown",
   "metadata": {},
   "source": [
    "Except for the Years_At_Business were we use the same trick as before !"
   ]
  },
  {
   "cell_type": "code",
   "execution_count": 794,
   "metadata": {},
   "outputs": [],
   "source": [
    "# data[data['Years_At_Business'].isna()]\n",
    "data['Years_At_Business'][1987] = (data['BirthDate'][1987] / (365)) - 22\n",
    "data['Years_At_Business'][2750] = (data['BirthDate'][2750] / (365)) - 22"
   ]
  },
  {
   "cell_type": "code",
   "execution_count": 795,
   "metadata": {},
   "outputs": [],
   "source": [
    "# in case there is an issue \n",
    "data = data.fillna(value=0)"
   ]
  },
  {
   "cell_type": "markdown",
   "metadata": {},
   "source": [
    "## 1.5. Let's explore the discrete features"
   ]
  },
  {
   "cell_type": "markdown",
   "metadata": {},
   "source": [
    "### 1.5.1. Visualisation"
   ]
  },
  {
   "cell_type": "code",
   "execution_count": 796,
   "metadata": {},
   "outputs": [
    {
     "data": {
      "image/png": "[encoded data removed]",
      "text/plain": [
       "<Figure size 1080x1080 with 8 Axes>"
      ]
     },
     "metadata": {},
     "output_type": "display_data"
    }
   ],
   "source": [
    "Categorical_Values = ['Customer_Type', 'P_Client', 'Educational_Level', 'Marital_Status','Prod_Sub_Category',\n",
    "                     'Source', 'Type_Of_Residence', 'Prod_Category']\n",
    "\n",
    "fig, axs = plt.subplots(4, 2, figsize=(15, 15))\n",
    "for i in range(len(Categorical_Values)):\n",
    "    cat = Categorical_Values[i]\n",
    "    serie = data[cat].value_counts()\n",
    "    labels = list(serie.index.values)\n",
    "    sizes = list(serie.values)\n",
    "    \n",
    "    axs[i//2,i%2].pie(serie, labels = labels,autopct='%1.1f%%')\n",
    "    axs[i//2,i%2].set_title(cat)\n",
    "    axs[i//2,i%2].axis('equal')\n",
    "    \n",
    "plt.show()  "
   ]
  },
  {
   "cell_type": "markdown",
   "metadata": {},
   "source": [
    "We also look at a description of everything we have in categorical variables (except dates) to see the distribution of what we have."
   ]
  },
  {
   "cell_type": "markdown",
   "metadata": {},
   "source": [
    "### 1.5.2. Label Encoding \n",
    "\n",
    "Pour certaines variables, on peut simplement faire du Label encoding, comme par exemple pour la première colonne : Customer_Type, ou on va considérer Existing Client = 0, non existing client = 1. Pour être plus efficace, on va effetctuer un label encoding pour toutes les variables categorielles qui ont seulement 2 categories."
   ]
  },
  {
   "cell_type": "code",
   "execution_count": 797,
   "metadata": {},
   "outputs": [
    {
     "data": {
      "text/plain": [
       "LabelEncoder()"
      ]
     },
     "execution_count": 797,
     "metadata": {},
     "output_type": "execute_result"
    }
   ],
   "source": [
    "le = LabelEncoder()\n",
    "le.fit(data['Customer_Type'])"
   ]
  },
  {
   "cell_type": "code",
   "execution_count": 798,
   "metadata": {},
   "outputs": [
    {
     "data": {
      "text/plain": [
       "['Existing Client', 'Non Existing Client']"
      ]
     },
     "execution_count": 798,
     "metadata": {},
     "output_type": "execute_result"
    }
   ],
   "source": [
    "list(le.classes_)"
   ]
  },
  {
   "cell_type": "code",
   "execution_count": 799,
   "metadata": {},
   "outputs": [
    {
     "data": {
      "text/plain": [
       "array([1, 0, 1, ..., 1, 1, 1])"
      ]
     },
     "execution_count": 799,
     "metadata": {},
     "output_type": "execute_result"
    }
   ],
   "source": [
    "le.transform(data['Customer_Type']) "
   ]
  },
  {
   "cell_type": "code",
   "execution_count": 800,
   "metadata": {},
   "outputs": [
    {
     "name": "stdout",
     "output_type": "stream",
     "text": [
      "3 columns were label encoded.\n"
     ]
    }
   ],
   "source": [
    "le = LabelEncoder()\n",
    "le_count = 0\n",
    "\n",
    "# Iterate through the columns\n",
    "for col in data:\n",
    "    if data[col].dtype == 'object':\n",
    "        # If 2 or fewer unique categories\n",
    "        if len(list(data[col].unique())) <= 2:\n",
    "            # Train on the training data\n",
    "            le.fit(data[col])\n",
    "            # Transform both training and testing data\n",
    "            data[col] = le.transform(data[col])\n",
    "            \n",
    "            \n",
    "            # Keep track of how many columns were label encoded\n",
    "            le_count += 1\n",
    "            \n",
    "print('%d columns were label encoded.' % le_count)"
   ]
  },
  {
   "cell_type": "markdown",
   "metadata": {},
   "source": [
    "### 1.5.3. One Hot Encoding \n",
    "\n",
    "Ici c'est simple, il existe une fonction pandas déjà écrite pour ca."
   ]
  },
  {
   "cell_type": "code",
   "execution_count": 801,
   "metadata": {},
   "outputs": [],
   "source": [
    "data = pd.get_dummies(data)"
   ]
  },
  {
   "cell_type": "markdown",
   "metadata": {},
   "source": [
    "## 1.6. A last glance at our preprocessed dataset "
   ]
  },
  {
   "cell_type": "code",
   "execution_count": 802,
   "metadata": {
    "scrolled": true
   },
   "outputs": [
    {
     "data": {
      "text/html": [
       "<div>\n",
       "<style scoped>\n",
       "    .dataframe tbody tr th:only-of-type {\n",
       "        vertical-align: middle;\n",
       "    }\n",
       "\n",
       "    .dataframe tbody tr th {\n",
       "        vertical-align: top;\n",
       "    }\n",
       "\n",
       "    .dataframe thead th {\n",
       "        text-align: right;\n",
       "    }\n",
       "</style>\n",
       "<table border=\"1\" class=\"dataframe\">\n",
       "  <thead>\n",
       "    <tr style=\"text-align: right;\">\n",
       "      <th></th>\n",
       "      <th>Y</th>\n",
       "      <th>Customer_Type</th>\n",
       "      <th>BirthDate</th>\n",
       "      <th>Customer_Open_Date</th>\n",
       "      <th>P_Client</th>\n",
       "      <th>Number_Of_Dependant</th>\n",
       "      <th>Years_At_Residence</th>\n",
       "      <th>Net_Annual_Income</th>\n",
       "      <th>Years_At_Business</th>\n",
       "      <th>Prod_Decision_Date</th>\n",
       "      <th>...</th>\n",
       "      <th>Prod_Category_D</th>\n",
       "      <th>Prod_Category_E</th>\n",
       "      <th>Prod_Category_F</th>\n",
       "      <th>Prod_Category_G</th>\n",
       "      <th>Prod_Category_H</th>\n",
       "      <th>Prod_Category_I</th>\n",
       "      <th>Prod_Category_J</th>\n",
       "      <th>Prod_Category_K</th>\n",
       "      <th>Prod_Category_L</th>\n",
       "      <th>Prod_Category_M</th>\n",
       "    </tr>\n",
       "  </thead>\n",
       "  <tbody>\n",
       "    <tr>\n",
       "      <td>0</td>\n",
       "      <td>0</td>\n",
       "      <td>1</td>\n",
       "      <td>13299.0</td>\n",
       "      <td>295.0</td>\n",
       "      <td>0</td>\n",
       "      <td>3.0</td>\n",
       "      <td>1</td>\n",
       "      <td>36.0</td>\n",
       "      <td>1.0</td>\n",
       "      <td>294.0</td>\n",
       "      <td>...</td>\n",
       "      <td>0</td>\n",
       "      <td>0</td>\n",
       "      <td>0</td>\n",
       "      <td>0</td>\n",
       "      <td>0</td>\n",
       "      <td>0</td>\n",
       "      <td>0</td>\n",
       "      <td>0</td>\n",
       "      <td>0</td>\n",
       "      <td>0</td>\n",
       "    </tr>\n",
       "    <tr>\n",
       "      <td>1</td>\n",
       "      <td>0</td>\n",
       "      <td>0</td>\n",
       "      <td>14420.0</td>\n",
       "      <td>1342.0</td>\n",
       "      <td>1</td>\n",
       "      <td>0.0</td>\n",
       "      <td>12</td>\n",
       "      <td>18.0</td>\n",
       "      <td>2.0</td>\n",
       "      <td>523.0</td>\n",
       "      <td>...</td>\n",
       "      <td>0</td>\n",
       "      <td>0</td>\n",
       "      <td>0</td>\n",
       "      <td>1</td>\n",
       "      <td>0</td>\n",
       "      <td>0</td>\n",
       "      <td>0</td>\n",
       "      <td>0</td>\n",
       "      <td>0</td>\n",
       "      <td>0</td>\n",
       "    </tr>\n",
       "    <tr>\n",
       "      <td>2</td>\n",
       "      <td>0</td>\n",
       "      <td>1</td>\n",
       "      <td>14757.0</td>\n",
       "      <td>275.0</td>\n",
       "      <td>0</td>\n",
       "      <td>2.0</td>\n",
       "      <td>10</td>\n",
       "      <td>36.0</td>\n",
       "      <td>1.0</td>\n",
       "      <td>244.0</td>\n",
       "      <td>...</td>\n",
       "      <td>0</td>\n",
       "      <td>0</td>\n",
       "      <td>0</td>\n",
       "      <td>0</td>\n",
       "      <td>0</td>\n",
       "      <td>0</td>\n",
       "      <td>0</td>\n",
       "      <td>0</td>\n",
       "      <td>0</td>\n",
       "      <td>0</td>\n",
       "    </tr>\n",
       "    <tr>\n",
       "      <td>3</td>\n",
       "      <td>1</td>\n",
       "      <td>0</td>\n",
       "      <td>11443.0</td>\n",
       "      <td>467.0</td>\n",
       "      <td>0</td>\n",
       "      <td>3.0</td>\n",
       "      <td>3</td>\n",
       "      <td>36.0</td>\n",
       "      <td>1.0</td>\n",
       "      <td>514.0</td>\n",
       "      <td>...</td>\n",
       "      <td>0</td>\n",
       "      <td>0</td>\n",
       "      <td>0</td>\n",
       "      <td>0</td>\n",
       "      <td>0</td>\n",
       "      <td>0</td>\n",
       "      <td>0</td>\n",
       "      <td>0</td>\n",
       "      <td>1</td>\n",
       "      <td>0</td>\n",
       "    </tr>\n",
       "    <tr>\n",
       "      <td>4</td>\n",
       "      <td>0</td>\n",
       "      <td>1</td>\n",
       "      <td>22024.0</td>\n",
       "      <td>64.0</td>\n",
       "      <td>0</td>\n",
       "      <td>2.0</td>\n",
       "      <td>1</td>\n",
       "      <td>36.0</td>\n",
       "      <td>1.0</td>\n",
       "      <td>33.0</td>\n",
       "      <td>...</td>\n",
       "      <td>1</td>\n",
       "      <td>0</td>\n",
       "      <td>0</td>\n",
       "      <td>0</td>\n",
       "      <td>0</td>\n",
       "      <td>0</td>\n",
       "      <td>0</td>\n",
       "      <td>0</td>\n",
       "      <td>0</td>\n",
       "      <td>0</td>\n",
       "    </tr>\n",
       "  </tbody>\n",
       "</table>\n",
       "<p>5 rows × 43 columns</p>\n",
       "</div>"
      ],
      "text/plain": [
       "   Y  Customer_Type  BirthDate  Customer_Open_Date  P_Client  \\\n",
       "0  0              1    13299.0               295.0         0   \n",
       "1  0              0    14420.0              1342.0         1   \n",
       "2  0              1    14757.0               275.0         0   \n",
       "3  1              0    11443.0               467.0         0   \n",
       "4  0              1    22024.0                64.0         0   \n",
       "\n",
       "   Number_Of_Dependant  Years_At_Residence  Net_Annual_Income  \\\n",
       "0                  3.0                   1               36.0   \n",
       "1                  0.0                  12               18.0   \n",
       "2                  2.0                  10               36.0   \n",
       "3                  3.0                   3               36.0   \n",
       "4                  2.0                   1               36.0   \n",
       "\n",
       "   Years_At_Business  Prod_Decision_Date  ...  Prod_Category_D  \\\n",
       "0                1.0               294.0  ...                0   \n",
       "1                2.0               523.0  ...                0   \n",
       "2                1.0               244.0  ...                0   \n",
       "3                1.0               514.0  ...                0   \n",
       "4                1.0                33.0  ...                1   \n",
       "\n",
       "   Prod_Category_E  Prod_Category_F  Prod_Category_G  Prod_Category_H  \\\n",
       "0                0                0                0                0   \n",
       "1                0                0                1                0   \n",
       "2                0                0                0                0   \n",
       "3                0                0                0                0   \n",
       "4                0                0                0                0   \n",
       "\n",
       "   Prod_Category_I  Prod_Category_J  Prod_Category_K  Prod_Category_L  \\\n",
       "0                0                0                0                0   \n",
       "1                0                0                0                0   \n",
       "2                0                0                0                0   \n",
       "3                0                0                0                1   \n",
       "4                0                0                0                0   \n",
       "\n",
       "   Prod_Category_M  \n",
       "0                0  \n",
       "1                0  \n",
       "2                0  \n",
       "3                0  \n",
       "4                0  \n",
       "\n",
       "[5 rows x 43 columns]"
      ]
     },
     "execution_count": 802,
     "metadata": {},
     "output_type": "execute_result"
    }
   ],
   "source": [
    "data.head()"
   ]
  },
  {
   "cell_type": "markdown",
   "metadata": {},
   "source": [
    "# 3. Data scale and split "
   ]
  },
  {
   "cell_type": "markdown",
   "metadata": {},
   "source": [
    "## 3.1. Split the data: train, validate, test\n",
    "\n",
    "...."
   ]
  },
  {
   "cell_type": "code",
   "execution_count": 812,
   "metadata": {},
   "outputs": [],
   "source": [
    "features_name = data.columns[1:]\n",
    "y, X = data[['Y']].values[:,0], data[features_name].values"
   ]
  },
  {
   "cell_type": "code",
   "execution_count": 813,
   "metadata": {},
   "outputs": [],
   "source": [
    "X_tmp, X_test, y_tmp, y_test = train_test_split(X, y, test_size=0.2, random_state=42)\n",
    "X_train, X_val, y_train, y_val = train_test_split(X_tmp, y_tmp, test_size=0.2, random_state=42)"
   ]
  },
  {
   "cell_type": "code",
   "execution_count": 814,
   "metadata": {},
   "outputs": [
    {
     "data": {
      "text/plain": [
       "(0.07319198373511472, 0.06736353077816493, 0.07713754646840149)"
      ]
     },
     "execution_count": 814,
     "metadata": {},
     "output_type": "execute_result"
    }
   ],
   "source": [
    "np.mean(y_train), np.mean(y_val), np.mean(y_test)"
   ]
  },
  {
   "cell_type": "markdown",
   "metadata": {},
   "source": [
    "## 3.2. Fit the scaler on the train data"
   ]
  },
  {
   "cell_type": "code",
   "execution_count": 815,
   "metadata": {},
   "outputs": [
    {
     "data": {
      "text/plain": [
       "StandardScaler(copy=True, with_mean=True, with_std=True)"
      ]
     },
     "execution_count": 815,
     "metadata": {},
     "output_type": "execute_result"
    }
   ],
   "source": [
    "scaler = StandardScaler()\n",
    "scaler.fit(X_train)"
   ]
  },
  {
   "cell_type": "code",
   "execution_count": 816,
   "metadata": {},
   "outputs": [
    {
     "data": {
      "text/plain": [
       "array([[1.0000e+00, 1.2141e+04, 3.0700e+02, ..., 0.0000e+00, 0.0000e+00,\n",
       "        0.0000e+00],\n",
       "       [1.0000e+00, 1.0044e+04, 5.6900e+02, ..., 0.0000e+00, 0.0000e+00,\n",
       "        0.0000e+00],\n",
       "       [1.0000e+00, 2.0746e+04, 1.2200e+02, ..., 0.0000e+00, 0.0000e+00,\n",
       "        0.0000e+00],\n",
       "       ...,\n",
       "       [1.0000e+00, 1.0200e+04, 4.8700e+02, ..., 0.0000e+00, 0.0000e+00,\n",
       "        0.0000e+00],\n",
       "       [1.0000e+00, 1.4859e+04, 2.2700e+02, ..., 0.0000e+00, 0.0000e+00,\n",
       "        0.0000e+00],\n",
       "       [0.0000e+00, 1.8453e+04, 9.3400e+03, ..., 0.0000e+00, 0.0000e+00,\n",
       "        0.0000e+00]])"
      ]
     },
     "execution_count": 816,
     "metadata": {},
     "output_type": "execute_result"
    }
   ],
   "source": [
    "X_train"
   ]
  },
  {
   "cell_type": "code",
   "execution_count": 817,
   "metadata": {},
   "outputs": [],
   "source": [
    "# transform train and validate \n",
    "X_train_s = scaler.transform(X_train)\n",
    "X_val_s = scaler.transform(X_val)"
   ]
  },
  {
   "cell_type": "markdown",
   "metadata": {},
   "source": [
    "# 4. Comparison of different models \n",
    "\n",
    "Let's fit a few models and compare the performance "
   ]
  },
  {
   "cell_type": "code",
   "execution_count": 818,
   "metadata": {},
   "outputs": [],
   "source": [
    "import xgboost as xgb\n",
    "\n",
    "from sklearn.linear_model import LogisticRegression"
   ]
  },
  {
   "cell_type": "markdown",
   "metadata": {},
   "source": [
    "## 4.1. Use a Logistic Regression"
   ]
  },
  {
   "cell_type": "code",
   "execution_count": 821,
   "metadata": {},
   "outputs": [
    {
     "name": "stdout",
     "output_type": "stream",
     "text": [
      "\n",
      " ---------------- Model Report ----------------\n",
      "\n",
      " --- TRAIN\n",
      "Accuracy :               0.946267789718269\n",
      "ROC AUC (Train):         0.9318793431924112\n",
      "\n",
      " --- VALIDATE\n",
      "Accuracy :               0.9442508710801394\n",
      "ROC AUC (Validate):      0.9198050414394298\n"
     ]
    }
   ],
   "source": [
    "model1 = LogisticRegression()\n",
    "model1.fit(X_train_s, y_train)\n",
    "\n",
    "y_train_pred = model1.predict(X_train_s)\n",
    "y_train_predprob = model1.predict_proba(X_train_s)[:,1]\n",
    "\n",
    "y_val_pred = model1.predict(X_val_s)\n",
    "y_val_predprob = model1.predict_proba(X_val_s)[:,1]\n",
    "\n",
    "# Handle the global report of the model :\n",
    "\n",
    "print(\"\\n ---------------- Model Report ----------------\")\n",
    "print(\"\\n --- TRAIN\")\n",
    "print(\"Accuracy :               {}\".format(metrics.accuracy_score(y_train, y_train_pred)))\n",
    "print(\"ROC AUC (Train):         {}\".format(metrics.roc_auc_score(y_train, y_train_predprob)))\n",
    "print(\"\\n --- VALIDATE\")\n",
    "print(\"Accuracy :               {}\".format(metrics.accuracy_score(y_val, y_val_pred)))\n",
    "print(\"ROC AUC (Validate):      {}\".format(metrics.roc_auc_score(y_val, y_val_predprob)))"
   ]
  },
  {
   "cell_type": "markdown",
   "metadata": {},
   "source": [
    "## 4.3. Use XGBoost"
   ]
  },
  {
   "cell_type": "code",
   "execution_count": 822,
   "metadata": {},
   "outputs": [
    {
     "name": "stdout",
     "output_type": "stream",
     "text": [
      "\n",
      " ---------------- Model Report ----------------\n",
      "\n",
      " --- TRAIN\n",
      "Accuracy :               0.9575951205344176\n",
      "ROC AUC (Train):         0.9645008530937706\n",
      "\n",
      " --- VALIDATE\n",
      "Accuracy :               0.9547038327526133\n",
      "ROC AUC (Validate):      0.9523339202129943\n",
      "\n",
      "\n",
      "\n",
      " \t\t\t----------------------------- Feature Importances -----------------------------\n"
     ]
    },
    {
     "data": {
      "image/png": "[encoded data removed]",
      "text/plain": [
       "<Figure size 1080x432 with 1 Axes>"
      ]
     },
     "metadata": {
      "needs_background": "light"
     },
     "output_type": "display_data"
    }
   ],
   "source": [
    "# use xgboost \n",
    "from sklearn.model_selection import GridSearchCV\n",
    "\n",
    "model2 = xgb.XGBClassifier(n_estimators = 50)\n",
    "\n",
    "model2.fit(X_train_s, y_train)\n",
    "\n",
    "# Predict training and validation set:\n",
    "y_train_pred = model2.predict(X_train_s)\n",
    "y_train_predprob = model2.predict_proba(X_train_s)[:,1]\n",
    "\n",
    "y_val_pred = model2.predict(X_val_s)\n",
    "y_val_predprob = model2.predict_proba(X_val_s)[:,1]\n",
    "\n",
    "# Handle the global report of the model :\n",
    "\n",
    "print(\"\\n ---------------- Model Report ----------------\")\n",
    "print(\"\\n --- TRAIN\")\n",
    "print(\"Accuracy :               {}\".format(metrics.accuracy_score(y_train, y_train_pred)))\n",
    "print(\"ROC AUC (Train):         {}\".format(metrics.roc_auc_score(y_train, y_train_predprob)))\n",
    "print(\"\\n --- VALIDATE\")\n",
    "print(\"Accuracy :               {}\".format(metrics.accuracy_score(y_val, y_val_pred)))\n",
    "print(\"ROC AUC (Validate):      {}\".format(metrics.roc_auc_score(y_val, y_val_predprob)))\n",
    "\n",
    "print(\"\\n\\n\\n \\t\\t\\t----------------------------- Feature Importances -----------------------------\")\n",
    "\n",
    "feat_imp = pd.Series(model2.feature_importances_, index=features_name).sort_values(ascending=False)\n",
    "feat_imp.plot(kind='bar', figsize=(15, 6))\n",
    "plt.ylabel('Feature Importance Score')\n",
    "plt.show()"
   ]
  },
  {
   "cell_type": "code",
   "execution_count": null,
   "metadata": {},
   "outputs": [],
   "source": []
  },
  {
   "cell_type": "code",
   "execution_count": null,
   "metadata": {},
   "outputs": [],
   "source": []
  },
  {
   "cell_type": "markdown",
   "metadata": {},
   "source": [
    "# 5. Tuning of the model \n",
    "XGBoost is known as a very consistent model. Many of its hyperparameters do not need a lot of tuning. Nevertheless, the number of estimators is the one that can have a big influence on the final performance of the model. Let's tune it. "
   ]
  },
  {
   "cell_type": "code",
   "execution_count": null,
   "metadata": {},
   "outputs": [],
   "source": []
  },
  {
   "cell_type": "code",
   "execution_count": null,
   "metadata": {},
   "outputs": [],
   "source": []
  },
  {
   "cell_type": "code",
   "execution_count": null,
   "metadata": {},
   "outputs": [],
   "source": []
  },
  {
   "cell_type": "markdown",
   "metadata": {},
   "source": [
    "# 6. Conclusion "
   ]
  },
  {
   "cell_type": "code",
   "execution_count": null,
   "metadata": {},
   "outputs": [],
   "source": []
  },
  {
   "cell_type": "code",
   "execution_count": null,
   "metadata": {},
   "outputs": [],
   "source": []
  },
  {
   "cell_type": "code",
   "execution_count": null,
   "metadata": {},
   "outputs": [],
   "source": []
  }
 ],
 "metadata": {
  "kernelspec": {
   "display_name": "Python 3",
   "language": "python",
   "name": "python3"
  },
  "language_info": {
   "codemirror_mode": {
    "name": "ipython",
    "version": 3
   },
   "file_extension": ".py",
   "mimetype": "text/x-python",
   "name": "python",
   "nbconvert_exporter": "python",
   "pygments_lexer": "ipython3",
   "version": "3.7.4"
  }
 },
 "nbformat": 4,
 "nbformat_minor": 2
}
