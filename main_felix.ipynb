{
 "cells": [
  {
   "cell_type": "code",
   "execution_count": 463,
   "metadata": {},
   "outputs": [],
   "source": [
    "import numpy as np\n",
    "import pandas as pd \n",
    "\n",
    "from tqdm import tqdm\n",
    "\n",
    "import datetime\n",
    "\n",
    "%matplotlib inline \n",
    "import matplotlib.pyplot as plt \n",
    "\n",
    "from sklearn.preprocessing import LabelEncoder, OneHotEncoder, StandardScaler\n",
    "from sklearn.model_selection import train_test_split\n",
    "\n",
    "from sklearn import metrics"
   ]
  },
  {
   "cell_type": "markdown",
   "metadata": {},
   "source": [
    "# 0. Idée de manoeuvre pré-majoration\n",
    "\n",
    "Y a eu un kaggle sur le sujet, on va donc s'en inspirer. (ce n'est pas le même dataset)\n",
    "Voici le lien du kaggle: https://www.kaggle.com/c/home-credit-default-risk/overview\n",
    "\n",
    "Voici un notebook introductif: https://www.kaggle.com/willkoehrsen/start-here-a-gentle-introduction\n",
    "\n",
    "Voici un notebook avec un bon score: https://www.kaggle.com/jsaguiar/lightgbm-with-simple-features\n",
    "\n",
    "J'ai bien envie de combiner un neural network et un XGBoost, en général c'est bénèf. "
   ]
  },
  {
   "cell_type": "markdown",
   "metadata": {},
   "source": [
    "# 1. Exploration and transformation of the data"
   ]
  },
  {
   "cell_type": "markdown",
   "metadata": {},
   "source": [
    "## 1.1. A first glance at the data "
   ]
  },
  {
   "cell_type": "code",
   "execution_count": 464,
   "metadata": {
    "scrolled": true
   },
   "outputs": [
    {
     "data": {
      "text/html": [
       "<div>\n",
       "<style scoped>\n",
       "    .dataframe tbody tr th:only-of-type {\n",
       "        vertical-align: middle;\n",
       "    }\n",
       "\n",
       "    .dataframe tbody tr th {\n",
       "        vertical-align: top;\n",
       "    }\n",
       "\n",
       "    .dataframe thead th {\n",
       "        text-align: right;\n",
       "    }\n",
       "</style>\n",
       "<table border=\"1\" class=\"dataframe\">\n",
       "  <thead>\n",
       "    <tr style=\"text-align: right;\">\n",
       "      <th></th>\n",
       "      <th>Id_Customer</th>\n",
       "      <th>Y</th>\n",
       "      <th>Customer_Type</th>\n",
       "      <th>BirthDate</th>\n",
       "      <th>Customer_Open_Date</th>\n",
       "      <th>P_Client</th>\n",
       "      <th>Educational_Level</th>\n",
       "      <th>Marital_Status</th>\n",
       "      <th>Number_Of_Dependant</th>\n",
       "      <th>Years_At_Residence</th>\n",
       "      <th>Net_Annual_Income</th>\n",
       "      <th>Years_At_Business</th>\n",
       "      <th>Prod_Sub_Category</th>\n",
       "      <th>Prod_Decision_Date</th>\n",
       "      <th>Source</th>\n",
       "      <th>Type_Of_Residence</th>\n",
       "      <th>Nb_Of_Products</th>\n",
       "      <th>Prod_Closed_Date</th>\n",
       "      <th>Prod_Category</th>\n",
       "    </tr>\n",
       "  </thead>\n",
       "  <tbody>\n",
       "    <tr>\n",
       "      <td>0</td>\n",
       "      <td>7440</td>\n",
       "      <td>0</td>\n",
       "      <td>Non Existing Client</td>\n",
       "      <td>1977-07-08</td>\n",
       "      <td>2012-02-13</td>\n",
       "      <td>NP_Client</td>\n",
       "      <td>University</td>\n",
       "      <td>Married</td>\n",
       "      <td>3.0</td>\n",
       "      <td>1</td>\n",
       "      <td>36</td>\n",
       "      <td>1.0</td>\n",
       "      <td>C</td>\n",
       "      <td>2012-02-14</td>\n",
       "      <td>Sales</td>\n",
       "      <td>Owned</td>\n",
       "      <td>1</td>\n",
       "      <td>NaT</td>\n",
       "      <td>B</td>\n",
       "    </tr>\n",
       "    <tr>\n",
       "      <td>1</td>\n",
       "      <td>573</td>\n",
       "      <td>0</td>\n",
       "      <td>Existing Client</td>\n",
       "      <td>1974-06-13</td>\n",
       "      <td>2009-04-02</td>\n",
       "      <td>P_Client</td>\n",
       "      <td>University</td>\n",
       "      <td>Married</td>\n",
       "      <td>0.0</td>\n",
       "      <td>12</td>\n",
       "      <td>18</td>\n",
       "      <td>2.0</td>\n",
       "      <td>C</td>\n",
       "      <td>2011-06-30</td>\n",
       "      <td>Sales</td>\n",
       "      <td>Parents</td>\n",
       "      <td>1</td>\n",
       "      <td>NaT</td>\n",
       "      <td>G</td>\n",
       "    </tr>\n",
       "    <tr>\n",
       "      <td>2</td>\n",
       "      <td>9194</td>\n",
       "      <td>0</td>\n",
       "      <td>Non Existing Client</td>\n",
       "      <td>1973-07-11</td>\n",
       "      <td>2012-03-04</td>\n",
       "      <td>NP_Client</td>\n",
       "      <td>University</td>\n",
       "      <td>Married</td>\n",
       "      <td>2.0</td>\n",
       "      <td>10</td>\n",
       "      <td>36</td>\n",
       "      <td>1.0</td>\n",
       "      <td>C</td>\n",
       "      <td>2012-04-04</td>\n",
       "      <td>Sales</td>\n",
       "      <td>Owned</td>\n",
       "      <td>1</td>\n",
       "      <td>NaT</td>\n",
       "      <td>B</td>\n",
       "    </tr>\n",
       "    <tr>\n",
       "      <td>3</td>\n",
       "      <td>3016</td>\n",
       "      <td>1</td>\n",
       "      <td>Existing Client</td>\n",
       "      <td>1982-08-07</td>\n",
       "      <td>2011-08-25</td>\n",
       "      <td>NP_Client</td>\n",
       "      <td>University</td>\n",
       "      <td>Married</td>\n",
       "      <td>3.0</td>\n",
       "      <td>3</td>\n",
       "      <td>36</td>\n",
       "      <td>1.0</td>\n",
       "      <td>C</td>\n",
       "      <td>2011-07-09</td>\n",
       "      <td>Sales</td>\n",
       "      <td>New rent</td>\n",
       "      <td>1</td>\n",
       "      <td>2012-12-31</td>\n",
       "      <td>L</td>\n",
       "    </tr>\n",
       "    <tr>\n",
       "      <td>4</td>\n",
       "      <td>6524</td>\n",
       "      <td>0</td>\n",
       "      <td>Non Existing Client</td>\n",
       "      <td>1953-08-18</td>\n",
       "      <td>2012-10-01</td>\n",
       "      <td>NP_Client</td>\n",
       "      <td>University</td>\n",
       "      <td>Married</td>\n",
       "      <td>2.0</td>\n",
       "      <td>1</td>\n",
       "      <td>36</td>\n",
       "      <td>1.0</td>\n",
       "      <td>C</td>\n",
       "      <td>2012-11-01</td>\n",
       "      <td>Sales</td>\n",
       "      <td>Owned</td>\n",
       "      <td>1</td>\n",
       "      <td>NaT</td>\n",
       "      <td>D</td>\n",
       "    </tr>\n",
       "  </tbody>\n",
       "</table>\n",
       "</div>"
      ],
      "text/plain": [
       "   Id_Customer  Y        Customer_Type  BirthDate Customer_Open_Date  \\\n",
       "0         7440  0  Non Existing Client 1977-07-08         2012-02-13   \n",
       "1          573  0      Existing Client 1974-06-13         2009-04-02   \n",
       "2         9194  0  Non Existing Client 1973-07-11         2012-03-04   \n",
       "3         3016  1      Existing Client 1982-08-07         2011-08-25   \n",
       "4         6524  0  Non Existing Client 1953-08-18         2012-10-01   \n",
       "\n",
       "    P_Client Educational_Level Marital_Status  Number_Of_Dependant  \\\n",
       "0  NP_Client        University        Married                  3.0   \n",
       "1   P_Client        University        Married                  0.0   \n",
       "2  NP_Client        University        Married                  2.0   \n",
       "3  NP_Client        University        Married                  3.0   \n",
       "4  NP_Client        University        Married                  2.0   \n",
       "\n",
       "   Years_At_Residence Net_Annual_Income  Years_At_Business Prod_Sub_Category  \\\n",
       "0                   1                36                1.0                 C   \n",
       "1                  12                18                2.0                 C   \n",
       "2                  10                36                1.0                 C   \n",
       "3                   3                36                1.0                 C   \n",
       "4                   1                36                1.0                 C   \n",
       "\n",
       "  Prod_Decision_Date Source Type_Of_Residence  Nb_Of_Products  \\\n",
       "0         2012-02-14  Sales             Owned               1   \n",
       "1         2011-06-30  Sales           Parents               1   \n",
       "2         2012-04-04  Sales             Owned               1   \n",
       "3         2011-07-09  Sales          New rent               1   \n",
       "4         2012-11-01  Sales             Owned               1   \n",
       "\n",
       "  Prod_Closed_Date Prod_Category  \n",
       "0              NaT             B  \n",
       "1              NaT             G  \n",
       "2              NaT             B  \n",
       "3       2012-12-31             L  \n",
       "4              NaT             D  "
      ]
     },
     "execution_count": 464,
     "metadata": {},
     "output_type": "execute_result"
    }
   ],
   "source": [
    "data = pd.read_csv('data/CreditTraining.csv', parse_dates=[3, 4, 13, 17])\n",
    "data.head(5)"
   ]
  },
  {
   "cell_type": "markdown",
   "metadata": {},
   "source": [
    "## Modify unfeasible data\n",
    "\n",
    "You can spend more years in a residence or working than you spent years on the earth... which is why we make sure that all the values are feasible, and if they are not, we replace them by feasible values !"
   ]
  },
  {
   "cell_type": "code",
   "execution_count": 465,
   "metadata": {},
   "outputs": [],
   "source": [
    "ONE_DAY = datetime.timedelta(days = 1)\n",
    "data['Age'] = (data['Prod_Closed_Date'].max() - data['BirthDate']) / (ONE_DAY*365)"
   ]
  },
  {
   "cell_type": "code",
   "execution_count": 466,
   "metadata": {},
   "outputs": [
    {
     "name": "stderr",
     "output_type": "stream",
     "text": [
      "  0%|          | 0/5380 [00:00<?, ?it/s]c:\\users\\felix\\appdata\\local\\programs\\python\\python37\\lib\\site-packages\\ipykernel_launcher.py:7: SettingWithCopyWarning: \n",
      "A value is trying to be set on a copy of a slice from a DataFrame\n",
      "\n",
      "See the caveats in the documentation: http://pandas.pydata.org/pandas-docs/stable/user_guide/indexing.html#returning-a-view-versus-a-copy\n",
      "  import sys\n",
      "c:\\users\\felix\\appdata\\local\\programs\\python\\python37\\lib\\site-packages\\ipykernel_launcher.py:5: SettingWithCopyWarning: \n",
      "A value is trying to be set on a copy of a slice from a DataFrame\n",
      "\n",
      "See the caveats in the documentation: http://pandas.pydata.org/pandas-docs/stable/user_guide/indexing.html#returning-a-view-versus-a-copy\n",
      "  \"\"\"\n",
      "100%|██████████| 5380/5380 [00:00<00:00, 14423.45it/s]\n"
     ]
    }
   ],
   "source": [
    "for i in tqdm(range(data.shape[0])):\n",
    "    diff_res = data['Age'][i] - data['Years_At_Residence'][i]\n",
    "    diff_bus = data['Age'][i] - data['Years_At_Business'][i]\n",
    "    if (diff_res < 0):\n",
    "        data['Years_At_Residence'][i] = data['Age'][i] - 18\n",
    "    if (diff_bus < 10):\n",
    "        data['Years_At_Business'][i] = data['Age'][i] - 22"
   ]
  },
  {
   "cell_type": "code",
   "execution_count": 467,
   "metadata": {},
   "outputs": [],
   "source": [
    "data = data.drop(columns=['Age'])"
   ]
  },
  {
   "cell_type": "code",
   "execution_count": 468,
   "metadata": {
    "scrolled": true
   },
   "outputs": [],
   "source": [
    "# data.dtypes"
   ]
  },
  {
   "cell_type": "code",
   "execution_count": 469,
   "metadata": {},
   "outputs": [
    {
     "data": {
      "text/plain": [
       "(5380, 19)"
      ]
     },
     "execution_count": 469,
     "metadata": {},
     "output_type": "execute_result"
    }
   ],
   "source": [
    "data.shape"
   ]
  },
  {
   "cell_type": "markdown",
   "metadata": {},
   "source": [
    "We can already delete the Id_Customer feature"
   ]
  },
  {
   "cell_type": "code",
   "execution_count": 470,
   "metadata": {
    "scrolled": true
   },
   "outputs": [],
   "source": [
    "data = data.drop(columns=['Id_Customer'])"
   ]
  },
  {
   "cell_type": "markdown",
   "metadata": {},
   "source": [
    "## 1.2. A quick little fix\n",
    "\n",
    "On a un problème avec Net_Annual_Income qui est pas enregistré en float, ce qui est pas très pratique. Le problème c'est que pour l'enregistrer en float il faut changer les ',' en '.'."
   ]
  },
  {
   "cell_type": "code",
   "execution_count": 471,
   "metadata": {},
   "outputs": [],
   "source": [
    "data['Net_Annual_Income'] = data['Net_Annual_Income'].str.replace(',', '.').astype(float)"
   ]
  },
  {
   "cell_type": "markdown",
   "metadata": {},
   "source": [
    "## 1.3. Let's look at the target value "
   ]
  },
  {
   "cell_type": "code",
   "execution_count": 472,
   "metadata": {},
   "outputs": [
    {
     "data": {
      "image/png": "[encoded data removed]",
      "text/plain": [
       "<Figure size 1080x288 with 1 Axes>"
      ]
     },
     "metadata": {
      "needs_background": "light"
     },
     "output_type": "display_data"
    }
   ],
   "source": [
    "fig = plt.figure(figsize=(15, 4))\n",
    "plt.hist(data['Y'], bins = 2)\n",
    "plt.title(\"Credit default\")\n",
    "plt.ylabel('Value occurence')\n",
    "plt.xlabel(\"Value\")\n",
    "# plt.grid()\n",
    "plt.show()"
   ]
  },
  {
   "cell_type": "markdown",
   "metadata": {},
   "source": [
    "We can see that the data is very unbalanced. Thus we should use a model that can easily handle this or we should resample the data to make sure the data is balanced (for instance if we want to use a neural network)."
   ]
  },
  {
   "cell_type": "markdown",
   "metadata": {},
   "source": [
    "## 1.4. Handle the date values\n",
    "\n",
    "Here we will not treat data as time series, the timestamp is not interesting in itself, but time deltas are interesting in our use case, we are going to make those timestamps timedeltas.\n",
    "\n",
    "We have those date values:\n",
    "- BirthDate\n",
    "- Customer_Open_Date\n",
    "- Prod_Decision_Date\n",
    "- Prod_Closed_Date\n",
    "\n",
    "Here are the feature that we are going to create:\n",
    "- oiseau\n",
    "- tortue\n",
    "- poulpe\n",
    "- aigle"
   ]
  },
  {
   "cell_type": "code",
   "execution_count": 473,
   "metadata": {},
   "outputs": [
    {
     "data": {
      "text/plain": [
       "(Timestamp('2012-12-04 00:00:00'),\n",
       " Timestamp('2012-12-04 00:00:00'),\n",
       " Timestamp('2013-12-05 00:00:00'))"
      ]
     },
     "execution_count": 473,
     "metadata": {},
     "output_type": "execute_result"
    }
   ],
   "source": [
    "ONE_DAY = datetime.timedelta(days = 1)\n",
    "\n",
    "data['Customer_Open_Date'].max(), data['Prod_Decision_Date'].max(), data['Prod_Closed_Date'].max()"
   ]
  },
  {
   "cell_type": "code",
   "execution_count": 474,
   "metadata": {},
   "outputs": [],
   "source": [
    "# it was n days in the past\n",
    "data['Customer_Open_Date'] = (data['Customer_Open_Date'].max() - data['Customer_Open_Date']) / ONE_DAY"
   ]
  },
  {
   "cell_type": "code",
   "execution_count": 475,
   "metadata": {},
   "outputs": [],
   "source": [
    "data['BirthDate'] = (data['Prod_Closed_Date'].max() - data['BirthDate']) / ONE_DAY"
   ]
  },
  {
   "cell_type": "code",
   "execution_count": 476,
   "metadata": {},
   "outputs": [],
   "source": [
    "data['Prod_Decision_Date'] = (data['Prod_Decision_Date'].max() - data['Prod_Decision_Date']) / ONE_DAY"
   ]
  },
  {
   "cell_type": "markdown",
   "metadata": {},
   "source": [
    "### try to give a more precise value to Prod_Close_Date !!!"
   ]
  },
  {
   "cell_type": "code",
   "execution_count": 477,
   "metadata": {},
   "outputs": [],
   "source": [
    "# get it to binary atm, could do something more precise after as it seems to be a very significant feature !\n",
    "data['Prod_Closed_Date'] = data['Prod_Closed_Date'].isna()*(-1)+1"
   ]
  },
  {
   "cell_type": "code",
   "execution_count": 478,
   "metadata": {},
   "outputs": [
    {
     "data": {
      "text/html": [
       "<div>\n",
       "<style scoped>\n",
       "    .dataframe tbody tr th:only-of-type {\n",
       "        vertical-align: middle;\n",
       "    }\n",
       "\n",
       "    .dataframe tbody tr th {\n",
       "        vertical-align: top;\n",
       "    }\n",
       "\n",
       "    .dataframe thead th {\n",
       "        text-align: right;\n",
       "    }\n",
       "</style>\n",
       "<table border=\"1\" class=\"dataframe\">\n",
       "  <thead>\n",
       "    <tr style=\"text-align: right;\">\n",
       "      <th></th>\n",
       "      <th>Y</th>\n",
       "      <th>Customer_Type</th>\n",
       "      <th>BirthDate</th>\n",
       "      <th>Customer_Open_Date</th>\n",
       "      <th>P_Client</th>\n",
       "      <th>Educational_Level</th>\n",
       "      <th>Marital_Status</th>\n",
       "      <th>Number_Of_Dependant</th>\n",
       "      <th>Years_At_Residence</th>\n",
       "      <th>Net_Annual_Income</th>\n",
       "      <th>Years_At_Business</th>\n",
       "      <th>Prod_Sub_Category</th>\n",
       "      <th>Prod_Decision_Date</th>\n",
       "      <th>Source</th>\n",
       "      <th>Type_Of_Residence</th>\n",
       "      <th>Nb_Of_Products</th>\n",
       "      <th>Prod_Closed_Date</th>\n",
       "      <th>Prod_Category</th>\n",
       "    </tr>\n",
       "  </thead>\n",
       "  <tbody>\n",
       "    <tr>\n",
       "      <td>0</td>\n",
       "      <td>0</td>\n",
       "      <td>Non Existing Client</td>\n",
       "      <td>13299.0</td>\n",
       "      <td>295.0</td>\n",
       "      <td>NP_Client</td>\n",
       "      <td>University</td>\n",
       "      <td>Married</td>\n",
       "      <td>3.0</td>\n",
       "      <td>1</td>\n",
       "      <td>36.0</td>\n",
       "      <td>1.0</td>\n",
       "      <td>C</td>\n",
       "      <td>294.0</td>\n",
       "      <td>Sales</td>\n",
       "      <td>Owned</td>\n",
       "      <td>1</td>\n",
       "      <td>0</td>\n",
       "      <td>B</td>\n",
       "    </tr>\n",
       "    <tr>\n",
       "      <td>1</td>\n",
       "      <td>0</td>\n",
       "      <td>Existing Client</td>\n",
       "      <td>14420.0</td>\n",
       "      <td>1342.0</td>\n",
       "      <td>P_Client</td>\n",
       "      <td>University</td>\n",
       "      <td>Married</td>\n",
       "      <td>0.0</td>\n",
       "      <td>12</td>\n",
       "      <td>18.0</td>\n",
       "      <td>2.0</td>\n",
       "      <td>C</td>\n",
       "      <td>523.0</td>\n",
       "      <td>Sales</td>\n",
       "      <td>Parents</td>\n",
       "      <td>1</td>\n",
       "      <td>0</td>\n",
       "      <td>G</td>\n",
       "    </tr>\n",
       "    <tr>\n",
       "      <td>2</td>\n",
       "      <td>0</td>\n",
       "      <td>Non Existing Client</td>\n",
       "      <td>14757.0</td>\n",
       "      <td>275.0</td>\n",
       "      <td>NP_Client</td>\n",
       "      <td>University</td>\n",
       "      <td>Married</td>\n",
       "      <td>2.0</td>\n",
       "      <td>10</td>\n",
       "      <td>36.0</td>\n",
       "      <td>1.0</td>\n",
       "      <td>C</td>\n",
       "      <td>244.0</td>\n",
       "      <td>Sales</td>\n",
       "      <td>Owned</td>\n",
       "      <td>1</td>\n",
       "      <td>0</td>\n",
       "      <td>B</td>\n",
       "    </tr>\n",
       "    <tr>\n",
       "      <td>3</td>\n",
       "      <td>1</td>\n",
       "      <td>Existing Client</td>\n",
       "      <td>11443.0</td>\n",
       "      <td>467.0</td>\n",
       "      <td>NP_Client</td>\n",
       "      <td>University</td>\n",
       "      <td>Married</td>\n",
       "      <td>3.0</td>\n",
       "      <td>3</td>\n",
       "      <td>36.0</td>\n",
       "      <td>1.0</td>\n",
       "      <td>C</td>\n",
       "      <td>514.0</td>\n",
       "      <td>Sales</td>\n",
       "      <td>New rent</td>\n",
       "      <td>1</td>\n",
       "      <td>1</td>\n",
       "      <td>L</td>\n",
       "    </tr>\n",
       "    <tr>\n",
       "      <td>4</td>\n",
       "      <td>0</td>\n",
       "      <td>Non Existing Client</td>\n",
       "      <td>22024.0</td>\n",
       "      <td>64.0</td>\n",
       "      <td>NP_Client</td>\n",
       "      <td>University</td>\n",
       "      <td>Married</td>\n",
       "      <td>2.0</td>\n",
       "      <td>1</td>\n",
       "      <td>36.0</td>\n",
       "      <td>1.0</td>\n",
       "      <td>C</td>\n",
       "      <td>33.0</td>\n",
       "      <td>Sales</td>\n",
       "      <td>Owned</td>\n",
       "      <td>1</td>\n",
       "      <td>0</td>\n",
       "      <td>D</td>\n",
       "    </tr>\n",
       "  </tbody>\n",
       "</table>\n",
       "</div>"
      ],
      "text/plain": [
       "   Y        Customer_Type  BirthDate  Customer_Open_Date   P_Client  \\\n",
       "0  0  Non Existing Client    13299.0               295.0  NP_Client   \n",
       "1  0      Existing Client    14420.0              1342.0   P_Client   \n",
       "2  0  Non Existing Client    14757.0               275.0  NP_Client   \n",
       "3  1      Existing Client    11443.0               467.0  NP_Client   \n",
       "4  0  Non Existing Client    22024.0                64.0  NP_Client   \n",
       "\n",
       "  Educational_Level Marital_Status  Number_Of_Dependant  Years_At_Residence  \\\n",
       "0        University        Married                  3.0                   1   \n",
       "1        University        Married                  0.0                  12   \n",
       "2        University        Married                  2.0                  10   \n",
       "3        University        Married                  3.0                   3   \n",
       "4        University        Married                  2.0                   1   \n",
       "\n",
       "   Net_Annual_Income  Years_At_Business Prod_Sub_Category  Prod_Decision_Date  \\\n",
       "0               36.0                1.0                 C               294.0   \n",
       "1               18.0                2.0                 C               523.0   \n",
       "2               36.0                1.0                 C               244.0   \n",
       "3               36.0                1.0                 C               514.0   \n",
       "4               36.0                1.0                 C                33.0   \n",
       "\n",
       "  Source Type_Of_Residence  Nb_Of_Products  Prod_Closed_Date Prod_Category  \n",
       "0  Sales             Owned               1                 0             B  \n",
       "1  Sales           Parents               1                 0             G  \n",
       "2  Sales             Owned               1                 0             B  \n",
       "3  Sales          New rent               1                 1             L  \n",
       "4  Sales             Owned               1                 0             D  "
      ]
     },
     "execution_count": 478,
     "metadata": {},
     "output_type": "execute_result"
    }
   ],
   "source": [
    "data.head()"
   ]
  },
  {
   "cell_type": "code",
   "execution_count": 479,
   "metadata": {},
   "outputs": [
    {
     "data": {
      "text/plain": [
       "Y                        int64\n",
       "Customer_Type           object\n",
       "BirthDate              float64\n",
       "Customer_Open_Date     float64\n",
       "P_Client                object\n",
       "Educational_Level       object\n",
       "Marital_Status          object\n",
       "Number_Of_Dependant    float64\n",
       "Years_At_Residence       int64\n",
       "Net_Annual_Income      float64\n",
       "Years_At_Business      float64\n",
       "Prod_Sub_Category       object\n",
       "Prod_Decision_Date     float64\n",
       "Source                  object\n",
       "Type_Of_Residence       object\n",
       "Nb_Of_Products           int64\n",
       "Prod_Closed_Date         int32\n",
       "Prod_Category           object\n",
       "dtype: object"
      ]
     },
     "execution_count": 479,
     "metadata": {},
     "output_type": "execute_result"
    }
   ],
   "source": [
    "data.dtypes"
   ]
  },
  {
   "cell_type": "markdown",
   "metadata": {},
   "source": [
    "## 1.5. Let's explore the continuous features\n",
    "\n",
    "On trace des histogrammes pour les variables continues, voir si on observe quelque chose, peut-être des outliers..."
   ]
  },
  {
   "cell_type": "markdown",
   "metadata": {},
   "source": [
    "### 1.5.1. Visualisation"
   ]
  },
  {
   "cell_type": "code",
   "execution_count": 480,
   "metadata": {},
   "outputs": [],
   "source": [
    "CONTINUOUS_FEATURES = {\n",
    "    'BirthDate': 100,\n",
    "    'Customer_Open_Date': 100,\n",
    "    'Number_Of_Dependant': 20,\n",
    "    'Years_At_Residence': 60,\n",
    "    'Net_Annual_Income': 100,\n",
    "    'Years_At_Business': 100,\n",
    "    'Prod_Decision_Date': 100,\n",
    "    'Nb_Of_Products': 3,\n",
    "}"
   ]
  },
  {
   "cell_type": "code",
   "execution_count": 481,
   "metadata": {},
   "outputs": [
    {
     "name": "stderr",
     "output_type": "stream",
     "text": [
      "C:\\Users\\felix\\AppData\\Roaming\\Python\\Python37\\site-packages\\numpy\\lib\\histograms.py:839: RuntimeWarning: invalid value encountered in greater_equal\n",
      "  keep = (tmp_a >= first_edge)\n",
      "C:\\Users\\felix\\AppData\\Roaming\\Python\\Python37\\site-packages\\numpy\\lib\\histograms.py:840: RuntimeWarning: invalid value encountered in less_equal\n",
      "  keep &= (tmp_a <= last_edge)\n"
     ]
    },
    {
     "data": {
      "image/png": "[encoded data removed]",
      "text/plain": [
       "<Figure size 1440x1728 with 8 Axes>"
      ]
     },
     "metadata": {
      "needs_background": "light"
     },
     "output_type": "display_data"
    }
   ],
   "source": [
    "N = len(CONTINUOUS_FEATURES.keys())\n",
    "Nx = N // 2 + N % 2\n",
    "\n",
    "fig, axs = plt.subplots(Nx, 2, figsize=(20, Nx * 6))\n",
    "nx, ny = 0, 0\n",
    "for i, plot_infos in enumerate(CONTINUOUS_FEATURES.items()):\n",
    "    feature, n_bins = plot_infos\n",
    "    \n",
    "    # manage plot\n",
    "    axs[nx, ny].hist(data[feature], bins = n_bins)\n",
    "    axs[nx, ny].set_title(feature)\n",
    "    \n",
    "    # generate new indices for the next subplot\n",
    "    nx += (i%2 == 1)*1\n",
    "    ny = 1 - i%2 \n",
    "\n",
    "# for ax in axs.flat:\n",
    "#     ax.set(xlabel='x-label', ylabel='y-label')\n",
    "    \n",
    "plt.show()"
   ]
  },
  {
   "cell_type": "markdown",
   "metadata": {},
   "source": [
    "### 1.5.2. Remove outliers"
   ]
  },
  {
   "cell_type": "code",
   "execution_count": null,
   "metadata": {},
   "outputs": [],
   "source": []
  },
  {
   "cell_type": "code",
   "execution_count": null,
   "metadata": {},
   "outputs": [],
   "source": []
  },
  {
   "cell_type": "code",
   "execution_count": null,
   "metadata": {},
   "outputs": [],
   "source": []
  },
  {
   "cell_type": "code",
   "execution_count": null,
   "metadata": {},
   "outputs": [],
   "source": []
  },
  {
   "cell_type": "markdown",
   "metadata": {},
   "source": [
    "Intéressant de remarquer que pour la catégorie 'Years_At_Residence' on a des gros regroupements autour de 10,20 et 30, comme si on avait une grosse partie de gens qui arrondissaient sur ces valeurs là, peut-être que ca induit un certain biais."
   ]
  },
  {
   "cell_type": "markdown",
   "metadata": {},
   "source": [
    "## 1.6. Let's explore the discrete features\n"
   ]
  },
  {
   "cell_type": "markdown",
   "metadata": {},
   "source": [
    "### 1.6.1. Visualisation"
   ]
  },
  {
   "cell_type": "code",
   "execution_count": 482,
   "metadata": {},
   "outputs": [
    {
     "name": "stdout",
     "output_type": "stream",
     "text": [
      "Non Existing Client    3369\n",
      "Existing Client        2011\n",
      "Name: Customer_Type, dtype: int64\n",
      "NP_Client    4968\n",
      "P_Client      412\n",
      "Name: P_Client, dtype: int64\n",
      "University           4785\n",
      "Master/PhD            522\n",
      "Diploma                58\n",
      "Secondary or Less      15\n",
      "Name: Educational_Level, dtype: int64\n",
      "Married      4206\n",
      "Single       1046\n",
      "Widowed        64\n",
      "Divorced       63\n",
      "Separated       1\n",
      "Name: Marital_Status, dtype: int64\n",
      "C    4638\n",
      "G     624\n",
      "P     118\n",
      "Name: Prod_Sub_Category, dtype: int64\n",
      "Sales     4119\n",
      "Branch    1261\n",
      "Name: Source, dtype: int64\n",
      "Owned       4791\n",
      "Old rent     323\n",
      "Parents      179\n",
      "New rent      83\n",
      "Company        4\n",
      "Name: Type_Of_Residence, dtype: int64\n",
      "B    3176\n",
      "D     670\n",
      "C     517\n",
      "K     265\n",
      "L     236\n",
      "G     188\n",
      "E     101\n",
      "H      79\n",
      "J      71\n",
      "M      49\n",
      "A      19\n",
      "F       5\n",
      "I       4\n",
      "Name: Prod_Category, dtype: int64\n"
     ]
    }
   ],
   "source": [
    "print(data['Customer_Type'].value_counts())\n",
    "print(data['P_Client'].value_counts())\n",
    "print(data['Educational_Level'].value_counts())\n",
    "print(data['Marital_Status'].value_counts())\n",
    "print(data['Prod_Sub_Category'].value_counts())\n",
    "print(data['Source'].value_counts())\n",
    "print(data['Type_Of_Residence'].value_counts())\n",
    "print(data['Prod_Category'].value_counts())"
   ]
  },
  {
   "cell_type": "markdown",
   "metadata": {},
   "source": [
    "On regarde aussi une description de tout ce qu'on a en variables categorielles (sauf les dates) pour voir la répartition de ce qu'on a."
   ]
  },
  {
   "cell_type": "markdown",
   "metadata": {},
   "source": [
    "La commande suivante permet de compter le nombre de valeurs manquantes pour chaque colonne."
   ]
  },
  {
   "cell_type": "code",
   "execution_count": 483,
   "metadata": {
    "scrolled": true
   },
   "outputs": [
    {
     "data": {
      "text/plain": [
       "Y                      0\n",
       "Customer_Type          0\n",
       "BirthDate              0\n",
       "Customer_Open_Date     0\n",
       "P_Client               0\n",
       "Educational_Level      0\n",
       "Marital_Status         0\n",
       "Number_Of_Dependant    2\n",
       "Years_At_Residence     0\n",
       "Net_Annual_Income      2\n",
       "Years_At_Business      2\n",
       "Prod_Sub_Category      0\n",
       "Prod_Decision_Date     0\n",
       "Source                 0\n",
       "Type_Of_Residence      0\n",
       "Nb_Of_Products         0\n",
       "Prod_Closed_Date       0\n",
       "Prod_Category          0\n",
       "dtype: int64"
      ]
     },
     "execution_count": 483,
     "metadata": {},
     "output_type": "execute_result"
    }
   ],
   "source": [
    "data.isna().sum()"
   ]
  },
  {
   "cell_type": "code",
   "execution_count": 484,
   "metadata": {},
   "outputs": [],
   "source": [
    "# temporary fill na with 0\n",
    "data = data.fillna(value=0)"
   ]
  },
  {
   "cell_type": "markdown",
   "metadata": {},
   "source": [
    "### 1.6.2. Label Encoding \n",
    "\n",
    "Pour certaines variables, on peut simplement faire du Label encoding, comme par exemple pour la première colonne : Customer_Type, ou on va considérer Existing Client = 0, non existing client = 1. Pour être plus efficace, on va effetctuer un label encoding pour toutes les variables categorielles qui ont seulement 2 categories."
   ]
  },
  {
   "cell_type": "code",
   "execution_count": 485,
   "metadata": {},
   "outputs": [
    {
     "data": {
      "text/plain": [
       "LabelEncoder()"
      ]
     },
     "execution_count": 485,
     "metadata": {},
     "output_type": "execute_result"
    }
   ],
   "source": [
    "le = LabelEncoder()\n",
    "le.fit(data['Customer_Type'])"
   ]
  },
  {
   "cell_type": "code",
   "execution_count": 486,
   "metadata": {},
   "outputs": [
    {
     "data": {
      "text/plain": [
       "['Existing Client', 'Non Existing Client']"
      ]
     },
     "execution_count": 486,
     "metadata": {},
     "output_type": "execute_result"
    }
   ],
   "source": [
    "list(le.classes_)"
   ]
  },
  {
   "cell_type": "code",
   "execution_count": 487,
   "metadata": {},
   "outputs": [
    {
     "data": {
      "text/plain": [
       "array([1, 0, 1, ..., 1, 1, 1])"
      ]
     },
     "execution_count": 487,
     "metadata": {},
     "output_type": "execute_result"
    }
   ],
   "source": [
    "le.transform(data['Customer_Type']) "
   ]
  },
  {
   "cell_type": "code",
   "execution_count": 488,
   "metadata": {},
   "outputs": [
    {
     "name": "stdout",
     "output_type": "stream",
     "text": [
      "3 columns were label encoded.\n"
     ]
    }
   ],
   "source": [
    "le = LabelEncoder()\n",
    "le_count = 0\n",
    "\n",
    "# Iterate through the columns\n",
    "for col in data:\n",
    "    if data[col].dtype == 'object':\n",
    "        # If 2 or fewer unique categories\n",
    "        if len(list(data[col].unique())) <= 2:\n",
    "            # Train on the training data\n",
    "            le.fit(data[col])\n",
    "            # Transform both training and testing data\n",
    "            data[col] = le.transform(data[col])\n",
    "            \n",
    "            \n",
    "            # Keep track of how many columns were label encoded\n",
    "            le_count += 1\n",
    "            \n",
    "print('%d columns were label encoded.' % le_count)"
   ]
  },
  {
   "cell_type": "markdown",
   "metadata": {},
   "source": [
    "### 1.6.2. One Hot Encoding \n",
    "\n",
    "Ici c'est simple, il existe une fonction pandas déjà écrite pour ca."
   ]
  },
  {
   "cell_type": "code",
   "execution_count": 489,
   "metadata": {},
   "outputs": [],
   "source": [
    "data = pd.get_dummies(data)"
   ]
  },
  {
   "cell_type": "code",
   "execution_count": 490,
   "metadata": {
    "scrolled": false
   },
   "outputs": [
    {
     "data": {
      "text/html": [
       "<div>\n",
       "<style scoped>\n",
       "    .dataframe tbody tr th:only-of-type {\n",
       "        vertical-align: middle;\n",
       "    }\n",
       "\n",
       "    .dataframe tbody tr th {\n",
       "        vertical-align: top;\n",
       "    }\n",
       "\n",
       "    .dataframe thead th {\n",
       "        text-align: right;\n",
       "    }\n",
       "</style>\n",
       "<table border=\"1\" class=\"dataframe\">\n",
       "  <thead>\n",
       "    <tr style=\"text-align: right;\">\n",
       "      <th></th>\n",
       "      <th>Y</th>\n",
       "      <th>Customer_Type</th>\n",
       "      <th>BirthDate</th>\n",
       "      <th>Customer_Open_Date</th>\n",
       "      <th>P_Client</th>\n",
       "      <th>Number_Of_Dependant</th>\n",
       "      <th>Years_At_Residence</th>\n",
       "      <th>Net_Annual_Income</th>\n",
       "      <th>Years_At_Business</th>\n",
       "      <th>Prod_Decision_Date</th>\n",
       "      <th>...</th>\n",
       "      <th>Prod_Category_D</th>\n",
       "      <th>Prod_Category_E</th>\n",
       "      <th>Prod_Category_F</th>\n",
       "      <th>Prod_Category_G</th>\n",
       "      <th>Prod_Category_H</th>\n",
       "      <th>Prod_Category_I</th>\n",
       "      <th>Prod_Category_J</th>\n",
       "      <th>Prod_Category_K</th>\n",
       "      <th>Prod_Category_L</th>\n",
       "      <th>Prod_Category_M</th>\n",
       "    </tr>\n",
       "  </thead>\n",
       "  <tbody>\n",
       "    <tr>\n",
       "      <td>0</td>\n",
       "      <td>0</td>\n",
       "      <td>1</td>\n",
       "      <td>13299.0</td>\n",
       "      <td>295.0</td>\n",
       "      <td>0</td>\n",
       "      <td>3.0</td>\n",
       "      <td>1</td>\n",
       "      <td>36.0</td>\n",
       "      <td>1.0</td>\n",
       "      <td>294.0</td>\n",
       "      <td>...</td>\n",
       "      <td>0</td>\n",
       "      <td>0</td>\n",
       "      <td>0</td>\n",
       "      <td>0</td>\n",
       "      <td>0</td>\n",
       "      <td>0</td>\n",
       "      <td>0</td>\n",
       "      <td>0</td>\n",
       "      <td>0</td>\n",
       "      <td>0</td>\n",
       "    </tr>\n",
       "    <tr>\n",
       "      <td>1</td>\n",
       "      <td>0</td>\n",
       "      <td>0</td>\n",
       "      <td>14420.0</td>\n",
       "      <td>1342.0</td>\n",
       "      <td>1</td>\n",
       "      <td>0.0</td>\n",
       "      <td>12</td>\n",
       "      <td>18.0</td>\n",
       "      <td>2.0</td>\n",
       "      <td>523.0</td>\n",
       "      <td>...</td>\n",
       "      <td>0</td>\n",
       "      <td>0</td>\n",
       "      <td>0</td>\n",
       "      <td>1</td>\n",
       "      <td>0</td>\n",
       "      <td>0</td>\n",
       "      <td>0</td>\n",
       "      <td>0</td>\n",
       "      <td>0</td>\n",
       "      <td>0</td>\n",
       "    </tr>\n",
       "    <tr>\n",
       "      <td>2</td>\n",
       "      <td>0</td>\n",
       "      <td>1</td>\n",
       "      <td>14757.0</td>\n",
       "      <td>275.0</td>\n",
       "      <td>0</td>\n",
       "      <td>2.0</td>\n",
       "      <td>10</td>\n",
       "      <td>36.0</td>\n",
       "      <td>1.0</td>\n",
       "      <td>244.0</td>\n",
       "      <td>...</td>\n",
       "      <td>0</td>\n",
       "      <td>0</td>\n",
       "      <td>0</td>\n",
       "      <td>0</td>\n",
       "      <td>0</td>\n",
       "      <td>0</td>\n",
       "      <td>0</td>\n",
       "      <td>0</td>\n",
       "      <td>0</td>\n",
       "      <td>0</td>\n",
       "    </tr>\n",
       "    <tr>\n",
       "      <td>3</td>\n",
       "      <td>1</td>\n",
       "      <td>0</td>\n",
       "      <td>11443.0</td>\n",
       "      <td>467.0</td>\n",
       "      <td>0</td>\n",
       "      <td>3.0</td>\n",
       "      <td>3</td>\n",
       "      <td>36.0</td>\n",
       "      <td>1.0</td>\n",
       "      <td>514.0</td>\n",
       "      <td>...</td>\n",
       "      <td>0</td>\n",
       "      <td>0</td>\n",
       "      <td>0</td>\n",
       "      <td>0</td>\n",
       "      <td>0</td>\n",
       "      <td>0</td>\n",
       "      <td>0</td>\n",
       "      <td>0</td>\n",
       "      <td>1</td>\n",
       "      <td>0</td>\n",
       "    </tr>\n",
       "    <tr>\n",
       "      <td>4</td>\n",
       "      <td>0</td>\n",
       "      <td>1</td>\n",
       "      <td>22024.0</td>\n",
       "      <td>64.0</td>\n",
       "      <td>0</td>\n",
       "      <td>2.0</td>\n",
       "      <td>1</td>\n",
       "      <td>36.0</td>\n",
       "      <td>1.0</td>\n",
       "      <td>33.0</td>\n",
       "      <td>...</td>\n",
       "      <td>1</td>\n",
       "      <td>0</td>\n",
       "      <td>0</td>\n",
       "      <td>0</td>\n",
       "      <td>0</td>\n",
       "      <td>0</td>\n",
       "      <td>0</td>\n",
       "      <td>0</td>\n",
       "      <td>0</td>\n",
       "      <td>0</td>\n",
       "    </tr>\n",
       "  </tbody>\n",
       "</table>\n",
       "<p>5 rows × 43 columns</p>\n",
       "</div>"
      ],
      "text/plain": [
       "   Y  Customer_Type  BirthDate  Customer_Open_Date  P_Client  \\\n",
       "0  0              1    13299.0               295.0         0   \n",
       "1  0              0    14420.0              1342.0         1   \n",
       "2  0              1    14757.0               275.0         0   \n",
       "3  1              0    11443.0               467.0         0   \n",
       "4  0              1    22024.0                64.0         0   \n",
       "\n",
       "   Number_Of_Dependant  Years_At_Residence  Net_Annual_Income  \\\n",
       "0                  3.0                   1               36.0   \n",
       "1                  0.0                  12               18.0   \n",
       "2                  2.0                  10               36.0   \n",
       "3                  3.0                   3               36.0   \n",
       "4                  2.0                   1               36.0   \n",
       "\n",
       "   Years_At_Business  Prod_Decision_Date  ...  Prod_Category_D  \\\n",
       "0                1.0               294.0  ...                0   \n",
       "1                2.0               523.0  ...                0   \n",
       "2                1.0               244.0  ...                0   \n",
       "3                1.0               514.0  ...                0   \n",
       "4                1.0                33.0  ...                1   \n",
       "\n",
       "   Prod_Category_E  Prod_Category_F  Prod_Category_G  Prod_Category_H  \\\n",
       "0                0                0                0                0   \n",
       "1                0                0                1                0   \n",
       "2                0                0                0                0   \n",
       "3                0                0                0                0   \n",
       "4                0                0                0                0   \n",
       "\n",
       "   Prod_Category_I  Prod_Category_J  Prod_Category_K  Prod_Category_L  \\\n",
       "0                0                0                0                0   \n",
       "1                0                0                0                0   \n",
       "2                0                0                0                0   \n",
       "3                0                0                0                1   \n",
       "4                0                0                0                0   \n",
       "\n",
       "   Prod_Category_M  \n",
       "0                0  \n",
       "1                0  \n",
       "2                0  \n",
       "3                0  \n",
       "4                0  \n",
       "\n",
       "[5 rows x 43 columns]"
      ]
     },
     "execution_count": 490,
     "metadata": {},
     "output_type": "execute_result"
    }
   ],
   "source": [
    "data.head()"
   ]
  },
  {
   "cell_type": "markdown",
   "metadata": {},
   "source": [
    "# 3. Data scale and split "
   ]
  },
  {
   "cell_type": "markdown",
   "metadata": {},
   "source": [
    "## 3.1. Split the data: train, validate, test\n",
    "\n",
    "...."
   ]
  },
  {
   "cell_type": "code",
   "execution_count": 491,
   "metadata": {},
   "outputs": [],
   "source": [
    "features_name = data.columns[1:]\n",
    "y, X = data[['Y']].values[:,0], data[features_name].values"
   ]
  },
  {
   "cell_type": "code",
   "execution_count": 492,
   "metadata": {},
   "outputs": [],
   "source": [
    "X_tmp, X_test, y_tmp, y_test = train_test_split(X, y, test_size=0.25, random_state=42)\n",
    "X_train, X_val, y_train, y_val = train_test_split(X_tmp, y_tmp, test_size=0.25, random_state=42)"
   ]
  },
  {
   "cell_type": "code",
   "execution_count": 493,
   "metadata": {},
   "outputs": [
    {
     "data": {
      "text/plain": [
       "(0.07237276933245208, 0.06442021803766106, 0.08104089219330855)"
      ]
     },
     "execution_count": 493,
     "metadata": {},
     "output_type": "execute_result"
    }
   ],
   "source": [
    "np.mean(y_train), np.mean(y_val), np.mean(y_test)"
   ]
  },
  {
   "cell_type": "markdown",
   "metadata": {},
   "source": [
    "## 3.2. Fit the scaler on the train data"
   ]
  },
  {
   "cell_type": "code",
   "execution_count": 494,
   "metadata": {},
   "outputs": [
    {
     "data": {
      "text/plain": [
       "StandardScaler(copy=True, with_mean=True, with_std=True)"
      ]
     },
     "execution_count": 494,
     "metadata": {},
     "output_type": "execute_result"
    }
   ],
   "source": [
    "scaler = StandardScaler()\n",
    "scaler.fit(X_train)"
   ]
  },
  {
   "cell_type": "code",
   "execution_count": 495,
   "metadata": {},
   "outputs": [
    {
     "data": {
      "text/plain": [
       "array([[1.0000e+00, 1.5587e+04, 2.8100e+02, ..., 0.0000e+00, 0.0000e+00,\n",
       "        0.0000e+00],\n",
       "       [0.0000e+00, 1.3732e+04, 1.0670e+03, ..., 0.0000e+00, 0.0000e+00,\n",
       "        0.0000e+00],\n",
       "       [1.0000e+00, 1.2119e+04, 3.6000e+02, ..., 0.0000e+00, 0.0000e+00,\n",
       "        0.0000e+00],\n",
       "       ...,\n",
       "       [0.0000e+00, 1.8441e+04, 3.2000e+02, ..., 0.0000e+00, 0.0000e+00,\n",
       "        0.0000e+00],\n",
       "       [1.0000e+00, 1.6092e+04, 5.2400e+02, ..., 1.0000e+00, 0.0000e+00,\n",
       "        0.0000e+00],\n",
       "       [1.0000e+00, 1.0762e+04, 5.4400e+02, ..., 0.0000e+00, 0.0000e+00,\n",
       "        0.0000e+00]])"
      ]
     },
     "execution_count": 495,
     "metadata": {},
     "output_type": "execute_result"
    }
   ],
   "source": [
    "X_train"
   ]
  },
  {
   "cell_type": "code",
   "execution_count": 496,
   "metadata": {},
   "outputs": [],
   "source": [
    "# transform train and validate \n",
    "X_train_s = scaler.transform(X_train)\n",
    "X_val_s = scaler.transform(X_val)"
   ]
  },
  {
   "cell_type": "markdown",
   "metadata": {},
   "source": [
    "# 4. Comparison of different models \n",
    "\n",
    "Let's fit a few models and compare the performance "
   ]
  },
  {
   "cell_type": "code",
   "execution_count": 497,
   "metadata": {},
   "outputs": [],
   "source": [
    "import xgboost as xgb\n",
    "\n",
    "from sklearn.linear_model import LogisticRegression"
   ]
  },
  {
   "cell_type": "markdown",
   "metadata": {},
   "source": [
    "## 4.1. Use a logistic regression"
   ]
  },
  {
   "cell_type": "code",
   "execution_count": 498,
   "metadata": {},
   "outputs": [
    {
     "name": "stdout",
     "output_type": "stream",
     "text": [
      "\n",
      "Model Report\n",
      "\n",
      "TRAIN\n",
      "Accuracy : 0.940846001321877\n",
      "ROC AUC (Train): 0.9332685897780012\n",
      "\n",
      "VALIDATE\n",
      "Accuracy : 0.9375619425173439\n",
      "ROC AUC (Validate): 0.9156453715775749\n"
     ]
    },
    {
     "name": "stderr",
     "output_type": "stream",
     "text": [
      "c:\\users\\felix\\appdata\\local\\programs\\python\\python37\\lib\\site-packages\\sklearn\\linear_model\\logistic.py:432: FutureWarning: Default solver will be changed to 'lbfgs' in 0.22. Specify a solver to silence this warning.\n",
      "  FutureWarning)\n"
     ]
    }
   ],
   "source": [
    "model1 = LogisticRegression()\n",
    "model1.fit(X_train_s, y_train)\n",
    "\n",
    "y_train_pred = model1.predict(X_train_s)\n",
    "y_train_predprob = model1.predict_proba(X_train_s)[:,1]\n",
    "\n",
    "y_val_pred = model1.predict(X_val_s)\n",
    "y_val_predprob = model1.predict_proba(X_val_s)[:,1]\n",
    "\n",
    "#Print model report:\n",
    "print(\"\\nModel Report\")\n",
    "print(\"\\nTRAIN\")\n",
    "print( \"Accuracy : {}\".format(metrics.accuracy_score(y_train, y_train_pred)))\n",
    "print(\"ROC AUC (Train): {}\".format(metrics.roc_auc_score(y_train, y_train_predprob)))\n",
    "print(\"\\nVALIDATE\")\n",
    "print( \"Accuracy : {}\".format(metrics.accuracy_score(y_val, y_val_pred)))\n",
    "print(\"ROC AUC (Validate): {}\".format(metrics.roc_auc_score(y_val, y_val_predprob)))"
   ]
  },
  {
   "cell_type": "code",
   "execution_count": 499,
   "metadata": {},
   "outputs": [
    {
     "data": {
      "text/plain": [
       "array([1, 1, 1, 1, 1, 1, 1, 1, 1, 1, 1, 1, 1, 1, 1, 1, 1, 1, 1, 1, 1, 1,\n",
       "       1, 1, 1, 1, 1, 1, 1, 1, 1, 1, 1, 1, 1, 1, 1, 1, 1, 1, 1, 1, 1, 1,\n",
       "       1, 1, 1, 1, 1, 1, 1, 1, 1, 1, 1, 1, 1, 1, 1, 1, 1, 1, 1, 1, 1, 1,\n",
       "       1, 1, 1, 1, 1, 1, 1, 1, 1, 1, 1, 1, 1, 1, 1, 1, 1, 1, 1, 1, 1, 1,\n",
       "       1, 1, 1, 1, 1, 1, 1, 1, 1, 1, 1, 1, 1, 1, 1, 1, 1, 1, 1, 1, 1, 1,\n",
       "       1, 1, 1, 1, 1, 1, 1, 1, 1, 1, 1, 1, 1, 1, 1, 1, 1, 1, 1, 1, 1, 1,\n",
       "       1, 1, 1, 1, 1, 1, 1, 1, 1, 1, 1, 1, 1, 1, 1, 1, 1, 1, 1, 1, 1, 1,\n",
       "       1, 1, 1, 1, 1, 1, 1, 1, 1, 1, 1, 1, 1, 1, 1, 1, 1, 1, 1, 1, 1, 1,\n",
       "       1, 1, 1, 1, 1, 1, 1, 1, 1, 1, 1, 1, 1, 1, 1, 1, 1, 1, 1, 1, 1, 1,\n",
       "       1, 1, 1, 1, 1, 1, 1, 1, 1, 1, 1, 1, 1, 1, 1, 1, 1, 1, 1, 1, 1],\n",
       "      dtype=int64)"
      ]
     },
     "execution_count": 499,
     "metadata": {},
     "output_type": "execute_result"
    }
   ],
   "source": [
    "y_train[y_train == 1]"
   ]
  },
  {
   "cell_type": "code",
   "execution_count": 500,
   "metadata": {},
   "outputs": [
    {
     "data": {
      "text/plain": [
       "array([1, 1, 1, 1, 1, 1, 1, 1, 1, 1, 1, 1, 1, 1, 1, 1, 1, 1, 1, 1, 1, 1,\n",
       "       1, 1, 1, 1, 1, 1, 1, 1, 1, 1, 1, 1, 1, 1, 1, 1, 1, 1, 1, 1, 1, 1,\n",
       "       1, 1, 1, 1, 1, 1, 1, 1, 1, 1, 1, 1, 1, 1, 1, 1, 1, 1, 1, 1, 1, 1,\n",
       "       1, 1, 1, 1, 1, 1, 1, 1, 1, 1, 1, 1, 1, 1, 1, 1, 1, 1, 1, 1, 1, 1,\n",
       "       1, 1, 1, 1, 1, 1, 1, 1, 1, 1], dtype=int64)"
      ]
     },
     "execution_count": 500,
     "metadata": {},
     "output_type": "execute_result"
    }
   ],
   "source": [
    "y_train_pred[y_train_pred == 1]"
   ]
  },
  {
   "cell_type": "code",
   "execution_count": 501,
   "metadata": {},
   "outputs": [
    {
     "data": {
      "text/plain": [
       "array([1, 1, 1, 1, 1, 1, 1, 1, 1, 1, 1, 1, 1, 1, 1, 1, 1, 1, 1, 1, 1, 1,\n",
       "       1, 1, 1, 1, 1, 1, 1, 1, 1, 1, 1, 1, 1, 1, 1, 1, 1, 1, 1, 1, 1, 1,\n",
       "       1, 1, 1, 1, 1, 1, 1, 1, 1, 1, 1, 1, 1, 1, 1, 1, 1, 1, 1, 1, 1],\n",
       "      dtype=int64)"
      ]
     },
     "execution_count": 501,
     "metadata": {},
     "output_type": "execute_result"
    }
   ],
   "source": [
    "y_val[y_val == 1]"
   ]
  },
  {
   "cell_type": "code",
   "execution_count": 502,
   "metadata": {},
   "outputs": [
    {
     "data": {
      "text/plain": [
       "array([1, 1, 1, 1, 1, 1, 1, 1, 1, 1, 1, 1, 1, 1, 1, 1, 1, 1, 1, 1, 1, 1,\n",
       "       1, 1, 1, 1, 1, 1, 1, 1, 1, 1, 1, 1, 1, 1, 1, 1, 1, 1], dtype=int64)"
      ]
     },
     "execution_count": 502,
     "metadata": {},
     "output_type": "execute_result"
    }
   ],
   "source": [
    "y_val_pred[y_val_pred == 1]"
   ]
  },
  {
   "cell_type": "markdown",
   "metadata": {},
   "source": [
    "## 4.3. Use XGBoost"
   ]
  },
  {
   "cell_type": "code",
   "execution_count": 503,
   "metadata": {},
   "outputs": [
    {
     "name": "stdout",
     "output_type": "stream",
     "text": [
      "\n",
      "Model Report\n",
      "\n",
      "TRAIN\n",
      "Accuracy : 0.9431592861863847\n",
      "ROC AUC (Train): 0.9585934055923466\n",
      "\n",
      "VALIDATE\n",
      "Accuracy : 0.9415262636273538\n",
      "ROC AUC (Validate): 0.9295143415906127\n"
     ]
    },
    {
     "data": {
      "image/png": "[encoded data removed]",
      "text/plain": [
       "<Figure size 432x288 with 1 Axes>"
      ]
     },
     "metadata": {
      "needs_background": "light"
     },
     "output_type": "display_data"
    }
   ],
   "source": [
    "# use xgboost \n",
    "from sklearn.model_selection import GridSearchCV\n",
    "\n",
    "model2 = xgb.XGBClassifier(n_estimators = 50)\n",
    "\n",
    "model2.fit(X_train_s, y_train)\n",
    "\n",
    "# Predict training and validation set:\n",
    "y_train_pred = model2.predict(X_train_s)\n",
    "y_train_predprob = model2.predict_proba(X_train_s)[:,1]\n",
    "\n",
    "y_val_pred = model2.predict(X_val_s)\n",
    "y_val_predprob = model2.predict_proba(X_val_s)[:,1]\n",
    "\n",
    "#Print model report:\n",
    "print(\"\\nModel Report\")\n",
    "print(\"\\nTRAIN\")\n",
    "print( \"Accuracy : {}\".format(metrics.accuracy_score(y_train, y_train_pred)))\n",
    "print(\"ROC AUC (Train): {}\".format(metrics.roc_auc_score(y_train, y_train_predprob)))\n",
    "print(\"\\nVALIDATE\")\n",
    "print( \"Accuracy : {}\".format(metrics.accuracy_score(y_val, y_val_pred)))\n",
    "print(\"ROC AUC (Validate): {}\".format(metrics.roc_auc_score(y_val, y_val_predprob)))\n",
    "\n",
    "feat_imp = pd.Series(model.feature_importances_, index=features_name).sort_values(ascending=False)\n",
    "feat_imp.plot(kind='bar', title='Feature Importances')\n",
    "plt.ylabel('Feature Importance Score')\n",
    "plt.show()"
   ]
  },
  {
   "cell_type": "code",
   "execution_count": null,
   "metadata": {},
   "outputs": [],
   "source": []
  },
  {
   "cell_type": "code",
   "execution_count": null,
   "metadata": {},
   "outputs": [],
   "source": []
  },
  {
   "cell_type": "markdown",
   "metadata": {},
   "source": [
    "# 5. Tuning of the model "
   ]
  },
  {
   "cell_type": "code",
   "execution_count": null,
   "metadata": {},
   "outputs": [],
   "source": []
  },
  {
   "cell_type": "code",
   "execution_count": null,
   "metadata": {},
   "outputs": [],
   "source": []
  },
  {
   "cell_type": "code",
   "execution_count": null,
   "metadata": {},
   "outputs": [],
   "source": []
  },
  {
   "cell_type": "markdown",
   "metadata": {},
   "source": [
    "# 6. Conclusion "
   ]
  },
  {
   "cell_type": "code",
   "execution_count": null,
   "metadata": {},
   "outputs": [],
   "source": []
  },
  {
   "cell_type": "code",
   "execution_count": null,
   "metadata": {},
   "outputs": [],
   "source": []
  },
  {
   "cell_type": "code",
   "execution_count": null,
   "metadata": {},
   "outputs": [],
   "source": []
  },
  {
   "cell_type": "code",
   "execution_count": null,
   "metadata": {},
   "outputs": [],
   "source": []
  },
  {
   "cell_type": "code",
   "execution_count": null,
   "metadata": {},
   "outputs": [],
   "source": []
  },
  {
   "cell_type": "code",
   "execution_count": null,
   "metadata": {},
   "outputs": [],
   "source": []
  },
  {
   "cell_type": "code",
   "execution_count": null,
   "metadata": {},
   "outputs": [],
   "source": []
  },
  {
   "cell_type": "markdown",
   "metadata": {},
   "source": [
    "wesh Alec le beau gosse, quand est-ce qu'on va surfer putain ?!?"
   ]
  }
 ],
 "metadata": {
  "kernelspec": {
   "display_name": "Python 3",
   "language": "python",
   "name": "python3"
  },
  "language_info": {
   "codemirror_mode": {
    "name": "ipython",
    "version": 3
   },
   "file_extension": ".py",
   "mimetype": "text/x-python",
   "name": "python",
   "nbconvert_exporter": "python",
   "pygments_lexer": "ipython3",
   "version": "3.6.5"
  }
 },
 "nbformat": 4,
 "nbformat_minor": 2
}
