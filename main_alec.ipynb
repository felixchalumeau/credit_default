{
 "cells": [
  {
   "cell_type": "code",
   "execution_count": 2,
   "metadata": {},
   "outputs": [],
   "source": [
    "import numpy as np\n",
    "import pandas as pd \n",
    "from sklearn import preprocessing\n",
    "\n",
    "import matplotlib.pyplot as plt \n",
    "\n",
    "from sklearn.preprocessing import LabelEncoder\n"
   ]
  },
  {
   "cell_type": "markdown",
   "metadata": {},
   "source": [
    "# 0. Idée de manoeuvre pré-majoration\n",
    "\n",
    "Y a eu un kaggle sur le sujet, on va donc s'en inspirer. (ce n'est pas le même dataset)\n",
    "Voici le lien du kaggle: https://www.kaggle.com/c/home-credit-default-risk/overview\n",
    "\n",
    "Voici un notebook introductif: https://www.kaggle.com/willkoehrsen/start-here-a-gentle-introduction\n",
    "\n",
    "Voici un notebook avec un bon score: https://www.kaggle.com/jsaguiar/lightgbm-with-simple-features\n",
    "\n",
    "J'ai bien envie de combiner un neural network et un XGBoost, en général c'est bénèf. "
   ]
  },
  {
   "cell_type": "code",
   "execution_count": null,
   "metadata": {},
   "outputs": [],
   "source": []
  },
  {
   "cell_type": "markdown",
   "metadata": {},
   "source": [
    "# 1. Exploration of the data"
   ]
  },
  {
   "cell_type": "code",
   "execution_count": 3,
   "metadata": {
    "scrolled": true
   },
   "outputs": [
    {
     "data": {
      "text/html": [
       "<div>\n",
       "<style scoped>\n",
       "    .dataframe tbody tr th:only-of-type {\n",
       "        vertical-align: middle;\n",
       "    }\n",
       "\n",
       "    .dataframe tbody tr th {\n",
       "        vertical-align: top;\n",
       "    }\n",
       "\n",
       "    .dataframe thead th {\n",
       "        text-align: right;\n",
       "    }\n",
       "</style>\n",
       "<table border=\"1\" class=\"dataframe\">\n",
       "  <thead>\n",
       "    <tr style=\"text-align: right;\">\n",
       "      <th></th>\n",
       "      <th>Id_Customer</th>\n",
       "      <th>Y</th>\n",
       "      <th>Customer_Type</th>\n",
       "      <th>BirthDate</th>\n",
       "      <th>Customer_Open_Date</th>\n",
       "      <th>P_Client</th>\n",
       "      <th>Educational_Level</th>\n",
       "      <th>Marital_Status</th>\n",
       "      <th>Number_Of_Dependant</th>\n",
       "      <th>Years_At_Residence</th>\n",
       "      <th>Net_Annual_Income</th>\n",
       "      <th>Years_At_Business</th>\n",
       "      <th>Prod_Sub_Category</th>\n",
       "      <th>Prod_Decision_Date</th>\n",
       "      <th>Source</th>\n",
       "      <th>Type_Of_Residence</th>\n",
       "      <th>Nb_Of_Products</th>\n",
       "      <th>Prod_Closed_Date</th>\n",
       "      <th>Prod_Category</th>\n",
       "    </tr>\n",
       "  </thead>\n",
       "  <tbody>\n",
       "    <tr>\n",
       "      <th>0</th>\n",
       "      <td>7440</td>\n",
       "      <td>0</td>\n",
       "      <td>Non Existing Client</td>\n",
       "      <td>07/08/1977</td>\n",
       "      <td>13/02/2012</td>\n",
       "      <td>NP_Client</td>\n",
       "      <td>University</td>\n",
       "      <td>Married</td>\n",
       "      <td>3.0</td>\n",
       "      <td>1</td>\n",
       "      <td>36</td>\n",
       "      <td>1.0</td>\n",
       "      <td>C</td>\n",
       "      <td>14/02/2012</td>\n",
       "      <td>Sales</td>\n",
       "      <td>Owned</td>\n",
       "      <td>1</td>\n",
       "      <td>NaN</td>\n",
       "      <td>B</td>\n",
       "    </tr>\n",
       "    <tr>\n",
       "      <th>1</th>\n",
       "      <td>573</td>\n",
       "      <td>0</td>\n",
       "      <td>Existing Client</td>\n",
       "      <td>13/06/1974</td>\n",
       "      <td>04/02/2009</td>\n",
       "      <td>P_Client</td>\n",
       "      <td>University</td>\n",
       "      <td>Married</td>\n",
       "      <td>0.0</td>\n",
       "      <td>12</td>\n",
       "      <td>18</td>\n",
       "      <td>2.0</td>\n",
       "      <td>C</td>\n",
       "      <td>30/06/2011</td>\n",
       "      <td>Sales</td>\n",
       "      <td>Parents</td>\n",
       "      <td>1</td>\n",
       "      <td>NaN</td>\n",
       "      <td>G</td>\n",
       "    </tr>\n",
       "    <tr>\n",
       "      <th>2</th>\n",
       "      <td>9194</td>\n",
       "      <td>0</td>\n",
       "      <td>Non Existing Client</td>\n",
       "      <td>07/11/1973</td>\n",
       "      <td>03/04/2012</td>\n",
       "      <td>NP_Client</td>\n",
       "      <td>University</td>\n",
       "      <td>Married</td>\n",
       "      <td>2.0</td>\n",
       "      <td>10</td>\n",
       "      <td>36</td>\n",
       "      <td>1.0</td>\n",
       "      <td>C</td>\n",
       "      <td>04/04/2012</td>\n",
       "      <td>Sales</td>\n",
       "      <td>Owned</td>\n",
       "      <td>1</td>\n",
       "      <td>NaN</td>\n",
       "      <td>B</td>\n",
       "    </tr>\n",
       "    <tr>\n",
       "      <th>3</th>\n",
       "      <td>3016</td>\n",
       "      <td>1</td>\n",
       "      <td>Existing Client</td>\n",
       "      <td>08/07/1982</td>\n",
       "      <td>25/08/2011</td>\n",
       "      <td>NP_Client</td>\n",
       "      <td>University</td>\n",
       "      <td>Married</td>\n",
       "      <td>3.0</td>\n",
       "      <td>3</td>\n",
       "      <td>36</td>\n",
       "      <td>1.0</td>\n",
       "      <td>C</td>\n",
       "      <td>07/09/2011</td>\n",
       "      <td>Sales</td>\n",
       "      <td>New rent</td>\n",
       "      <td>1</td>\n",
       "      <td>31/12/2012</td>\n",
       "      <td>L</td>\n",
       "    </tr>\n",
       "    <tr>\n",
       "      <th>4</th>\n",
       "      <td>6524</td>\n",
       "      <td>0</td>\n",
       "      <td>Non Existing Client</td>\n",
       "      <td>18/08/1953</td>\n",
       "      <td>10/01/2012</td>\n",
       "      <td>NP_Client</td>\n",
       "      <td>University</td>\n",
       "      <td>Married</td>\n",
       "      <td>2.0</td>\n",
       "      <td>1</td>\n",
       "      <td>36</td>\n",
       "      <td>1.0</td>\n",
       "      <td>C</td>\n",
       "      <td>11/01/2012</td>\n",
       "      <td>Sales</td>\n",
       "      <td>Owned</td>\n",
       "      <td>1</td>\n",
       "      <td>NaN</td>\n",
       "      <td>D</td>\n",
       "    </tr>\n",
       "  </tbody>\n",
       "</table>\n",
       "</div>"
      ],
      "text/plain": [
       "   Id_Customer  Y        Customer_Type   BirthDate Customer_Open_Date  \\\n",
       "0         7440  0  Non Existing Client  07/08/1977         13/02/2012   \n",
       "1          573  0      Existing Client  13/06/1974         04/02/2009   \n",
       "2         9194  0  Non Existing Client  07/11/1973         03/04/2012   \n",
       "3         3016  1      Existing Client  08/07/1982         25/08/2011   \n",
       "4         6524  0  Non Existing Client  18/08/1953         10/01/2012   \n",
       "\n",
       "    P_Client Educational_Level Marital_Status  Number_Of_Dependant  \\\n",
       "0  NP_Client        University        Married                  3.0   \n",
       "1   P_Client        University        Married                  0.0   \n",
       "2  NP_Client        University        Married                  2.0   \n",
       "3  NP_Client        University        Married                  3.0   \n",
       "4  NP_Client        University        Married                  2.0   \n",
       "\n",
       "   Years_At_Residence Net_Annual_Income  Years_At_Business Prod_Sub_Category  \\\n",
       "0                   1                36                1.0                 C   \n",
       "1                  12                18                2.0                 C   \n",
       "2                  10                36                1.0                 C   \n",
       "3                   3                36                1.0                 C   \n",
       "4                   1                36                1.0                 C   \n",
       "\n",
       "  Prod_Decision_Date Source Type_Of_Residence  Nb_Of_Products  \\\n",
       "0         14/02/2012  Sales             Owned               1   \n",
       "1         30/06/2011  Sales           Parents               1   \n",
       "2         04/04/2012  Sales             Owned               1   \n",
       "3         07/09/2011  Sales          New rent               1   \n",
       "4         11/01/2012  Sales             Owned               1   \n",
       "\n",
       "  Prod_Closed_Date Prod_Category  \n",
       "0              NaN             B  \n",
       "1              NaN             G  \n",
       "2              NaN             B  \n",
       "3       31/12/2012             L  \n",
       "4              NaN             D  "
      ]
     },
     "execution_count": 3,
     "metadata": {},
     "output_type": "execute_result"
    }
   ],
   "source": [
    "data = pd.read_csv('data/CreditTraining.csv')\n",
    "data.head()"
   ]
  },
  {
   "cell_type": "code",
   "execution_count": 4,
   "metadata": {},
   "outputs": [
    {
     "data": {
      "text/html": [
       "<div>\n",
       "<style scoped>\n",
       "    .dataframe tbody tr th:only-of-type {\n",
       "        vertical-align: middle;\n",
       "    }\n",
       "\n",
       "    .dataframe tbody tr th {\n",
       "        vertical-align: top;\n",
       "    }\n",
       "\n",
       "    .dataframe thead th {\n",
       "        text-align: right;\n",
       "    }\n",
       "</style>\n",
       "<table border=\"1\" class=\"dataframe\">\n",
       "  <thead>\n",
       "    <tr style=\"text-align: right;\">\n",
       "      <th></th>\n",
       "      <th>Id_Customer</th>\n",
       "      <th>Y</th>\n",
       "      <th>Customer_Type</th>\n",
       "      <th>BirthDate</th>\n",
       "      <th>Customer_Open_Date</th>\n",
       "      <th>P_Client</th>\n",
       "      <th>Educational_Level</th>\n",
       "      <th>Marital_Status</th>\n",
       "      <th>Number_Of_Dependant</th>\n",
       "      <th>Years_At_Residence</th>\n",
       "      <th>Net_Annual_Income</th>\n",
       "      <th>Years_At_Business</th>\n",
       "      <th>Prod_Sub_Category</th>\n",
       "      <th>Prod_Decision_Date</th>\n",
       "      <th>Source</th>\n",
       "      <th>Type_Of_Residence</th>\n",
       "      <th>Nb_Of_Products</th>\n",
       "      <th>Prod_Closed_Date</th>\n",
       "      <th>Prod_Category</th>\n",
       "    </tr>\n",
       "  </thead>\n",
       "  <tbody>\n",
       "    <tr>\n",
       "      <th>0</th>\n",
       "      <td>7440</td>\n",
       "      <td>0</td>\n",
       "      <td>Non Existing Client</td>\n",
       "      <td>07/08/1977</td>\n",
       "      <td>13/02/2012</td>\n",
       "      <td>NP_Client</td>\n",
       "      <td>University</td>\n",
       "      <td>Married</td>\n",
       "      <td>3.0</td>\n",
       "      <td>1</td>\n",
       "      <td>36</td>\n",
       "      <td>1.0</td>\n",
       "      <td>C</td>\n",
       "      <td>14/02/2012</td>\n",
       "      <td>Sales</td>\n",
       "      <td>Owned</td>\n",
       "      <td>1</td>\n",
       "      <td>NaN</td>\n",
       "      <td>B</td>\n",
       "    </tr>\n",
       "    <tr>\n",
       "      <th>1</th>\n",
       "      <td>573</td>\n",
       "      <td>0</td>\n",
       "      <td>Existing Client</td>\n",
       "      <td>13/06/1974</td>\n",
       "      <td>04/02/2009</td>\n",
       "      <td>P_Client</td>\n",
       "      <td>University</td>\n",
       "      <td>Married</td>\n",
       "      <td>0.0</td>\n",
       "      <td>12</td>\n",
       "      <td>18</td>\n",
       "      <td>2.0</td>\n",
       "      <td>C</td>\n",
       "      <td>30/06/2011</td>\n",
       "      <td>Sales</td>\n",
       "      <td>Parents</td>\n",
       "      <td>1</td>\n",
       "      <td>NaN</td>\n",
       "      <td>G</td>\n",
       "    </tr>\n",
       "    <tr>\n",
       "      <th>2</th>\n",
       "      <td>9194</td>\n",
       "      <td>0</td>\n",
       "      <td>Non Existing Client</td>\n",
       "      <td>07/11/1973</td>\n",
       "      <td>03/04/2012</td>\n",
       "      <td>NP_Client</td>\n",
       "      <td>University</td>\n",
       "      <td>Married</td>\n",
       "      <td>2.0</td>\n",
       "      <td>10</td>\n",
       "      <td>36</td>\n",
       "      <td>1.0</td>\n",
       "      <td>C</td>\n",
       "      <td>04/04/2012</td>\n",
       "      <td>Sales</td>\n",
       "      <td>Owned</td>\n",
       "      <td>1</td>\n",
       "      <td>NaN</td>\n",
       "      <td>B</td>\n",
       "    </tr>\n",
       "    <tr>\n",
       "      <th>3</th>\n",
       "      <td>3016</td>\n",
       "      <td>1</td>\n",
       "      <td>Existing Client</td>\n",
       "      <td>08/07/1982</td>\n",
       "      <td>25/08/2011</td>\n",
       "      <td>NP_Client</td>\n",
       "      <td>University</td>\n",
       "      <td>Married</td>\n",
       "      <td>3.0</td>\n",
       "      <td>3</td>\n",
       "      <td>36</td>\n",
       "      <td>1.0</td>\n",
       "      <td>C</td>\n",
       "      <td>07/09/2011</td>\n",
       "      <td>Sales</td>\n",
       "      <td>New rent</td>\n",
       "      <td>1</td>\n",
       "      <td>31/12/2012</td>\n",
       "      <td>L</td>\n",
       "    </tr>\n",
       "    <tr>\n",
       "      <th>4</th>\n",
       "      <td>6524</td>\n",
       "      <td>0</td>\n",
       "      <td>Non Existing Client</td>\n",
       "      <td>18/08/1953</td>\n",
       "      <td>10/01/2012</td>\n",
       "      <td>NP_Client</td>\n",
       "      <td>University</td>\n",
       "      <td>Married</td>\n",
       "      <td>2.0</td>\n",
       "      <td>1</td>\n",
       "      <td>36</td>\n",
       "      <td>1.0</td>\n",
       "      <td>C</td>\n",
       "      <td>11/01/2012</td>\n",
       "      <td>Sales</td>\n",
       "      <td>Owned</td>\n",
       "      <td>1</td>\n",
       "      <td>NaN</td>\n",
       "      <td>D</td>\n",
       "    </tr>\n",
       "    <tr>\n",
       "      <th>5</th>\n",
       "      <td>3858</td>\n",
       "      <td>0</td>\n",
       "      <td>Existing Client</td>\n",
       "      <td>04/03/1983</td>\n",
       "      <td>15/09/2011</td>\n",
       "      <td>NP_Client</td>\n",
       "      <td>University</td>\n",
       "      <td>Married</td>\n",
       "      <td>0.0</td>\n",
       "      <td>28</td>\n",
       "      <td>60</td>\n",
       "      <td>2.0</td>\n",
       "      <td>C</td>\n",
       "      <td>04/10/2011</td>\n",
       "      <td>Sales</td>\n",
       "      <td>Old rent</td>\n",
       "      <td>1</td>\n",
       "      <td>NaN</td>\n",
       "      <td>C</td>\n",
       "    </tr>\n",
       "    <tr>\n",
       "      <th>6</th>\n",
       "      <td>2189</td>\n",
       "      <td>0</td>\n",
       "      <td>Non Existing Client</td>\n",
       "      <td>25/09/1979</td>\n",
       "      <td>17/07/2011</td>\n",
       "      <td>NP_Client</td>\n",
       "      <td>University</td>\n",
       "      <td>Married</td>\n",
       "      <td>0.0</td>\n",
       "      <td>10</td>\n",
       "      <td>36</td>\n",
       "      <td>1.0</td>\n",
       "      <td>C</td>\n",
       "      <td>28/07/2011</td>\n",
       "      <td>Sales</td>\n",
       "      <td>Owned</td>\n",
       "      <td>1</td>\n",
       "      <td>NaN</td>\n",
       "      <td>B</td>\n",
       "    </tr>\n",
       "    <tr>\n",
       "      <th>7</th>\n",
       "      <td>9338</td>\n",
       "      <td>0</td>\n",
       "      <td>Non Existing Client</td>\n",
       "      <td>04/10/1953</td>\n",
       "      <td>11/04/2012</td>\n",
       "      <td>NP_Client</td>\n",
       "      <td>University</td>\n",
       "      <td>Married</td>\n",
       "      <td>0.0</td>\n",
       "      <td>15</td>\n",
       "      <td>36</td>\n",
       "      <td>1.0</td>\n",
       "      <td>C</td>\n",
       "      <td>12/04/2012</td>\n",
       "      <td>Sales</td>\n",
       "      <td>Owned</td>\n",
       "      <td>1</td>\n",
       "      <td>16/04/2013</td>\n",
       "      <td>B</td>\n",
       "    </tr>\n",
       "    <tr>\n",
       "      <th>8</th>\n",
       "      <td>9578</td>\n",
       "      <td>0</td>\n",
       "      <td>Existing Client</td>\n",
       "      <td>01/03/1974</td>\n",
       "      <td>20/02/2001</td>\n",
       "      <td>NP_Client</td>\n",
       "      <td>University</td>\n",
       "      <td>Single</td>\n",
       "      <td>0.0</td>\n",
       "      <td>0</td>\n",
       "      <td>500</td>\n",
       "      <td>3.0</td>\n",
       "      <td>P</td>\n",
       "      <td>02/04/2012</td>\n",
       "      <td>Branch</td>\n",
       "      <td>Owned</td>\n",
       "      <td>1</td>\n",
       "      <td>NaN</td>\n",
       "      <td>E</td>\n",
       "    </tr>\n",
       "    <tr>\n",
       "      <th>9</th>\n",
       "      <td>173</td>\n",
       "      <td>1</td>\n",
       "      <td>Existing Client</td>\n",
       "      <td>13/02/1963</td>\n",
       "      <td>27/04/2011</td>\n",
       "      <td>NP_Client</td>\n",
       "      <td>University</td>\n",
       "      <td>Married</td>\n",
       "      <td>4.0</td>\n",
       "      <td>35</td>\n",
       "      <td>87,6</td>\n",
       "      <td>2.0</td>\n",
       "      <td>C</td>\n",
       "      <td>03/05/2011</td>\n",
       "      <td>Sales</td>\n",
       "      <td>Owned</td>\n",
       "      <td>1</td>\n",
       "      <td>18/11/2012</td>\n",
       "      <td>L</td>\n",
       "    </tr>\n",
       "    <tr>\n",
       "      <th>10</th>\n",
       "      <td>6439</td>\n",
       "      <td>0</td>\n",
       "      <td>Non Existing Client</td>\n",
       "      <td>27/04/1987</td>\n",
       "      <td>12/12/2011</td>\n",
       "      <td>NP_Client</td>\n",
       "      <td>University</td>\n",
       "      <td>Single</td>\n",
       "      <td>0.0</td>\n",
       "      <td>10</td>\n",
       "      <td>36</td>\n",
       "      <td>3.0</td>\n",
       "      <td>C</td>\n",
       "      <td>09/01/2012</td>\n",
       "      <td>Sales</td>\n",
       "      <td>Owned</td>\n",
       "      <td>1</td>\n",
       "      <td>NaN</td>\n",
       "      <td>B</td>\n",
       "    </tr>\n",
       "    <tr>\n",
       "      <th>11</th>\n",
       "      <td>3921</td>\n",
       "      <td>0</td>\n",
       "      <td>Non Existing Client</td>\n",
       "      <td>21/09/1959</td>\n",
       "      <td>18/09/2011</td>\n",
       "      <td>NP_Client</td>\n",
       "      <td>University</td>\n",
       "      <td>Married</td>\n",
       "      <td>0.0</td>\n",
       "      <td>10</td>\n",
       "      <td>18</td>\n",
       "      <td>2.0</td>\n",
       "      <td>C</td>\n",
       "      <td>02/10/2011</td>\n",
       "      <td>Sales</td>\n",
       "      <td>Owned</td>\n",
       "      <td>2</td>\n",
       "      <td>NaN</td>\n",
       "      <td>B</td>\n",
       "    </tr>\n",
       "    <tr>\n",
       "      <th>12</th>\n",
       "      <td>6961</td>\n",
       "      <td>0</td>\n",
       "      <td>Existing Client</td>\n",
       "      <td>26/03/1981</td>\n",
       "      <td>30/04/2007</td>\n",
       "      <td>P_Client</td>\n",
       "      <td>University</td>\n",
       "      <td>Single</td>\n",
       "      <td>0.0</td>\n",
       "      <td>2</td>\n",
       "      <td>29,82</td>\n",
       "      <td>4.0</td>\n",
       "      <td>C</td>\n",
       "      <td>12/02/2012</td>\n",
       "      <td>Branch</td>\n",
       "      <td>Owned</td>\n",
       "      <td>1</td>\n",
       "      <td>NaN</td>\n",
       "      <td>G</td>\n",
       "    </tr>\n",
       "    <tr>\n",
       "      <th>13</th>\n",
       "      <td>9242</td>\n",
       "      <td>0</td>\n",
       "      <td>Non Existing Client</td>\n",
       "      <td>18/07/1987</td>\n",
       "      <td>04/04/2012</td>\n",
       "      <td>NP_Client</td>\n",
       "      <td>University</td>\n",
       "      <td>Married</td>\n",
       "      <td>0.0</td>\n",
       "      <td>15</td>\n",
       "      <td>36</td>\n",
       "      <td>1.0</td>\n",
       "      <td>C</td>\n",
       "      <td>05/04/2012</td>\n",
       "      <td>Sales</td>\n",
       "      <td>Owned</td>\n",
       "      <td>1</td>\n",
       "      <td>NaN</td>\n",
       "      <td>B</td>\n",
       "    </tr>\n",
       "    <tr>\n",
       "      <th>14</th>\n",
       "      <td>5086</td>\n",
       "      <td>0</td>\n",
       "      <td>Non Existing Client</td>\n",
       "      <td>01/01/1974</td>\n",
       "      <td>13/11/2011</td>\n",
       "      <td>NP_Client</td>\n",
       "      <td>University</td>\n",
       "      <td>Married</td>\n",
       "      <td>0.0</td>\n",
       "      <td>1</td>\n",
       "      <td>36</td>\n",
       "      <td>1.0</td>\n",
       "      <td>G</td>\n",
       "      <td>17/11/2011</td>\n",
       "      <td>Sales</td>\n",
       "      <td>Owned</td>\n",
       "      <td>1</td>\n",
       "      <td>NaN</td>\n",
       "      <td>C</td>\n",
       "    </tr>\n",
       "    <tr>\n",
       "      <th>15</th>\n",
       "      <td>5841</td>\n",
       "      <td>0</td>\n",
       "      <td>Non Existing Client</td>\n",
       "      <td>11/06/1969</td>\n",
       "      <td>15/12/2011</td>\n",
       "      <td>NP_Client</td>\n",
       "      <td>University</td>\n",
       "      <td>Married</td>\n",
       "      <td>0.0</td>\n",
       "      <td>10</td>\n",
       "      <td>36</td>\n",
       "      <td>1.0</td>\n",
       "      <td>C</td>\n",
       "      <td>20/12/2011</td>\n",
       "      <td>Sales</td>\n",
       "      <td>Owned</td>\n",
       "      <td>1</td>\n",
       "      <td>NaN</td>\n",
       "      <td>B</td>\n",
       "    </tr>\n",
       "    <tr>\n",
       "      <th>16</th>\n",
       "      <td>6825</td>\n",
       "      <td>0</td>\n",
       "      <td>Non Existing Client</td>\n",
       "      <td>02/03/1974</td>\n",
       "      <td>15/01/2012</td>\n",
       "      <td>NP_Client</td>\n",
       "      <td>University</td>\n",
       "      <td>Married</td>\n",
       "      <td>0.0</td>\n",
       "      <td>15</td>\n",
       "      <td>30</td>\n",
       "      <td>1.0</td>\n",
       "      <td>C</td>\n",
       "      <td>24/01/2012</td>\n",
       "      <td>Sales</td>\n",
       "      <td>Owned</td>\n",
       "      <td>1</td>\n",
       "      <td>NaN</td>\n",
       "      <td>B</td>\n",
       "    </tr>\n",
       "    <tr>\n",
       "      <th>17</th>\n",
       "      <td>141</td>\n",
       "      <td>0</td>\n",
       "      <td>Existing Client</td>\n",
       "      <td>23/09/1987</td>\n",
       "      <td>25/11/2010</td>\n",
       "      <td>NP_Client</td>\n",
       "      <td>University</td>\n",
       "      <td>Single</td>\n",
       "      <td>0.0</td>\n",
       "      <td>10</td>\n",
       "      <td>18</td>\n",
       "      <td>1.0</td>\n",
       "      <td>C</td>\n",
       "      <td>10/05/2011</td>\n",
       "      <td>Sales</td>\n",
       "      <td>Owned</td>\n",
       "      <td>1</td>\n",
       "      <td>NaN</td>\n",
       "      <td>B</td>\n",
       "    </tr>\n",
       "    <tr>\n",
       "      <th>18</th>\n",
       "      <td>6582</td>\n",
       "      <td>1</td>\n",
       "      <td>Non Existing Client</td>\n",
       "      <td>01/07/1982</td>\n",
       "      <td>12/01/2012</td>\n",
       "      <td>NP_Client</td>\n",
       "      <td>University</td>\n",
       "      <td>Married</td>\n",
       "      <td>2.0</td>\n",
       "      <td>1</td>\n",
       "      <td>36</td>\n",
       "      <td>1.0</td>\n",
       "      <td>C</td>\n",
       "      <td>15/01/2012</td>\n",
       "      <td>Sales</td>\n",
       "      <td>Owned</td>\n",
       "      <td>1</td>\n",
       "      <td>30/09/2012</td>\n",
       "      <td>B</td>\n",
       "    </tr>\n",
       "    <tr>\n",
       "      <th>19</th>\n",
       "      <td>882</td>\n",
       "      <td>0</td>\n",
       "      <td>Non Existing Client</td>\n",
       "      <td>21/03/1971</td>\n",
       "      <td>12/06/2011</td>\n",
       "      <td>NP_Client</td>\n",
       "      <td>University</td>\n",
       "      <td>Married</td>\n",
       "      <td>3.0</td>\n",
       "      <td>8</td>\n",
       "      <td>18</td>\n",
       "      <td>2.0</td>\n",
       "      <td>C</td>\n",
       "      <td>15/06/2011</td>\n",
       "      <td>Sales</td>\n",
       "      <td>Owned</td>\n",
       "      <td>1</td>\n",
       "      <td>NaN</td>\n",
       "      <td>D</td>\n",
       "    </tr>\n",
       "    <tr>\n",
       "      <th>20</th>\n",
       "      <td>6225</td>\n",
       "      <td>0</td>\n",
       "      <td>Non Existing Client</td>\n",
       "      <td>01/08/1949</td>\n",
       "      <td>08/12/2011</td>\n",
       "      <td>NP_Client</td>\n",
       "      <td>University</td>\n",
       "      <td>Married</td>\n",
       "      <td>0.0</td>\n",
       "      <td>15</td>\n",
       "      <td>30</td>\n",
       "      <td>1.0</td>\n",
       "      <td>C</td>\n",
       "      <td>29/12/2011</td>\n",
       "      <td>Sales</td>\n",
       "      <td>Owned</td>\n",
       "      <td>1</td>\n",
       "      <td>NaN</td>\n",
       "      <td>B</td>\n",
       "    </tr>\n",
       "    <tr>\n",
       "      <th>21</th>\n",
       "      <td>2378</td>\n",
       "      <td>0</td>\n",
       "      <td>Non Existing Client</td>\n",
       "      <td>30/05/1987</td>\n",
       "      <td>20/07/2011</td>\n",
       "      <td>NP_Client</td>\n",
       "      <td>University</td>\n",
       "      <td>Married</td>\n",
       "      <td>0.0</td>\n",
       "      <td>12</td>\n",
       "      <td>31,848</td>\n",
       "      <td>1.0</td>\n",
       "      <td>C</td>\n",
       "      <td>09/08/2011</td>\n",
       "      <td>Sales</td>\n",
       "      <td>Owned</td>\n",
       "      <td>1</td>\n",
       "      <td>NaN</td>\n",
       "      <td>K</td>\n",
       "    </tr>\n",
       "    <tr>\n",
       "      <th>22</th>\n",
       "      <td>9350</td>\n",
       "      <td>0</td>\n",
       "      <td>Non Existing Client</td>\n",
       "      <td>01/01/1985</td>\n",
       "      <td>27/03/2012</td>\n",
       "      <td>NP_Client</td>\n",
       "      <td>University</td>\n",
       "      <td>Single</td>\n",
       "      <td>0.0</td>\n",
       "      <td>27</td>\n",
       "      <td>26,4</td>\n",
       "      <td>6.0</td>\n",
       "      <td>C</td>\n",
       "      <td>11/04/2012</td>\n",
       "      <td>Branch</td>\n",
       "      <td>Owned</td>\n",
       "      <td>1</td>\n",
       "      <td>02/06/2013</td>\n",
       "      <td>K</td>\n",
       "    </tr>\n",
       "    <tr>\n",
       "      <th>23</th>\n",
       "      <td>4537</td>\n",
       "      <td>0</td>\n",
       "      <td>Existing Client</td>\n",
       "      <td>29/11/1973</td>\n",
       "      <td>18/04/2007</td>\n",
       "      <td>P_Client</td>\n",
       "      <td>University</td>\n",
       "      <td>Married</td>\n",
       "      <td>3.0</td>\n",
       "      <td>10</td>\n",
       "      <td>24,288</td>\n",
       "      <td>3.0</td>\n",
       "      <td>C</td>\n",
       "      <td>29/10/2011</td>\n",
       "      <td>Sales</td>\n",
       "      <td>Owned</td>\n",
       "      <td>1</td>\n",
       "      <td>NaN</td>\n",
       "      <td>G</td>\n",
       "    </tr>\n",
       "    <tr>\n",
       "      <th>24</th>\n",
       "      <td>1756</td>\n",
       "      <td>0</td>\n",
       "      <td>Non Existing Client</td>\n",
       "      <td>13/02/1961</td>\n",
       "      <td>20/07/2011</td>\n",
       "      <td>NP_Client</td>\n",
       "      <td>University</td>\n",
       "      <td>Married</td>\n",
       "      <td>2.0</td>\n",
       "      <td>2</td>\n",
       "      <td>36</td>\n",
       "      <td>1.0</td>\n",
       "      <td>C</td>\n",
       "      <td>24/07/2011</td>\n",
       "      <td>Sales</td>\n",
       "      <td>Owned</td>\n",
       "      <td>1</td>\n",
       "      <td>NaN</td>\n",
       "      <td>B</td>\n",
       "    </tr>\n",
       "    <tr>\n",
       "      <th>25</th>\n",
       "      <td>7670</td>\n",
       "      <td>0</td>\n",
       "      <td>Non Existing Client</td>\n",
       "      <td>05/02/1948</td>\n",
       "      <td>22/02/2012</td>\n",
       "      <td>NP_Client</td>\n",
       "      <td>University</td>\n",
       "      <td>Married</td>\n",
       "      <td>0.0</td>\n",
       "      <td>1</td>\n",
       "      <td>36</td>\n",
       "      <td>1.0</td>\n",
       "      <td>C</td>\n",
       "      <td>23/02/2012</td>\n",
       "      <td>Sales</td>\n",
       "      <td>Owned</td>\n",
       "      <td>1</td>\n",
       "      <td>NaN</td>\n",
       "      <td>B</td>\n",
       "    </tr>\n",
       "    <tr>\n",
       "      <th>26</th>\n",
       "      <td>1051</td>\n",
       "      <td>0</td>\n",
       "      <td>Non Existing Client</td>\n",
       "      <td>21/08/1972</td>\n",
       "      <td>22/06/2011</td>\n",
       "      <td>NP_Client</td>\n",
       "      <td>University</td>\n",
       "      <td>Married</td>\n",
       "      <td>0.0</td>\n",
       "      <td>1</td>\n",
       "      <td>20</td>\n",
       "      <td>1.0</td>\n",
       "      <td>C</td>\n",
       "      <td>28/06/2011</td>\n",
       "      <td>Sales</td>\n",
       "      <td>Owned</td>\n",
       "      <td>1</td>\n",
       "      <td>NaN</td>\n",
       "      <td>D</td>\n",
       "    </tr>\n",
       "    <tr>\n",
       "      <th>27</th>\n",
       "      <td>2234</td>\n",
       "      <td>0</td>\n",
       "      <td>Non Existing Client</td>\n",
       "      <td>27/11/1989</td>\n",
       "      <td>24/07/2011</td>\n",
       "      <td>NP_Client</td>\n",
       "      <td>University</td>\n",
       "      <td>Single</td>\n",
       "      <td>0.0</td>\n",
       "      <td>4</td>\n",
       "      <td>18</td>\n",
       "      <td>4.0</td>\n",
       "      <td>C</td>\n",
       "      <td>28/07/2011</td>\n",
       "      <td>Sales</td>\n",
       "      <td>Owned</td>\n",
       "      <td>1</td>\n",
       "      <td>NaN</td>\n",
       "      <td>B</td>\n",
       "    </tr>\n",
       "    <tr>\n",
       "      <th>28</th>\n",
       "      <td>620</td>\n",
       "      <td>0</td>\n",
       "      <td>Existing Client</td>\n",
       "      <td>24/11/1965</td>\n",
       "      <td>10/01/2010</td>\n",
       "      <td>NP_Client</td>\n",
       "      <td>University</td>\n",
       "      <td>Married</td>\n",
       "      <td>2.0</td>\n",
       "      <td>10</td>\n",
       "      <td>18</td>\n",
       "      <td>2.0</td>\n",
       "      <td>C</td>\n",
       "      <td>29/06/2011</td>\n",
       "      <td>Sales</td>\n",
       "      <td>Owned</td>\n",
       "      <td>1</td>\n",
       "      <td>NaN</td>\n",
       "      <td>D</td>\n",
       "    </tr>\n",
       "    <tr>\n",
       "      <th>29</th>\n",
       "      <td>8076</td>\n",
       "      <td>0</td>\n",
       "      <td>Non Existing Client</td>\n",
       "      <td>26/12/1953</td>\n",
       "      <td>14/02/2012</td>\n",
       "      <td>NP_Client</td>\n",
       "      <td>University</td>\n",
       "      <td>Married</td>\n",
       "      <td>0.0</td>\n",
       "      <td>22</td>\n",
       "      <td>18</td>\n",
       "      <td>2.0</td>\n",
       "      <td>C</td>\n",
       "      <td>15/02/2012</td>\n",
       "      <td>Sales</td>\n",
       "      <td>Owned</td>\n",
       "      <td>1</td>\n",
       "      <td>NaN</td>\n",
       "      <td>B</td>\n",
       "    </tr>\n",
       "    <tr>\n",
       "      <th>...</th>\n",
       "      <td>...</td>\n",
       "      <td>...</td>\n",
       "      <td>...</td>\n",
       "      <td>...</td>\n",
       "      <td>...</td>\n",
       "      <td>...</td>\n",
       "      <td>...</td>\n",
       "      <td>...</td>\n",
       "      <td>...</td>\n",
       "      <td>...</td>\n",
       "      <td>...</td>\n",
       "      <td>...</td>\n",
       "      <td>...</td>\n",
       "      <td>...</td>\n",
       "      <td>...</td>\n",
       "      <td>...</td>\n",
       "      <td>...</td>\n",
       "      <td>...</td>\n",
       "      <td>...</td>\n",
       "    </tr>\n",
       "    <tr>\n",
       "      <th>5350</th>\n",
       "      <td>2429</td>\n",
       "      <td>0</td>\n",
       "      <td>Non Existing Client</td>\n",
       "      <td>08/09/1964</td>\n",
       "      <td>07/07/2011</td>\n",
       "      <td>NP_Client</td>\n",
       "      <td>University</td>\n",
       "      <td>Married</td>\n",
       "      <td>2.0</td>\n",
       "      <td>20</td>\n",
       "      <td>48</td>\n",
       "      <td>21.0</td>\n",
       "      <td>C</td>\n",
       "      <td>11/08/2011</td>\n",
       "      <td>Branch</td>\n",
       "      <td>Owned</td>\n",
       "      <td>1</td>\n",
       "      <td>NaN</td>\n",
       "      <td>B</td>\n",
       "    </tr>\n",
       "    <tr>\n",
       "      <th>5351</th>\n",
       "      <td>1073</td>\n",
       "      <td>0</td>\n",
       "      <td>Non Existing Client</td>\n",
       "      <td>26/07/1983</td>\n",
       "      <td>23/06/2011</td>\n",
       "      <td>NP_Client</td>\n",
       "      <td>University</td>\n",
       "      <td>Married</td>\n",
       "      <td>0.0</td>\n",
       "      <td>20</td>\n",
       "      <td>18</td>\n",
       "      <td>2.0</td>\n",
       "      <td>C</td>\n",
       "      <td>26/06/2011</td>\n",
       "      <td>Branch</td>\n",
       "      <td>Owned</td>\n",
       "      <td>1</td>\n",
       "      <td>NaN</td>\n",
       "      <td>D</td>\n",
       "    </tr>\n",
       "    <tr>\n",
       "      <th>5352</th>\n",
       "      <td>3660</td>\n",
       "      <td>0</td>\n",
       "      <td>Existing Client</td>\n",
       "      <td>21/02/1983</td>\n",
       "      <td>05/08/2008</td>\n",
       "      <td>P_Client</td>\n",
       "      <td>University</td>\n",
       "      <td>Married</td>\n",
       "      <td>1.0</td>\n",
       "      <td>29</td>\n",
       "      <td>49,008</td>\n",
       "      <td>3.0</td>\n",
       "      <td>C</td>\n",
       "      <td>28/09/2011</td>\n",
       "      <td>Branch</td>\n",
       "      <td>Owned</td>\n",
       "      <td>1</td>\n",
       "      <td>NaN</td>\n",
       "      <td>H</td>\n",
       "    </tr>\n",
       "    <tr>\n",
       "      <th>5353</th>\n",
       "      <td>7025</td>\n",
       "      <td>0</td>\n",
       "      <td>Existing Client</td>\n",
       "      <td>21/09/1980</td>\n",
       "      <td>13/04/2009</td>\n",
       "      <td>NP_Client</td>\n",
       "      <td>University</td>\n",
       "      <td>Married</td>\n",
       "      <td>3.0</td>\n",
       "      <td>22</td>\n",
       "      <td>18</td>\n",
       "      <td>2.0</td>\n",
       "      <td>C</td>\n",
       "      <td>09/02/2012</td>\n",
       "      <td>Sales</td>\n",
       "      <td>Owned</td>\n",
       "      <td>1</td>\n",
       "      <td>NaN</td>\n",
       "      <td>D</td>\n",
       "    </tr>\n",
       "    <tr>\n",
       "      <th>5354</th>\n",
       "      <td>505</td>\n",
       "      <td>0</td>\n",
       "      <td>Existing Client</td>\n",
       "      <td>19/02/1978</td>\n",
       "      <td>19/05/2005</td>\n",
       "      <td>NP_Client</td>\n",
       "      <td>University</td>\n",
       "      <td>Single</td>\n",
       "      <td>1.0</td>\n",
       "      <td>20</td>\n",
       "      <td>151</td>\n",
       "      <td>5.0</td>\n",
       "      <td>G</td>\n",
       "      <td>29/06/2011</td>\n",
       "      <td>Branch</td>\n",
       "      <td>Owned</td>\n",
       "      <td>1</td>\n",
       "      <td>NaN</td>\n",
       "      <td>J</td>\n",
       "    </tr>\n",
       "    <tr>\n",
       "      <th>5355</th>\n",
       "      <td>8827</td>\n",
       "      <td>0</td>\n",
       "      <td>Existing Client</td>\n",
       "      <td>27/08/1968</td>\n",
       "      <td>05/04/2005</td>\n",
       "      <td>NP_Client</td>\n",
       "      <td>University</td>\n",
       "      <td>Married</td>\n",
       "      <td>1.0</td>\n",
       "      <td>20</td>\n",
       "      <td>300</td>\n",
       "      <td>10.0</td>\n",
       "      <td>P</td>\n",
       "      <td>22/04/2012</td>\n",
       "      <td>Branch</td>\n",
       "      <td>Owned</td>\n",
       "      <td>1</td>\n",
       "      <td>NaN</td>\n",
       "      <td>E</td>\n",
       "    </tr>\n",
       "    <tr>\n",
       "      <th>5356</th>\n",
       "      <td>2605</td>\n",
       "      <td>0</td>\n",
       "      <td>Non Existing Client</td>\n",
       "      <td>01/08/1965</td>\n",
       "      <td>16/08/2011</td>\n",
       "      <td>NP_Client</td>\n",
       "      <td>University</td>\n",
       "      <td>Married</td>\n",
       "      <td>5.0</td>\n",
       "      <td>1</td>\n",
       "      <td>36</td>\n",
       "      <td>1.0</td>\n",
       "      <td>C</td>\n",
       "      <td>23/08/2011</td>\n",
       "      <td>Sales</td>\n",
       "      <td>Owned</td>\n",
       "      <td>1</td>\n",
       "      <td>NaN</td>\n",
       "      <td>B</td>\n",
       "    </tr>\n",
       "    <tr>\n",
       "      <th>5357</th>\n",
       "      <td>7092</td>\n",
       "      <td>0</td>\n",
       "      <td>Existing Client</td>\n",
       "      <td>11/04/1960</td>\n",
       "      <td>27/03/2011</td>\n",
       "      <td>P_Client</td>\n",
       "      <td>Master/PhD</td>\n",
       "      <td>Married</td>\n",
       "      <td>4.0</td>\n",
       "      <td>10</td>\n",
       "      <td>113,1</td>\n",
       "      <td>1.0</td>\n",
       "      <td>G</td>\n",
       "      <td>21/02/2012</td>\n",
       "      <td>Branch</td>\n",
       "      <td>Owned</td>\n",
       "      <td>1</td>\n",
       "      <td>NaN</td>\n",
       "      <td>G</td>\n",
       "    </tr>\n",
       "    <tr>\n",
       "      <th>5358</th>\n",
       "      <td>2355</td>\n",
       "      <td>0</td>\n",
       "      <td>Non Existing Client</td>\n",
       "      <td>05/11/1954</td>\n",
       "      <td>07/08/2011</td>\n",
       "      <td>NP_Client</td>\n",
       "      <td>University</td>\n",
       "      <td>Married</td>\n",
       "      <td>0.0</td>\n",
       "      <td>28</td>\n",
       "      <td>20</td>\n",
       "      <td>1.0</td>\n",
       "      <td>C</td>\n",
       "      <td>08/08/2011</td>\n",
       "      <td>Sales</td>\n",
       "      <td>Old rent</td>\n",
       "      <td>1</td>\n",
       "      <td>NaN</td>\n",
       "      <td>B</td>\n",
       "    </tr>\n",
       "    <tr>\n",
       "      <th>5359</th>\n",
       "      <td>8764</td>\n",
       "      <td>0</td>\n",
       "      <td>Existing Client</td>\n",
       "      <td>07/10/1964</td>\n",
       "      <td>25/05/1997</td>\n",
       "      <td>NP_Client</td>\n",
       "      <td>University</td>\n",
       "      <td>Married</td>\n",
       "      <td>0.0</td>\n",
       "      <td>9</td>\n",
       "      <td>1800</td>\n",
       "      <td>5.0</td>\n",
       "      <td>P</td>\n",
       "      <td>20/03/2012</td>\n",
       "      <td>Branch</td>\n",
       "      <td>Owned</td>\n",
       "      <td>1</td>\n",
       "      <td>NaN</td>\n",
       "      <td>E</td>\n",
       "    </tr>\n",
       "    <tr>\n",
       "      <th>5360</th>\n",
       "      <td>4157</td>\n",
       "      <td>0</td>\n",
       "      <td>Non Existing Client</td>\n",
       "      <td>02/06/1986</td>\n",
       "      <td>12/10/2011</td>\n",
       "      <td>NP_Client</td>\n",
       "      <td>University</td>\n",
       "      <td>Single</td>\n",
       "      <td>0.0</td>\n",
       "      <td>1</td>\n",
       "      <td>20</td>\n",
       "      <td>1.0</td>\n",
       "      <td>C</td>\n",
       "      <td>20/10/2011</td>\n",
       "      <td>Sales</td>\n",
       "      <td>Owned</td>\n",
       "      <td>1</td>\n",
       "      <td>NaN</td>\n",
       "      <td>B</td>\n",
       "    </tr>\n",
       "    <tr>\n",
       "      <th>5361</th>\n",
       "      <td>6717</td>\n",
       "      <td>0</td>\n",
       "      <td>Non Existing Client</td>\n",
       "      <td>01/10/1956</td>\n",
       "      <td>18/01/2012</td>\n",
       "      <td>NP_Client</td>\n",
       "      <td>University</td>\n",
       "      <td>Married</td>\n",
       "      <td>0.0</td>\n",
       "      <td>15</td>\n",
       "      <td>36</td>\n",
       "      <td>1.0</td>\n",
       "      <td>C</td>\n",
       "      <td>19/01/2012</td>\n",
       "      <td>Sales</td>\n",
       "      <td>Owned</td>\n",
       "      <td>1</td>\n",
       "      <td>NaN</td>\n",
       "      <td>B</td>\n",
       "    </tr>\n",
       "    <tr>\n",
       "      <th>5362</th>\n",
       "      <td>924</td>\n",
       "      <td>0</td>\n",
       "      <td>Non Existing Client</td>\n",
       "      <td>20/01/1979</td>\n",
       "      <td>16/06/2011</td>\n",
       "      <td>NP_Client</td>\n",
       "      <td>University</td>\n",
       "      <td>Married</td>\n",
       "      <td>0.0</td>\n",
       "      <td>1</td>\n",
       "      <td>36</td>\n",
       "      <td>1.0</td>\n",
       "      <td>C</td>\n",
       "      <td>16/06/2011</td>\n",
       "      <td>Sales</td>\n",
       "      <td>Owned</td>\n",
       "      <td>1</td>\n",
       "      <td>NaN</td>\n",
       "      <td>B</td>\n",
       "    </tr>\n",
       "    <tr>\n",
       "      <th>5363</th>\n",
       "      <td>5187</td>\n",
       "      <td>0</td>\n",
       "      <td>Existing Client</td>\n",
       "      <td>05/10/1960</td>\n",
       "      <td>12/03/2009</td>\n",
       "      <td>NP_Client</td>\n",
       "      <td>University</td>\n",
       "      <td>Married</td>\n",
       "      <td>0.0</td>\n",
       "      <td>15</td>\n",
       "      <td>30</td>\n",
       "      <td>1.0</td>\n",
       "      <td>C</td>\n",
       "      <td>14/12/2011</td>\n",
       "      <td>Sales</td>\n",
       "      <td>Owned</td>\n",
       "      <td>1</td>\n",
       "      <td>NaN</td>\n",
       "      <td>B</td>\n",
       "    </tr>\n",
       "    <tr>\n",
       "      <th>5364</th>\n",
       "      <td>9565</td>\n",
       "      <td>0</td>\n",
       "      <td>Existing Client</td>\n",
       "      <td>18/11/1948</td>\n",
       "      <td>24/12/1995</td>\n",
       "      <td>NP_Client</td>\n",
       "      <td>University</td>\n",
       "      <td>Married</td>\n",
       "      <td>2.0</td>\n",
       "      <td>30</td>\n",
       "      <td>100</td>\n",
       "      <td>1.0</td>\n",
       "      <td>P</td>\n",
       "      <td>08/04/2012</td>\n",
       "      <td>Branch</td>\n",
       "      <td>Owned</td>\n",
       "      <td>1</td>\n",
       "      <td>NaN</td>\n",
       "      <td>E</td>\n",
       "    </tr>\n",
       "    <tr>\n",
       "      <th>5365</th>\n",
       "      <td>1757</td>\n",
       "      <td>0</td>\n",
       "      <td>Non Existing Client</td>\n",
       "      <td>06/12/1980</td>\n",
       "      <td>20/07/2011</td>\n",
       "      <td>NP_Client</td>\n",
       "      <td>University</td>\n",
       "      <td>Married</td>\n",
       "      <td>0.0</td>\n",
       "      <td>10</td>\n",
       "      <td>18</td>\n",
       "      <td>2.0</td>\n",
       "      <td>C</td>\n",
       "      <td>24/07/2011</td>\n",
       "      <td>Sales</td>\n",
       "      <td>Owned</td>\n",
       "      <td>1</td>\n",
       "      <td>NaN</td>\n",
       "      <td>B</td>\n",
       "    </tr>\n",
       "    <tr>\n",
       "      <th>5366</th>\n",
       "      <td>3055</td>\n",
       "      <td>0</td>\n",
       "      <td>Non Existing Client</td>\n",
       "      <td>03/11/1962</td>\n",
       "      <td>05/09/2011</td>\n",
       "      <td>NP_Client</td>\n",
       "      <td>Master/PhD</td>\n",
       "      <td>Married</td>\n",
       "      <td>0.0</td>\n",
       "      <td>1</td>\n",
       "      <td>20</td>\n",
       "      <td>1.0</td>\n",
       "      <td>C</td>\n",
       "      <td>06/09/2011</td>\n",
       "      <td>Branch</td>\n",
       "      <td>Owned</td>\n",
       "      <td>2</td>\n",
       "      <td>17/05/2012</td>\n",
       "      <td>C</td>\n",
       "    </tr>\n",
       "    <tr>\n",
       "      <th>5367</th>\n",
       "      <td>7709</td>\n",
       "      <td>0</td>\n",
       "      <td>Non Existing Client</td>\n",
       "      <td>19/11/1964</td>\n",
       "      <td>26/02/2012</td>\n",
       "      <td>NP_Client</td>\n",
       "      <td>University</td>\n",
       "      <td>Married</td>\n",
       "      <td>2.0</td>\n",
       "      <td>10</td>\n",
       "      <td>50</td>\n",
       "      <td>10.0</td>\n",
       "      <td>C</td>\n",
       "      <td>27/02/2012</td>\n",
       "      <td>Sales</td>\n",
       "      <td>Owned</td>\n",
       "      <td>1</td>\n",
       "      <td>NaN</td>\n",
       "      <td>B</td>\n",
       "    </tr>\n",
       "    <tr>\n",
       "      <th>5368</th>\n",
       "      <td>7463</td>\n",
       "      <td>0</td>\n",
       "      <td>Non Existing Client</td>\n",
       "      <td>16/06/1977</td>\n",
       "      <td>14/02/2012</td>\n",
       "      <td>NP_Client</td>\n",
       "      <td>University</td>\n",
       "      <td>Married</td>\n",
       "      <td>1.0</td>\n",
       "      <td>10</td>\n",
       "      <td>36</td>\n",
       "      <td>3.0</td>\n",
       "      <td>C</td>\n",
       "      <td>15/02/2012</td>\n",
       "      <td>Sales</td>\n",
       "      <td>Owned</td>\n",
       "      <td>1</td>\n",
       "      <td>NaN</td>\n",
       "      <td>B</td>\n",
       "    </tr>\n",
       "    <tr>\n",
       "      <th>5369</th>\n",
       "      <td>1271</td>\n",
       "      <td>0</td>\n",
       "      <td>Existing Client</td>\n",
       "      <td>16/09/1986</td>\n",
       "      <td>03/03/2010</td>\n",
       "      <td>P_Client</td>\n",
       "      <td>University</td>\n",
       "      <td>Single</td>\n",
       "      <td>0.0</td>\n",
       "      <td>25</td>\n",
       "      <td>36</td>\n",
       "      <td>1.0</td>\n",
       "      <td>C</td>\n",
       "      <td>21/07/2011</td>\n",
       "      <td>Sales</td>\n",
       "      <td>Owned</td>\n",
       "      <td>1</td>\n",
       "      <td>NaN</td>\n",
       "      <td>D</td>\n",
       "    </tr>\n",
       "    <tr>\n",
       "      <th>5370</th>\n",
       "      <td>6941</td>\n",
       "      <td>0</td>\n",
       "      <td>Existing Client</td>\n",
       "      <td>21/06/1951</td>\n",
       "      <td>02/05/2006</td>\n",
       "      <td>NP_Client</td>\n",
       "      <td>University</td>\n",
       "      <td>Married</td>\n",
       "      <td>0.0</td>\n",
       "      <td>15</td>\n",
       "      <td>36</td>\n",
       "      <td>1.0</td>\n",
       "      <td>C</td>\n",
       "      <td>20/02/2012</td>\n",
       "      <td>Sales</td>\n",
       "      <td>Owned</td>\n",
       "      <td>1</td>\n",
       "      <td>NaN</td>\n",
       "      <td>B</td>\n",
       "    </tr>\n",
       "    <tr>\n",
       "      <th>5371</th>\n",
       "      <td>4717</td>\n",
       "      <td>1</td>\n",
       "      <td>Existing Client</td>\n",
       "      <td>31/05/1974</td>\n",
       "      <td>24/10/2011</td>\n",
       "      <td>NP_Client</td>\n",
       "      <td>Master/PhD</td>\n",
       "      <td>Single</td>\n",
       "      <td>0.0</td>\n",
       "      <td>15</td>\n",
       "      <td>50</td>\n",
       "      <td>7.0</td>\n",
       "      <td>G</td>\n",
       "      <td>22/11/2011</td>\n",
       "      <td>Sales</td>\n",
       "      <td>Owned</td>\n",
       "      <td>1</td>\n",
       "      <td>30/09/2012</td>\n",
       "      <td>C</td>\n",
       "    </tr>\n",
       "    <tr>\n",
       "      <th>5372</th>\n",
       "      <td>7692</td>\n",
       "      <td>0</td>\n",
       "      <td>Non Existing Client</td>\n",
       "      <td>20/06/1959</td>\n",
       "      <td>23/02/2012</td>\n",
       "      <td>NP_Client</td>\n",
       "      <td>University</td>\n",
       "      <td>Married</td>\n",
       "      <td>0.0</td>\n",
       "      <td>11</td>\n",
       "      <td>36</td>\n",
       "      <td>3.0</td>\n",
       "      <td>C</td>\n",
       "      <td>26/02/2012</td>\n",
       "      <td>Sales</td>\n",
       "      <td>Owned</td>\n",
       "      <td>1</td>\n",
       "      <td>NaN</td>\n",
       "      <td>B</td>\n",
       "    </tr>\n",
       "    <tr>\n",
       "      <th>5373</th>\n",
       "      <td>2293</td>\n",
       "      <td>0</td>\n",
       "      <td>Existing Client</td>\n",
       "      <td>08/02/1959</td>\n",
       "      <td>03/08/2011</td>\n",
       "      <td>NP_Client</td>\n",
       "      <td>University</td>\n",
       "      <td>Married</td>\n",
       "      <td>3.0</td>\n",
       "      <td>20</td>\n",
       "      <td>50,4</td>\n",
       "      <td>1.0</td>\n",
       "      <td>C</td>\n",
       "      <td>10/08/2011</td>\n",
       "      <td>Sales</td>\n",
       "      <td>Owned</td>\n",
       "      <td>1</td>\n",
       "      <td>NaN</td>\n",
       "      <td>L</td>\n",
       "    </tr>\n",
       "    <tr>\n",
       "      <th>5374</th>\n",
       "      <td>3349</td>\n",
       "      <td>0</td>\n",
       "      <td>Non Existing Client</td>\n",
       "      <td>28/06/1982</td>\n",
       "      <td>19/09/2011</td>\n",
       "      <td>NP_Client</td>\n",
       "      <td>University</td>\n",
       "      <td>Married</td>\n",
       "      <td>0.0</td>\n",
       "      <td>1</td>\n",
       "      <td>20</td>\n",
       "      <td>1.0</td>\n",
       "      <td>C</td>\n",
       "      <td>22/09/2011</td>\n",
       "      <td>Sales</td>\n",
       "      <td>Owned</td>\n",
       "      <td>1</td>\n",
       "      <td>NaN</td>\n",
       "      <td>B</td>\n",
       "    </tr>\n",
       "    <tr>\n",
       "      <th>5375</th>\n",
       "      <td>5389</td>\n",
       "      <td>0</td>\n",
       "      <td>Non Existing Client</td>\n",
       "      <td>09/04/1976</td>\n",
       "      <td>19/10/2011</td>\n",
       "      <td>NP_Client</td>\n",
       "      <td>University</td>\n",
       "      <td>Married</td>\n",
       "      <td>2.0</td>\n",
       "      <td>1</td>\n",
       "      <td>36</td>\n",
       "      <td>1.0</td>\n",
       "      <td>G</td>\n",
       "      <td>25/11/2011</td>\n",
       "      <td>Sales</td>\n",
       "      <td>Owned</td>\n",
       "      <td>1</td>\n",
       "      <td>NaN</td>\n",
       "      <td>C</td>\n",
       "    </tr>\n",
       "    <tr>\n",
       "      <th>5376</th>\n",
       "      <td>1358</td>\n",
       "      <td>1</td>\n",
       "      <td>Existing Client</td>\n",
       "      <td>27/05/1982</td>\n",
       "      <td>22/06/2011</td>\n",
       "      <td>NP_Client</td>\n",
       "      <td>University</td>\n",
       "      <td>Married</td>\n",
       "      <td>3.0</td>\n",
       "      <td>15</td>\n",
       "      <td>24,816</td>\n",
       "      <td>1.0</td>\n",
       "      <td>C</td>\n",
       "      <td>11/07/2011</td>\n",
       "      <td>Sales</td>\n",
       "      <td>Owned</td>\n",
       "      <td>1</td>\n",
       "      <td>31/10/2012</td>\n",
       "      <td>L</td>\n",
       "    </tr>\n",
       "    <tr>\n",
       "      <th>5377</th>\n",
       "      <td>2502</td>\n",
       "      <td>0</td>\n",
       "      <td>Non Existing Client</td>\n",
       "      <td>19/10/1950</td>\n",
       "      <td>15/08/2011</td>\n",
       "      <td>NP_Client</td>\n",
       "      <td>University</td>\n",
       "      <td>Divorced</td>\n",
       "      <td>0.0</td>\n",
       "      <td>14</td>\n",
       "      <td>14,4</td>\n",
       "      <td>30.0</td>\n",
       "      <td>C</td>\n",
       "      <td>16/08/2011</td>\n",
       "      <td>Branch</td>\n",
       "      <td>Old rent</td>\n",
       "      <td>1</td>\n",
       "      <td>31/03/2013</td>\n",
       "      <td>B</td>\n",
       "    </tr>\n",
       "    <tr>\n",
       "      <th>5378</th>\n",
       "      <td>6712</td>\n",
       "      <td>0</td>\n",
       "      <td>Non Existing Client</td>\n",
       "      <td>01/08/1983</td>\n",
       "      <td>15/01/2012</td>\n",
       "      <td>NP_Client</td>\n",
       "      <td>University</td>\n",
       "      <td>Married</td>\n",
       "      <td>1.0</td>\n",
       "      <td>1</td>\n",
       "      <td>36</td>\n",
       "      <td>1.0</td>\n",
       "      <td>G</td>\n",
       "      <td>19/01/2012</td>\n",
       "      <td>Sales</td>\n",
       "      <td>Owned</td>\n",
       "      <td>1</td>\n",
       "      <td>NaN</td>\n",
       "      <td>C</td>\n",
       "    </tr>\n",
       "    <tr>\n",
       "      <th>5379</th>\n",
       "      <td>4329</td>\n",
       "      <td>0</td>\n",
       "      <td>Non Existing Client</td>\n",
       "      <td>25/05/1982</td>\n",
       "      <td>16/10/2011</td>\n",
       "      <td>NP_Client</td>\n",
       "      <td>University</td>\n",
       "      <td>Married</td>\n",
       "      <td>0.0</td>\n",
       "      <td>15</td>\n",
       "      <td>30</td>\n",
       "      <td>1.0</td>\n",
       "      <td>C</td>\n",
       "      <td>24/10/2011</td>\n",
       "      <td>Sales</td>\n",
       "      <td>Owned</td>\n",
       "      <td>1</td>\n",
       "      <td>NaN</td>\n",
       "      <td>B</td>\n",
       "    </tr>\n",
       "  </tbody>\n",
       "</table>\n",
       "<p>5380 rows × 19 columns</p>\n",
       "</div>"
      ],
      "text/plain": [
       "      Id_Customer  Y        Customer_Type   BirthDate Customer_Open_Date  \\\n",
       "0            7440  0  Non Existing Client  07/08/1977         13/02/2012   \n",
       "1             573  0      Existing Client  13/06/1974         04/02/2009   \n",
       "2            9194  0  Non Existing Client  07/11/1973         03/04/2012   \n",
       "3            3016  1      Existing Client  08/07/1982         25/08/2011   \n",
       "4            6524  0  Non Existing Client  18/08/1953         10/01/2012   \n",
       "5            3858  0      Existing Client  04/03/1983         15/09/2011   \n",
       "6            2189  0  Non Existing Client  25/09/1979         17/07/2011   \n",
       "7            9338  0  Non Existing Client  04/10/1953         11/04/2012   \n",
       "8            9578  0      Existing Client  01/03/1974         20/02/2001   \n",
       "9             173  1      Existing Client  13/02/1963         27/04/2011   \n",
       "10           6439  0  Non Existing Client  27/04/1987         12/12/2011   \n",
       "11           3921  0  Non Existing Client  21/09/1959         18/09/2011   \n",
       "12           6961  0      Existing Client  26/03/1981         30/04/2007   \n",
       "13           9242  0  Non Existing Client  18/07/1987         04/04/2012   \n",
       "14           5086  0  Non Existing Client  01/01/1974         13/11/2011   \n",
       "15           5841  0  Non Existing Client  11/06/1969         15/12/2011   \n",
       "16           6825  0  Non Existing Client  02/03/1974         15/01/2012   \n",
       "17            141  0      Existing Client  23/09/1987         25/11/2010   \n",
       "18           6582  1  Non Existing Client  01/07/1982         12/01/2012   \n",
       "19            882  0  Non Existing Client  21/03/1971         12/06/2011   \n",
       "20           6225  0  Non Existing Client  01/08/1949         08/12/2011   \n",
       "21           2378  0  Non Existing Client  30/05/1987         20/07/2011   \n",
       "22           9350  0  Non Existing Client  01/01/1985         27/03/2012   \n",
       "23           4537  0      Existing Client  29/11/1973         18/04/2007   \n",
       "24           1756  0  Non Existing Client  13/02/1961         20/07/2011   \n",
       "25           7670  0  Non Existing Client  05/02/1948         22/02/2012   \n",
       "26           1051  0  Non Existing Client  21/08/1972         22/06/2011   \n",
       "27           2234  0  Non Existing Client  27/11/1989         24/07/2011   \n",
       "28            620  0      Existing Client  24/11/1965         10/01/2010   \n",
       "29           8076  0  Non Existing Client  26/12/1953         14/02/2012   \n",
       "...           ... ..                  ...         ...                ...   \n",
       "5350         2429  0  Non Existing Client  08/09/1964         07/07/2011   \n",
       "5351         1073  0  Non Existing Client  26/07/1983         23/06/2011   \n",
       "5352         3660  0      Existing Client  21/02/1983         05/08/2008   \n",
       "5353         7025  0      Existing Client  21/09/1980         13/04/2009   \n",
       "5354          505  0      Existing Client  19/02/1978         19/05/2005   \n",
       "5355         8827  0      Existing Client  27/08/1968         05/04/2005   \n",
       "5356         2605  0  Non Existing Client  01/08/1965         16/08/2011   \n",
       "5357         7092  0      Existing Client  11/04/1960         27/03/2011   \n",
       "5358         2355  0  Non Existing Client  05/11/1954         07/08/2011   \n",
       "5359         8764  0      Existing Client  07/10/1964         25/05/1997   \n",
       "5360         4157  0  Non Existing Client  02/06/1986         12/10/2011   \n",
       "5361         6717  0  Non Existing Client  01/10/1956         18/01/2012   \n",
       "5362          924  0  Non Existing Client  20/01/1979         16/06/2011   \n",
       "5363         5187  0      Existing Client  05/10/1960         12/03/2009   \n",
       "5364         9565  0      Existing Client  18/11/1948         24/12/1995   \n",
       "5365         1757  0  Non Existing Client  06/12/1980         20/07/2011   \n",
       "5366         3055  0  Non Existing Client  03/11/1962         05/09/2011   \n",
       "5367         7709  0  Non Existing Client  19/11/1964         26/02/2012   \n",
       "5368         7463  0  Non Existing Client  16/06/1977         14/02/2012   \n",
       "5369         1271  0      Existing Client  16/09/1986         03/03/2010   \n",
       "5370         6941  0      Existing Client  21/06/1951         02/05/2006   \n",
       "5371         4717  1      Existing Client  31/05/1974         24/10/2011   \n",
       "5372         7692  0  Non Existing Client  20/06/1959         23/02/2012   \n",
       "5373         2293  0      Existing Client  08/02/1959         03/08/2011   \n",
       "5374         3349  0  Non Existing Client  28/06/1982         19/09/2011   \n",
       "5375         5389  0  Non Existing Client  09/04/1976         19/10/2011   \n",
       "5376         1358  1      Existing Client  27/05/1982         22/06/2011   \n",
       "5377         2502  0  Non Existing Client  19/10/1950         15/08/2011   \n",
       "5378         6712  0  Non Existing Client  01/08/1983         15/01/2012   \n",
       "5379         4329  0  Non Existing Client  25/05/1982         16/10/2011   \n",
       "\n",
       "       P_Client Educational_Level Marital_Status  Number_Of_Dependant  \\\n",
       "0     NP_Client        University        Married                  3.0   \n",
       "1      P_Client        University        Married                  0.0   \n",
       "2     NP_Client        University        Married                  2.0   \n",
       "3     NP_Client        University        Married                  3.0   \n",
       "4     NP_Client        University        Married                  2.0   \n",
       "5     NP_Client        University        Married                  0.0   \n",
       "6     NP_Client        University        Married                  0.0   \n",
       "7     NP_Client        University        Married                  0.0   \n",
       "8     NP_Client        University         Single                  0.0   \n",
       "9     NP_Client        University        Married                  4.0   \n",
       "10    NP_Client        University         Single                  0.0   \n",
       "11    NP_Client        University        Married                  0.0   \n",
       "12     P_Client        University         Single                  0.0   \n",
       "13    NP_Client        University        Married                  0.0   \n",
       "14    NP_Client        University        Married                  0.0   \n",
       "15    NP_Client        University        Married                  0.0   \n",
       "16    NP_Client        University        Married                  0.0   \n",
       "17    NP_Client        University         Single                  0.0   \n",
       "18    NP_Client        University        Married                  2.0   \n",
       "19    NP_Client        University        Married                  3.0   \n",
       "20    NP_Client        University        Married                  0.0   \n",
       "21    NP_Client        University        Married                  0.0   \n",
       "22    NP_Client        University         Single                  0.0   \n",
       "23     P_Client        University        Married                  3.0   \n",
       "24    NP_Client        University        Married                  2.0   \n",
       "25    NP_Client        University        Married                  0.0   \n",
       "26    NP_Client        University        Married                  0.0   \n",
       "27    NP_Client        University         Single                  0.0   \n",
       "28    NP_Client        University        Married                  2.0   \n",
       "29    NP_Client        University        Married                  0.0   \n",
       "...         ...               ...            ...                  ...   \n",
       "5350  NP_Client        University        Married                  2.0   \n",
       "5351  NP_Client        University        Married                  0.0   \n",
       "5352   P_Client        University        Married                  1.0   \n",
       "5353  NP_Client        University        Married                  3.0   \n",
       "5354  NP_Client        University         Single                  1.0   \n",
       "5355  NP_Client        University        Married                  1.0   \n",
       "5356  NP_Client        University        Married                  5.0   \n",
       "5357   P_Client        Master/PhD        Married                  4.0   \n",
       "5358  NP_Client        University        Married                  0.0   \n",
       "5359  NP_Client        University        Married                  0.0   \n",
       "5360  NP_Client        University         Single                  0.0   \n",
       "5361  NP_Client        University        Married                  0.0   \n",
       "5362  NP_Client        University        Married                  0.0   \n",
       "5363  NP_Client        University        Married                  0.0   \n",
       "5364  NP_Client        University        Married                  2.0   \n",
       "5365  NP_Client        University        Married                  0.0   \n",
       "5366  NP_Client        Master/PhD        Married                  0.0   \n",
       "5367  NP_Client        University        Married                  2.0   \n",
       "5368  NP_Client        University        Married                  1.0   \n",
       "5369   P_Client        University         Single                  0.0   \n",
       "5370  NP_Client        University        Married                  0.0   \n",
       "5371  NP_Client        Master/PhD         Single                  0.0   \n",
       "5372  NP_Client        University        Married                  0.0   \n",
       "5373  NP_Client        University        Married                  3.0   \n",
       "5374  NP_Client        University        Married                  0.0   \n",
       "5375  NP_Client        University        Married                  2.0   \n",
       "5376  NP_Client        University        Married                  3.0   \n",
       "5377  NP_Client        University       Divorced                  0.0   \n",
       "5378  NP_Client        University        Married                  1.0   \n",
       "5379  NP_Client        University        Married                  0.0   \n",
       "\n",
       "      Years_At_Residence Net_Annual_Income  Years_At_Business  \\\n",
       "0                      1                36                1.0   \n",
       "1                     12                18                2.0   \n",
       "2                     10                36                1.0   \n",
       "3                      3                36                1.0   \n",
       "4                      1                36                1.0   \n",
       "5                     28                60                2.0   \n",
       "6                     10                36                1.0   \n",
       "7                     15                36                1.0   \n",
       "8                      0               500                3.0   \n",
       "9                     35              87,6                2.0   \n",
       "10                    10                36                3.0   \n",
       "11                    10                18                2.0   \n",
       "12                     2             29,82                4.0   \n",
       "13                    15                36                1.0   \n",
       "14                     1                36                1.0   \n",
       "15                    10                36                1.0   \n",
       "16                    15                30                1.0   \n",
       "17                    10                18                1.0   \n",
       "18                     1                36                1.0   \n",
       "19                     8                18                2.0   \n",
       "20                    15                30                1.0   \n",
       "21                    12            31,848                1.0   \n",
       "22                    27              26,4                6.0   \n",
       "23                    10            24,288                3.0   \n",
       "24                     2                36                1.0   \n",
       "25                     1                36                1.0   \n",
       "26                     1                20                1.0   \n",
       "27                     4                18                4.0   \n",
       "28                    10                18                2.0   \n",
       "29                    22                18                2.0   \n",
       "...                  ...               ...                ...   \n",
       "5350                  20                48               21.0   \n",
       "5351                  20                18                2.0   \n",
       "5352                  29            49,008                3.0   \n",
       "5353                  22                18                2.0   \n",
       "5354                  20               151                5.0   \n",
       "5355                  20               300               10.0   \n",
       "5356                   1                36                1.0   \n",
       "5357                  10             113,1                1.0   \n",
       "5358                  28                20                1.0   \n",
       "5359                   9              1800                5.0   \n",
       "5360                   1                20                1.0   \n",
       "5361                  15                36                1.0   \n",
       "5362                   1                36                1.0   \n",
       "5363                  15                30                1.0   \n",
       "5364                  30               100                1.0   \n",
       "5365                  10                18                2.0   \n",
       "5366                   1                20                1.0   \n",
       "5367                  10                50               10.0   \n",
       "5368                  10                36                3.0   \n",
       "5369                  25                36                1.0   \n",
       "5370                  15                36                1.0   \n",
       "5371                  15                50                7.0   \n",
       "5372                  11                36                3.0   \n",
       "5373                  20              50,4                1.0   \n",
       "5374                   1                20                1.0   \n",
       "5375                   1                36                1.0   \n",
       "5376                  15            24,816                1.0   \n",
       "5377                  14              14,4               30.0   \n",
       "5378                   1                36                1.0   \n",
       "5379                  15                30                1.0   \n",
       "\n",
       "     Prod_Sub_Category Prod_Decision_Date  Source Type_Of_Residence  \\\n",
       "0                    C         14/02/2012   Sales             Owned   \n",
       "1                    C         30/06/2011   Sales           Parents   \n",
       "2                    C         04/04/2012   Sales             Owned   \n",
       "3                    C         07/09/2011   Sales          New rent   \n",
       "4                    C         11/01/2012   Sales             Owned   \n",
       "5                    C         04/10/2011   Sales          Old rent   \n",
       "6                    C         28/07/2011   Sales             Owned   \n",
       "7                    C         12/04/2012   Sales             Owned   \n",
       "8                    P         02/04/2012  Branch             Owned   \n",
       "9                    C         03/05/2011   Sales             Owned   \n",
       "10                   C         09/01/2012   Sales             Owned   \n",
       "11                   C         02/10/2011   Sales             Owned   \n",
       "12                   C         12/02/2012  Branch             Owned   \n",
       "13                   C         05/04/2012   Sales             Owned   \n",
       "14                   G         17/11/2011   Sales             Owned   \n",
       "15                   C         20/12/2011   Sales             Owned   \n",
       "16                   C         24/01/2012   Sales             Owned   \n",
       "17                   C         10/05/2011   Sales             Owned   \n",
       "18                   C         15/01/2012   Sales             Owned   \n",
       "19                   C         15/06/2011   Sales             Owned   \n",
       "20                   C         29/12/2011   Sales             Owned   \n",
       "21                   C         09/08/2011   Sales             Owned   \n",
       "22                   C         11/04/2012  Branch             Owned   \n",
       "23                   C         29/10/2011   Sales             Owned   \n",
       "24                   C         24/07/2011   Sales             Owned   \n",
       "25                   C         23/02/2012   Sales             Owned   \n",
       "26                   C         28/06/2011   Sales             Owned   \n",
       "27                   C         28/07/2011   Sales             Owned   \n",
       "28                   C         29/06/2011   Sales             Owned   \n",
       "29                   C         15/02/2012   Sales             Owned   \n",
       "...                ...                ...     ...               ...   \n",
       "5350                 C         11/08/2011  Branch             Owned   \n",
       "5351                 C         26/06/2011  Branch             Owned   \n",
       "5352                 C         28/09/2011  Branch             Owned   \n",
       "5353                 C         09/02/2012   Sales             Owned   \n",
       "5354                 G         29/06/2011  Branch             Owned   \n",
       "5355                 P         22/04/2012  Branch             Owned   \n",
       "5356                 C         23/08/2011   Sales             Owned   \n",
       "5357                 G         21/02/2012  Branch             Owned   \n",
       "5358                 C         08/08/2011   Sales          Old rent   \n",
       "5359                 P         20/03/2012  Branch             Owned   \n",
       "5360                 C         20/10/2011   Sales             Owned   \n",
       "5361                 C         19/01/2012   Sales             Owned   \n",
       "5362                 C         16/06/2011   Sales             Owned   \n",
       "5363                 C         14/12/2011   Sales             Owned   \n",
       "5364                 P         08/04/2012  Branch             Owned   \n",
       "5365                 C         24/07/2011   Sales             Owned   \n",
       "5366                 C         06/09/2011  Branch             Owned   \n",
       "5367                 C         27/02/2012   Sales             Owned   \n",
       "5368                 C         15/02/2012   Sales             Owned   \n",
       "5369                 C         21/07/2011   Sales             Owned   \n",
       "5370                 C         20/02/2012   Sales             Owned   \n",
       "5371                 G         22/11/2011   Sales             Owned   \n",
       "5372                 C         26/02/2012   Sales             Owned   \n",
       "5373                 C         10/08/2011   Sales             Owned   \n",
       "5374                 C         22/09/2011   Sales             Owned   \n",
       "5375                 G         25/11/2011   Sales             Owned   \n",
       "5376                 C         11/07/2011   Sales             Owned   \n",
       "5377                 C         16/08/2011  Branch          Old rent   \n",
       "5378                 G         19/01/2012   Sales             Owned   \n",
       "5379                 C         24/10/2011   Sales             Owned   \n",
       "\n",
       "      Nb_Of_Products Prod_Closed_Date Prod_Category  \n",
       "0                  1              NaN             B  \n",
       "1                  1              NaN             G  \n",
       "2                  1              NaN             B  \n",
       "3                  1       31/12/2012             L  \n",
       "4                  1              NaN             D  \n",
       "5                  1              NaN             C  \n",
       "6                  1              NaN             B  \n",
       "7                  1       16/04/2013             B  \n",
       "8                  1              NaN             E  \n",
       "9                  1       18/11/2012             L  \n",
       "10                 1              NaN             B  \n",
       "11                 2              NaN             B  \n",
       "12                 1              NaN             G  \n",
       "13                 1              NaN             B  \n",
       "14                 1              NaN             C  \n",
       "15                 1              NaN             B  \n",
       "16                 1              NaN             B  \n",
       "17                 1              NaN             B  \n",
       "18                 1       30/09/2012             B  \n",
       "19                 1              NaN             D  \n",
       "20                 1              NaN             B  \n",
       "21                 1              NaN             K  \n",
       "22                 1       02/06/2013             K  \n",
       "23                 1              NaN             G  \n",
       "24                 1              NaN             B  \n",
       "25                 1              NaN             B  \n",
       "26                 1              NaN             D  \n",
       "27                 1              NaN             B  \n",
       "28                 1              NaN             D  \n",
       "29                 1              NaN             B  \n",
       "...              ...              ...           ...  \n",
       "5350               1              NaN             B  \n",
       "5351               1              NaN             D  \n",
       "5352               1              NaN             H  \n",
       "5353               1              NaN             D  \n",
       "5354               1              NaN             J  \n",
       "5355               1              NaN             E  \n",
       "5356               1              NaN             B  \n",
       "5357               1              NaN             G  \n",
       "5358               1              NaN             B  \n",
       "5359               1              NaN             E  \n",
       "5360               1              NaN             B  \n",
       "5361               1              NaN             B  \n",
       "5362               1              NaN             B  \n",
       "5363               1              NaN             B  \n",
       "5364               1              NaN             E  \n",
       "5365               1              NaN             B  \n",
       "5366               2       17/05/2012             C  \n",
       "5367               1              NaN             B  \n",
       "5368               1              NaN             B  \n",
       "5369               1              NaN             D  \n",
       "5370               1              NaN             B  \n",
       "5371               1       30/09/2012             C  \n",
       "5372               1              NaN             B  \n",
       "5373               1              NaN             L  \n",
       "5374               1              NaN             B  \n",
       "5375               1              NaN             C  \n",
       "5376               1       31/10/2012             L  \n",
       "5377               1       31/03/2013             B  \n",
       "5378               1              NaN             C  \n",
       "5379               1              NaN             B  \n",
       "\n",
       "[5380 rows x 19 columns]"
      ]
     },
     "execution_count": 4,
     "metadata": {},
     "output_type": "execute_result"
    }
   ],
   "source": [
    "data"
   ]
  },
  {
   "cell_type": "code",
   "execution_count": null,
   "metadata": {},
   "outputs": [],
   "source": []
  },
  {
   "cell_type": "markdown",
   "metadata": {},
   "source": [
    "On a un problème avec Net_Annual_Income qui est pas enregistré en float, ce qui est pas très pratique. Le problème c'est que pour l'enregistrer en float il faut changer les ',' en '.'."
   ]
  },
  {
   "cell_type": "code",
   "execution_count": 5,
   "metadata": {},
   "outputs": [],
   "source": [
    "data['Net_Annual_Income'] = data['Net_Annual_Income'].str.replace(',', '.').astype(float)"
   ]
  },
  {
   "cell_type": "code",
   "execution_count": 6,
   "metadata": {},
   "outputs": [
    {
     "data": {
      "text/plain": [
       "Id_Customer              int64\n",
       "Y                        int64\n",
       "Customer_Type           object\n",
       "BirthDate               object\n",
       "Customer_Open_Date      object\n",
       "P_Client                object\n",
       "Educational_Level       object\n",
       "Marital_Status          object\n",
       "Number_Of_Dependant    float64\n",
       "Years_At_Residence       int64\n",
       "Net_Annual_Income      float64\n",
       "Years_At_Business      float64\n",
       "Prod_Sub_Category       object\n",
       "Prod_Decision_Date      object\n",
       "Source                  object\n",
       "Type_Of_Residence       object\n",
       "Nb_Of_Products           int64\n",
       "Prod_Closed_Date        object\n",
       "Prod_Category           object\n",
       "dtype: object"
      ]
     },
     "execution_count": 6,
     "metadata": {},
     "output_type": "execute_result"
    }
   ],
   "source": [
    "data.astype({'Net_Annual_Income': 'float64'}).dtypes"
   ]
  },
  {
   "cell_type": "code",
   "execution_count": 7,
   "metadata": {},
   "outputs": [
    {
     "data": {
      "text/plain": [
       "Id_Customer              int64\n",
       "Y                        int64\n",
       "Customer_Type           object\n",
       "BirthDate               object\n",
       "Customer_Open_Date      object\n",
       "P_Client                object\n",
       "Educational_Level       object\n",
       "Marital_Status          object\n",
       "Number_Of_Dependant    float64\n",
       "Years_At_Residence       int64\n",
       "Net_Annual_Income      float64\n",
       "Years_At_Business      float64\n",
       "Prod_Sub_Category       object\n",
       "Prod_Decision_Date      object\n",
       "Source                  object\n",
       "Type_Of_Residence       object\n",
       "Nb_Of_Products           int64\n",
       "Prod_Closed_Date        object\n",
       "Prod_Category           object\n",
       "dtype: object"
      ]
     },
     "execution_count": 7,
     "metadata": {},
     "output_type": "execute_result"
    }
   ],
   "source": [
    "data.dtypes"
   ]
  },
  {
   "cell_type": "markdown",
   "metadata": {},
   "source": [
    "On trace des histogrammes pour les variables continues, voir si on observe quelque chose, peut-être des outliers..."
   ]
  },
  {
   "cell_type": "code",
   "execution_count": 8,
   "metadata": {},
   "outputs": [
    {
     "data": {
      "text/plain": [
       "array([[<matplotlib.axes._subplots.AxesSubplot object at 0x1a12e855c0>]],\n",
       "      dtype=object)"
      ]
     },
     "execution_count": 8,
     "metadata": {},
     "output_type": "execute_result"
    },
    {
     "data": {
      "image/png": "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\n",
      "text/plain": [
       "<Figure size 432x288 with 1 Axes>"
      ]
     },
     "metadata": {},
     "output_type": "display_data"
    },
    {
     "data": {
      "image/png": "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\n",
      "text/plain": [
       "<Figure size 432x288 with 1 Axes>"
      ]
     },
     "metadata": {},
     "output_type": "display_data"
    },
    {
     "data": {
      "image/png": "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\n",
      "text/plain": [
       "<Figure size 432x288 with 1 Axes>"
      ]
     },
     "metadata": {},
     "output_type": "display_data"
    },
    {
     "data": {
      "image/png": "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\n",
      "text/plain": [
       "<Figure size 432x288 with 1 Axes>"
      ]
     },
     "metadata": {},
     "output_type": "display_data"
    },
    {
     "data": {
      "image/png": "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\n",
      "text/plain": [
       "<Figure size 432x288 with 1 Axes>"
      ]
     },
     "metadata": {},
     "output_type": "display_data"
    },
    {
     "data": {
      "image/png": "iVBORw0KGgoAAAANSUhEUgAAAYAAAAEICAYAAABWJCMKAAAABHNCSVQICAgIfAhkiAAAAAlwSFlzAAALEgAACxIB0t1+/AAAADl0RVh0U29mdHdhcmUAbWF0cGxvdGxpYiB2ZXJzaW9uIDIuMi4yLCBodHRwOi8vbWF0cGxvdGxpYi5vcmcvhp/UCwAAFxJJREFUeJzt3WuUZWWd3/Hvb2hBBi+AaAUbxkYliRgjMj2AceLqEYebRnihsyAsaQkzPWZIogmzDGRWQrwlYobBeB17BEWDIvEGQQ32QmqSWQkoeOEiEhpEaEHQaUBbMy7b/PNiP4WHspo61VXV1VXP97PWWWfvZz9n7/0/u/v8zr7U2akqJEn9+bWlXgFJ0tIwACSpUwaAJHXKAJCkThkAktQpA0CSOmUASFKnDABpASVZl2TLUq+HNA4DQAsqyd1JHkiyz0jb7yeZHOO1H0nytjkubzLJQ0n22onVXTLtfXr5Uq+H+mYAaDGsAt6w2AtJsgb4h0ABr1rs5UkrjQGgxfCfgD9Osu/0CUn+bpJNSbYmuT3J77X2DcBpwJuSbEvy38ZYzunAdcBHgPXTlvORJO9L8vkkP05yfZLnjEyvJK9Pckfbg3hfkrRp/z7Jfxnpu6b1X9XGz0hyW5vvXUn+cK5v0LR1fV2Sv0ryp21dvpPkhJHp+yf5cJL72vTPjUz7gySb2/t5ZZJnTqvxj1qNP07y1iTPSfK/k/woyeVJ9hzp/8ok30jycJL/leTvz6cu7f4MAC2GG4BJ4I9HG9thoU3Ax4FnAKcC70/y/KraCFwKvLOqnlRV/2iM5ZzeXnMpcFySiWnTTwXeDOwHbAbePm36K4HfAl4I/B5w3Jj1Pdhe+xTgDODCJEeM+dodOQq4HTgAeCdw0VQgAR8Dfh14PsP7diFAkpcB/7Gt+4HAd4HLps33eOA3gaOBNwEbGYL2YODvMbxHtPW/GPhD4GnAB4Erl9uhNc2NAaDF8u+Af57k6SNtrwTurqoPV9X2qvoa8Gng1XOdeZLfBp4FXF5VNwJ3Av94WrfPVNVXqmo7Q0gcPm36O6rq4aq6B7h2hukzqqrPV9WdNfhL4EsMh6Lm47tV9RdV9QvgEoYP9IkkBwInAK+vqoeq6udtmTB8kF9cVV+rqp8B5wIvbofGppxfVT+qqluBW4AvVdVdVfUI8EXgRa3fHwAfrKrrq+oXVXUJ8DOG4NAKZQBoUVTVLcBVwDkjzc8CjmqHGB5O8jDDh9jf2olFrGf4MPthG/840w4DAd8fGf4p8KQ5Tp9RkhOSXNcOuzwMnMjwzX0+Hl2XqvppG3wSwzf1rVX10AyveSbDt/6p120D/hpYPdLngZHh/zvD+FTNzwLOnrZtDm7L0Aq1aqlXQCvaecDXgAva+L3AX1bV7+6g/1i/TZ5kb4bDHnskmfrg3AvYN8kLq+qb81hngJ8wHHKZ8mhAtUMin2Y4/HRFVf28HZMPi+NeYP8k+1bVw9Om3cfwwT21bvswHL753k4u5+1VNf0wmVYw9wC0aKpqM/BJ4F+0pquAv53ktUme0B6/leR5bfoDwLPHmPXJwC+AwxgO2xwOPA/4nwwfzPP1DeClSX4jyVMZDq1M2ZMhbH4AbG8na49dgGXOqKruZzhU8/4k+7X37KVt8seBM5Ic3oLpPwDXV9XdO7GovwBen+SoDPZJ8ookT16QQrRbMgC02N4C7ANQVT9m+LA8heHb6/eB8xk+UAEuAg5rhyA+N8O8pqwHPlxV91TV96cewHuB06au1tlZVbWJIbhuAm5kCK6paT9mCLTLgYcYzjtcOZ/ljeG1wM+BbzOcgH5jW5drgH/LsEdyP/Achvd2zqrqBobzAO9lqGsz8Lp5rrd2c/GOYJLUJ/cAJKlTngTWbinJbwDf2sHkw9qlm7ut5b7+6oOHgCSpU7v1HsABBxxQa9as2enX/+QnP2GfffaZveMK0Vu9YM29sOa5ufHGG39YVU+frd9uHQBr1qzhhhtu2OnXT05Osm7duoVbod1cb/WCNffCmucmyXdn7+VJYEnqlgEgSZ0yACSpUwaAJHXKAJCkThkAktQpA0CSOjVWACS5O8nN7X6hN7S2/du9Xe9oz/u19iR5d7tP6U2jt8pLsr71vyPJ9Jt3SJJ2obnsAfxOVR1eVWvb+DnANVV1KHANv7zz0wnAoe2xAfgADIHBcIOQo4AjgfOmQkOStOvN5xDQSQz3LqU9nzzS/tF2v9TrGO7SdCDDDbc3VdXU7e02MdywetHc/L1HWHPO51lzzucXczGStCyN+1MQBXwpSTHcOHojMNHuVkRV3Z/kGa3vaobby03Z0tp21P4YSTYw7DkwMTHB5OTk+NVMM7E3nP2C7QDzms9ysW3bti7qHGXNfbDmxTFuALykqu5rH/Kbknz7cfrOdG/Uepz2xzYM4bIRYO3atTWf3/94z6VXcMHNQ4l3n7bz81ku/L2UPlhzH3ZFzWMdAqqq+9rzg8BnGY7hP9AO7dCeH2zdtwAHj7z8IIbb/+2oXZK0BGYNgHZz6CdPDTPc0/UWhvugTl3Jsx64og1fCZzergY6GnikHSq6Gji23dh6vzafqxe0GknS2MY5BDQBfDbJVP+PV9V/T/JV4PIkZwL3AK9p/b8AnMhwU+mfAmcAVNXWJG8Fvtr6vaWqti5YJZKkOZk1AKrqLuCFM7T/NXDMDO0FnLWDeV0MXDz31ZQkLTT/EliSOmUASFKnDABJ6pQBIEmdMgAkqVMGgCR1ygCQpE4ZAJLUKQNAkjplAEhSpwwASeqUASBJnTIAJKlTBoAkdcoAkKROGQCS1CkDQJI6ZQBIUqcMAEnqlAEgSZ0yACSpUwaAJHXKAJCkThkAktQpA0CSOmUASFKnDABJ6pQBIEmdMgAkqVMGgCR1ygCQpE4ZAJLUqbEDIMkeSb6e5Ko2fkiS65PckeSTSfZs7Xu18c1t+pqReZzb2m9PctxCFyNJGt9c9gDeANw2Mn4+cGFVHQo8BJzZ2s8EHqqq5wIXtn4kOQw4BXg+cDzw/iR7zG/1JUk7a6wASHIQ8ArgQ208wMuAT7UulwAnt+GT2jht+jGt/0nAZVX1s6r6DrAZOHIhipAkzd2qMfu9C3gT8OQ2/jTg4ara3sa3AKvb8GrgXoCq2p7kkdZ/NXDdyDxHX/OoJBuADQATExNMTk6OW8uvmNgbzn7BsIrzmc9ysW3bti7qHGXNfbDmxTFrACR5JfBgVd2YZN1U8wxda5Zpj/eaXzZUbQQ2Aqxdu7bWrVs3vcvY3nPpFVxw81Di3aft/HyWi8nJSebzfi1H1twHa14c4+wBvAR4VZITgScCT2HYI9g3yaq2F3AQcF/rvwU4GNiSZBXwVGDrSPuU0ddIknaxWc8BVNW5VXVQVa1hOIn75ao6DbgWeHXrth64og1f2cZp079cVdXaT2lXCR0CHAp8ZcEqkSTNybjnAGbyr4HLkrwN+DpwUWu/CPhYks0M3/xPAaiqW5NcDnwL2A6cVVW/mMfyJUnzMKcAqKpJYLIN38UMV/FU1d8Ar9nB698OvH2uKylJWnj+JbAkdcoAkKROGQCS1CkDQJI6ZQBIUqcMAEnqlAEgSZ0yACSpUwaAJHXKAJCkThkAktQpA0CSOmUASFKnDABJ6pQBIEmdMgAkqVMGgCR1ygCQpE4ZAJLUKQNAkjplAEhSpwwASeqUASBJnTIAJKlTBoAkdcoAkKROGQCS1CkDQJI6ZQBIUqcMAEnqlAEgSZ0yACSpU7MGQJInJvlKkm8muTXJm1v7IUmuT3JHkk8m2bO179XGN7fpa0bmdW5rvz3JcYtVlCRpduPsAfwMeFlVvRA4HDg+ydHA+cCFVXUo8BBwZut/JvBQVT0XuLD1I8lhwCnA84Hjgfcn2WMhi5EkjW/WAKjBtjb6hPYo4GXAp1r7JcDJbfikNk6bfkyStPbLqupnVfUdYDNw5IJUIUmas1XjdGrf1G8Engu8D7gTeLiqtrcuW4DVbXg1cC9AVW1P8gjwtNZ+3chsR18zuqwNwAaAiYkJJicn51bRiIm94ewXDKs4n/ksF9u2beuizlHW3AdrXhxjBUBV/QI4PMm+wGeB583UrT1nB9N21D59WRuBjQBr166tdevWjbOKM3rPpVdwwc1DiXeftvPzWS4mJyeZz/u1HFlzH6x5cczpKqCqehiYBI4G9k0yFSAHAfe14S3AwQBt+lOBraPtM7xGkrSLjXMV0NPbN3+S7A28HLgNuBZ4deu2HriiDV/ZxmnTv1xV1dpPaVcJHQIcCnxloQqRJM3NOIeADgQuaecBfg24vKquSvIt4LIkbwO+DlzU+l8EfCzJZoZv/qcAVNWtSS4HvgVsB85qh5YkSUtg1gCoqpuAF83QfhczXMVTVX8DvGYH83o78Pa5r6YkaaH5l8CS1CkDQJI6ZQBIUqcMAEnqlAEgSZ0yACSpUwaAJHXKAJCkThkAktQpA0CSOmUASFKnDABJ6pQBIEmdMgAkqVMGgCR1ygCQpE4ZAJLUKQNAkjplAEhSpwwASeqUASBJnTIAJKlTBoAkdcoAkKROGQCS1CkDQJI6ZQBIUqcMAEnqlAEgSZ0yACSpUwaAJHXKAJCkTs0aAEkOTnJtktuS3JrkDa19/ySbktzRnvdr7Uny7iSbk9yU5IiRea1v/e9Isn7xypIkzWacPYDtwNlV9TzgaOCsJIcB5wDXVNWhwDVtHOAE4ND22AB8AIbAAM4DjgKOBM6bCg1J0q43awBU1f1V9bU2/GPgNmA1cBJwSet2CXByGz4J+GgNrgP2TXIgcBywqaq2VtVDwCbg+AWtRpI0tlVz6ZxkDfAi4HpgoqruhyEkkjyjdVsN3Dvysi2tbUft05exgWHPgYmJCSYnJ+eyio8xsTec/YLtAPOaz3Kxbdu2LuocZc19sObFMXYAJHkS8GngjVX1oyQ77DpDWz1O+2MbqjYCGwHWrl1b69atG3cVf8V7Lr2CC24eSrz7tJ2fz3IxOTnJfN6v5cia+2DNi2Osq4CSPIHhw//SqvpMa36gHdqhPT/Y2rcAB4+8/CDgvsdplyQtgXGuAgpwEXBbVf3ZyKQrgakredYDV4y0n96uBjoaeKQdKroaODbJfu3k77GtTZK0BMY5BPQS4LXAzUm+0dr+DfAO4PIkZwL3AK9p074AnAhsBn4KnAFQVVuTvBX4auv3lqrauiBVSJLmbNYAqKq/Yubj9wDHzNC/gLN2MK+LgYvnsoKSpMXhXwJLUqcMAEnqlAEgSZ0yACSpUwaAJHXKAJCkThkAktQpA0CSOmUASFKnDABJ6pQBIEmdMgAkqVMGgCR1ygCQpE4ZAJLUKQNAkjplAEhSpwwASeqUASBJnTIAJKlTBoAkdcoAkKROGQCS1CkDQJI6ZQBIUqcMAEnqlAEgSZ0yACSpUwaAJHXKAJCkThkAktQpA0CSOjVrACS5OMmDSW4Zads/yaYkd7Tn/Vp7krw7yeYkNyU5YuQ161v/O5KsX5xyJEnjGmcP4CPA8dPazgGuqapDgWvaOMAJwKHtsQH4AAyBAZwHHAUcCZw3FRqSpKUxawBU1f8Atk5rPgm4pA1fApw80v7RGlwH7JvkQOA4YFNVba2qh4BN/GqoSJJ2oZ09BzBRVfcDtOdntPbVwL0j/ba0th21S5KWyKoFnl9maKvHaf/VGSQbGA4fMTExweTk5E6vzMTecPYLtgPMaz7LxbZt27qoc5Q198GaF8fOBsADSQ6sqvvbIZ4HW/sW4OCRfgcB97X2ddPaJ2eacVVtBDYCrF27ttatWzdTt7G859IruODmocS7T9v5+SwXk5OTzOf9Wo6suQ/WvDh29hDQlcDUlTzrgStG2k9vVwMdDTzSDhFdDRybZL928vfY1iZJWiKz7gEk+QTDt/cDkmxhuJrnHcDlSc4E7gFe07p/ATgR2Az8FDgDoKq2Jnkr8NXW7y1VNf3EsiRpF5o1AKrq1B1MOmaGvgWctYP5XAxcPKe1kyQtGv8SWJI6ZQBIUqcMAEnqlAEgSZ0yACSpUwaAJHXKAJCkThkAktQpA0CSOmUASFKnDABJ6pQBIEmdMgAkqVMGgCR1ygCQpE4ZAJLUKQNAkjplAEhSpwwASeqUASBJnTIAJKlTBoAkdcoAkKROGQCS1CkDQJI6ZQBIUqcMAEnqlAEgSZ0yACSpU6uWegV2lTXnfP7R4bvf8YolXBNJ2j24ByBJnTIAJKlTBoAkdWqXnwNIcjzwn4E9gA9V1Tt29Tp4PkCSdvEeQJI9gPcBJwCHAacmOWxXroMkabCr9wCOBDZX1V0ASS4DTgK+tYvX41GjewM7Ms5ewlLtVYwu9yPH77PLlitp+dvVAbAauHdkfAtw1GiHJBuADW10W5Lb57G8A4AfzuP1wzqdv7j9F8rvnL8w9S4z1twHa56bZ43TaVcHQGZoq8eMVG0ENi7IwpIbqmrtQsxrOeitXrDmXljz4tjVVwFtAQ4eGT8IuG8Xr4MkiV0fAF8FDk1ySJI9gVOAK3fxOkiS2MWHgKpqe5J/BlzNcBnoxVV16yIuckEOJS0jvdUL1twLa14EqarZe0mSVhz/EliSOmUASFKnVmQAJDk+ye1JNic5Z6nXZz6SHJzk2iS3Jbk1yRta+/5JNiW5oz3v19qT5N2t9puSHDEyr/Wt/x1J1i9VTeNIskeSrye5qo0fkuT6tu6fbBcRkGSvNr65TV8zMo9zW/vtSY5bmkrGk2TfJJ9K8u22rV/cwTb+l+3f9C1JPpHkiSttOye5OMmDSW4ZaVuw7ZrkN5Pc3F7z7iQzXWq/Y1W1oh4MJ5fvBJ4N7Al8EzhsqddrHvUcCBzRhp8M/B+Gn9F4J3BOaz8HOL8Nnwh8keFvLo4Grm/t+wN3tef92vB+S13f49T9r4CPA1e18cuBU9rwnwP/tA3/EfDnbfgU4JNt+LC27fcCDmn/JvZY6roep95LgN9vw3sC+67kbczwR6HfAfYe2b6vW2nbGXgpcARwy0jbgm1X4CvAi9trvgicMKf1W+o3aBHe8BcDV4+Mnwucu9TrtYD1XQH8LnA7cGBrOxC4vQ1/EDh1pP/tbfqpwAdH2h/Tb3d6MPx9yDXAy4Cr2j/uHwKrpm9jhivKXtyGV7V+mb7dR/vtbg/gKe3DMNPaV/I2nvpVgP3bdrsKOG4lbmdgzbQAWJDt2qZ9e6T9Mf3GeazEQ0Az/dzE6iValwXVdntfBFwPTFTV/QDt+Rmt247qX07vy7uANwH/r40/DXi4qra38dF1f7SuNv2R1n851fts4AfAh9thrw8l2YcVvI2r6nvAnwL3APczbLcbWdnbecpCbdfVbXh6+9hWYgDM+nMTy1GSJwGfBt5YVT96vK4ztNXjtO9WkrwSeLCqbhxtnqFrzTJtWdTbrGI4TPCBqnoR8BOGQwM7suxrbse9T2I4bPNMYB+GXwmebiVt59nMtcZ5174SA2DF/dxEkicwfPhfWlWfac0PJDmwTT8QeLC176j+5fK+vAR4VZK7gcsYDgO9C9g3ydQfLo6u+6N1telPBbayfOqFYV23VNX1bfxTDIGwUrcxwMuB71TVD6rq58BngH/Ayt7OUxZqu25pw9Pbx7YSA2BF/dxEO6t/EXBbVf3ZyKQrgamrAdYznBuYaj+9XVFwNPBI2828Gjg2yX7t29exrW23UlXnVtVBVbWGYdt9uapOA64FXt26Ta936n14detfrf2UdvXIIcChDCfMdjtV9X3g3iR/pzUdw/AT6StyGzf3AEcn+fX2b3yq5hW7nUcsyHZt036c5Oj2Hp4+Mq/xLPUJkkU66XIiw9UydwJ/stTrM89afptht+4m4BvtcSLD8c9rgDva8/6tfxhuunMncDOwdmRe/wTY3B5nLHVtY9S+jl9eBfRshv/Ym4H/CuzV2p/Yxje36c8eef2ftPfhduZ4dcQS1Ho4cEPbzp9juNpjRW9j4M3At4FbgI8xXMmzorYz8AmGcxw/Z/jGfuZCbldgbXv/7gTey7QLCWZ7+FMQktSplXgISJI0BgNAkjplAEhSpwwASeqUASBJnTIAJKlTBoAkder/A4aoka4MfPamAAAAAElFTkSuQmCC\n",
      "text/plain": [
       "<Figure size 432x288 with 1 Axes>"
      ]
     },
     "metadata": {},
     "output_type": "display_data"
    }
   ],
   "source": [
    "data['Y'].astype(int).plot.hist();\n",
    "\n",
    "data.hist(column = 'Number_Of_Dependant', bins = 20)\n",
    "data.hist(column = 'Years_At_Residence', bins = 60)\n",
    "data.hist(column = 'Years_At_Business', bins = 100)\n",
    "data.hist(column = 'Nb_Of_Products', bins = 3)\n",
    "data.hist(column = 'Net_Annual_Income',bins = 100)"
   ]
  },
  {
   "cell_type": "markdown",
   "metadata": {},
   "source": [
    "Intéressant de remarquer que pour la catégorie 'Years_At_Residence' on a des gros regroupements autour de 10,20 et 30, comme si on avait une grosse partie de gens qui arrondissaient sur ces valeurs là, peut-être que ca induit un certain biais."
   ]
  },
  {
   "cell_type": "code",
   "execution_count": null,
   "metadata": {},
   "outputs": [],
   "source": []
  },
  {
   "cell_type": "code",
   "execution_count": 27,
   "metadata": {},
   "outputs": [
    {
     "data": {
      "image/png": "iVBORw0KGgoAAAANSUhEUgAAA1oAAANSCAYAAAB88b/zAAAABHNCSVQICAgIfAhkiAAAAAlwSFlzAAALEgAACxIB0t1+/AAAADl0RVh0U29mdHdhcmUAbWF0cGxvdGxpYiB2ZXJzaW9uIDIuMi4yLCBodHRwOi8vbWF0cGxvdGxpYi5vcmcvhp/UCwAAIABJREFUeJzs3XeYG9XZxuHfu9U2boAxxgkgIDTTTPEHhGYgoYkAoYQaSiAJCYQWSARpCyEgOnHoHUIzkJAAoncwpvcSU0WzwdjgxW37+/0xYxBmd71FqyOtnvu6dFk7OjPzjME7euecOWPujoiIiIiIiORPRegAIiIiIiIi/Y0KLRERERERkTxToSUiIiIiIpJnKrRERERERETyTIWWiIiIiIhInqnQEhERERERyTMVWiIiIiIiInmmQksKzsz2MbNnzWyOmU0zs7vMbNNebK/OzK7NZ8Z8M7MT4uOdY2YNZtaa8/NrofOJiEh4Oj/q/Cj9iwotKSgzOwY4FzgFWBpYDrgA2Dlkrnwxs6r2lrv7Ke4+2N0HA4cCkxf87O5rFDaliIgUG50fdX6U/keFlhSMmQ0DTgIOc/d/u/tcd29299vd/Tgzu8rMTs5pP97MPsr5+fdm9rGZzTazKWa2tZltB5wA7Blf/XopbjvazG4zs8/N7G0z+3nOdurM7GYzuzbe1itmtoqZHW9m083sQzPbJje3mV0eX1382MxONrPK+LMDzWySmZ1jZp8DdT38u7nYzE5baNldZnZ4/P6j+PjfMLMv4jy1OW13MrOXzGyWmT1uZmv2JIeIiBSezo+d/t3o/CglS4WWFNLGwADg1u6uaGarAocD49x9CLAtkHX3u4mu/k2Mr36tE69yA/ARMBrYHTjFzLbO2eSPgH8CiwMvAPcQ/Xv4DtHJ7uKctlcDLcD3gHWBbYBDcj7fEHgXGAn8rbvHlrOPfcysIj7epYEtgBtz2uwL/BBYGVgDOD5uOw64NM60JHAF8F8zq+lhFhERKSydHzum86OULBVaUkhLAjPcvaUH67YCtcAYM6t296y7v9NeQzNbFtgU+L27N7j7i8BlwE9zmj3m7vfEWW4GlgLS7t5M9Ms7YWbD41/o2wNHxVcYpwPnAHvlbGuqu//D3VvcfX4Pjg13fwKYT3TyANgbuN/dZ+Q0m+DuH8XLTonbAPwCuMDdn3H3Vne/Il4+ridZRESk4HR+7IDOj1LKVGhJIc0ERnQ0Trsz7v42cBTR0IPpZnajmY3uoPlo4HN3n52z7H2iq3ELfJrzfj7RCa4152eAwcDyQDUwLR52MIvoat7InPU/7O7xdOAaYL/4/X5EVxRz5e7nfaLjJM74+wX54ozL8M3jFRGR4qXzY+d0fpSSpEJLCmky0ADs0sHnc4FBOT+Pyv3Q3a93902JfnE6sGDMti+0nanAEmY2JGfZcsDHPcj8IdAIjHD34fFr6EI36C68/576J7Crma0LrATcvtDny+a8X47oOBdkPDEn33B3H+TuN+Upl4iI9C2dHzun86OUJBVaUjDuXg/8GTjfzHYxs0FmVm1m25vZ6cCLwA5mtoSZjSK6QgdEY9DNbKv4BtcGoqtqC66wfUo0lKEi3s+HwBPAqWY2wMzWBg4GrutB5mnAvcBZZjbUzCrMbCUz22JR6/ZgX+8T/R1cDdzs7g0LNTnczL5jZksSjT+fGC+/BDjMzMZZZLCZ/cjMFst3RhERyT+dHxe5L50fpSSp0JKCcvezgWOAPwKfEV1tOhz4D9EVq5eALNEv74k5q9YCaWAG8AnR0IQT4s9ujv+caWbPx+/3BhJEV7VuBf7i7vf1MPb+QA3wOvAFcAvR0IO+cDWwFt8eFgHRDcz3A+8AU4jGoePuTwG/Ai6M873J10MsRESkBOj8uEg6P0rJMfd89eqKSG+Z2VbA5cCKnvOP06JpfPdz94dDZRMREQlF50cpRerREikS8XSzRwKXuq6AiIiIADo/SulSoSWSR2Z2kUUPhlz4ddEi1luLaFjDEsCEgoQVEREpEJ0fpRxp6KCIiIiIiEieqUdLREREREQkz1RoiYiIiIiI5JkKLRERERERkTxToSUiIiIiIpJnKrRERERERETyTIVWF5mZm9lZOT8fa2Z1edp2q5m9mPNKLaL9nWY2vJPPjzKzQV1t382sq8Tbe9vM3jCzm8xsaTMbb2Z3xG12WtQxdLL94Wb263xkFREREREJRdO7d5GZNQDTgHHuPsPMjgUGu3tdHrY9x90H93Y7OdvLAhu4+4x8bTPe7gDgFeAYd789XrYl8BkwAjjW3Xfs5T4SwB3uvmbv0oqIiIiIhKMera5rAS4Bjl74AzNb3sweMLOX4z+Xi5dfZWYTzOwJM3vXzHbv6s7MbJiZTTGzVeOfbzCzn8fvs2Y2wswWM7OMmb1kZq+a2Z5mdgQwGnjIzB5aqH0i7oW61MxeM7N7zWxg3GZcnH+ymZ1hZq+2E2sfYPKCIgvA3R9y92+0NbMDzey8+P1SZvYvM3smfm0SL68zsyvM7OH47+aIePU0sFLcs3dGV/++RERERESKiQqt7jkf2NfMhi20/DzgGndfG7iObz65fBlgU2BHoiKiPQMXGjq4p7vXA4cDV5nZXsDi7n7pQuttB0x193XiHqC73X0CMBXY0t23bGdfKwPnu/sawCxgt3j5lcCh7r4x0NpBzjWB5zr4rCN/B85x93Hxvi7L+Ww1YFvg/4C/mFk1kALecfex7n5cN/clIiIiIlIUqkIHKCXu/qWZXQMcAczP+WhjYNf4/T+B03M++4+7twGvm9nSHWx6vruPbWd/95nZHkQF3jrtrPcKcKaZnUY03O6xLhzGe+7+Yvz+OSAR3781xN2fiJdfT1QY5sMPgDFmtuDnoWY2JH6fcfdGoNHMpgMd/f2IiIiIiJQUFVrddy7wPFEPUEdyb3xrzHlvCzfsjJlVAKsTFXVLAB99Yyfub5rZ+sAOwKlmdq+7n7SIzebmaQUGdiPXa8AWXWy7QAWwsbvnFqbEhdfCWfT/o4iISJFKpDKDgWHAcGAw0W0VDUTn84ac9/Oz6WRLqJwixUJfbLvJ3T83s5uAg4Er4sVPAHsR9WbtCzyep90dDbwBnABcYWYbu3vzgg/NbDTwubtfa2ZzgAPjj2YDQ4AuTYbh7l+Y2Wwz28jdn4yPpT3XA8ebWdLdM3GG7YCPO9n8vURDIM+I24/N6VFrz4LsfSqRygwDVs15JYiKzlpgQPznwq8BRCeVz4n+bmfGr2nAh8AH8evDbDrZ0NfHICIiki8LnRdX4+tz4+JExdUwuvG9MZHKzCL6fvAx0YXid4F34tfr2XRybh7jixQlFVo9cxZR8bDAEUSF0HFEM/Ad1M3tDTSz3OLjbqIi7hDg/9x9tpk9CvwR+EtOu7WAM8ysDWgGfhUvvwS4y8ymdXCfVnsOBi41s7nAw0D9wg3cfb6Z7Qica2bnxvt8GTgSWLKD7R4BnG9mLxP9//YocGhHIdx9pplNiifjuKu392klUpllgbF8s6haFRjZi81+dxGfeyKVeROYHL+eBF7NppNtvdiniIhIXiRSmVHAJvFrPaLCKt/D94fHrzXa+aw1kcq8BjwNPBW/XtN5UvobTe8uAJjZYHefE79PAcu4+5GBY3VbIpUZAIwnmihkW6KTRzGYTXRC+ar4yqaTn4eNJCIi5SCRyowAto5fWwErhU3UrjnAs0QXe/+bTSc7G/0iUhJUaAkAZrYncDxRr9P7wIHu/lnYVF2TSGVW5+vCanOiIYDFzoFXgRuB67PpZDZsHBER6U/iXqufEN0OsBHdvE+8CGSB/8avR7PpZEczIosULRVaUpISqcxGwAHA9sDygeP0lhPd53cdcFM2nZwZOI+IiJSgRCqzONGjVPYiGt1RGTRQ/swEMsC1wP3ZdFJfXqUkqNCSkhGfQH4K/JzomV79UTNwD1HRdVs2nZwXOI+IiBSxRCpjRBcdDyUa2VETNlGfewu4CLgym05+ETqMSGdUaEnRS6QyaxPNwLgX0cx/5WIOcAuQzqaTU0KHERGR4pFIZWqB/YBjgDGB44QwH5gIXJBNJ58JHUakPSq0pCjFV+h2IDqBbBU4TmhtRPdynaSCS0SkvCVSmSWJZhk+nPzPFFiqngFOzaaTt4YOIpJLhZYUnUQqsxOQJnpYs3xNBZeISJmKZw78E9GjXwYFjlOsXgDqsunkbaGDiIAKLSkiiVRmTeAc4AehsxS5VqKC668quERE+rdEKlND9LzKPxA9NFgW7Ungd9l08rHQQaS8qdCS4OKrdH8lmuSiv8yQVAgLCq6/ZNPJd0KHERGR/EqkMrsBpwMrhs5Som4Hjs2mk2+GDiLlSYWWBJNIZaqB3xANhRgeOE4payAqVM/IppPNocOIiEjvJFKZ9YlGeGwWOks/0AicBJyeTSdbQoeR8qJCS4JIpDI7AmcBq4TO0o+8AhySTSefDh1ERES6L5HKDAJOIboIWRE4Tn/zEnBwNp18LnQQKR8qtKSgEqnMUOBSoqfVS/61AROA47PpZEPoMCIi0jWJVGZT4Erge6Gz9GOtwNlEQ+7nhw4j/Z8KLSmYRCqzHnATsFLoLGXgdWC/bDr5QuggIiLSsXgY/UnA71AvVqG8DRyUTScfDx1E+jcVWlIQiVTmMKKhgrWhs5SRZqAOOC2bTrYGziIiIgtJpDIrA9cDG4TOUoZagN9n08mzQweR/kuFlvSpeKjg5cDuobOUsYeA3bLp5Behg4iISCSRyuwC/BMYHDpLmZtIdO/W3NBBpP9RoSV9Jp41aSIaKlgM/gcks+nku6GDiIiUu0QqczzwN8BCZxEgGm7/Y00DL/mmQkv6RCKVOZxoqGBN6Czylc+AnbPp5OTQQUREylEilakFLgP2C51FvuVL4MBsOnlr6CDSf+imS8m7RCpzDvAPVGQVm6WABxOpjGZ8FBEpsEQqM5JoKLeKrOI0FPhXIpU5LnQQ6T/UoyV5k0hlDLgQ+GXoLNIpB/6QTSdPDR1ERKQcJFKZtYA7gOVCZ5EuOSWbTv4hdAgpfSq0JC8SqUwlcAWwf+gs0mWXAb/KppMtoYOIiPRXiVRmXeB+YInQWaRbzgOOyKaT+qIsPaZCS3otfgbIdcAeobNIt91HdN+WHtwoIpJnKrJK3jXAz/SIFOkpFVrSK/GNvbcAO4bOIj12G7CrTiQiIvmTSGXGAg+gIqvU3QrslU0nm0IHkdKjyTCkxxKpzCCiMecqskrbTsDFoUOIiPQXKrL6lR8TTZJRFTqIlB4VWtIjcZF1F/CD0FkkLw5OpDKnhA4hIlLqEqnMOmi4YH+zI3BZPOmXSJep0JJui3/RXAtsHjqL5NXxiVTmyNAhRERKVSKVWRa4B1gydBbJuwOA00OHkNKiQkt64jSirnTpf85JpDJ7hw4hIlJqEqnMYkT3vC4dOov0mWMTqczhoUNI6dBkGNItiVTmYKJpwaX/agZ2zKaT94YOIiJSCuKRHv9CFyHLQSvRbL2Z0EGk+KlHS7oskcpsTvRAYunfqolu/F0/dBARkRLxV1RklYtK4Mb4IdQinVKPlnRJIpVZBngeGBU6ixTMu8DYbDo5O3QQEZFiFQ+3vj50Dim4/wEbZNPJuaGDSPHSVJWySPGUpjcRqMhqa5jDzLsm0DTjAwBG7HAk896czLy3n8Yqq6gaPooROxxFxYDBXVq39jur88XDVzL/3eeoGbkCI3b8LQBzXn2QtobZDN1g58IdXHFbEZgAHBQ6iIhIMYp7/q8InUOCWA04D50jpRPq0ZJFSqQy5wBHhdr/jMzZ1H53DYassy3e2ow3N9I47U0GLL8OVlHJFw9fCcDi47/9u669dTFj+i0nMmrf0/ns9jMYttEeVA1fhs/+dSIj9zgJq9T1h4Xsnk0n/xU6hIhIMYknv3gBWDl0Fglqv2w6eV3oEFKcdI+WdCqRyuxIwCKrrXEeDR++xuC1twHAKqupGDCYgSush1VUAlA7elVaZs/o8rpgeGsL7o63NGEVlXz59L8Zsv5OKrLad0kilflO6BAiIkXm76jIErgokcro/wNplwot6VAilRkMXBAyQ8usT6gcNJSZd57L1CuPYOZdE2hravhGmzkv38fAFTfo8roVtYMYtOr3mXbVEVQNWxqrXYymaW8yaOWNCnVYpWYJ4Co9qFFEJJJIZX4MHBw6hxSFwUSTY9SEDiLFR4WWdOYkYNmQAbytlaZP3mHIujsw+qAJWHUtXz5581ef1z8xESoqWWzM+G6tO2zD3Rl90D9YYqtDqH/sWoZvth+zX7qHz/6TZtYTNxbq8ErJD4CjQ4cQEQktkcqMAC4KnUOKynrAKaFDSPFRoSXtSqQy6wFHhM5RNWQElUNGUDt6VQAGrboJTZ++A8CcVx5g3jtPM+JHx2L27c6WztZdYMHPVYt/h7mvPshSu6Ro/ux9mj//uC8Pq1Sdkkhl1g4dQkQksPOAkaFDSNE5SudIWZgKLfmWRCpTCVxC9KyIoCoHL07V0BE0z/wIgIb3X6J6xHLMf/c5vnzqFkbu9mcqqgd0a91csx67lmGb7gttLeBt0UKrwFsa++6gSlctcL2GR4hIuUqkMjsDe4bOIUWpEjhfw+wll+78l/YcDhTNw2qX+MGhzLjjTLy1harho1hyh6P45Oqj8dZmPp34RyCaEGPJbQ+nZfZMZt49gaX3OLHDdReY9+ZkakatTNWQJeNtrMbUyw+jemSCmpErFv5AS8MawG+As0IHEREppPgi09mhc0hR2xTYH7g6dBApDpreXb4hkcp8F3gdGBI6ixStWcD3sunkzNBBREQKJZHKHAucETqHFL3pwKrZdHJW6CASnoYOysLOQ0WWdG44UBc6hIhIocQTYPwxdA4pCSOBv4UOIcVBhZZ8JZHKJIGdQ+eQknBoIpVZLXQIEZECOREYFjqElIxDE6nMuqFDSHgqtCTXn0IHkJJRBZwcOoSISF9LpDKrA78InUNKSgUa+SGo0JJYIpUZD2wYOoeUlF0Tqcw6oUOIiPSxM9DkYdJ9O+kcKSq0ZIHfhw4gJceIHmotItIvJVKZ9YFk6BxSsnRfX5lToSXEV1y2C51DStJOiVRmg9AhRET6yG9DB5CStlsilRkTOoSEo0JLQL1Z0jt/CB1ARCTfEqnMssAeoXNISTPghNAhJBwVWmUukcqsAPwkdA4paTsmUplRoUOIiOTZkejeLOm9vRKpzPdCh5AwVGjJsUBl6BBS0qqAA0KHEBHJl0QqMwQ4JHQO6RcqgWNCh5AwVGiVsUQqMxI4KHQO6Rf0/5GI9CeHoOdmSf7sm0hlFgsdQgpPhVZ5+wUwMHQI6RdWTaQym4YOISLSW4lUxoAjQueQfmUosGfoEFJ4KrTKm+7Nknw6OHQAEZE82BRIhA4h/c7PQweQwlOhVaYSqczKwFqhc0i/skd8X4OISCnbK3QA6Zc2SqQyq4QOIYWlQqt87RY6gPQ7i6EvKCJSwhKpTCWwe+gc0m/tFzqAFJYKrfKlQkv6ws9CBxAR6YWtgJGhQ0i/tW/oAFJYKrTKUCKVWR7YIHQO6Zc2ioelikg/ZWZuZmfl/HysmdXF7+vM7GMze9HMXjWznRaxrf3jdq+Z2etmdmy8/Coz2z1+f5mZjelh1vFm9v1urLJ3T/Yj0kUrJlKZdUOHkMJRoVWedg0dQPq1H4QOICJ9qhHY1cxGdPD5Oe4+FtgDuMLM2v2uYWbbA0cB27j7GsB6QP3C7dz9EHd/vYdZxwNdKrQSqUwN8OMe7kekq7YNHUAKR4VWedKwQelL40MHEJE+1QJcAhzdWSN3fyNu21FBdjxwrLtPjds3uPulCzcys4fNbIP4/TZmNtnMnjezm81scLw8a2YnxstfMbPVzCwBHAocHfewbbaI49oaGL6INiK9pUKrjKjQKjOJVGYZunh1T6SHtggdQET63PnAvmbW4UN9zWxDoA34rIMmawLPdXWHcQ/aH4EfuPt6wLPAMTlNZsTLLyQq4LLARcQ9bO7+2CJ28cOuZhHphU0Sqczg0CGkMFRolZ+dAQsdQvq1pROpTI/upxCR0uDuXwLX0P6DfY82sxeBM4E93d3ztNuNgDHApHj7BwDL53z+7/jP5+jZc7C27lU6ka6pJpp0RcqACq3ys2noAFIWxocOICJ97lyiB5UvttDyBT1Imy2iF+k1YP1u7M+A++Jtj3X3Me6e+6D0xvjPVqCqG9slkcoshZ4tKYWj4YNlQoVW+dkwdAApC+NDBxCRvuXunwM3ERVbPXEqcLqZjQIws1oza6+HbIEngU3M7Htx+0FmtqgHwM4GuvIg9c3QaA8pnO1CB5DCUKFVRhKpzJLA90LnkLKg+7REysNZdDzZRafc/U6ie73uN7PXiIb8ddgT5e6fAQcCN5jZy0SF12qL2M3twI+7MBnGJt3JLtJLKyZSmVGhQ0jfs/wNnZZil0hltgfuDJ1Dysaa2XTytdAhREQWJZHKPIlGfEhhbZdNJ+8JHUL6VrfGMEvJGxc6gJSV8UT3YIiIFK34+Vnr5WNbXz77X+a8dA84DF5nW4aO25kvHrqCeW8/jVVWUTV8FCN2OIqKAd+cdM5bmvjk+t/jLc3Q1sagVTdh+Gb7AvDZ7WfQ/Nn7DFxpHItvcQAAsybdQM3IFRi08kb5iC1hrAOo0OrnVGiVF93oK4W0ZugAIhKemf2B6OHFuW5297+FyNOOlYhmguuVps+yzHnpHkbtfzZWWc30m/7MwJU2YEBiLMO3OACrqOSLh6+k/smbWXz8Qd9cubKapfc6hYqagXhrC59c9zsGrrg+Vl0LwOifnccn1/2Otsa5tDU30jTtTYZvsndvI0tY64QOIH1PhVZ50RdfKaRE6AAiEl5cUBVLUdWeVfOxkeaZH1E7ejUqqgcAULvsmsx7azLDNtz9qza1o1dl7pRJ31rXzLCagQB4Wwu0tYIZVlGFtzTh3oa3toBVUP/YtQzfbL98RJawVGiVAU2GUSYSqUwtsHLoHFJWll90ExGR4PJSaNWMWJ6GD1+ldf6XtDU3MP/dZ2n9csY32sx5+T4GrrhBu+t7WytTr/wNH/1jPwYkxlI7elWqRyxL1ZClmHbVkSy22qa0fDEt2tfSK+UjsoS1avzdTPox9WiVj9WBytAhpKyo0BKRUrCoKeK7pHrEsgzdcHemT/wTVj2AmpErQMXXp936JyZCRSWLjRnf7vpWUcnog/5BW8Mcpt/6N5o+y1KzVIIlfvCLr9pMv+VEltj2cOqfmEjT9PcYkBjLkLGaKbxEVQFrAM+HDiJ9Rz1a5UPTukuhDUqkMiNDhxARWYS89GgBDFlnG5Y58O+M2vc0KgYMoXrx0QDMeeUB5r3zNCN+dCxmnT+uq2LAYAYsuxbz3/3m9+95bz1JzaiV8eYGmma8z1K7pJj72kO0NTfkK74U3qIeTyAlToVW+VgidAApS4nQAUREFiEvPVoArXNnAdDy5XTmvTmZQWO2YP67z/HlU7cwcrc/f3X/1rfWm1dPW8McANqaG2l4/0Wql/zuV597awtfPnsbQzfcFW9p5KtnK7tDa0u+4kvhLR06gPQtDR0sH4uHDiBlaXng6dAhRETak0hlhgFL5Wt7n/3nFNrmz4aKSpb44aFUDhjM5/ddhLc28+nEPwLRhBhLbns4LbNnMvPuCSy9x4m0zvmcGZlzwNvA2xi02mYM+t7/fbXd2c9nGLzm1lRUD6B6qRUAZ+rlhzFwpQ2+NVW8lBQVWv2cCq3yoUJLQkiEDiAi0om8FVkAo/Y9/VvLvvPLS9ttWzVkSZbe40QAakauwOiDJnS43aHjdv7qvZmx1E6/62VSKRIqtPo5DR0sHxo6KCEkQgcQEenE8NABpKyNCh1A+pYKrfKhHi0JYdnQAUREOjEsdAApa+rR6udUaJUPFVoSwsDQAUREOqFCS0JSodXPqdAqHyq0JITq0AFERDqhQktCGhE6gPQtFVrlQ/doSQg1oQOIiHRChZaEpIuR/ZwKrfKhHi0JQScRESlmKrQkJEukMpWhQ0jf0fTu5aPzR9FLB9xPrrri0eVseuggJWketR9DMnQMEZGO6EuuhFYFtIYOIX1DhVb5+BIYGjpEqbml5sTHNqh4c4vQOUrY86EDiIh0oiF0gFJWQVvrEVX/nvzryv8uW02rRs70gBlAfegY0kdUaJWPL0MHKDUTa056REVWr7WEDiAi0gkVWr3QRkXluS27b3ppS3LOKdWXPbdTxeSxZhqO2U3NoQNI39E9WuVDl0u64frqkx/ZsOJ/KrJ6ryl0ABGRTqjQyoO5DBx8ZPNvtli38eK2B1vHPuzOvNCZSkQrdfVtoUNI31GhVT7Uo9VF11Sf+sj3K19XkZUfn4cOICLSCRVaeTSLIYv/rPl34zdqPG/OM22rPuqui22LoN6sfk6FVvlQodUFl1ef8fDmla+oyMqfmaEDiIh0QoVWH/iUJUbu0fSXzbdoOmf6a23LP+6uyR46oEKrn1OhVT5UaC3CxdVnP7x15QvjQ+foZ1RoiUgxU6HVhz7wpb+bbDp10+2b0u+/1zZqsjseOlOR+Sx0AOlbKrTKhwqtTpxXPeGRbSufHR86Rz+kQktEipnuXy6A//lyK27ZdPbGuzXVTfnEF382dJ4i8n7oANK3NOtg+dDJpAPnVJ//8I6VT44PnaOfUqElIsVsaugA5eR5X2W1jRrPZ/OKl17+e/X5vrjNWSef258yo5U9b5n/1c/vftHGSVvWctRGtV8tO2NSI9e9Eo3Ya2mDN2a08dlxQ2htc348cT6zGpyTt6pll9WqAdj5xnlcmBzA6CF90jehQqufU6FVPmaFDlCMTq+66OEfV04aHzpHP/ZJ6AAiIp34MHSAcvRo2zprr9t4CTtWTH4uXX3pwMHWMCYf2111RCUvHjoYgNY25ztnz+HHccG0wHGb1HLcJlHhdfuUZs55soklBhoTnmrigHWq2WvNara7bh67rFbN7VOaWW9UZV8VWaBCq9/T0MHy8WboAMXm1KpLH/lJ1aPjQ+fo5/T/nYgUrWw6OQcNrQ/mjraN11+z8Yoxf2j+2VMNXv1OPrf9wHutrLREBcsP7/ir7g2vNrP3mlEhVl1hzG9xGludCoOWNufcp5p0XdwaAAAgAElEQVQ4bpOafMZamAqtfk6FVvl4OXSAYnJS1ZWP7F31kGYX7FutwLuhQ4iILEI2dIByd13rDzZcvfHKFU5v3nNSs1d+kI9t3phTRLVnXrNz99st7DYmarPPWtXc804r2107j7otarngmSb2X7uaQdWWjzgdUaHVz6nQKhPZdPJjdL8MAH+q+ucj+1fdpyKr72Wpq9fUtSJS7N4OHUDAqai4oHXnTVZvvHKZi1p2fLTVrcdDz5tandumtLDHmI7vkLl9SgubLFfFEgOjQmrYACOzzyCe/cVg1lumkjvejIqwn982n91vmsfkD1t6GqczKrT6ORVa5eWV0AFCO77qukcPrrpLRVZhaNigiJSCvA5Zk95poao63bLP5ms0XjHs+patHmlz6/aD7+96q4X1lqlg6cEdf8298bWOe7xOeqSRP2xWyw2vNLP+6Equ2HkgJzzY2N0Yi+LoHsF+T4VWeSnr4YPHVk187BeVmc1C5ygjKrREpBTod1URaqB24Akth2yxVuNl1Xe0bviwe9fvpbthEcMG6xucR7It7Lzqt3u83prZytQ5bWyRqGJec3S/lgEN+e/QmkZdfVPetypFRYVWeSnbQuvIyn89fljlfzc1o08HW8s3vBA6gIhIFzwTOoB0bC4DhxzefOT49Rovanmkde2H3ZnfWft5zc5977ay6+pfF1oXPdvERc9+XdPc+r9mtlmpisVqvv2V4A8PNnLyltGshHuvVc1VLzaz0eVzOXbjvE+KoXuYy4C56yHd5SKRyowDng6do9AOq/zP48dW3fR9M11YKLBVqavXlWIRKWqJVKaS6FmTi4XOIos2is8/Pa9mwpT17c2Nzei426r4nUVd/bGhQ0jf0hfP8vIq0BY6RCH9svL2SSqygpipIktESkE2nWwFng2dQ7rmE5ZYevemus23bDrrkzfalp3kXrLfayaHDiB9T18+y0g2nZxPGc2udHDlnU+kqm7YSEVWEDqBiEgpeTJ0AOmerC+z7PZNp22SbDrlvffbRj7pTqkN0VrkedLMWs3sRTN71cxuNrNBnbQdZWY3mtk7Zva6md1pZquYWcLMXo3bbGBmE3oa2MxO6Om65UpfQMtPWQwdPKDy7sl/rLp2QzMqQ2cpUyq0RKSUPBU6gPTM655YaYumczf6SdOf//epDy+VnskPqKuf2oV28919rLuvCTQBh7bXyMwMuBV42N1XcvcxwAnA0rnt3P1Zdz+iF7lVaHWTCq3yc3foAH1tv8r7nqyrumaciqygnggdQESkG9SjVeKe8dVW37Dxgg0OajrupVm+WLFP/vVYD9f5XgefbQk0u/tFCxa4+4vu/o39mNl4M7sjfr+YmV1hZs+Y2QtmtnO8/EAz+7eZ3W1mb5nZ6fHyNDAw7mG7rgf5y5IKrfJzD/34Pq2fVD709F+rrlzfjI6fUih97UtgUugQIiJdlU0npwHZ0Dmk9x5qW3edsY2Xrn1U06+fneu1b4TO04H7u9PYzKqA7en4eahrAs91M8MfgAfdfRxRoXaGmS2YEGYssCewFrCnmS3r7im+7mHbt5v7KlsqtMpMNp2cQT+dyna3ikefOa3q0rElPgtRf3A3dfXNoUOIiHRTJnQAyZ//tG26wRqNV6z25+YDn2z06mJ7KPV9XWw30MxeJJqs5QPg8jxm2AZIxdt/GBgALBd/9oC717t7A/A6sHwe91tWVGiVpztDB8i3nSsmPXtm9UVrm5H3B11It90WOoCISA/8J3QAyTeza1q32Wj1xisTZzbvManZKz8KnQj4H3X1H3ex7YIepLHu/ht37+gBx68B63czhwG75Wx/OXdf0APYmNOuFTRKqKdUaJWnfnUySVY8+dy51eevaUZt6CxCK3BX6BAiIj3wMDArdAjJvzYqKs9r/fEmYxqvHHlJyw6Ptrp9GjBOV3uzuuNBoNbMfr5ggZmNM7MtOlnnHuA38UQamNm6XdhPs5lp1FA3qNAqQ9l08mWgXzzjaLuKp54/r3rCGDMGhM4iAEyirv7z0CFERLorm062oOGD/VozVTWntOy3+RqNVwyd2DL+kTbniwAxbsr3Bt3dgR8DP4ynd38NqAM6m9nwr0A18HI8/ftfu7CrS+L2mgyjiyz6byPlJpHKnEx0I2TJ+mHFsy9eUn32KmZ0+FwJKbjfUFd/XugQIiI9kUhldgduDp1DCmMw8748vfqSF7aveHo9M4YUYJdvUVe/SgH2I0VCPVrlq6RPJFtWvPDSJdVnr6wiq6g0AteHDiEi0gt3Aw2hQ0hhzGHQ0F83H7XF+o0XNj3WutYj7n3+3/7qPt6+FBn1aJWxRCrzBrBa6BzdtVnFy69cU51ewYzBobPIN0ykrn6v0CFERHojkcr8B9g5dA4pvNHMmHZezYS31rW3N+6DGYzbgOWpq+/xhBxmtiTwQDsfbe3uM3ucTPqMerTK2z9CB+iuTSpeffWa6nRCRVZRyue0syIioVwcOoCEMZURy+zadNLmWzWdOW1K23cnuef1uaMP9KbIAnD3mTmzBOa+VGQVKRVa5e0qoGT+cW5or79+bfUpyxZoHLV0z/u0f5VNRKTU3A28GzqEhPOej15u26bTN9mx6W/vftC21FN52uyVedqOlBAVWmUsm07OAy4MnaMrNrApb9xYc/J3zBgWOou060rq6vN55U9EJIhsOumUyLlR+tZrvsL3Nm/6+4Y/afzT69N92HO92NQs4NZ85ZLSoUJLzuObD6YrOuvaW1NuqjlxlIqsojUPOD90CBGRPLoCTYohsad99TH/13jh+gc3/fbFeh/0cg82MZG6ev3/VIZUaJW5bDr5KXBt6BwdWcfefvNfNXVLVRiLh84iHbqcuvoZoUOIiORLNp38HLgxdA4pLg+0rT92ncbL1j666VfPzPPa/3VjVQ0bLFMqtATgLKDopp9cy95969aavyxZYb5E6CzSoRbgzNAhRET6wAWhA0hxurVts3FjGq9Yta55/8mNXvXeIpo/Tl19vu7zkhKjQkvIppNvAHeGzpFrdXv/nf/W/Gl4hfmSobNIp66nrv6D0CFERPItm04+AzweOocUK7OrWrfbePXGq5Y7u3m3x1u8oqMZBU8saCwpKiq0ZIGzQgdYYFX74L07ak4YUmG+VOgs0ikHTgsdQkSkD/0ldAApbm1UVE5o3W3T1RuvGnl5y/aPtLpNz/n4Cerq7w8WToJToSUAZNPJh4DgXdsr20fZO2uOH1hpPjJ0Flmka6mrfz10CBGRvpJNJx8EHg6dQ4pfM1U1f2356RZrNl4x+OaWzR9pc2ah3qyyp0JLch0OeX04X7esaFPfv7smVVtpPipUBumyecDxoUOIiBTAH0MHkNIxn9pBx7UcusW6jZc8RV39vaHzSFgqtOQr2XTyWeDiEPtO2LQP7635XXWltS0TYv/d0dDi/N+lc1jnojmsccEc/vJQNGPrZlfOZexFcxh70RxGnzWbXW6c1+E2vmx0vnP2bA6/cz4AjS3OdtfOZc0L5nDBM01ftfvF7fN5YVpr3x5Qz5xJXf3HoUOIiPS1bDo5CbgtdA4pLfUMVm+WUBU6gBSdE4DdgIIN3VvOPv3o/prjrMraRhdqn71RWwkPHrAYg2uM5lZn0yvnsv3KLTx20GJftdntpnnsvGrH/7z+9GAjWyxf+dXP97zTwvrLVHLnvrWsd/Fcfj2uhpc+aaXNYd1lKjvcTiBTgdNDhxARKaAUkASK7heyFKVbs+nk5NAhJDz1aMk3ZNPJWcDvCrW/79pnUx+oOdarrO27hdpnb5kZg2sMgOY2aG4Fy/l8dqPz4Hst7LJadbvrPze1lU/ntrHNSl8XYtUVML8FWnIGbv7poUZO2rK2Lw6ht/5AXf3c0CFERAolnp33stA5pCQ0EhXmIiq05Nuy6eTVwKN9vZ/RzJj2UM0xzdXWumxf7yvfWtucsRfNYeQZs/nhilVs+N2vi6Zb/9fM1itUMbTWvrVemzu/vbeBM3444BvLf7hSFZ/MaWPDy+byu01quW1KM+svU8noIUX3T/Rx4OrQIUREAkgB00KHkKL3t2w6+WboEFIciu5bnBSNXxM9jLZPjOLzTx+uPaax2lqX76t99KXKCuPFQwfz0TFDeHpqK69O//o+qhtebWbvNdvvzbrgmWZ2WLmKZYd9859eVYVx/W6DeOGXg9ljTBXnPtnEb79fwzH3NLD7TfO4bUpznx5PFzUAB1NXX3QPtxYR6WvxiI/DQueQovYKkA4dQoqHCi1pVzadfA04ty+2vTSfT3+k9qh5NdaS6IvtF9LwAcb45au4++2oJp05r42nP24juUr792dN/qiF855uInHubI69t5FrXmomdX/DN9pc8EwTB6xTzeQPW6mphIm7D+TkRxv7/Fi6oI66el2lE5GylU0nbwX+FTqHFKU24JBsOlkUV0alOGgyDOlMHbAnkLehfSOY9dkjtUfPrrWWlfK1zUL7bG4b1ZXG8AHG/Gbn/vda+P0mNQDc/HoLO65SxYCqbw8bBLhu10Ffvb/qxSaendpK+gdfDyP8Yr5zx1st3LvfIG6b0kKFgRk09FnfYpc9AZwZOoSISBE4DNgKWDx0ECkqf8+mk0+HDiHFRT1a0qFsOjkX2AvIy9WZJaif+XjtkbMGWHPJFlkA0+Y4W149l7UvnMO4S+fywxWr2HGVaKjgje0MG3x2aiuH3Da/S9s+6ZFG/rhZLWbGtt+r4tmprax14Vx+vl5N3o+jG+YCB1BXX5TzzIuIFFI2nfwUOCZ0Dikq76HnrUk7zF23W0jnEqnMr4ALerONxfny8ydqj5gx0JpWyVMsKZx9qau/PnQIEZFikkhl7ga2DZ1DgmsDtsmmkw+EDiLFRz1askjZdPJC4Mqerj+MObMm1R45XUVWSTpfRZaISLv2Bz4KHUKCO0lFlnREhZZ01a+BZ7u70lDm1D9Re8S0Qda4Wh9kkr71JBoeIyLSrmw6OR3YHWgKnUWCyQAnhQ4hxUtDB6XLEqnMckTF1lJdaT+EufWTa3/z8WBrGNO3yaQPfAasR129rtaKiHQikcocClwYOocU3HvA+tl08ovQQaR4qUdLuiybTn5ANAvhIidFWIz5syfVHvGhiqyS1AT8REWWiMiiZdPJi+jF8HopSfOBXVVkyaKo0JJuyaaTDwG/76zNYsyf80Ttb94bavPXLFAsyR8H9qeu/uHQQURESsivgedCh5CC+XU2nXwxdAgpfiq0pNuy6eRZwD/b+2wQDXMn1R7xzjCbt3aBY0l+HE1d/cTQIURESkk2nWwAdgOmhc4ife6cbDp5VegQUhpUaElPHQTckrtgII3zHq898q3hNnedQJmkd06jrv7voUOIiJSibDr5PrAN8HnoLNJnrgB+GzqElA5NhiE9lkhlqoiKrZ0H0Dj/8doj3xhhX64XOpf0yFXU1R8UOoSISKlLpDLjgAeAIaGzSF7dAuyVTScXeZ+6yALq0ZIey6aTLcBPBtD4n0drj3pdRVbJugI4OHQIEZH+IJtOPgP8iGjCBOkf7gH2VZEl3aUeLem9umG1wM1EJxYpLf8AjqSuXr8IRETyKJHK7AD8B6gOnUV6ZRKwTTadnBc6iJQeFVqSH3XDqoHrgD1CR5EuS1NXf3zoECIi/VUildkDuAGoDJ1FeuQ5YOtsOlkfOoiUJg0dlPyoq28G9gYmhI4iXfInFVkiIn0rm07eDPwYDSMsRQ8CW6rIkt5Qj5bkX92ww4C/oyt4xagBOIS6+utCBxERKReJVGZT4HZgeOgs0iX/IronqzF0ECltKrSkb9QN2w6YCAwNHUW+Mg3Yhbr6p0MHEREpN4lUZg0gAywfOot0agJwdDadbAsdREqfCi3pO3XD1iS6gpcInETgWaIi6+PQQUREylUilRkF3AaMC51FvqWNqMDSLRCSN7pHS/pOXf2rwHrAv0NHKXNXA5uryBIRCSubTn4CjCeaqVeKxxfATiqyJN/UoyWFUTfsl8A5wMDQUcrILOCX1NXfFDqIiIh8UyKVOZTovDggdJYyNwnYJ5tOfhA6iPQ/KrSkcKKhhDcCa4SOUgYeBvanrv7D0EFERKR9iVRmLaLz4pjQWcqQA2ngz9l0siV0GOmfVGhJYdUNGwicCBwNVAVO0x81AX8BTqeuXjfyiogUuUQqM4hopt5DQmcpI58CP82mk/eFDiL9mwotCaNu2NrAxcBGoaP0I/cDh1NXPyV0EBER6Z5EKvMT4BJgWOgs/dy9wAHx/XIifUqFloRTN6wCOBQ4BZ1YeuNj4BjdiyUiUtriWQnPBPYNnaUfmgb8NptO3hA6iJQPFVoSXt2wZYCTgAPRcMLuaCYabnIidfVzQocREZH8SKQyWwDno3ua86EVOI/oXqwvQ4eR8qJCS4pH3bBViAqunwAWOE0xayGasv1k6uqzgbOIiEgfSKQyVcCRRPfdDgkcp1Q9Afw6m06+FDqIlCcVWlJ86oaNBf4G7BA6SpFpBa4DTqKu/p3QYUREpO8lUpnRwGnAPuj5p131PtHEW1dl00l90ZVgVGhJ8aobth5wFLAnUBM4TUiNwA3AqdTVvxk6jIiIFF4ilVkFOIHo/i0Ns2/fO8CpwDXZdLI5dBgRFVpS/OqGjQJ+RTRxxsjAaQrpY6KZGS+mrn566DAiIhJeIpVJACngIMr7ImSuKUQjYa7PppOtocOILKBCS0pH3bBaovu39gO2BirDBuoTLURTz14C3EFdvU4YIiLyLYlU5jvAcUTP31oscJxQXiQaVnlTNp3UsyOl6KjQktJUN2wk0ZDCfSj9Z3G1AA8BNwG3Ulc/M3AeEREpEYlUZgiwN/BzYIPAcQphLnAjcEk2nXw6dBiRzqjQktJXN2wF4EfAD4HxwOCgebrmS+BR4Dbg310trsysFXglZ9GN7p7upP2dwD7uPquDz48CLnH3eV1p3x1mtgpwLrAK0VT0rwC/AVYHjnX3Hc1sJ2BMZ8fQyfaHx1kv6G1WEZH+IJHKrAP8lKjwGh04Tj61AQ8D/wT+lU0nZ4eNI9I1KrSkf6kbVk3Uw7UN0fDC9YDaoJkic4HHiXquHgSe78mwQDOb4+55KyTNLAts4O4z8rXNeLsDiAqrY9z99njZlsBnwAjiQquX+0gAd7j7mr1LKyLSvyRSmQpgK2BnYFtg5bCJemQ+UXF1N/DvbDr5Udg4It2nQkv6t6jwWgtYH1gHWJvoAZBL9OFePwJeJio0Xo5f/6OuvqW3G26v0DKzYcDTwE7uPsXMbgAedPdLFxRSRCesm4DvEt3b9ldgaeBMopuIZ7j7ljntBwN3ERWH3yeamGNnd59vZuOAy/m6eNx+4WLHzH4GjHf3/ds5hvF83aN1IFGhd7iZLQVcBCwXNz3K3SeZWV28bMX4z3PdfYKZ3Uj0JWIKcJ+7H9f9v1ERkf4vkcqsQFRwbUtUgA0Nm6hDbxAVVncDj2bTyYbAeUR6RdODSv9WV98MPB+/cpYPG0z0pT33NZLohuKFXwY0xK/G+M/5RL0zHwNT49fHwEfU1df34RENNLMXc34+1d0nmtnhwFVm9ndgcXe/dKH1tgOmunsSouLM3evN7Bhgyw56tFYG9nb3n5vZTcBuwLXAlcAv3P0JM+toyN+awHPdPLa/A+e4++NmthxwD9EwQ4DVgC2JHto5xcwuJJp1a013H9vN/YiIlJVsOvke0YWsi+IHIW8Uv9Ymugi5GoWfwXA68BLRhBYvAY9l08kPCpxBpE+p0JLyVFc/B3g9fpWS+e0VFu5+n5ntAZxPdNJc2CvAmWZ2GtFwu8e6sK/33H1BUfcckIjvixri7k/Ey68HejUEMMcPgDFmtuDnoWY2JH6fcfdGoNHMphP1xomISDdl08kWotEIjy9YlkhlqokubK0dv1Yi+j274DXk21tapFaiC5Kf5Lz+R1xcZdPJT3p+FCKlQYWWSD9gZhVEJ8n5RMMivzGW3d3fNLP1gR2AU83sXnc/aRGbbcx53woMJOrd64rXgC262HaBCmBjd5+fuzAuvBbOot9dIiJ5Ej/cd8FQ929JpDID+broWpzod3AV0VB0J5rwqAVo4uviaoamXJdypy8rIv3D0URj208ArjCzjd29ecGHZjYa+NzdrzWzOcCB8Uezia5UdmkyDHf/wsxmm9lG7v4ksFcHTa8HjjezpLtn4gzbEQ2v7Mi9wOHAGXH7sTk9au1ZkF1ERPpQNp2cD2Tjl4h0UUXoACLSLQPN7MWcVzqeRv0Q4LfxkMBHgT8utN5awNPx/V1/AE6Ol18C3GVmD3Ujw8HAJWY2maiH61v3pMW9UjsCvzGzt8zsdaLibnon2z0C2MDMXo7bH9pZCHefCUwys1fN7Ixu5BcRERHpc5p1UES6xcwGu/uc+H0KWMbdjwwcS0RERKSoaOigiHRX0syOJ/r98T5fD0MUERERkZh6tERERERERPJM92iJiIiIiIjkmQotERERERGRPFOhJSIiIiIikmcqtERERERERPJMhZaIiIiIiEieqdASERERERHJMxVaIiIiIiIieaZCS0REREREJM9UaImIiIiIiOSZCi0REREREZE8U6ElIiIiIiKSZyq0RERERERE8kyFloiIiIiISJ6p0BIREREREckzFVoiIiIiIiJ5pkJLREREREQkz1RoiYiIiIiI5JkKLRERERERkTxToSUiIiIiIpJnKrRERERERETyTIWWiIiIiIhInqnQEhERERERyTMVWiIiIiIiInmmQksKzsz2MbNnzWyOmU0zs7vMbNNebK/OzK7NZ8Z8M7MT4uOdY2YNZtaa8/NrofOJiEh4Oj/q/Cj9iwotKSgzOwY4FzgFWBpYDrgA2Dlkrnwxs6r2lrv7Ke4+2N0HA4cCkxf87O5rFDaliIgUG50fdX6U/keFlhSMmQ0DTgIOc/d/u/tcd29299vd/Tgzu8rMTs5pP97MPsr5+fdm9rGZzTazKWa2tZltB5wA7Blf/XopbjvazG4zs8/N7G0z+3nOdurM7GYzuzbe1itmtoqZHW9m083sQzPbJje3mV0eX1382MxONrPK+LMDzWySmZ1jZp8DdT38u7nYzE5baNldZnZ4/P6j+PjfMLMv4jy1OW13MrOXzGyWmT1uZmv2JIeIiBSezo+d/t3o/CglS4WWFNLGwADg1u6uaGarAocD49x9CLAtkHX3u4mu/k2Mr36tE69yA/ARMBrYHTjFzLbO2eSPgH8CiwMvAPcQ/Xv4DtHJ7uKctlcDLcD3gHWBbYBDcj7fEHgXGAn8rbvHlrOPfcysIj7epYEtgBtz2uwL/BBYGVgDOD5uOw64NM60JHAF8F8zq+lhFhERKSydHzum86OULBVaUkhLAjPcvaUH67YCtcAYM6t296y7v9NeQzNbFtgU+L27N7j7i8BlwE9zmj3m7vfEWW4GlgLS7t5M9Ms7YWbD41/o2wNHxVcYpwPnAHvlbGuqu//D3VvcfX4Pjg13fwKYT3TyANgbuN/dZ+Q0m+DuH8XLTonbAPwCuMDdn3H3Vne/Il4+ridZRESk4HR+7IDOj1LKVGhJIc0ERnQ0Trsz7v42cBTR0IPpZnajmY3uoPlo4HN3n52z7H2iq3ELfJrzfj7RCa4152eAwcDyQDUwLR52MIvoat7InPU/7O7xdOAaYL/4/X5EVxRz5e7nfaLjJM74+wX54ozL8M3jFRGR4qXzY+d0fpSSpEJLCmky0ADs0sHnc4FBOT+Pyv3Q3a93902JfnE6sGDMti+0nanAEmY2JGfZcsDHPcj8IdAIjHD34fFr6EI36C68/576J7Crma0LrATcvtDny+a8X47oOBdkPDEn33B3H+TuN+Upl4iI9C2dHzun86OUJBVaUjDuXg/8GTjfzHYxs0FmVm1m25vZ6cCLwA5mtoSZjSK6QgdEY9DNbKv4BtcGoqtqC66wfUo0lKEi3s+HwBPAqWY2wMzWBg4GrutB5mnAvcBZZjbUzCrMbCUz22JR6/ZgX+8T/R1cDdzs7g0LNTnczL5jZksSjT+fGC+/BDjMzMZZZLCZ/cjMFst3RhERyT+dHxe5L50fpSSp0JKCcvezgWOAPwKfEV1tOhz4D9EVq5eALNEv74k5q9YCaWAG8AnR0IQT4s9ujv+caWbPx+/3BhJEV7VuBf7i7vf1MPb+QA3wOvAFcAvR0IO+cDWwFt8eFgHRDcz3A+8AU4jGoePuTwG/Ai6M873J10MsRESkBOj8uEg6P0rJMfd89eqKSG+Z2VbA5cCKnvOP06JpfPdz94dDZRMREQlF50cpRerREikS8XSzRwKXuq6AiIiIADo/SulSoSWSR2Z2kUUPhlz4ddEi1luLaFjDEsCEgoQVEREpEJ0fpRxp6KCIiIiIiEieqUdLREREREQkz1RoiYiIiIiI5JkKLRERERERkTxToSUiIiIiIpJnKrRERERERETyTIWWiIiIiIhInqnQEhERERERyTMVWiIiIiIiInmmQktE/p+9+45vo77/OP76SLJsx3bsOHuiJGRAQpqwA4FQVikCAqWlUKDMAJ0/ShlqKdRAW9TSMspsKaPsHZYohJEQRiCBkEkCGShkx3YSedsa398fd04cZ3hEzknW5/l4+GHrlt5yFJ8+d9/7nFJKKaWUSjIttJRSSimllFIqyTxOB1DKCb5AyAP0Ano3+d741Q1w72LVKFAGbNzZVzjoj3dscqWUUqrj+AKhPGAQsI/9fRDQF8gHugB59vcuQA4QAxqAeqAaqAIqgLXAqiZfq7H2k2YvvhylHCXG6PtddV6+QMgNjADGAWOA/YD9gcEk/4xuFFgGLLa/5gFfAMt1x6KUUiqV+AIhF9b+8SDgQPv7KKB7Bz5tHfAl1r6x8WteOOiv7sDnVMoxWmipTsUXCGUB44ETgGOxCqxcR0NZR/ZmA+8CbwNzwkF/wtlISimlMokvEMoGJgDHAUdh7R/zHA1lSQBfATOAqcC74d7mHV8AACAASURBVKA/4mwkpZJDCy2V9nyB0CjgeKziaiLW8IZUtgmYBrwDvB0O+pc7nEcppVQn5AuEBgN++2sizh94bI041sHJqcBbwCd6cFKlKy20VFryBULDgJ8C52INA0xnC4DHgSfDQf9ap8MopZRKX75AqCdwNnA+cIjDcZJhLfA88HQ46P/U6TBKtYUWWipt+AKhYqydx0+BwxyO0xESwHtYRddL4aC/yuE8Siml0oAvEMoBTsMqrk6i8zY7+xr4L/BYOOhf7XQYpVqihZZKeb5A6Bjg11hDH7zOptlraoAXgNvDQf88p8MopZRKPb5AqC/W/vFyrI65mSIOvAT8Q89yqVSmhZZKSb5ASIDTgevonGev2uJN4K/hoH+600GUUko5zxcIjQauBs4hcw5A7spM4B/AFL2WS6UaLbRUSrG7Bp4HXAuMdDhOqpkF/BV4WXcmSimVeXyB0ATgD8D3nM6SglZg7SMf0ntaqlShhZZKCfYNhCcDvwcGOBwn1X0F3BgO+p9zOohSSqmO5wuERmIVEac5nSUNLAF+Hw76pzgdRCkttJTjfIHQKcDfsG4mrFpvJvDbcNA/0+kgSimlks8XCPUBbgIuAdwOx0k3HwPXhoP+j5wOojKXFlrKMb5AaDhwN3Ci01nS3FPA1eGgf53TQZRSSu05++bC19pfqX5vyFQ3Bfi1dilUTtBCS+11vkAoD2uM+VXoRbzJUol11POucNAfczqMUkqp9vEFQkcD/wZGOJ2lE6nAaq71r3DQrx981V6jhZbaq3yB0GHAE8C+TmfppGYB54WD/qVOB1FKKdV6vkAoH7gNq1W7OByns5oBTA4H/V87HURlBi201F7hC4TcwA3A9XTeGymmimqsa7f+5XQQpZRSLfMFQt8FHgZ8DkfJBHVYI0D+ph18VUfTQkt1OF8gNBTrLNbhTmfJMK8Dl4SD/o1OB1FKKbUjXyDkAkqwhtPrWay9axpwrl7frDqSFlqqQ/kCoUuAO9GLeZ1SilVsveZ0EKWUUtv4AqEeWM2MTnA6SwYrxSq23nY6iOqctNBSHcK+8fD9WC1plbMMcFM46L/J6SBKKaXAFwgdDjyP3jcyFSSAPwJ/1kYZKtm00FJJ5wuEioEXgWMcjqK29wxwUTjor3M6iFJKZSpfIPRL4HYgy+ksajuvAueEg/4ap4OozkMLLZVUvkBoBNa1QdpVMDXNAiaFg/71TgdRSqlM4guEBPg71q1NVGqaBZwSDvpLnQ6iOgeX0wFU5+ELhI4DPkGLrFR2KDDLFwiNdTqIUkrtjogYEXm8yWOPiJSKyOtJ2PbHbVy+RESubu/z+QIhL1ZTKC2yUtuhwMd2Ey+l9pgWWiopfIHQhcCbQJHDUVTLBgIf+gKh450OopRSu1ENjBaRXPvxCcCatmxARDzNHrsBjDFHJCVhK/gCoQIgBPxkbz2n2iP7YhVbhzgdRKU/LbTUHvMFQhdj3f9D74+VPvKA13yBkHa7Ukqlsv8Bfvvnc4CnG2eIyKEi8rGIfGF/H2FPv1BEnheR14CpInKMiEwTkaeABfYyVU22c42IzBaR+SJyU5Pp14vIVyLyDjCiPeF9gVAv4H1AD2yll17ANN1Hqj2lhZbaI75A6CLgP+j9P9JRDvCq7kiUUinsGeBsEckBxgCfNpm3BDjaGDMOuBH4S5N544ELjDHH2o8PBa43xuzfdOMiciIwzJ4/FjhIRI4WkYOAs4FxwA+ANp/dsBtDvWtvQ6WfPOAVXyA00ekgKn1poaXazR4uqEVWemsstk50OohSSjVnjJkP+LDOZr3RbHYh8LyILATuAEY1mfe2MWZTk8ezjDHf7OQpTrS/vgDmACOxCq+jgCnGmBpjTAVWR7pW8wVCXYG3gNFtWU+lnFzgdV8gNN7pICo9aaGl2sUush5C30OdQQ7WUTsttpRSqehVrG59TzebfgswzRgzGjgV629Zo+pmyzZ/3EiAW40xY+2vfY0xD9nz2tWW2RcIdcEqCg9uz/oq5eQD//MFQgc5HUSlH/2QrNrMFwidgxZZnU1jsXW000GUUqqZh4GbjTELmk0vZFtzjAvbue23gItFJB9ARPqLSC9gBnCGiOSKSAFWIdciXyCUDbwCHNnOPCo1FQJTfYHQAU4HUelFPyirNvEFQkcBj6Lvnc4oB5jiC4SGOx1EKaUaGWNWG2Pu2smsvwG3ishHgLud254KPAXMFJEFwAtAgTFmDvAsMBd4EfigpW3Z98l6Cm180VkVY53Z6ut0EJU+9IbFqtXsD+Azsf7YqM5rOTBeb9iolFKt5wuE/gL8zukcqsPNAiaGg/46p4Oo1KdnJVSr+AKhIuA1tMjKBEOBF32BUJbTQZRSKh34AqHz0SIrUxyK1QhMqRZpoaVa5AuEXFgXIeuQssxxFHC30yGUUirV2U0S/u10DrVXnesLhAJOh1CpTwst1Rp/AU5yOoTa6y73BUKXOx1CKaVSlS8Q6gm8xPYdD1Vm+LMvEDrF6RAqtWmhpXbLvpnttU7nUI65wxcI7ed0CKWUSlGPAoOcDqEc4QL+6wuEBjgdRKUuLbTULvkCoW7AI+gNiTNZLvCkXq+llFLb8wVCPwNOdjqHclQx8IR9iYVSO9A3htqdB4D+TodQjhsH3Ox0CKWUShV2F96/O51DpYSJwHVOh1CpSdu7q53yBULnAY87nUOljARwTDjob/FeMkop1Zn5AiEP8BFW9zmlABqAQ8NB/zyng6jUome01A58gdAg4B6nc6iU4gIe8wVCXZ0OopRSDvsDWmSp7XmBx3WYvWpOCy21Mw8DhU6HUCnHB/zD6RBKKeUUXyC0P3C90zlUSjoA+I3TIVRq0UJLbccXCP0QOM7pHCplXeILhA52OoRSSjnkn4DH6RAqZd3gC4T02na1lRZaaitfIJQD3OZ0DpXSBLjT6RBKKbW3+QKhM9EDkWr38tEmKaoJLbRUU7/FGh6m1O4c6QuEznE6hFJK7S2+QCgXHTqtWudsXyA00ekQKjVooaUA8AVC/YDfOZ1DpY2/+gKhLk6HUEqpvSQA7ON0CJU27rG7U6oMp4WWanQrkOd0CJU2BqL3DVFKZQD7mptrnc6h0spo4AKnQyjnaaGl8AVCBwHnO51DpZ1r7DOhSinVmV0L5DgdQqWd6/WsltJCSwH8HqvJgVJtkQtc6XQIpZTqKL5AqA8w2ekcKi0NRg9iZzwxxjidQTnIFwgNBxajRbdqn0pgUDjo3+J0EKWUSjZfIPR3rEZRSREtX03pq3/d+ji2ZT1FE84jZ9ABlL91LybegLjcFJ/wM7L7jdhu3YYNKyifei+mvhZcLgrHn0XefkcDUPrabURLV5I79BC6TbRGrG356Gm8vQbTZdjhyYqv2m45MDIc9MecDqKcoR+umxERn4gsbDatRESu3s06B4vIPzs418dN8v0kiZu+Bn0fqPYrAH7mdAillEo2XyDUA7gimdvM6j6AfhfdTb+L7qbvBXciWdl0GT6ezdMfoejIc+h30d0UTTiXzdMf2WFdycqmh/8q+l16H71+dBOb332QRF0VDRu/AaDfxfdQv3oRifpqYlWbaFj3tRZZzhsKnOt0COUc/YCdBMaYz4wxv97T7YjILsfyGmOOsH/0AUkptHyBUF/0tLbac/9n34NNKaU6k6vowCZRdSvnkVXUF09hLwASDTXW9/oa3Pndd1g+q7g/WcXWvXA9Bd1xdSkkXhNBXB5MrAFjEph4DMRF5IMnKDrqvI6Krtrmel8gpJdnZCgttNpARKaLyF9FZJaIfC0iR9nTjxGR10XEJSJhESlqss4yEektIj1F5EURmW1/HWnPLxGRf4vIVOAxERllb3+uiMwXkWH2clX2JoPAUfb834jIByIytsnzfSQiY1r5kq4EspPwq1GZrTdwkdMhlFIqWezbV3To2frqxTPoYg/9Kz7uMjZPe4TV913I5mkPbR3+tyv1a7/CxGN4uvUlq8dAPAU9Wffo/5E3cgKxzesA8PYe2pHxVesNA05wOoRyhhZabecxxhyKVaT8sekMY0wCeAU4A0BEDgPCxpgNwF3AHcaYQ4Azgf80WfUgYJIx5idYwxTuMsaMBQ4GVjd7/gDwgTFmrDHmDns7F9rPNxzINsbMb+lF+AKhriR5SITKaFf7AiH9e6KU6izOBopaXKqdTDxK7bJZ5I2cAEDl3DfodtylDPj5o3Q7djLl/7trl+vGqjZRFrqdHidfiYj1Z7f4+Mvod9HddD30B2z54HEKJ5xL5ONnKX05SOXcNzvqZajWu9zpAMoZ+sFoR7vqDtI4/SX7++dYw/iaexb4sf3z2fZjgOOBe0RkLvAq0FVECux5rxpjau2fZwK/F5HrgH2aTN+V54FTRCQLuBh4tIXlG50HdG3lskq1ZAhwotMhlFIqSTr0bFbtis/x9h6KO68bAFUL3qXLcOsKgS4jJ1C/7uudrpeor6H0hZsoOup8svuP3GF+zdJP8PYZhonW0VC2kp6nB6heNI1EtK7jXoxqjdPsyzVUhtFCa0flQLdm04qBMvvnevt7HNjZNVUzgX1FpCdwOtsKMxcw3j4TNdYY098YU2nPq25c2RjzFHAaUAu8JSLH7i6sMaYGeBuYBJwFPNXySwR0qJdKPn1PKaXSni8QahxR0mGqv3x/a8dAAHd+MfWrFgD2tVvddrxFoYlHKZ3yJ/JGHbv1TNj282NUfPYqXQ/7ASZWz9a7thgDcW165zAPcInTIdTep4VWM8aYKmCdiBwHICLFwEnAh61c3wBTgNuBxcaYcnvWVOCXjcs1va6qKREZAqwwxvwT68xX8+utKrE6vTX1H+CfwGxjzKaWMvoCodF08E5EZaRJvkCo+UEKpZRKNxd35MYT0TrqwnPpMuKIrdO6f/9XbH7vIdY+/Eu2zHiM4pN+BUD9uqWU/89qaly95EPqVi2iauE7rH3kV6x95Fc0bFixdRuVc0Lkjz4OV1YOWT0HA4a1D/2C7AH74crJ78iXpFpnsg6xzzx6x+qd+ylwr4j8w358kzFmuUirm8Y8C8zGvnbK9mt7m/Oxfu8z2Pk1Uj8GzhORKLAeuLnZ/PlATETmAY8aY+4wxnwuIhXAjv1gd+6nrX0hSrVBNtb79wGngyilVHv4AqEsktTZd1dcWTkM/L+nt5uWM2AUfS/c8bqs7L7DyO47DID8Ud8lf9R3d7ndrodM2vqziNDztGuTlFglySDgOKxRSCpD6A2LOwER6QdMB0baDTl2yW4xGsb6D69Uss0IB/0TnQ6hlFLt4QuETgTecjqH6rQeDAf9lzkdQu09egozzYnIT4FPgetbKrJsR6BFluo4R/kCoQFOh1BKqXY63ekAqlM7wxcI6WiyDKKFVpozxjxmjBlojHm+lauc1aGBVKYTrNsXKKVUWrFHfJzmdA7VqfUAjnI6hNp7tNDKPN9zOoDq9LTNu1IqHR0M9Hc6hOr0tJjPIFpoZRBfIDQQGOF0DtXpTbQvKFdKqXQyqeVFlNpjWmhlEB0nmlmOT9aGKma/TNW8qSCQ1dNHj5OvpG71l2yZ/gjGJHBl5dLdf+UO9wIx8Sjlb95Lw/qlIELx8ZeRM2gMJhZl40u3EK8so2Ccn4ID/QCUv3k3BeNOxtt7aLKiq46XB4zH6qyplFLp4lSnA6iMMMQXCA0NB/3LnQ6iOp6e0cosSSm0YpVlVHz+Gn0uuIN+l9wHiQTVi2ewaep99DjlavpddDd5+08k8vGzO6xbNc9q5tTvknvp/eM/sfm9hzAmQe03c/D22Ze+F99D5bw3AWjYuAKM0SIrPZ3gdACllGotXyBUBBzgdA6VMXa847TqlLTQyizHJW1LiTgm1oBJxDGxetz5xSBCoqHGml1fbU1rpqFsFTm+7wDgzivClZNHw7qliMuNidZDIr512S0fPEHhhHOTFlntVVpoKaXSyXisZj5K7Q1aaGUILbQyhC8QOgDonYxteQp60PXQM1hz/0Wsvud8JLsLuYMPpPtJv2Lj8yWsvvcCqhdNo/DwH+2wrrfXYGqXfoJJxIluWU/9+uXEKsvIGTyOePUW1j32WwoPO5OapZ/i7b0vnoLuyYis9r6D7SPESimVDo50OoDKKNp5MEPoNVqZI2n/qeN1VdQs/ZT+VzyEKzuP0leCVC2aRs3XH9PrRyVk9xtB5NMX2fzef+j+/V9vt27+mBOIlq9i3X+vxNO1F9n9RyIuN+Jy0/O0awAw8RgbnruRXmfewKZ3HyReUUre6OPoMuywZL0E1fHcwOHAm04HUUqpVtBCS+1NI3yBUI9w0F/mdBDVsfSMVuYYk6wN1YXn4insjbtLIeL20GX4eOpXf0l04zdk97OaGubtdxT1axbvsK643BQfN5l+F91NrzNvwNRV42nWMKPyixD5o4+jfs0SxJ1Fj0nXEZn5TLLiq71Hr3dQSqU8+wayhzqdQ2UcHT6YAbTQyhxJ+9Dr6dqThrVfkYjWYYyhbuU8snoMIlFfQ3TTGgBqv5lLVveBO6ybiNaRaKizl/kCXG68PQZtnR+vq6J22WzyRh+LidWDCIhgYtFkxVd7jxZaSql0cADQxekQKuMc5HQA1fF06GDmGJWsDWX3G0GXEUey7tErEZcLb++hFHznJDwF3Smd8hcQwZWTT/eTrwSgZumnNKxfStFR55GoibDhuRsBwVPQnR6n/Ha7bUc+eprCI36MiJA7+EAq54RY99AvyR/3/WTFV3tP0s6iKqVUB9rP6QAqI410OoDqeGKMcTqD6mC+QGgQsNLpHCrjNAB54aA/5nQQpZTaFV8gdBNwo9M5VMZZGA76deRHJ6dDBzOD/kdWTvACw50OoZRSLdC/U8oJ+/oCIf0c3snpP3BmGO10AJWxtMhXSqU6LbSUE3IAn9MhVMfSQisz7Ot0AJWxhjgdQCmlWqCFlnLKCKcDqI6lhVZmSMqNipVqB33vKaVSli8Q6gPkO51DZazBTgdQHUsLrczQy+kAKmPpe08plcr6Oh1AZbQeTgdQHUsLrcygH3aVU/S9p5RKZT2dDqAymhZanZwWWplBP+wqp+jQQaVUKtNCSzlJC61OTm9Y3Mn5AqEuQJ7TOVTG0iJfKZXKujkdQCVf7YrP2fTuvyGRIP87J1J4+I+2m29iUcpCt9Owfhmu3AJ6TroOT2Fv6lZ/yaap9yHuLHqcdg1Z3fqRqKui9JW/0uusmxGRZEfVQquT0zNanZ9+0O2Eald8zpoHL2fNvyYT+eT5HeZXfvEGax/6BWsf+RXrn7iWhrJvAahb/SVrH/4l6/77G6Kb1wKQqKtiw7M30EE3L+/RmvuEiMj1IrJIROaLyFwROawjwrSQ4RgReX1vP++uiEhYRHQnrFTHKnQ6gEouk4iz6e376fWjm+h36X1Uf/n+1n1go6r5U3Hl5NH/8gfpevAkNk9/FICK2VPoefrvKDr6p1R+8QYAWz5+hsLxZ3VEkQXQvbULpsh+skhEft6O9UpE5OqOyJTqtNDq/Lo6HUAlV2t2Inn7H0O/S+6l30V30/WwM9n83n8AR3YiLqDL7hYQkfHAKcCBxpgxwPHAqo4Ik0wikrQRASLiTta2lFJtovvITmbji7cQqyij9MWbEXcWefsdTe3ST7bOr1o0jc3TH6E2PJf1j1+Np7gfdSvnEaveQv2qRWx8/o/UrZyHuDxEN6+jZvEMPN36dVTcotYstDf3ky3s24qANhdamUwLrc5Ph4d2Mi3tRKLlq9jw3A2s/PvpRD59CROtA4R4TcSJnQi0/B7sC5QZY+oBjDFlxpi1ACJykIi8LyKfi8hbItLXnr6viLwjIvNEZI6IDBXLbSKyUEQWiMiP7WWPEZHpIvKCiCwRkSfFripF5CR72ofADxoDicihIvKxiHxhfx9hT79QRJ4XkdeAqSLyuIhMarLekyJyWtMX10KuaSLyFLCgNb9IEckTkYdFZLadbZI9fZSIzLKPcs4XkWH2siH7d7Sw8XmVUtvRfWQnk91vBLlDD9762F3Qg3hV+dbHnsI+uLv2oM85QQqPOJtNU+/Hld2FqnlTyR/7fVw5BVR+8QYFB55C+Rt3kDv8CDwFrT7x1Fatff/tdD+5m33kdBG5095/LRSRQ+3prd235YvIu/b+dUGT/VwQGGrva26z173G3ifNF5GbGgPbZ+C+EpF3yOD7hekfmM5Pj5R3Mtn9RiBuDzF76J+7oAcN677aOt+VU0Dx8Zez5YPHqfjkeSQrm95n/5nqL98nf+z3qftmDpVfvEG/S+6j7LW/dfROBFr+OzMVuFFEvgbeAZ41xrwvIlnA3cAkY0ypXSj8GbgYeBIIGmOmiEgO1kGjHwBjge9gjXufLSIz7OcYB4wC1gIfAUeKyGfAg8CxwDLg2SaZlgBHG2NiInI88BfgTHveeGCMMWaTiEwEfgO8IiKFwBHABc1e3+5yHQqMNsZ808LvqNH1wHvGmItFpAiYZe/ErgDuMsY8KSJerP/3JwNrjTF+ADufUmp7HTJmWjknq/tAos1GecC2ERs5A/ZD7PMM3v4jiVeWIR4v4vbg8ubQ60cllE75M9HNa4lFNtLthCsofeWviMtNt2MvwZ2X1Mv6WvsZ7XmgQUTqgUrgGeAqrH3kjcBpWPu2xn0kQJ4x5ggRORp4GBhN6/dtHuAMY0yFWEPYPxGRV4EA1j5rLICInAgMw9qXHQM8IyLvAtXA2Vj7Xg8wB/i8zb+dTkALrc5PC609dKF7yvtd3RtrN5BtNoonEcHlqhCXJBIJlychJisG7riYrDh44kJW3NiPDZ44Tb/EkwBP3IgnYazvcfAkjLgTRjxx+3vCuNwGwOx0LN/7G1f0nFO2tufG2qq8Gz59ZPY7q5f1/qZiU8HkTx9Z1nS5pxoqfDm9+sWLsnPrF71UUjy4a3FFPJGQiYOHbbyrauOoU2c8EH58w/KRP+/Rc8Hr/75kH7eIOXf4uGXdc7pEk/n7W53fywX+Xc43xlSJyAHAN8APgcki8gLWDmA08KGIFAPrgXUiUgD0N8ZMsdevExEf8C/gWmNMHNggIu8DhwAVwCxjzGoAEZkL+IAq4BtjzFJ7+hPAZXasQuC/IjIM64NYVpPIbxtjNtnP/b6I3CsivbAKqheNMbFmL3EC8PRucrW2yAI4EThNto11zwEGATOB60VkAPCSMWapiCwA/i4ifwVeN8Z80IbnUSpTJJwOkM5G8M2yn/Hc8nB9Xn1pvdfU1LtcXauQouqEu7Am7smvj2e5E8ZFs4LWIIA9Xl0wjT8aZCeFb+M8zNYHIpjth7sbY8+at3ljwdOrvty3NhbNuvWj/3z65DcLfQDnfvTQSkQMAjc2VI39wQcPrlgcKSvq483usihS2vPWuo0f3/HlzNFVHz/tvWyfUUufmnLLyEl9hny7/OW/FP3cN/qb9bVVuYtfLCm8eMTBK7a9jm35mr5G63U0CSjNXoc9Kyauyt3tH5uoxdovHYW1wq+BIVj7yL/by3wXWNdknaetX4yZISJd7YNzBex63/ZO477NDvsXu0hLAP3ZeRfhE+2vL7Bu/J2PVXgVAFOMMTUAdpGWkbTQ6vx0J7KHXosfO+pdz9Vri6R6TNPpNW6pKfW6N633uCNrPZ6atR5P/VqPO7bB45Eytytri8udU+2S/AaRwgQUY52haR1jjDtB3J0g6k4Qc8eJeRLE3XGilUurPatfregac8fl1e8t6ffVmxuKXP0w7x29uDgrTsITJ+6JY8orNnuy3S4ZeUjPDc//e/3w408uWPHC1FUjP/lyeZ/vjeux4unPPxt29IiilaH1nw084zs9w2UVDdlvrZ05YPL+fb9xxxFPwuCOI+4EeBK43AnEZX93J3C5EojL4HYlcLkMbpfBJQa3GFwug0esx579cxe15j1Ya4zZF0BELgb+CmwBFhljxjddUETac01FfZOf42z727ero9m3ANOMMWfYRdz0JvOqmy37OHAu1tG7i9nR7i5+a76tlghwpjHmq2bTF4vIp1g74LdE5FJjzHsichDWma1bRWSqMebmNj6fUp2dntHaAzWS1+X07HnfI8d6nIDEKo9n7aJs7/p52dk1071ZpiLm8VAjOTm14i2uoq64kvriShMrrsQUVRspqMGbV0d2dpS8rBgFLkM3gdz2Znpm7Vq+ra7AA+y/cfGxy8pW8be+/RhWungIwGsVESpqKrh30cziGIaLuxXTvUsuB5QumZgfrSERj7Nu7eIDCxIxfueNjpywZQOvLon0OT6/gIGxKAetmzc4Kb88y9rWLmgfrJsOTBeRb4C7gM+A3wFXY53VWmEXVABGRJYBR2IddH8ZGAOUAidgjQRZKCK3A98H6kQkH+ss2fFYxdJlxpjnRGQ98AbgBQaKSL4xpgoYjHXArwqYAQwxxjwkIlei/7cALbQyQVLPTmSicgp7HFJ/f9eXvTd8OMq1ckLj9C7GdNknFuuyTyw2YPvP8TsyYCIu15aNbvfm9R535VqPp2aNxxNd53EnNng8Uu52eStcrpxacRVEhW4GusXd4om7d/w/asblUfNUDMkSlvU0w1auqGLAFQOY39+1tcNk/fp6tgx0485x80JW9SD3gGzeOs47vuC4oRQA775TPqZ6qYsVv+w5fNn1y7ijrLR3wQEFRHu4+fPZ7kHJ/P0B8d1dgGSPEW9ajAwB/gecBWwWq8PRycAZwJ1YF68XiMha4I/AY1h/6GuAH4vIM8B/sM6OjQUesp/nQuB0rCF8jcMQx4jIIqyhGGvs5SYDk4Bj7KGBS1p4fY8Cs4D1xphFO5k/A7hcRP4LFANHA9cAI1vY7s68BfxKRH5ljDEiMs4Y84WIDAFWGGP+af88RkSWAJuMMU+ISBVwYTueT6nOTg9G7oFVple/hJFSl5ieAC5w7ROLDdgnFhtwcnXNdsvWitQsLc5avaCvt3x+djYfeLM86zyeomqRATQb2uyNmtquNWwpqqKiuMrUFFdS173CRmcFUwAAIABJREFUxLpXEi+qRrrWGE9eLd7cBrp4YxS4ExQCXQXkzKIi+nuzuK+8nFO/WcEZhYUMy87m7rJSRuXkMCAri1v79uWXa1aT53Lx6OZNvOwbTKiygkldCzk2P49jly/ngQEDuaN0IyOzs9kcj/PPslJe8CWzxgJa/xlNRGRY4wgMoB/WQcM+wP72NDfwAda+EuBXQJhtZ5gewdoHrgX+Ccy1lxsO/A04CLgBiGCdJdsXeNu+Pqs31hmzjVhD7a8Skb9hnWFbC5yENTwxxx7hMQN4VESCWLXGqVijTjKOFlqdX/NhTKodoni8/oZbJ9zqefD9s93TjhJpWyMZASlKJIqKEomi4dGW/67GILbJ7d68we3ess7jrlqT5ald5/FE17ndlHrcrugJRf2XvlA6eOl1S+PdjipK5PTP8W54aQO5g3PpOq4rm97dxJZPtiBuIbtPNgMmD9i67UR9gtJQKQMuHUDkkwhdD+5K1YIqNr60kaE3DW37L6dldS3Mz8f64/yl9dJZhjWE71T7+x1YR83mAsuBfbCO0N0P3Iu1M/kF1lC8+fYy2cD5wDzgfbaNDR+NdU3YQuBPwH+xhj0MxDoiVwe8ZM//L9a4893eh84Ys0FEFmMdLdyZKVhj3+dhHeG71hizXkRaU2jNF5HGD4LPYV2jdac9XbB2oqdgFY7niUgUa4jlzVjDE2+z148CP2vF8ymVabTQ2kMbKVrZh80t3vg515guY+obho+pb+BcqrabV+Z2lX7p9a6bn50dWZjtTazIysop7+ruWdaVwYjL25ocroSJF9SyubC6oKJ2rkm4nikfeulP9/2wuJL4nCo4uU9Pd34tWeUVDYVXL/923/sHDqwa7s0uOD38jWeg10tWtVBnEqxpiJLndnNIly7cvGE953XrxumFhVy6ahU+b6uitEVtK5cTrCF/RWzbT9YDl7D9PvI1rP0BwACsg3sPYL3PnwK+xtq3DWZbE6bn2Xaw83is0Rmb7W29DZRjFXUvAg1YZ8KuxDoousSePhOrmCsECowxc0TkWTvTSqwCMCNJB907R6UIXyA0GFjR4oKq1X7ofn/WbZ5/7SdCgVMZwlsSnPJUDQt/ng9AnUhtmdu1ab3bU7Euy129xuOpf/jlyICGHHd8yJm91m22hjF2aRApqllf333DlI3eQT8fRNnUMlxeF4WHFRL+e5ihNyS90EosuGBBi9cJikiVMSa/2bQtWJ2K9gOuNsacIiIlgMsYc6O9zGNYhdFcrOuQRovIFOBuY8x79jIfYBViBwJHGmMm29O/BcYbY9bYwxXHGGOutM9i/QmrjW0+8JYx5ordZO+CtcM60BgTaf2vRinlNF8gFABudTpHOrs/6473v++ePbEjth2H+Mosz5qF2d4N87OzaxZ7vbIqy1MQcbn6JkT67GydVfevourLKuKVcTzdPPQ6vZdVJgDFxxaz5uE1RD6L4O3uJVYZw0SN+e4tI1fnb4xXf/rEt33LN9TmnXRAz6VUJTy5USOzN1T1ro8lsq7o1aP89PxCXIYiaeEAXBt8vt+SxQe3tFDzfaQ9cmE2VoOliWzbRwqwFNiAdS3yGGNMuYiUAX2NMVG70dRaY0xPEXkUa9/5gr3dOcBZxphlTZ7rVOAnxphzmmUai9WEaaL9+DSsoYantPu30QnpGa3Ob6PTATqbF+ITD/0qMXDpS94/RrIkPqDlNZLrnBdrmB6OU1ZjGHB7JTcdk000QS7Q/4qDvf3Xlyf42b+rqag3uATKPo4M+fIX+XTNtg5YnfV8Ddcdl1NVtHpt+XyfVP/m0cigDa9tcB39vW7f9KmtKy93u7MibldujUh+g0iRsa4va++tICras5K9E4ljvX/3aza7+dGh5o93d01U0zGeiSaPE2z7e/gocLoxZp493PCY3eQ8Hmu4xO1aZCmVlkqdDpDupiXG5n7fPbtDtu0G95BobNCQaGzQaVXbD0WsFqn62pu1ekF29qb52d7oUq/Xs97jLh54xYABDWXRgpV3rmTYn4ftsM3+F/en/8X9qVpcxbrH1jH4T4Nlfb4MpNhD9z8NoTuwtDq+37f3fcugqwax+akE8Zo4j5yU2//Zfa3dRFbM1HWtZnNRNZXFlaa6uJK67pUmWlyJ6VYFXWuMO7+O7JwGcr1R8j0JioBC2XH/1OJ+Q0TuoEnTChF5D2u43z32EPKfAfuKyAvGmB/aBxvPB5bbRdZ0YBHWmarGa4o/3MXTTQV+iXXGChHpBnwC3Csi+xpjltkHFwdgnc0aLCJDjTHLgUuxhsarJrTQ6uTCQX+1LxCqJnlHXxSwwAwZdnj9PWXvZl89v3mTjI729Jm7vf8vffJdrL5q1yfbnvtRF4B8orH8oVlwxuTG7TWMYv2OdXkCEpvcrrKNbveWdR5P1VqPp3atxx1d5/GYDW63a5Pb7a10ubrUuaQgahVlTZtVbG7r6xORnlhDHRp3Is0XmSQit2K9p4/BajfbdDzHDKwdyXsiMhyrK99XWGe0WqMAq7thlr2dNbta0Bjzjr19pVR60kJrD30QHzOI1rd6Spo8Y/LH1TeMHFffsMO8TyOUnVkXy790S2T2wmxv4pusrNxNbnevKAxAxFO3qo41D6/B91sfnvwdPwpvfGUjvU7tReSTCLm+XArHF/LtXd8yOGBdoxX1SE55IX3LC+m7fLfH9rZxJUw8v5YthdVUdKsyVcWV1ObXsaAVp1M/Bv7P7pibhTXsbyPQeM+q0Vj32Pqh/fhZrOYY1zXZxt+B34jINVjv+Yt28Vx/wiqqFmId7LzJGPOSfdDxaRHJtpf7gzHmaxG5DAjZZ8xadT/ITKOFVmbYgDWWViVRY5OMV7x/+HB/17cTWl4jPbnA1SOe6NEjnuixf0PL15c1QEOZ271pg8e9ZYPHM6+VT5PbZCcSwzrqdvsulp0FhLAKnFvsmzb6msy/D3jAbm8eAy40xtTvpGDblRuAT7HGlS8A54aIKqU6nBZae2gd3fvEjWxwi9lZ+29H9DaJHkUuw/9tjhzVdHoUoh9Uur4966GK3med0/PLWDeqVsfjXStdrn4J6yAf9evriW6Jkjcyj9pva3F5rQEdieieXc6XcIm7Io/uFXl0X9Vr6/5oTisKrY+whvqNtW+FcjXWDYwLRaQGq/X6GSKy0BgzGuvs1bPAb0XkZKwOjuuMMceKyDnA74E3RCRkjLlQRM4SkduNMVdhXfN1lDFmiIgMxbqe6yWsM281WNdnlWENWwTr/089ViOOKqD5DcwynhZamWEjWmh1iCge78kNwXY3yeiMvODtF4/36ReP96G+oaWOfYDVzX4386azfXv1r40xlzVbJox1VA9jTB076bBnjHkUa1hg42PfzuYZY+7HarShlOr8tNBKgg0Uf9uP8pQotHYxvB6AKw72Zj01rXpQvD7Bwiml45hSiscF8y7Lp8Ilka+83jUXPVrR69Qf9FixJRqNuQ8u6PX1PauHlE8td/U6o9fun7h91rW0gH0wMSYig4AjsBpP9MdqshTBagLV9LTez4AaY8wYERmDdbNgRKQf1q1TDsIabTJVRE7HGgVyjb3uUUC5iPTHugfkB/bojruBScaYUhFp7Np7MVYnw1/Z95S8bU9+EZ2VFlqZYYPTATq738UmT/zcDHe8SUYKanEnopRSDtJCKwnmJIbV9HOXOx0DaHl4/X9Oy+U/p+14m66uCVN4SF194cKzs4HKHqyuBMCcn2XWedzrFnkb1s/fUlG5KNtLOMvTZbPb3SsG/RFpseHTbqxu5XIfYRVZR2CN9uhv/xzBGlrY1NFY7dsxxswXkfn29EOA6caYUgAReRI42hjzsojki0gBVgfep+xtHIV1NmsE1oHMt+2RIW6s4fWFQJEx5n17+49j3Y9LNaGFVmbQQmsvcLpJRopalcyNGWNKkrk9pVRmCwf9EV8gFMFqS63a6b342C6nuD9xOkaHEJB+sXjffrHavifUbN+NvQEalnuzwguzvWXzs7PrvvJ6Xas9nsIql/Q3It1bsfnWDrX7GKuwOgDr9iOrgN9iNZx6eCfL76yl+O7Gz8/Eum7rK6xW7BdjnTH7LdYw/UXGmPHbbcxqNa+ty1ughVZmCDsdIFM42SQjRbVq6KBSSjloCXCY0yHS2YeJA3xOZ3CCF7z7NUSH7tcQHfqjyurt5kVcri2LvVlr5mdnb16Q7Y0v92Z5N7rdPeqtGzQ3nlJr7e13PsIqelYYY+LAJrvQGQVMxroVSaPGhlDTRGQ00PhZ5FPgLhHpgTV08BysIYGN69xsf32BdXPiWmNMRES+AnqKyHhjzEx7KOFwY8wiEYmIyARjzIf2c6pmtNDKDNoJZi/KlCYZrfSl0wGUUqoFi9FCa49spFvPuHGtd0tip/e2ykSFiUTR4XX1RYfX1W833YBZ7fGsnp/tXR3o1WNlKze3AOueWU81m5ZvjCkTkaaF1v3AI/aQwblYDaQwxqwTkd8B07DObr1hjHnFXucDrGGDM4wxcRFZhX2g1BjTICI/BP5pDxf0AHdiNd24CHjYbsrxVitfS0bRGxZnAF8gNAirg5ray4KeB9//ceY2yWgAulASiTsdRCmldsUXCF2L1SRA7YEPs389a4CUHep0jjSygJKIjnzp5DLxw1/GCQf93wJbnM6RiQKxyROvjV32mTFU7sl27vqkntH3VTHqviru/KR+h/m3fVTP2AeqGPtAFaPvq8J9cwWbag2l1QkmPFzN6PuqeHnJttbsk56pYW3lnrWqbYWlWmQppdLAYqcDdAafJYbXtryUakJHfGQALbQyhw4fdMjz8WMOndRwy/qYcbW2u9B2Fm6M8+CcKLMm5zHvijxe/zrG0vLt65drjsxm7hX5zL0in1uPy2biPm6Kc4WnF0a54DtZzLwkj9s+trq/vvZVlAP7uOlX0OH//XUnopRKB1poJcF78XH5LS+lmtDPZRlAC63MMb/lRVRHmW+GDjus/t6ciMlr8x/WxaUJDh/gpkuW4HEJE/fxMGVJbJfLP70wyjmjswDIcgm1MUN93OASiCUMd37awDVHetv/YlpP33NKqXSwAvZs1IGCDxOjfU5nSDPN27KrTkgLrcyhH3odVk5hj4Pr7x/xZWLQh21Zb3QvFzNWximvSVATNbyxLMaqyM6H/dVEDW8ui3Hm/lah9ZMDsnhreZyTnqihZGI2981u4KdjsuiStbsur0nTpteplFJOCAf9CayObGoPbKKwe3tHbmSgGPqeywhaaGWOmU4HUBDF4z25ITjhmdh33zeGVl0ktV9PN9cd6eWEx2s46YkavtPbhce180Lpta9iHDnIQ3GuNb8wRwj9pAufXZbPgX3dvP61VYRNfrWWHz5Xw8xVuz4ztocagM55UxWlVGekZxeSYI3poYVW68ylJFLjdAjV8bTQyhDhoH8BsN7pHMrS1iYZlxzoZc7l+cy4KI/iXGFY953/131m0bZhg83d/H491x+VzdMLohzUz83Dk3L5/Xs7NtZIktmUROo6auNKKZVkHzgdoDP4zIzosJ1KJ6OFfYbQQiuzvON0ALVNW5pkbKy2Tn59G0nw0uLYToupSJ3h/XCMSSN2vD3e0vI4a6sSTPR5qIla12sJUNdhJ7SY0WFbVkqp5PsY60y82gPvxccVOJ0hTXzkdAC1d2ihlVnedjqA2t62JhlddnsN3ZnP1bL/vVWc+nQN956cQ7dc4YHPGnjgs22fC6YsiXLiUA953h2HFV7/Xj1/+m42AOcckMWjc6Mc/lA1V4/vsKYYWmgppdJGOOivwb6xq2q/DxOjhzidIQ0Y9AxqxtAbFmcQXyDUD1jjdA61oyxiDa96/zBrP9e3E5zOkgT1QA9KIlVOB1FKqdbyBUK/B/7sdI50tzT7/G+zJD7I6RwpbBYlkcOcDqH2Dj2jlUHCQf9aYJHTOdSOoni8328ITng2dkyrm2SksKlaZCml0tBLTgfoDFabnnpAd/dedjqA2nu00Mo8U50OoHbtuthljU0y0rlQedHpAEop1VbhoH8JevPiPTYrMVKvdds9LbQyiBZamecFpwOo3bObZKxL0/uRRIFXnQ6hlFLtpAeK9tB7iXGFTmdIYV9REtFiPoNooZV5ZgJhp0Oo3Wttk4wUNI2SyGanQyilVDvp8ME99HFi/8HGoA0Adu4VpwOovUsLrQwTDvoN8IzTOVTLyinscXD9AyMXJwZ96HSWNtCjwUqptBUO+r8AVjidI51VklcYxbPS6Rwp6lmnA6i9SwutzPSY0wFU66RZk4x6tNBSSqU/3UfuoW9Nz7VOZ0hBcyiJzHE6hNq7tNDKQOGgfzHwqdM5VOulSZOMlyiJlO9qpogYEXm8yWOPiJSKyOttfSIRKRKRn7c3qIj8TkTOFZESEVkjInNFZKGInGbPf1REfriT9XwiUisiX4jIYhGZJSIXtDeHUiolPQh03O3cM8Cnif2i7V334ldq6XVbJaPv27a7m7c+zviHqjngfut+khX1ux6ZGE8Yxv2rilOeqtk67dyXahhzfxW/f7du67Rb3q/nlSXtjtke/96bT6ZSgxZamethpwOotkmDJhkPtjC/GhgtIrn24xNo/33dioA2FVpiafybdyLbOnDeYYwZC/wIeLjJMruy3BgzzhizH3A28BsRuagtWZRSqcu+FYo29dkD7yXGFbV33QvHZvHmeV22m3bpa7UEj8tmwc/yOWOkh9s+qt/l+nd92sB+Pbb9GZ+/IW59/1k+H3wbJ1JnWFeZYNbaOJNGZrU3ZltVAU/trSdTqUMLrcz1NBBxOoRqm/lm6LDD6+/JTsEmGUuA6a1Y7n+A3/75HKz3IQAicqiIfGyfLfpYREbY00fZZ47mish8ERkGBIGh9rTb7OWuEZHZ9jI32dN89pmn+4A5wEAR6Qp4jTGlTYMZYxZjHcXuYU862s6xYmdnt+x1VgBXAb9uxWtXSqWP+50OkM4+Sew/pL3D3Y/ex0Nxrmw37auyBEfv4wbghCEeXly88xOOqysShJbGuPRA79ZpWS6ojULCGBriBrcLbpxWz83HZLcnXns9Q0mkcm8+oUoNWmhlqHDQXwk84HQO1XZlFPU8pP7+EUsSA1OpScY9lERa02XqGeBsEckBxrD9ENYlwNHGmHHAjcBf7OlXAHfZZ50OBlYDAawzS2ONMdeIyInAMOBQYCxwkIgcba8/AnjMPgu1EjgeeLd5MBE5DEgAjQVYX2ACcApWYbcrc4CRrXjtSqn08S6w1OkQ6aqa3IIGPOFkbW90LzevfmUVV89/GWVVxc5ruCvfrONvx+fgalKn7dfTzaBCFwf+q5qz9s9i2aYEBhjX152seK2hwwYzlBZame1OoK7FpVTKaSAr+6SGv054NjZxego0yagA/tuaBY0x8wEf1tmsN5rNLgSeF5GFwB3AKHv6TOD3InIdsI8xpnYnmz7R/vqCbYXPMHveSmPMJ02WPQnrzFqj34jIXODvwI+NMY0F48vGmIQx5kug925eluxmnlIqDdkdevWs1h4Imz7rkrWthyflcO/sBg76dxWV9eB17/hn9/Wvo/TKEw7qt2MBdedJOcy9Ip/fHpHNDdPqufm72fx5Rj1nPV/Dg593+P2VZ1ASmd3RT6JSkxZaGSwc9K+nlR+QVWq6Lnb5MdfFJjvdJOMuSiJtef5XsYqap5tNvwWYZowZDZwK5AAYY54CTgNqgbdE5NidbFOAW+0zXGONMfsaYx6y51U3W/ZQYFaTx3fY6xxljPmgyfSmFwHsrpgaB+gNKJXqfP7NtjPcqo0+SewXT9a2RvZwM/X8PD6/LJ9zDvAwtNuOf5I/+jbOq1/F8N1Zydkv1PLeNzHOe2n743KvLIlycF831Q2GhaVxnvtRFx6fH6Um2qG3/bqlIzeuUpsWWuo2IGl/DNXe91z8u4ee3nDzWoeaZESA29u4zsPAzcaYBc2mF7KtOcaFjRNFZAiwwhjzT6wibQxQCRQ0Wfct4GIRybfX6S8ivZo/sYiMApYYY5LynhcRH1bReHcytqeUSh3hoL8aax+p2uG9xLhuydrWxmpr4EbCGP40o4ErDvbusMytx+ew+qoCwlcW8MwPczl2sIcnfpC7dX40brjr0wauOdJLTXTb0bOEgYaO+xQ0k5LIOx22dZXytNDKcOGgfznwgtM51J6ZZ/Yd7lCTjLsoiWxpywrGmNXGmLt2MutvwK0i8hHQdOzHj4GF9vC+kVjXW5UDH9kt2W8zxkzF6ug0U0QWYL2nC9jR94E325J3J4Y2tncHngPuNsY8sofbVEqlpnvRs1rtMjsxcogxbT+Qe86LNYx/qJqvyhMMuL2Sh+Y08PSCKMPvrmLkPdX0KxAuGmt1C1xbmeDkJ2ta2KLl3tkNXPCdLLpkCWN6uzDAAfdXceRAN0U5HTYCXM9mZTjZdjmCylS+QOg7WNe26LUmac5LtP5V7x9mj3StmrAXni4C+NpaaDlJRN4GfmqMSdq1A0qpzs0XCF2NntlqlyXZFyzLkei+TudwyGeURA5xOoRylp7RUoSD/nnAY07nUHtuLzfJuCOdiiwAY8wJWmQppdroPmCj0yHS0Tem73qnMzjoj04HUM7TQks1CmBd96I6gb3QJGMDVmdApZTq1MJBfw1ws9M50tHMxP5Od8V1yhuURJp31lUZSAstBWztQPhnp3Oo5OngJhnXUBKp6IDtKqVUKnoAaN7AR7XgvcS4YqczOKAB+I3TIVRq0EJLNXUHsMzpECp5mjTJSOYHhBmURB5P4vaUUiqlhYP+OPBrp3Okm88Sw4caQ8zpHHvZnZREvnY6hEoNWmiprcJBfwPwW6dzqOQqo6jnIfX3D1+SGPhhEjYXA36RhO0opVRaCQf904Ennc6RTurIzq3Du8LpHHvROrTToGpCCy21nXDQ/yp73v5apZjGJhnPxY7e0yYZd1MSWZi0YEoplV6uAjY7HSKdLDf9MqmRyDWURDrq2miVhrTQUjszGUirbnKqda6NXbEnTTK+RbsoKaUyWDjo34iO/GiTjxKjMqUhxhRKInrGU21HCy21g3DQvxq4wukcqmO0s0lGAjifkoh2plRKZbRw0P8I8JLTOdLFtMTYHk5n2As2AJc5HUKlHi201E6Fg/5n0bHonVY7mmT8lZLIjA4NpZRS6WMysMbpEOlgjtUQI+p0jg52CSWRMqdDqNSjhZbanV8AK50OoTpGG5pkzEaHDCql1FbhoH8TcAFgnM6S6hrIyq4he7nTOTrQvymJhJwOoVKTFlpql8JBfwT4KexR8wSVwlrRJKMaOJeSSGc/GqmUUm0SDvrfBf7hdI50sMz0L3U6QwdZitUgRamd0kJL7VY46J+B3si407s2dsUxv4tdOnsnTTJ+SUlkqSOhlFIq9V2PddZf7caHidFOR+gIlcAkSiLVTgdRqUsLLdUafwRedTqE6ljPxI89zG6S0Xjdwd2URB51MpNSSqUy+/6Tk9DrtXZrenxsT6czJFkCa7THYqeDqNSmhZZqUTjoN8B5wCKns6iOZTfJ8K5M9HoMHQ6hlFItCgf964DTgBqns6SquWbfIcZQ73SOJLqRkshrTodQqU8LLdUq4aC/EjgVyKQbD2akMorKJzbceSUlkZjTWZRSKh2Eg/45WNc0a3OMnYji8VaT01kaYjxHSUQvqVCtooWWarVw0P8N1lG7WqezqA5TCvjDQf9mp4MopVQ6CQf9L6IdWnfpazOg3OkMSfAZcJHTIVT60EJLtUk46P8UOBftRNgZVQGTwkH/CqeDKKVUOgoH/bcADzqdIxV9kDhAnM6wh5YA36ckokNEVatpoaXaLBz0T8EaIhF3OotKmmrg5HDQP9PpIEopleYuBx51OkSqmRYfl84NMVYCJ+hNiVVbaaGl2iUc9D+JFludRWOR9YHTQZRSKt3ZDaQuAZ50OksqWWAGDzWGOqdztMNq4FhKIqt3tYCIXC8ii0RkvojMFZHDROQ/IrJ/e55QRHwisrDdiVXK0EJLtVs46H8KOB8tttJZDdY1WTOcDqKUUp1FOOhPABcAzzudJVXEcXuqyE23hhjrgOMoiexySL2IjAdOAQ40xowBjgdWGWMuNcZ8uZdyqhSlhZbaI+Gg/2m02EpXNcAp4aD/faeDKKVUZxMO+uPAT4AXnM6SKpaYQenUEGMZMIGSyNctLNcXKDPG1AMYY8qMMWtFZLqIHAwgIlUi8mcRmScin4hIb3v6UPvxbBG5WUSqmm9cRNwicpu9zHwRuTzJr1N1IC201B6zi61zgajTWVSrRbDOZE1zOohSSnVW4aA/BvwY+JfTWVLBjPgBbqcztNLnwJG7O5PVxFRgoIh8LSL3icjEnSyTB3xijPkOMAOYbE+/C7jLGHMIsHYX278EiNjLHAJMFpHBbXkxyjlaaKmkCAf9zwInAul0tCpTrQDGh4P+6U4HUUqpzi4c9CfCQf8VaOt3pifG9nI6Qyu8DRxDSaRV9w01xlQBBwGXYd0i5VkRubDZYg3A6/bPnwM+++fxbBte+v/s3XeYG9XBxeHf1a527XW315U2xmBjegdjegd9EEgCCT20AKGTggIpCiFBhBISaigJPQEChCJ6N726YMCYIvdeZK+9VXu/P0a217hsG+mqnPd59NjWjkZHYO/smblz74PreIuDgZONMWOB94B+wOZtySbuqWhJYDI/uO8GfO44iqzbGGC3ZDyi/0ciIjmUjEeuwJ9EqsF1FlcmWm9Ta8nn6dEfBCLEUmsM4Vsfa23aWvuatfb3wHnAD76zSaO1dsVi1mmgvB27N8D51trtM4+h1toX2pNP3FHRkkAl45Gv8c/QPO86i6zhXuDAZDyi6WlFRBxIxiP34V+hKMnvw82EypZQlY8TYqSBy4ATiaXadRuEMWaEMablFabt8aeDb4t3WVXKfryObZ4HzjHGhDPvN9wY0609GcUdFS0JXDIeSQER4O+uswgAFrg8GY+ckozdnmJgAAAgAElEQVRHSvZMqohIPshMQLQ98KbrLC58bjdZ5DrDd8wFDiaWuopYyra69Zq6A/cYYz4zxowHtgRibXztRcAlxpj38SfVSK1lmzuBz4CPM1O+/4P2XRETh8yqK5kiwfOiiZOAm4CerrOUqBnAKcl45GXXQUREZBUvmigH/ghcij88rCScU/bEW5eGHxrtOkfG28CxxFIzXLy5MaYKqLXWWmPMj4HjrLXfc5FFskNFS7LOiyY84B5gb8dRSs1/gbOS8chC10FERGTtvGjiMOA+/EkOit5IM+XrZyt/PcxxDIs/49+v2jtUMEjGmL3wT0YbYDFwmrX2K1d5JHgqWpITXjQRAn6Bf/auwnGcYrcUOD8Zj9zjOoiIiLTOiyY2xB8idojrLNlmaG7+pvLE5cbQ3VGEr4EziKVec/T+UkJUtCSnvGhiO+B+YGvXWYrU28CJyXjkW9dBRESkfbxo4kTgr0C16yzZ9EnlmeP7mGXb5vhtm/HvHb+cWCqfZz6UIqLJMCSnkvHIOGBn4A9AneM4xWQR8DNgL5UsEZHClIxH7gdG4g8lLFqfNXu5nhDjC2BPYqmLVbIkl3RFS5zxoomhwPXAUa6zFDAL/Au4VNO2i4gUDy+aOBj//p2iW5z2p2VPv31Z+ME9cvBWKeAq4AZiqfocvJ/IalS0xDkvmjgAuBZ/ultpu9eAnyfjkY9dBxERkeBlZiY8Hfg9/vTfRWG4mZZ8ofJSL4tv0QjcBlxBLKWTkOKMipbkhcxkGSfhrz3hOQ2T/8YCsWQ88oTrICIikn1eNFEFXIg/FXwvx3ECYO23lScsNSYrS788BkSJpSZnYd8i7aKiJXklc/buWOBXwHaO4+Sb14F4Mh55znUQERHJPS+a6Itfts4BejiO0ykfV541tq9ZGtRIljTwKHANsdSHAe1TpNNUtCRvedHEIfgHlP1cZ3HIAk/hF6x3XIcRERH3vGiiF3AWcAGwgeM4HXJPOP76PmXj9+nkbpYD/wSuJ5bSRFCSd1S0JO950cQuwCX4k2Z0cRwnVxYDDwE3JuORia7DiIhI/smMAvk+cB6wl+M47XJa2bPv/C5836gOvjwJ3AXcSiy1ILhUIsFS0ZKCkTmD90PgRGAf/JXUi0kT8BxwL/BkMh7RDEkiItImXjQxEjgeOA4Y5jhOqzY1M6e+UvmLjdvxkiXAf/GPkW8QS+kHWMl7KlpSkLxoYiPgBPwJNLZ0HKezPsJfM+XfyXhkruswIiJS2LxoYjf80nUsMMhxnHX6pvL4xSFD7/VsUge8AjwAPE4sVZubZCLBUNGSgudFE5sDB2Ye+wF93CZq1WzgxczjpWQ8MstxHhERKUJeNFEG7MaqY+TuQNhpqBY+rDz7k2qzZIfvPD0Zf3THs8BrKldSyFS0pKhkponfCf+AcgCwC2Rl+tj2mAt8CLwMvJiMRyY4ziMiIiXIiya64w+9PxAYBWwDVLnKc2f4mtcOLPtkMPAe8C7wArHU167yiARNRUuKmhdNGGAosAP+AWVk5jEcqAz47ZYDk4DPgc+A8cDHyXhkRsDvIyIi0mmZk5PDge3xl1TZHhgBbEiwV76agOn4k1h8i398HNuTZZ+Mjx+bCvB9RPKKipaUpEwB6wcMAPpnfl3x+2r8A4xt8SDzazOwAJjz3UcyHlmaw48gIiKSFZkCNgS/cA0CBgN98Wf+XfGozPxaBiwDajKPFb9PAVPxy9WMZDySzumHEMkDKloiIiIiIiIBC7kOICIiIiIiUmxUtERERERERAKmoiUiIiIiIhIwFS0REREREZGAqWiJiIiIiIgETEVLREREREQkYCpaIiIiIiIiAVPREhERERERCZiKloiIiIiISMBUtERERERERAKmoiUiIiIiIhIwFS0REREREZGAqWiJiIiIiIgETEVLREREREQkYCpaIiIiIiIiAVPREhERERERCZiKloiIiIiISMBUtERERERERAKmoiUiIiIiIhIwFS0REREREZGAqWiJiIiIiIgETEVLREREREQkYCpaIiIiIiIiAVPREhERERERCZiKloiIiIiISMBUtERERERERAKmoiUiIiIiIhIwFS0REREREZGAqWhJzhljjjfGfGiMqTHGzDLGPGuM2bMT+4sZY+4PMmPQjDGXZT5vjTGmzhiTbvHnia7ziYiIezo+6vgoxUVFS3LKGHMJcAPwZ2AgsDFwC/A9l7mCYowpX9vz1to/W2u7W2u7A2cD76z4s7V2q9ymFBGRfKPjo46PUnxUtCRnjDG9gCuAc621j1lrl1lrG621T1lrf2mMudsYc2WL7fc1xkxv8edLjTEzjDFLjTGTjDEHGGMOBS4DfpQ5+zUus+0QY8yTxpiFxpivjDFntthPzBjziDHm/sy+Jhhjhhtjfm2MmWuMmWaMObhlbmPMXZmzizOMMVcaY8oyX/uJMeYtY8xfjTELgVgH/9v8wxhz9Xeee9YYc17m99Mzn/9zY8yiTJ7KFtseaYwZZ4xZbIx50xizdUdyiIhI7un4uN7/Njo+SsFS0ZJcGgV0AR5v7wuNMSOA84BdrLU9gEOApLX2Ofyzfw9lzn5tl3nJv4HpwBDgh8CfjTEHtNjlEcB9QB/gE+B5/H8PG+Af7P7RYtt7gCZgM2AH4GDgjBZf3w34BhgA/Km9n63FexxvjAllPu9AYB/gPy22OQE4CNgc2Ar4dWbbXYA7Mpn6Af8EnjDGVHQwi4iI5JaOj+um46MULBUtyaV+wHxrbVMHXpsGKoEtjTFha23SWvv12jY0xmwE7Alcaq2ts9aOBe4ETmqx2Rhr7fOZLI8A/YG4tbYR/5u3Z4zpnfmGfhhwUeYM41zgr8CPW+xrprX2Rmttk7W2tgOfDWvt20At/sED4DjgJWvt/Bab/d1aOz3z3J8z2wD8FLjFWvuBtTZtrf1n5vldOpJFRERyTsfHddDxUQqZipbk0gKgel3jtNfHWvsVcBH+0IO5xpj/GGOGrGPzIcBCa+3SFs9NwT8bt8KcFr+vxT/ApVv8GaA7sAkQBmZlhh0sxj+bN6DF66e19/Osw73AiZnfn4h/RrGllu8zBf9zksl46Yp8mYyDWf3ziohI/tLxcf10fJSCpKIlufQOUAcctY6vLwOqWvx5UMsvWmsftNbuif+N0wIrxmzb7+xnJtDXGNOjxXMbAzM6kHkaUA9UW2t7Zx49v3OD7nffv6PuA75vjNkBGAY89Z2vb9Ti9xvjf84VGf/QIl9va22VtfbhgHKJiEh26fi4fjo+SkFS0ZKcsdamgN8BNxtjjjLGVBljwsaYw4wxfwHGAocbY/oaYwbhn6ED/DHoxpj9Mze41uGfVVtxhm0O/lCGUOZ9pgFvA1cZY7oYY7YFTgce6EDmWcALwHXGmJ7GmJAxZpgxZp/WXtuB95qC/9/gHuARa23ddzY5zxizgTGmH/7484cyz98OnGuM2cX4uhtjjjDGdAs6o4iIBE/Hx1bfS8dHKUgqWpJT1trrgUuA3wDz8M82nQf8D/+M1Tggif/N+6EWL60E4sB8YDb+0ITLMl97JPPrAmPMx5nfHwd4+Ge1Hgd+b619sYOxTwYqgM+ARcB/8YceZMM9wDasOSwC/BuYXwK+Bibhj0PHWvsecA5waybfl6waYiEiIgVAx8dW6fgoBcdYG9RVXRHpLGPM/sBdwKa2xT9O40/je6K19jVX2URERFzR8VEKka5oieSJzHSzFwJ3WJ0BERERAXR8lMKloiUSIGPMbcZfGPK7j9taed02+MMa+gJ/z0lYERGRHNHxUUqRhg6KiIiIiIgETFe0REREREREAqaiJSIiIiIiEjAVLRERERERkYCpaImIiIiIiARMRUtERERERCRgKloiIiIiIiIBU9ESEREREREJmIqWiIiIiIhIwFS0REREREREAqaiJSIiIiIiErBy1wFEcs2LJsKABwwFNgI2yDx6A1VA1+/8WgnUATVreSwCksA3mce3yXikIWcfRkREJCBeNNED2AIYCWwC9AcGZH5d8egGlOGfrG/5aACWAkvwj43zgXnAdOArYDIwORmPzM7dJxJxy1hrXWcQyRovmugD7AzsmnlsA2yMf5DIhmZgBn7p+gz4EPgA+CwZj6Sz9J4iIiLt4kUTw4E9gB3xi9VI/JOO2bYU+BoYB7wLvAN8qmOkFCMVLSkqXjSxGXAYsDuwC7AZYJyG8tUA7wFvAmOAMbryJSIiueJFE9sC+wH7AnsB/ZwGWl0N8D5+6XoJeDMZjzS5jSTSeSpaUtC8aKIMGA0ckXmMcJuozZYAzwH/A55JxiMpx3lERKSIZI6PewFHA0fhj+YoFIuAZ4GngOeS8chix3lEOkRFSwpO5uARAX6Ef/Wqj9tEndYIvAY8ATyq8esiItIRXjQRAg4GjgGOBKrdJgpEE/AG8ADwSDIeWeo4j0ibqWhJwfCiCQ84AzgVGOI2TdY04Reu24CXk/GI/oGKiMh6edHEEOB0/GNkIV25aq/lwGPAHcl45A3XYURao6IleS0zQ+BRwJnAgeTH/Va5Mhm4HfhXMh5Z4DqMiIjkDy+aMMAhwFnA/1F6M0l/DtwC3JWMR2pdhxFZGxUtyUteNNENOBv4OTDYcRzX6oH/AH9KxiOTXYcRERF3MsMDfwxcDmzpOE4+mAv8DbhZ9ztLvlHRkrySWcPjQuAi8mtGpHyQBu4HrkjGI9+4DiMiIrmTuT/5BOAyCmfip1xagn+F66/JeGSu6zAioKIlecKLJqqA84FfooLVmibgbuCPyXhkquMsIiKSRZkhgicBv8VfskTWrxa4Frg6GY8scx1GSpuKljjnRRM/Bq6jeCe4yJYG/Hu4fp+MRxa6DiMiIsHyook9gRuAnVxnKUAzgF8D92tiKXFFRUuc8aKJLYCbgf1dZylw8/EPJnfpYCIiUvi8aGIQ/lWZE1xnKQLvAxcl45F3XAeR0qOiJTmXGSb4W+ASoMJxnGLyLnBGMh6Z6DqIiIi0X2aY4LnAlUAvx3GKze3Az5PxSI3rIFI6VLQkp7xo4jDgVmAT11mKVCMQx5+hsN51GBERaRsvmtgIuAfYz3WWIpYETkvGI6+6DiKlQUVLcsKLJiqAvwAXUFprYbkyHjg2GY9Mch1ERETWz4smTgRuQlexcsHi37ZwaTIeWe46jBQ3FS3JOi+aGI6/DtQOrrOUmBrgnGQ8cr/rICIisiYvmugD3AYc6zpLCfoKOC4Zj3zoOogULxUtySovmvgJ/lm6bo6jlLJ/AufrzJ2IlApjzOXA8fjrDzYDZ1lr31vHtncDT1tr/5u7hOBFEzsBjwMb5fJ9ZTX1+BNl3OY6iBQnFS3JCi+a6ArcgWZMyhcT8YcSfuY6iIhINhljRgHXA/taa+uNMdVAhbV25jq2v5scFy0vmjgeuBPomqv3lPW6FzgrGY/UuQ4ixSXkOoAUHy+a6A+8ikpWPtkKeN+LJiKug4iIZNlgYL61th7AWjvfWjvTGPM7Y8wHxphPjTG3G2PWuF/YGLOTMeZ1Y8xHxpjnjTGDM89fYIz5zBgz3hjzn44G86KJkBdNXA08gEpWPjkZeMOLJjZwHUSKi65oSaC8aGIE8AywqessslZp4OxkPHKn6yAiItlgjOkOvAlUAS8BD1lrXzfG9LXWLsxscx/wsLX2qRVXtIAngNeB71lr5xljfgQcYq09zRgzExiauULW21q7uL25vGiiF/AgcHgQn1OyYhZwSDIemeA6iBQHXdGSwHjRxF7A26hk5bMy4A4vmviD6yAiItlgra0BdgJ+CswDHjLG/ATYzxjznjFmArA//pX+lkYAWwMvGmPGAr8BNsx8bTzwgDHmRKCpvZm8aGIA8AYqWfluMP6VrdGug0hx0BUtCYQXTRwH/AuodJ1F2uxfwE+T8Ui7f2gQESkUxpgfAmcB2wI7W2unGWNiANbaWIsrWpOA2621o9ayjzJgb+BI/LK0lbW2Td87vWhiQ+BlYHjnP43kyHLgmGQ88ozrIFLYdEVLOs2LJs7CH2+uklVYTgWe8qKJLq6DiIgExRgzwhizeYuntscvUQDzM0MLf7iWl04C+mcm08AYEzbGbGWMCQEbWWtfBX4F9Aa6tyWLF00MA8agklVoqoAnvGhC95pLp6hoSadkStataBHiQnUo8GhmQWkRkWLQHbhnxeQVwJZADH8m3AnA/4APvvsia20DfgG72hgzDhgL7IE/5Pr+zJDDT4C/tuUeLS+a2Aq/ZHkBfCbJvXLgPi+aON11EClcGjooHeZFE2cC/0Alqxg8CvwoGY+kXQcRESl0mYmhxgD9XWeRTmvGPz7mdJ01KQ4qWtIhmTVA7kNXRYvJfcApyXhE3xRERDrIiyY2At5CCxEXkwbgyGQ88rzrIFJY9EOytJsXTRwJ3IP+/hSbk/CHgYqISAd40UQ/4EVUsopNBfCYF03s4TqIFBZd0ZJ28aKJHfHXJ9FCi8Xr6mQ8EnUdQkSkkHjRRFf8dbv0w3jxWgzsrXW2pK1UtKTNvGhiIPAhq9YVkeJ1ajIeudt1CBGRQuBFEwb4L/B911kk674Fdk7GIwtdB5H8p6Ff0iaZWekeRyWrVPxDQyRERNrs16hklYqhwENeNFHmOojkPxUtaavbgDUWcZSitWI8+hDXQURE8pkXTRwI/NF1DsmpA4GrXYeQ/Kehg9IqL5q4GLjedQ5x4i1gv2Q80ug6iIhIvsnMMPgxUO06izhxQjIeedB1CMlfuqIl6+VFE6OAa1znEGdGA9e6DiEikm8yQ+r/i0pWKbvTiya2dh1C8peKlqyTF010A+4FNA65tF3gRRMHuw4hIpJn/gLs6jqEONUVeMCLJipdB5H8pKIl63MNsJnrEJIX7vKiiV6uQ4iI5AMvmtgbuMB1DskL2wJ/ch1C8pOKlqxV5grGOa5zSN7YEPir6xAiIq550UQVcBdgXGeRvHGxF03s6TqE5B8VLVmDF030Af7pOofknVO9aOJw1yFERBz7MxrtIasLAf/KlHCRlVS0ZG1uBDZwHULy0h2ZIi4iUnIyVy3Od51D8tJmwB9ch5D8oqJVZIwxg4wx/zHGfG2M+cwY84wxZnhbX58Zd35CFiNKYRuCZiEUkRLkRRNh/CGD+tlJ1uVCL5oY4TqE5A99sygixhgDPA68Zq0dZq3dErgMGNiW13vRRAjdhyOt+4kXTWzvOoSISI6dC7T5xKWUpDD6OUpaUNEqLvsBjdba21Y8Ya0da60d08bX/wTYMRvBpKiEgOtchxARyZXMkOnfuc4hBeEw3c8sK6hoFZetgY868kIvmuiOpieVttvfiyYirkOIiOTI7wDdnypt9dfMUFMpcSpassJlwCDXIaSgXONFE1rMWkSKmhdNbIY/bFCkrYYD57kOIe6Vuw4ggZoI/LC9L/KiiY2Bi4OPI0VuJHAmcFtrG4qIFLA4/r03gWlcMJ15T1698s9Ni2fTe88T6bnL91jy0VMs/fhpjCmj67Cd6bPfaWu8vrmuhgXP/p2G+VMBqD78Qio3GMmi1/5F7TcfUTFgKNX/93MAaj59hea6pfTc+XtBfgRp3aVeNHFrMh6pcx1E3NEVreLyClBpjDlzxRPGmF2MMfu08rpLgS5ZTSbFKuZFE/q7IyJFyYsmtga+H/R+w/02ZMipNzLk1BsZfMoNmHAlVcNHUTdlPLWT32XIqTcx5Ixb6Lnr2t964cu302XTndjgzNsYctqNhPttRHP9MupnfM6Q027C2mYa5iVpbqxn2acv0WMHjfR2YCD+yUgpYSpaRcRaa4GjgYMy07tPBGLAzHW9xosmBgFrni4TaZuBwEmuQ4iIZMllgMnmG9RNGUe492DKew1g6SfP0HP3YzDl/gW0sm6919i+uX45ddMm0n3bgwEwZWFCXboDBptuwlqLbWrAhMpY8v5j9NjpSEyZBjA58ksvmqhwHULcUdEqMtbamdbaYzPTu29lrY1Yayev5yUXo6tZ0jmXeNFEVn8QERHJNS+a2BQ4Ntvvs+zzN6gauTcAjYtmUD9tIrPuvYTZD0apn/XlGts3LZ5NWVVPFjxzAzP/dQELnv07zQ11hCqrqBqxB7PuvoDyXgMxld1omPUlVZvvnu2PIOu2EXCK6xDijopWCfOiiR7AWa5zSMHbAtC4FBEpNhcDWZ3wx6Ybqf3qfbptsaf/RHOa5voaBp10HX32PZV5T1yNP1ilxWua0zTM/poeOxzOkFP/jglXsuTdRwDotdsPGXLqjfTd/wxSY+6n914nsnTc88z7X5zFb/8nmx9F1i2qiaNKl4pWaTsd6OU6hBSFn7sOICISlMy6Wadm+31qv/mIioHDKOvmzxxf1qOaquGjMMZQOWQExhiaa5es9pryHtWU9aimcsgIAKpGjKZhzterbbPiz+V9NmDZp6/Q/6gojfOm0LhwRrY/kqxpU+AI1yHEDRWtEuVFEyHgQtc5pGjs60UTO7kOISISkJ8A3bL9Jss+e51umWGDAFWb707dlPEANC6cgU03Eerac7XXlHXvQ3nPahoXTAcy93hVb7zaNovH3E+vPU+A5iawzf6TJoRtqs/ip5H10KQYJUpFq3QdAHiuQ0hR0RIBIlIssn41q7mxjrrkWKpG7LHyue7bHkTT4tnMvOtnzH/yL/SLXIwxhqalC5jzyO9Xbtf3wLOZ//S1zPzneTTM/Zaeo1bdSrb8y3eoGLQ55T36EerSncohWzDzrnPBQMWATbP9sWTtDvWiiY1ch5DcM98d+yulwYsm7kWzxUmwaoFByXhkSatbiojkqczV+Q9d55CiE0vGI39wHUJyS1e0SpAXTXQjC+uCSMnrChzjOoSISCf9xHUAKUqnZW7bkBKi/+Gl6WhyMPZcStLJrgOIiHRUZs2j413nkKK0MXCQ6xCSWypapUlDBiVb9vKiiSGuQ4iIdNARQF/XIaRoZX1dNskvWiq8xHjRxGD8iTA6bckH/6Nm3AtgINzfo/rwi6AszOIx97H8izfBhOixw+H03PnI1V7XMOcbFrxwM7a+FkIheo06duWsS/OeuobGeVPoOmwX+uzjr/G3+K1/UzFgqBZdLAwGf/jg31wHERHpgKNdB5Ci9j0vmjgrGY80uQ4iuaGiVXqOJoAFGJuWzmfJR08x5PRbCIUrmfe/OMs+fwOsJb1kHkPOvA1jQqSXLV7jtSZcSXXkEsJ9N6Bp6QJm33MRXYfuSNOSeQAMOe0mZj/wK5rrl9HcWE/DrC/pPfq4zkaW3DkWFS0RKTCZ+2cOdZ1Dilo/YG/gFddBJDc0dLD0HBzYnprT2KYGbHMa21RPWfe+LB37DL1GH4cx/l+tsm6913hZuO8GhPtuAOBPP1vVi/TyFCZU7u/PNmPTTWBCK1e2l4KyuxdNaOiNiBSa3fF/EBbJJi1eXEJUtEqIF02UA/sFsa/yHtX03PVoZtx6KtNvOglTWeVflVo0m+Wfj2HWPRcx5+Hft7oKff3MSdh0E+V9BhOu3ojyHv2ZdfeFdNtiT5oWzQKgYuCwICJL7oSAfV2HEBFpp4jrAFIS/s91AMkdFa3SsivQs9Wt2iBdV8Pyye+xwdl3seG592Ib66mZ+Co23YgpDzP4lBvosd0hLHh23SPImmoWMj9xPdWHX7TyCljfA3/KkFNvpOeu32fxmPvotecJpN5+iHn/i7N07HNBRJfcCOQ+QBGRHFLRklzYzIsmdAa5RKholZbAhg3WJcdS3msgZVW9MGXlVA0fRf2MzynrUU3ViNEAdB0+ioa5ybW+vrl+OfP++wd673USlRtsscbXl09+l4pBm2Mb62iYP4X+R0VZNvFVmhvrgvoIkl37uw4gItJWmYmitnOdQ0rGaNcBJDdUtEpLYOs3lPfsT8PMSTQ31mGtpW7KOML9NqJq892pmzIOgPppE1bei9WSTTcy7/Er6bbV/nTbYs+1fL2JJR8+Sc/dvo9tqsefyA6wFtKaqKdAbKFp3kWkgIxyHUBKiopWidCsgyXCiyZ64A8dDETlkBFUjRjNrLsvwoRCVAwcRo/tDsU21TP/qWtZ8sETmIou9DvsfADqZ02mZuyz9DvsApZ98SZ10yaSrl1KzacvAVB9+MVUDNwUgKUfJ+i+9QGEwl0I9x8KWGbedS5dh+1MqEv3oD6CZN/+wP2uQ4iItMFurgNISVHRKhHGWus6g+SAF03sBbzhOoeUlDuT8ciZrkOIiLTGiyZeA/ZxnUNKhgX6JuORNdfAkaKioYOlQ2PPJdf0d05E8l5m/aydXOeQkmLQcNWSoKJVOrZ1HUBKzpZeNGFchxARacVWgMalS67t4jqAZJ+KVunQ1QXJtW7AUNchRERaoatZ4sII1wEk+1S0SkBmWMRWrnNISdradQARkVasucaISPYNdx1Ask9FqzQMw7+6IJJrKloiku90ZUFc0N+7EqCiVRp0NUtc0d89Ecl3m7kOICWpR2ahbCliKlqlYWPXAaRkbe46gIhIKzzXAaRk6apWkVPRKg0bug4gJWuA6wAiIuviRRP90IyD4o7nOoBkl4pWadjAdQApWf1dBxARWQ+diBSX+rkOINmlolUaBroOICWryosmNBGLiOSr3q4DSElT0SpyKlqlQVcVxCUNHxSRfKWiJS5Vuw4g2aWiVRpUtMQlFS0RyVe9XAeQkqYrWkVORas09HQdQEqaipaI5CsVLXFJRavIqWiVhjLXAaSk6R4tEclXKlrikk6EFzkVrdKg/8/iUrnrACIi66Cp3cUlnQgvcvoBqDToH3IRaVoyj/mJ60nXLMKYEN23P4SeO39vtW1qJr7KkvceBSAU7kLfQ35GxYBNSS9PMe+xP9FcX0PvvU6iavgoAOY++kf6HvwzyntkZRSD/v6JSL5qdh1ASpqOj0VORas06IpWJxwbfnbM5l0/rBlf0TU9ubK8bHbYdm0INVe4ytOwoDY86NjyiqrNN1+WXt4Y+uaP927fa9ePP+/q9axdsU1z7T+Ux+MAACAASURBVMIefffdYHl5j4r0kg/m9J7/zK833vT3u46f9/S3g3vtVtbce6+N50257m9bVR/69oTUe7P7dNlkafee2909LRt5bWPfeohkY9ciIp3V5DpAITs49MEnfwvfrKuCHdRA+UyY5TqGZJGKVpHzogkDGNc5CtnTjfvt+EHo4alnNtSPpMZ/bkEoNP/LiorZn1VWpD6rrGj6OlxePqe8vNcyYwZZY7I6XWvXIcAQgHmUVULXTSqgccEOZZX1K7fptSNACoCeO1jm/Leessp5e4T71EMaQuXzh5VVNRMqn7tH6p2pbHLRJoQq522UlcCV825vbRNjTBqYgP896XPgFGvt8qzkERFZJe06QCFbTpfyrqZhc9c5ClVXGmpb30oKmYpW8dPVrE5aTpduB9Zf2+fNygtnlZnmwQD9mpurR9XVVY+qq1tj+6XGLPm6IjxzYmXF4s8qKuq+qgiXzywv7740FBqYhkEYE1jxbZjXQN2UOroO67rObRa9sYge2/YAoPfuvZl22zQWvbWIQccOYuErC+k9ujehyqz+NWnLDzK11trtAYwxDwBnA9dnM5SICLqi1SnTbP++rjMUOP39K3IqWkUuGY+kvWiiAXA21K0YzKLfoGMafvfFoxWxnsasfxa9Htb23L6+oef29Q1rfK3eUPdNODzji4qKBRMrK2q/rAibaeXhbovLQtVNsAHGtPnfZLouzdSbpjLo+EGUdV37MO+az2tY9MYihl4+FICyqjK8Szz/9cvSzEvMY+PzN2bGP2eQXp6m+tBqqjaramuEtlqzja7fGGDboEOIiKyFftDthFm2nxbc7Rz9/StyKlqlYQEw2HWIQvexHb7FpU1nvn91+R07G9OxK4WVli4jGxqHjWxoHHZ0zbLVvtYETdPC5VO/qKiYN7GyYtmkigo7JVzedWEo1LfemA0wZuVlK9tkmXbTNHqP6k2vndc+O3HdtDpm/HMG3s89yruv+U997hNzGXDEAFLvpujqdaXXqF5M/dtUhkaHduSjrU+qrRsav2geBjwXdAgRkbVo74kgaaGBcGWzZVHI0Md1lgK12HUAyS4VrdKgohWQh9P77bqd+fr1E8pf2SfofZdD+dDGpo2HNjZtfNiy1W9PsmBnl5XNmlRRMffTivCS6/61cHjvnuXNgw/um6q1djDGrNa2GhY0MPXGqWz0042oHFS5xnvVz66ncXEj3bboRu3UWkIVfm9sbszKBFxL2rBNV2PM2MzvxwB3ZSOIiMh3zHMdoNA1EF7QhUYVrY6Z4zqAZJeKVmlY4DpAMbm86Yx9tgpNGbN96Ou9cvWeBszgdHrw4NraweWTlpKcsJxtBoRo+PUXg8uAX+7fdel7i1k6M1RWO/SwftMefGDeyPSSpuoZd8/AhEwZZbBZbLOV+5vz6BwG/mAg4N+3NeXvU1jwwgIGHD0gG/EXtmGblfdoiYjkkH7Q7aQaui7pQqPrGIVqtusAkl0qWqVBRStgP2iIjXqv8tyPq82SHXP93ntuXI79/RqLyfc4AfwZL+YtGHbNESE4wp9xd5kxNV9VhGd+Pn/hwomVFfWTK8KhPmdv0GNJKNQ/be3g8p7loWG/GZbNyDpjLCL5SkWrk+bbXrXVpi0DF2QtVLSKnIpWaVDRCliasvL96q8b9mHlz76uNI1ZbSmd1c3a7tvVNwzfrr4Blq7+tQao/zYcnvF5ZcWCzyorlk+qCJtp5eVVi8vKqhv9yTnCnXz7xgmnTNAYdBHJVypanTTT9mvcgqwsw1gKVLSKnIpWaZjvOkAxWkq3Xoc2XJV6ueKX80PGFuTMSxVQOaKxcdMRjY2bHvWdyTnSkJ5eXj59UkV47sTKymVfVISbk+FwlwVlKyfnaMv0hFPbksNaqwUvRcSF+fgzv+nnoQ6aZgdorc6OU9EvcvrGUhq+ch2gWH1rh2x8SuOlE+4Nx3sYw5qzThSwMijbpKlpw02amjY8ePmaayrOKSubM6kiPOezyooln1VUpL8Nh8Nzy8t61xozxBrTO7NZMqehRUTaIRmPWC+amA1s6DpLoUragVo+puN0RavIqWiVhs9dByhmY5q33eaqpuPfuiz84GjXWXJpYDo9cGBteuDetWvOjrw4FFo8uSI8MxkOv+sgmohIe3yJilaHJe2gwBdfLBEWNOay2HVoLSApOCpaWXZ7+v9GJ9K7veY6R77o3dzce5e6+i2PWVqzyHUWEZFWTHIdoJBNtQM0tXvHJImlNItIkVPRKgHJeGQxujyddec2Xrjv5OYhb7nOkWe+cB1ARKQVOhnZCTNtdUHeo5wHxra+iRQ6Fa3SoQNJDkQarto5ZasmuM6RR3SmWETynb5nd0ItlVXWtmlhelmdilYJUNEqHSpaOdBAuHL/+usGN9oyjbuGFPCN6xAiIq0Y7zpAoWugXMvItN841wEk+1S0SofO2OXIAnpVH9lwZYO1pFxncewdYqlm1yFERNYnGY8sBKa4zlHIltG11I93HaErWiVARat0vOM6QCn53G4y7LzGC76ylibXWRx603UAEZE2esN1gEK20PZY7jpDgVlELKVyXwJUtErHBCj5Kyw5lWjefafb0ke87TqHQypaIlIoXncdoJDNsv0aXWcoMB+7DiC5oaJVIpLxSDNQyj/0O3F103F7v5Xeql0H8NOeqGXANUvZ+paalc89MrGRrW6pIfSHJXw4M73O1y6us/zw4eVscVMNI2+u4Z1p/gW1S1+sY9tbazj58VULD983roG/vVvf3o/UVo3A+9nauYhIwFS0OmGa7e86QqF5wXUAyQ0VrdLyqusApejExl/vNcP2a3Pp+Mn2YZ47cfX1H7ceEOKxY7uy9yZl633thc/Vcehm5XxxXnfGnd2Nkf3LSNVZ3p6eZvw53Ulby4Q5aWobLXePa+Rnu1R07EO17mNiqdrWNxMRcS8Zj3wFzHSdo1Al7aBy1xkKzHOuA0huqGiVlpdcByhFllDooPprtlpuK9u0ptTem5TTt6tZ7bmR/csYUb3+krWk3vLGlCZO3yEMQEWZoXcXQ8hAQ9piraW2EcJlcM3bDVywawXhMrPefXaChg2KSKHRfVodlLQDq1rfSjJmEEtppssSoaJVWsYC812HKEXL6dLtwPpreqWtydrC0d8saqZ/leHUJ+rY4R81nPFkLcsaLD0qDT8YGWaHfyxjaO8QvSoNH8xM870twtmKAhoWISKFR9+3OmiqHdjbdYYCoqtZJURFq4Qk4xELPO06R6maSfXgHzX8bpG1LMvG/pua4eNZzZyzc5hPzupOt7Ah/qZ/D9avRlcy9uzuXHdIF377aj1X7FvJnR83cOwjy7nyjcDv01oAvBL0TkVEsuwJKOmZYjtsuq3u5zpDAVHRKiEqWqXnIdcBStmHdsTIy5pO/9RaAl9fasOehg17Gnbb0B8q/8Mty/l49upv88ksfyKN4f1C3DuukYePqeLTuWkmL1j3BBsd8ASxlH5YEZGCkllP6zXXOQpRDVU9rUVTvLeuCXjRdQjJHRWt0vMS/hUHceTf6QN2eyi935ig9zuoe4iNeoWYNN8vTS9/28SW1av/E//tq/VcsV8ljc2Qtv5zIQPLg52Y95FA9yYikjv/dR2gUDVRNs91hgLwFrGUltopISpaJSYZjzQBj7nOUeqiTWfuM7556FrL1nGPLmfUXcuYtKCZDa9fyl0fN/D4541seP1S3pmeJvLgcg653x99OHNpM4c/sOok4o2HdeGEx2rZ9tYaxs5u5rK9Kld+7X9fNLLLkDKG9AjRu4th1IZlbHNrDcbAdoPWP9FGOywCXg5qZyIiOfY4BD/ioBQso4sKROvudR1AcstYa11nkBzzookD0AyEzpXT1Phu5XkTqs2SHV1nCdC/iKVOcx1CRKSjvGjiVWBf1zkKzasVl7wzNDR7lOsceawGGEwsVdPqllI0dEWrNL0GzHEdotQ1UR7ev/7aYfW2/BvXWQKkYYMiUujucR2gEM22fRqC2M+0VDP73bOMkTfXsNUtNfztXX/Cpt++Use2t9aw/W01HHzfMmYuXfeFxyX1lg2uX8p5z/jLOdY3WQ69fxlb31LDLR+sivnTp2pX3rucAw+rZJUeFa0SlIxH0sB/XOcQWEL3Xoc1xMuarSmG++amo5t8RaTwPQQsdB2i0Eyz/QMZIlUegusO7sLn53bn3dO7cfMHjXw2L80vR1cy/pzujD27O/83vJwrXl/3jLm/faWefTZZNST++a+b2GlwGePP6cbtH/lFa9zsNM0Wdhgc2ND51tyVqzeS/KGiVbpuQuPQ88I3dsgmpzX+coa1BHI20KGbNdugiBS6ZDxSC9ztOkehmWIHlQexn8E9QuyYKT89Kg0j+4eYscTSs9Ks3GZZA5h1vP6jmWnmLGvm4GGr4oRDUNvkL4OyworJoXLkC2Kpt3P1ZpI/VLRKVDIe+QpIuM4hvteat9/26qYff+A6RyfUAre7DiEiEpBbAd3E3g5JO6hr4Ptc3Mwns9LstqFfvC5/uY6N/rqUByY0rrUkNVvLz1+o45qDuqz2/EHDypld08xudy7jV6MreXJSIzsN9ieHyhFdzSpRKlql7QbXAWSV29JHjn4uvctrrnN00H3EUhpqIyJFIXMyUpNGtcNUO6BnkPurabD84OHl3HBol5VXs/50QBemXdyDE7YJc9P7aw4CueWDRg7fvJyNeq3+4215yPDgD6r45KzuHLNlOTe828DP96jgkufr+OHDy3lyUrBrnHxHHZptsGSpaJWwZDzyCjDedQ5Z5ezGi/b5unlwIQ4v+JvrACIiAbvRdYBCMt1WVwe1r8a0X7JO2CbM90eG1/j68duEefTzNUeqvzO9iZveb8C7YSm/eKGee8c1En2pbrVtbvmggVO2C/POtDQVZfDQD7ty5Rvrvt8rALcTS83N5htI/lLREv2AnFeMObzhqh2X2KoJrpO0w4vEUp+5DiEiErCngUL6XuzUInr2sZZONxZrLac/WcfI6jIuGbVqeODkBatmB3xyUhNbVK/5I+wD369i6sU9SF7Ug2sPruTk7cLED1w1jHBRreXpyU2cvF2Y5Y2WkAFjoC57dxfXA1dnbe+S91S05AFgtusQsko9FV32r792UKMtm+46Sxv91XUAEZGgJeMRC1zpOkchSROa19l9vDUtzX3jG3nl2ya2v82fzv2ZyY1EX65n61tq2PbWGl74pom/HeoXqA9npjnjydo27fuK1+v5zV6VGGM4ZLNyPpyZZptbl3HmjhWdjb0udxJLzczWziX/acFiwYsmzgFucZ1DVreV+farpysuH2AMgY57D9i7xFJaoFJEipIXTYTwh9hv5TpLIRhfefqnPU3t1q5z5IkGYBixVKGcNJUs0BUtAbgD+NJ1CFndRDt0s/Mbz59sLfk8ZfqvXQcQEcmWZDzSDPzOdY5Csdh214K8q9ylkiUqWkIyHmkCLnOdQ9b0dPOonW5PR/J1cowXiKVeW98GxpiBxpgHjTHfGGM+Msa8Y4w5Okf5REQ6LRmPPAZ85DpHIZhLn0JfDzIoDcBVrkOIeypaAkAyHnkUeNd1DlnTVU0n7P1Oess3XOf4jmbgl+vbwBhjgP8Bb1hrN7XW7gT8GNgwB/lERIJ0sesAhWCa7d/c+lYl4W/EUtNchxD3VLSkpV+5DiBrd3zjZXvOtH3fd52jhbuIpVpbGmB/oMFae9uKJ6y1U6y1mjJZRApKMh4ZA9zvOke+m2IHlrnOkAemAn9wHULyg4qWrJQ5kDzhOoesyRIKHVR/zZbLbcUk11mAJcBv2rDdVsDHWc4iIpIrvwBSrkPks2TzoK6uM+SBC4illrkOIflBRUu+63xAN7PmoWV07X5Q/TU909bMcRzlNx1ZfNEYc7MxZpwx5oNshBIRyaZkPDIH+L3rHPlsih3Yw3UGx54kltIJa1lJRUtWk4xHpqGJMfLWDPoPPq7hNwusZbmjCK8BN7Vx24nAjiv+YK09FzgA6B98LBGRnLgJf7p3WYvptrqf6wwOLQcucB1C8ouKlqzNzcA7rkPI2r1vR255edNp460l14vg1QCnEUu19X1fAboYY85p8VxV8LFERHIjGY+kgdOBRtdZ8tE8evfL8yVJsukKYqkprkNIflHRkjVk1g05BZxdNZFWPJg+cPdH0nu/nuO3/QWx1Ldt3dj6q6EfBexjjPnWGPM+cA9wabYCiohkWzIe+RCIuc6Rn4xpJjTPdQoHPgKudx1C8o+KlqxVMh6ZjBajzWu/ajp730+bvTE5ersXiaX+0d4XWWtnWWt/bK0daq3d1Vq7n7X2oWwEFBHJoTiQb8tu5IVaKha5zpBjKeBYYild5ZQ1qGjJ+twIPOs6hKzbUQ1X7L7A9vgky2+Twh8qIyIirBz5cRKahXANKbqV2oRapxNLfeM6hOQnFS1Zp2Q8YoETAH0DyVNNlIf3r79uaIMtb/OQvg74qRZeFBFZXTIemQqc0+qGJWae7V3vOkMO3UQs9ajrEJK/VLRkvZLxyCLgB0Ct6yyydim69z6s4apQszULs7D7PxNLPZyF/YqIFLxkPPJv4BbXOfLJdFuddp0hRz4Cfu46hOQ3FS1pVTIeGQv81HUOWbev7QabnNH482nW0hDgbp+ibQsTi4iUsguBl12HyBdT7MAy1xlyYMV9WUEec6UIqWhJmyTjkftp+/pJ4sArzTtud23Tse8HtLvPgBPaMZW7iEhJSsYjTcAxwFeus+SDpB1U6TpDlqWBE3VflrSFipa0xyVolqW8dnP6qD1fTO/U2WnfFwHfI5ZaGkQmEZFilxlmfwSaHIMpzQO7u86QZecTSz3tOoQUBhUtabNkPNIIHAlke5Y76YQzGy/Z+9vmgR1dcDoN/IhYSmdmRUTaIRmPfAH8CEp2wV4Aptv+fV1nyKKriaVudR1CCoeKlrRLMh5JAYcCX7rOIutizKENV++w1Had2M4XrhgO8WI2UomIFLtkPPI8cDLQ7DqLK7Pp29/aovz8d7Oe9UWNMWljzFhjzDhjzMfGmD2yGcYY4xljPs3me0jnqWhJuyXjkbnAQYCm/M5T9VR0OaD+2gFNNjS9jS9pBn5CLPWfbOYSESl2mZkIS3ba92ZCZc2YBa5zBOwx4IxW7luutdZub63dDr+QXfXdDYwxpTBRiLSgoiUdklk/5CBgnusssnZz6dP/6IYraq1lSSubWvwDyP25yCUiUuyS8cjtwAWuc7hST0U2lhtx5UXgeGKp9kxb3xP/fmeMMfsaY141xjwITMg89z9jzEfGmInGmJWzOhtjaowxf8pcFXvXGDMw8/xAY8zjmefHtbhaVmaMuSOznxeMMV0D+cQSGBUt6bBkPDIJOAQotjNXRWOC3XTzixrP/dJa1nWAsMBZxFL/ymUuEZFil4xHbgQudp3DhSVUFctkSo8BRxBLtWUR5q6ZoYNfAHcCf2zxtV2By621W2b+fJq1didgZ+ACY0y/zPPdgHczV8XeAM7MPP934PXM8zsCK24N2By42Vq7FbAYf91TySMqWtIpyXjkE2BPYKrrLLJ2TzSP3vmu9OFvrePL5xFL3ZHTQCIiJSIZj9yAvw5lqSziC8B826vOdYYA3AEc08aSBauGDm6Bfy/7vcYYk/na+9bab1tse4ExZhzwLrARfmECaABWzGj4EeBlfr8/cCuAtTZtrV0xu+W31tqxa9le8oSKlnRaZqalUWQuiUv+ubLpxL3fa96i5bTvTcBpxFK3uMokIlIKkvHIHcDRwHLXWXJlhq0u9JkX/0ws9VNiqQ5N6mGtfQeoBvpnnlq24mvGmH2BA4FRmStUnwBdMl9utNauuA8sDZS38lYtS2BbtpccU9GSQCTjkZnA3midrbx1XMNv9pxt+3wALAUiGi4oIpIbyXjkKeAAYL7rLLkwxQ4o1J8vLXAxsdTlndmJMWYLoIy131rRC1hkrV2e2W73NuzyZTITrBhjyowxPTuTT3KnUP8hSB5KxiOL8e/Zetx1FllTM6Gyg+r/0qPGdtmTWOoF13lEREpJMh55FxgNfNvatoUuaQdVuM7QAQ3AycRSN3Tw9Svu0RoLPAScYq1d25DR54ByY8x4/Pu43m3Dvi8E9jPGTMAfIrhVBzNKjplVVyhFguFFEyHgT0DUdRZZzdvA95PxyBzXQURESpUXTVQDDwAHu86SLaNDn376QMWft3adox2SwLHEUh+4DiLFRVe0JHDJeKQ5GY/8Gvg+tDq1uOTGXcB+KlkiIm4l45H5wGFAjCJd2Hia7d/HdYZ2eArYUSVLskFXtCSrvGhiOPAwsJ3rLCVqMXB2Mh55yHUQERFZnRdNHAQ8iD9xQtEI09QwucvJ+T58sAm4HLimlYWIRTpMRUuyzosmKoHrgHNdZykxbwAnZRaXFhGRPORFExvil629XGcJ0jeVJywMGdvXdY51mAH8mFjqTddBpLhp6KBkXTIeqU/GI+cBRwDTXecpAU3Ab/CHCqpkiYjksWQ8Mh3YF7iAFtOAF7oGytc2414+eBDYQSVLckFXtCSnvGiiB/5EGeeiop8NnwGnJuOR910HERGR9vGiCQ9/odwDHUfptA8qz/mov0nt5DpHC18D5xBLveg6iJQOFS1xwosmdsM/mGzjOkuRWAL8Afh7Mh4p9IUiRURKmhdNnIY/5L636ywd9WzFpW+NDE0b7ToH0Aj8BbiSWKrOdRgpLbqiIE4k45H3gJ2Ay4Bax3EKmQXuBUYk45HrVbJERApfMh75JzAcuA1Y21pMeW+mrW50nQEYA2xPLPUblSxxQVe0xDkvmhiCf0/RGUDYcZxC8glwXjIeedt1EBERyQ4vmtgauBo43HWW9vh9+T2vn1r+/D6O3n4i/iiP/2pGQXFJRUvyhhdNDMVfV+REdLV1fSbg3+f2SDIeKco1WEREZHVeNLE3EAdGuc7SFqeUPffOH8L35jrr5/gF6xFiKR0fxTkVLck7XjQxEvgj/oLHxnGcfPIBfsF6MhmP6B+uiEgJ8qKJfYBfABHy+Bi5b2js+Lsr/rJtjt7uC+AK4CEVLMknKlqSt7xoYgvgZ8ApQE/HcVwaA1yZjEdecB1ERETygxdNbAn8HH8USN4tDrypmTn1lcpfbJzltxkD3AI8rIIl+UhFS/KeF010xz+QnAts7ThOrizFX+vj9mQ88rHrMCIikp+8aGIwcCZwMjDMcZyVulBf+0WXU7tmYdfzgXuAO4mlvsjC/kUCo6IlBSUzRv0s4Eigu+M4QbPAG/izCD6cjEdqHOcREZEC4kUTo/EL17HkwdTw31YenzKGXgHsygIv4S8L8wSxVEMA+xTJOhUtKUheNNEVf3z6McBhQA+3iTosDbwDJIB/J+ORKY7ziIhIgfOiiS7AEcD3gEOAahc5JlWe/E2ladq0gy9fDryCf3xMEEtNCy6ZSG6oaEnB86KJCmA//APK/sAIt4laNQd4DngGeCEZjyx2nEdERIqUF02EgJ3xT0oeBuxCjmb2/ajyrE/6maU7tOMlX+MfGxPAa8RS9dlJJpIbKlpSdLxoohrYAxideewMVDqK04w/G9JHmcdbwEeaNVBERFzwoom++FPE7w7sBuxAlq54vVjxy7c3D83YYx1fXoC/HuSKxwfEUl9lI4eIKypaUvS8aKIS2B7/StfmwGaZXzcnuNkMa4HpmUcSGItfrMYm45FlAb2HiIhI4LxoYiNgO2BTYGjm4WV+7fBx8p/hv7yyf9nYTYGpwDTgK1YUq1hqaidji+Q9FS0paV400R/YGOiFfzDp1eLREwjj30fVBDTijxlflnnMwT9wTE/GI/NzHl5ERCTLvGii5TGxR4tfu7Hq2NjQ4lGHPzPgPGChRnBIKVPREhERERERCVhOboYUEREREREpJSpaIiIiIiIiAVPREhERERERCZiKloiIiIiISMBUtERERERERAKmoiUiIiIiIhIwFS0REREREZGAqWiJiIiIiIgETEVLREREREQkYCpaIiIiIiIiAVPREhERERERCZiKloiIiIiISMBUtERERERERAKmoiUiIiIiIhIwFS0REREREZGAqWiJiIiIiIgETEVLREREREQkYCpaIiIiIiIiAVPREhERERERCZiKloiIiIiISMBUtERERERERAKmoiUiIiIiIhIwFS0REREREZGAqWiJiIiIiIgETEVLRERERP6fvfsOk6o8/z/+vqdt7wVY2iBN6UqzgGAvq8aYGE00wZpqS9GMxl8siXGj30RNbDGJYosNNZaxE0UsKEUQRRCQpS5s77vTzvP74wyw9AV292y5X9e12dkzzznzmYns2fucpyil2pgWWkoppZRSSinVxrTQUkoppZRSSqk2poWW6nAi8gMRWSAi9SJSIiKvi8iUgzjezSLyRFtmbGsickP8/daLSLOIxFr8/KXT+ZRSSjlPz496flTdixZaqkOJyK+Au4E/Ab2AAcD9wLeczNVWRMSzu+3GmD8ZY1KNManAT4GPt/5sjBnZsSmVUkp1Nnp+1POj6n600FIdRkQygFuBXxhjXjDGNBhjIsaYV4wx14rITBH5Y4v200VkQ4uffysiG0WkTkRWiMgJInIqcANwXvzq15J42wIReVlEKkVklYhc3uI4N4vIcyLyRPxYS0VkmIhcLyKlIrJeRE5umVtE/h2/urhRRP4oIu74cxeJyIcicpeIVAI3H+Bn8w8R+fNO214XkSvijzfE3/9XIlIVz5PQou1ZIrJERKpF5AMRGXUgOZRSSnU8PT/u9bPR86PqsrTQUh3pKCAReHF/dxSR4cAVwERjTBpwClBsjHkD++rfM/GrX2PjuzwFbAAKgO8CfxKRE1oc8kzgcSAL+Ax4E/vfQ1/sk90/WrR9FIgCQ4DDgZOBy1o8Pxn4BsgHbtvf99biNX4gIq74++0FTAOebtHmAuAkYCgwErg+3nYi8M94phzgYeAlEfEdYBallFIdS8+Pe6bnR9VlVdpV5wAAIABJREFUaaGlOlIOUG6MiR7AvjEgARghIl5jTLExZvXuGopIf2AK8FtjTLMxZjHwL+CHLZrNNca8Gc/yHJAHFBljIti/vP0ikhn/hX4acE38CmMpcBdwfotjbTLG/N0YEzXGNB3Ae8MY8xHQhH3yAPg+8I4xprxFs78ZYzbEt/0p3gbgx8D9xpj5xpiYMebh+PaJB5JFKaVUh9Pz4x7o+VF1ZVpoqY5UAeTuqZ/23hhjVgHXYHc9KBWRp0WkYA/NC4BKY0xdi21rsa/GbbWlxeMm7BNcrMXPAKnAQMALlMS7HVRjX83Lb7H/+v19P3vwGHBh/PGF2FcUW2r5Omux3yfxjL/dmi+esQ87vl+llFKdl54f907Pj6pL0kJLdaSPgWbg7D083wAkt/i5d8snjTH/McZMwf7FaYCtfbbNTsfZBGSLSFqLbQOAjQeQeT0QAnKNMZnxr/SdBuju/PoH6nHgHBE5HBgMvLLT8/1bPB6A/T63ZrylRb5MY0yyMebZNsqllFKqfen5ce/0/Ki6JC20VIcxxtQAvwfuE5GzRSRZRLwicpqI3AEsBk4XkWwR6Y19hQ6w+6CLyPHxAa7N2FfVtl5h24LdlcEVf531wEfA7SKSKCJjgEuBJw8gcwnwFvAXEUkXEZeIDBaRafva9wBeay32Z/Ao8JwxpnmnJleISF8RycHuf/5MfPtDwC9EZKLYUkXkTBFJaeuMSiml2p6eH/f5Wnp+VF2SFlqqQxlj/gr8CrgRKMO+2nQF8F/sK1ZLgGLsX97PtNg1ASgCyoHN2F0Tbog/91z8e4WILIo//j7gx76q9SJwkzHm7QOM/SPABywDqoBZ2F0P2sOjwGh27RYB9gDmd4DVwArsfugYYz4BfgY8EM/3Ndu7WCillOoC9Py4T3p+VF2OGNNWd3WVUgdLRI4H/g0cYlr84xR7Gt8LjTHvOZVNKaWUcoqeH1VXpHe0lOok4tPNXg380+gVEKWUUgrQ86PqurTQUqoNiciDYi8MufPXg/vYbzR2t4Zs4G8dElYppZTqIHp+VD2Rdh1USimllFJKqTamd7SUUkoppZRSqo1poaWUUkoppZRSbUwLLaWUUkqpLkxEYiKyWESWiMgiETna6UxKKR2jpZRSSinVpYlIvTEmNf74FOAGY0ybLxyslNo/ekdLKaWUUqr7SMeepU8p5TCP0wGUUkoppdRBSRKRxUAi0Ac43uE8Sim066BSSimlVJe2U9fBo4B/AaN0cV+lnKVdB5VSSimlugljzMdALpDndBalejottJRSSimlugkRORRwAxVOZ1Gqp9MxWkoppZRSXdvWMVoAAswwxsScDKSU0jFaSm3jDwR9QD6QiX23V+JPSYuvEFAOlBcXFepJTCmllFJK7ZYWWqrH8AeCfYAR8a8hQG+gV4uvrP04nAVUAmVAafxrA7A8/rWsuKiwvM3CK6WUUh3EHwgmAMMBP/Z08elAWvxr58cJQC32lPLV8a+dH1cAq4uLChs78n0o5TQttFS35A8E84BpwATgCOBw7MHBHakEWAx8BswD3isuKqzr4AxKKaXUbvkDQS8wDBgZ/xoV/z4Ee5xXWzLAOmAZ8BWwFFiIfWFSe4iobkkLLdUtxK++TQVOAk4GxrK9619nEQXmA+/Evz4uLiqMOBtJKaVUT+EPBHOAE7DPk0diF1leR0NBI7AE+/z4FjC7uKiw2dlISrUNLbRUl+UPBPOB84FC7CIrydlE+60eeB94HphVXFRY63AepZRS3Yg/EBRgEnAWcAp2747OPuN0A/A28DLwanFRYZnDeZQ6YFpoqS7FHwgmYp8wZmBfkesuM2c2Y59UngDe0DtdSimlDoQ/EHQDxwPfxj5f9nU20UGxsLvevwy8XFxU+JXDeZTaL1poqS7BHwgeg11cnYs9K2B3Vg48AzxSXFS40OkwSimlOj9/IJgLXA78DOjvcJz2shx4AHi4uKiw3ukwSu2LFlqq04pflfsuEADGORzHKXOAPxcXFb7udBCllFKdjz8QnABcCZyHPQNgT1ADPAz8vbiocI3TYZTaEy20VKcTn9hiBnAt9sxHCj4H7gCeKS4qjDodRimllHPi6z5+D7gCmOxwHCdZ2N0K7y4uKpzjdBildqaFluo0/IFgGvBT4JdAH4fjdFZrgb8ADxUXFYacDqOUUqrj+APBFOBX2AVWvsNxOpvFwD3AkzrOWXUWWmgpx8W7CP4YuAXIczhOV1EM/A54qrioUP8RK6VUNxafPfBHwJ+AAofjdHYrgV8WFxUGnQ6ilBZaylH+QPBk4K/YCySq/TcfuKq4qHCe00GUUkq1PX8gOBW4CxjvdJYu5nXgmuKiwq+dDqJ6Li20lCP8gWB/4G7gHKezdAMGeBT4bXFRYanTYZRSSh08fyB4CPbY3O84naULiwB/A27VtSqVE7TQUh3KHwi6sMdg3QokOxynu6kBri4uKnzU6SBKKaUOjD8QTAduBK6i58wi2N62ANcDM7W7vepIWmipDhO/i/UocJzTWbq554GfFBcVVjgdRCmlVOv5A8FpwJN07UWGO7P5wOXFRYVLnA6iegYttFSH8AeC5wEP0v0XG+4sSoBLiosK33A6iFJKqb2LTwp1E/YkRy6H43R3Iez1Oe/Ru1uqvWmhpdpVvAvEvcAPnc7SQ90P/Ka4qLDJ6SBKKaV2Fe/t8R9gitNZepjXgYt0bLNqT1poqXYTX63+OcDvcJSe7ivgrOKiwlVOB1FKKbWdPxD8NvBvIMvpLD3UFuD84qLC95wOoronLbRUu/AHgt8BHgeSnM6iAKgEvqMnE6WUcp4/EEzEXnz+505nUcSA64uLCu90OojqfrTQUm3OHwheD9wGiNNZ1A4iwM+Liwr/5XQQpZTqqfyB4CDgv8AYp7OoHTwPXFxcVFjndBDVfWihpdqMPxD0AQ8BM5zOovbqbuDXxUWFltNBlFKqJ/EHgocDrwG9nc6idmspcFJxUeEWp4Oo7kELLdUm/IFgDvACcKzTWVSrvAZ8r7iosMHpIEop1RP4A8GTsO+apDmdRe3VSuDE4qLCdU4HUV2fFlrqoPkDwXzgXWCE01nUfpkLnF5cVFjvdBCllOrO/IHgD4CZgNfhKKp11gEn6CRS6mDpWg3qoPgDwTzgf2iR1RVNBV7zB4KpTgdRSqnuyh8IXo49OZQWWV3HAGCuPxAc6XQQ1bVpoaUOmD8QzMUusvQXUdc1FXhdiy2llGp7/kDwSuAf6N9bXVFvYI4/EBzvdBDVdek/fHVA4kXWbGCU01nUQZuCFltKKdWm/IHgtcDf0Bl4u7Ic4H/+QFAXk1YHRMdoqf0Wn/hiNjDW6SyqTX0InKITZCil1MHxB4IzsMdkqe6hETituKjwfaeDqK5FCy21X+KLLL4LHOl0FtUuXgHO1qnflVLqwPgDwWnAW4DP6SyqTVUAk4uLClc7HUR1Hdp1ULWaPxAU4DG0yOrOzsReZ0sppdR+8geCw7CXOtEiq/vJAV7xB4IZTgdRXYcWWmp/3Aac63QI1e6ujA/gVkop1UrxbvVBINvpLKrdHAY84w8E3U4HUV2Ddh1UreIPBM8HnnI6h+owUeDU4qLC2U4HUUqpzs4fCPqAd7BncnXUhgcuweVLApcLcbnpM+NuwqXfUPHmfZhwM56MfHLPvBZXQvIu+zZ9s5DK2Q+BZZE69mQyjrSvrZa9cieRsrUkDZ5I1rQZAFR/+BS+/EEkD+2RnVz+VlxUeLXTIVTnp3e01D75A8FxwL+dzqE6lAd41h8IDnY6iFJKdQEP0wmKrK16ff9PFFz8d/rMsHuCV7z+d7KmXUTBpfeRPOwoaj95fpd9jBWj8u0HyD/3Fgouu5+GZXMIl68jXLoGgIJL7iW04UusUAPR+krCJV/31CIL4Cp/IPgTp0Oozk8LLbVX8b7ILwK7XvpS3V028Jw/ENRFNpVSag/8geDvgQuczrE3kcoNJPS3V2NJ9B9O49cf7dImXPI1nsw+eDN7I24vKYcdS9PKeYjLg4mGMcbCxKIgLmrmPkHm1As7+m10Nvf6A8HjnA6hOjcttNS+3Av4nQ6hHHM4cKvTIZRSqjPyB4JTgZuczrEDEUqf/T0lM6+mbvEbAPhyB9K06hMAGpd/QLSufJfdonUVeNLztv3sTsslVl+BN7c/nrQ8SmZeTcqhU4hWldjH7NXjOzx4gOf9geAgp4OozsvjdADVefkDwXOBHn/JSnGdPxB8rbiocK7TQZRSqrPwB4LJwCN0sovWvS+4A09aDrGGarY8cyPenH7knH41le88RM2HT5E0ZDLiau2ff/Zay9kn/njbltJZt5B9yhXUfPQM4dI1JPrHkTbu1HZ4J11CFvAv4ASng6jOqVP9clCdhz8Q7AM86HQO1Sm4gMf9gWC600GUUqoT+TPQ6W7reNJyAHCnZJI87ChCm77Gm9OfXuf9gT4X3UPKiGl4snrvdr9obdm2n2N15bhTd5xAsXHlPHy9h2IizYTL15J3doCGL9/FijS375vq3I73B4I/3ncz1RNpoaX25GF0ilq13UDgPqdDKKVUZ+APBKcDv3A6x86scDNWqHHb4+Y1n+HLG0isoRoAYyxqPnqatHGn7bKvr88wolWbiFRvxsQiNHz1PklDJm973sSi1C54mfTJ52CiIbbe7cIYiEXb/b11cnf6A8F+TodQnY92HVS78AeCPwN6bD8AtUcX+gPBV4qLCp91OohSSjnFHwimYl+MFKez7CzWWE3ZC3+0f7AsUkZMI+mQ8dQueIm6RUEAkocdTcrokwB7XFbFG3+j17m3IC432Sf9lNJnfw/GInX0SfjyBm47dt2iIKmjTsDlTcSbNwgwbPr3L0gaPAFXYmpHv9XOJh34B1DodBDVueg6WmoH/kCwL7ACSHE6i+qUSoBhxUWF9U4HUUopJ/gDwQeAnzqdQ3VKPyouKnzc6RCq89Cug2pnt6NFltqzPsDvnA6hlFJO8AeCJwK6fpLak7v9gWAvp0OozkMLLbWNPxCchM4yqPbtl/5A8BCnQyilVEfyB4JJ2DPMdboug6rTyEbHM6sWtNBSLd2NnkDUviUAf3E6hFJKdbCfY08MpNTefMcfCJ7hdAjVOegYLQWAPxD8PvAfp3OoLuXE4qLC2U6HUEqp9hafAOMbIG9fbZUClgLjiosKLaeDKGfpHS21tTtEkdM5VJdztz8QdDsdQimlOsDVaJGlWm808H2nQyjnaaGlwF4LZIDTIVSXMwo41+kQSinVnvyBYCbwG6dzqC7nFn8g6HU6hHKWFlo9nD8Q9AHXOJ1DdVm/dTqAUkq1s18DmU6HUF3OYOBip0MoZ2mh1Q5EpJ+IvCQiK0VktYjcIyK+Dnhdv4h8sZ+7XQD0bY88qkcY5w8ET3E6hFJKtQd/IJiL3W1QqQPxW+1i37NpodXGRESAF4D/GmOGAsOAVOA2R4Pthj8QFLQ7hDp4AacDKKVUO/ktkOZ0CNVlHQKc53QI5RwttNre8UCzMeYRAGNMDPglcImI/E9ExgCIyGci8vv44z+IyGUiMl1E3hORWSKyXESejBduiMh4EZkjIgtF5E0R6dNi+xIR+Rh7rNX+OAMY0TZvW/Vg0+NrsCmlVLcRX3h2f8+rSu0sEL+wrXogLbTa3khgYcsNxphaYB3wHjBVRNKBKHBMvMkUYG788eHYY6ZGYF8JOUZEvMDfge8aY8YDD7P9DtkjwFXGmKMOIOt1B7CPUrujd7WUUt3N5UCS0yFUlzcaKHQ6hHKGFlptT4DdLU4mwBzgWOzCKgikikgy4DfGrIi3+9QYs8EYYwGLAT8wHHuGt7dFZDFwI9BPRDKATGPMnPi+j7c2ZPwOxJT9fXNK7cHZ/kDQ73QIpZRqC/5A0AVc6nQO1W1c4nQA5QwttNrel8CElhvid7D6A5/Fn5sKvB//+XJ2vAMWavE4Bniwi7QvjTHj4l+jjTEns+eirjUuO8D9lNodAS5yOoRSSrWRk7EvdCrVFgr9gWC20yFUx9NCq+3NBpJF5EcAIuIG/gLMjHchXA98D5iH3V3wN2zvNrgnK4A8ETkqfkyviIw0xlQDNSKy9c7UBa0JGF+g+Hv797aU2qcZ2g9dKdVN/NjpAKpb8aF/d/VIWmi1MWOMAb4NnCsiK4GvgWbghniTucAWY0xj/HE/9lFoGWPCwHeBP4vIEuwuhUfHn74YuC8+GUZTK2OeDWS0+k0p1Tp+YLrDGZRS6qD4A8Ec7MmilGpLP3Q6gOp4YtcFqifxB4JB4HSnc6hu6V/FRYWXOx1CKaUOlD8Q/Blwv9M5VLc0uLio8BunQ6iOo3e0eph4H+GTnM6huq3v+APBdl+cWyml2lGruuErdQAudDqA6lhaaPU85wBep0OobisLONXpEEopdSD8geBAtnfNV6qtaffBHkYLrZ7nbKcDqG5Pu6Uqpbqqc7FnUVWqPQzxB4JHOh1CdRwttHoQfyDoBaY5nUN1e9o1VSnVVZ3gdADV7Z3rdADVcbTQ6lkmAalOh1Dd3iH+QHCQ0yGUUmp/+ANBD3CM0zlUt6cXvHsQj9MBVIc6sS0OUjv/v9QveQsEvHl+ck+/huaNX1H97sOYWARf7yHknHY14nLvsu+WZ39PaNMKEvuNIP+7N23bXvbKnUTK1pI0eCJZ02YAUP3hU/jyB5E8VO+yd0EnAQ85HUIppfbDEUCa0yFUtzfOHwimFhcV1jsdRLU/vaPVsxx0l4hoXTm1C1+h94y7KLj0frAsGpa9R0XwLnLPuo6CS+/Hk55P/dLZu90/fdI55J7xqx22hUvXAFBwyb2ENnyJFWogWl9JuORrLbK6Lu0+qJTqaqY7HUD1CG7gKKdDqI6hhVYP4Q8EU4C2qVqsGCYaxlgxTDSEeBMRtxdvdl8AEv3jaPz6w93umuQfh8uXtMM2cXns4xkLE4uCuKiZ+wSZU3UW1C7seH8gqL9flFJdyXSnA6geY4rTAVTH0D+Eeo6ptMG07p60XNInfZuND1zMhnt/iCQkk3zoVIwVJVSyEoDGFR8Sqy1v9TG9uf3xpOVRMvNqUg6dQrSqBABfr8EHG1c5JxsY53QIpZRqDX8g6Eb/+FUdZ6rTAVTH0DFaPcfktjhIrLmexpWf0Pen/8aVkELZS0U0LHuPvLOuo+p//8TEIiT6j4DdjM/am+wTf7ztcemsW8g+5QpqPnqGcOkaEv3jSBunSzN1QeOARU6HUEqpVtDxWaojTfYHgt7iosKI00FU+9I7Wj3HqLY4SHPxYjwZvXAnZyBuD8nDjiK08SsS+h5G7wvuoM+P7iKx/0i8WQUHdPzGlfPw9R6KiTQTLl9L3tkBGr58FyvS3BbxVcca7XQApZRqpelOB1A9SjJ2ca+6OS20eo6RbXEQT3oe4U0rsCLNGGNoXrsEb05/Yg3VAJhohNpPZpF6+Gn7fWwTi1K74GXSJ5+DiYbYtmakMRCLtkV81bG00FJKdRVHOx1A9TjaVbUH0K6DPYA/EPQBQ9viWAkFw0kefgwlM69BXC58vQaTNvZUquc+TuOqTwFD2rjTSRo4FoBQyUrqF79OzmlXAbD5yeuIVGzARJrZcN8Mck67iqRDxgNQtyhI6qgTcHkT8eYNAgyb/v0LkgZPwJWoy391QWOcDqCUUq2kg4JVR5vkdADV/sQY43QG1c78geAYYInTOVSP1Lu4qHCL0yGUUmpv/IFgHaBX9FRH+rS4qLBNxs+rzku7DvYMbdJtUKkDoN0HlVKdmj8QzEWLLNXxBjgdQLU/LbR6Bi20lFMOczqAUkrtwyCnA6geqVd8aIfqxrTQ6hn0qolySh+nAyil1D5ooaWcIEA/p0Oo9qWFVs+Q53QA1WPlOx1AKaX2QQst5RS9EN7NaaHVM2ihpZzSy+kASim1D36nA6geSwutbk4LrZ5BCy3lFL2jpZTq7PSOlnKKFlrdnBZaPYMWWsopekdLKdXZ6R+7yin9nQ6g2pcWWt2cPxBMAZKczqHaVtM3C9n4z5+w8R+XUzPvuV2eb17/BSUzr2btHWfRsPyDbdsjFRsomXk1mx6+gtDGrwAwVowtT/8OK9LcHlFbfUdLRHqLyNMislpElonIayIyrD1CKaVUC3qO7Ga60Dmyb2saiUh9e7y4an9aaHV/uU4HUG3LWDEq336A/HNvoeCy+2lYNodw+bod2njS88g5/RpSRkzbYXvd4tfJnHYReWdfT+2nL9rbPnuNlJHH4/ImtkfcJH8guM8/YkREgBeB94wxg40xI4Ab0DtiSqn253Y6gGo7xopR/sqdRKs2E63ZQs3Hz+5yjozVV2JFQmAsyl8qIlSyEoDK//2TcNlaIpUbqZz9TwBqP3me0KblGGPaI25ri/wUEVnc4svfHmFU29NCq/tLdjqAalvhkq/xZPbBm9kbcXtJOexYmlbO26GNJ6MXvvxBIDv+Exe3BxMNY6IhcLmxmutpWvUpKaOOb8/I3la0OQ6IGGMe3LrBGLMY+EBE7hSRL0RkqYicByAi00Vkjog8KyJfi0iRiFwgIp/G2w2Ot5spIg+KyNx4uzPi2/3xbYviX0e3OO57IjJLRJaLyJNiO0FEXtyaTUROEpEX2vAzUko5RwutbqR5wzKs5nryz/8j/a95GhMJ7XJXK6FgODmnXQ1uL67krG3bQxuXkzruNNKP/B6R8nVYzfXUfPoCqYefgdvXLjc+W3N+3OoWYCxwvjGmuD3CqLbncTqAandaTHczVe8/Rmjjcjb9++cUXHo/7rRcwiUrtj3fvO5zSp//I57MXkRryzDRMCmHTiHWWENz8efULXwVd1oueWcHqP7wKaxIM7H6SjxpOe0VuTW/Z0YBC3ez/RxgHPbJJReYLyLvx58bi70gciXwDfAvY8wkEbkauBK4Jt7OD0wDBgPvisgQoBQ4yRjTLCJDgaeACfH2h2Mv8r0J+BA4BvgfcJ+I5BljyoCLgUda9/aVUp2cFlrdSOOy98DlpvLNe8GycCWlE1q3dKdWQvnLfwYrhtVcR6yh2t7qS6J+8euAwZWUQcXbD4KB8OaVWJHm9uj5sT+F1veBD4DzgZvbOohqH1podX9aaB2klGjNloSIiN1pQEAwBhcIGMTeKiIWAiIYMIKAuLCM2EsSbv0fsdscjLSCw5K9ngRvuHqzJ9WiIhKNJlqxmDfVog6AaMybXDA8xX/uH6o3vHpneurgSaFUi1D50tlJOaNPIGPE8c1rn7sxM8Xlra3euCI9tc/QSN3sf7mMFZVeU39Un5DTP3ZQAXdiDu6/wSnAU8aYGLBFROYAE4FaYL4xpgRARFYDb8X3WYp9h2yrZ40xFrBSRL4BDgXWAPeKyDggBrQcC/apMWZD/LiLAb8x5gMReRy4UEQeAY4CfnQQ70sp1XloodWNROsqwLLIP/cWPGk5rLvnfCS245+7Fa/fgzs5E3F7sUIN1H32KslDJuLrPYTmNYsQceFOzaJp5SckHjKeWF05Fa/dQ+bUC/Fmt2pYVWvtT6F1NrAa+DVaaHUZWmh1fwf3V71iSvL8FZMSn498HkkyjU2ejN5VhPtUmWh+lSGnjoS0JlITI2S5LPIEfK09rgEDYoxdw1kg8Z/t7fHnLLa2QwwiLGqoN3eXbnTXxmI8+fotrgdLN7mB2I/f+KNBMPPqaqzHyjeZ+966PXJDyQprSkNJ9LQN80JPlm7yRLE4Y/PnTb+qKUnLnvW7RHc4FBsdrQ9PTMtp7JuQFP7nCzflFA05ogQRszWfXTyKsbcJtHws23Pt8L3FY0+0SaBwXx/HPcBG4JcAIvIbIJW9//cbavHYavGzxY6/23buWG/ir7MF+66YC2g5yrnlcWMtjrUJ+E287XPGmOhe35FSqqvQv4UOQDLNDZcl//P95vKJlZGCRFdlVsxVlxh2h3wuV62VRn0snXqT4mo2iR4shKhluWMR47ZilisWwxWLGZeJ4o7FwIrhMTERKyZiGXFbMRETEzGWC2PcbmIIxrjEMm6JGfsyZ8z+GQvBMoJlXGLJG43Fk5sxeSf2/fhlxPCMl5Oj4WbviWnPvCoSw1gxHtmw9MxTfnD0B3P+u2BCjJhE1n6WcGbmQy+/k7ZhZMFZwyuyc5OaXpq5cEqizxWx1s5zYYwrVrXKitV9Vnfh1Ud8tO00jREX9mlaxIhgAYhgEW8j206lmPjlWSMAliBu49rcivPjVo8bYy4VkY9E5AhjzKL2+X9WtSX95dL9RZwO0NW9GT7x2OpIwbL/+G7Lrk8maVavtC+fS0tN2Ohxj0Vkh07b6Q2mMq+Git5Vprag0jT1riSWX2Mku47E1GZSfRGyXYY8Abd9r8vYJU3LK6r7GG873idsCYdIEIFwbe67NeXc0aeAxHB1KkBytIGvGuv4wfIFfatiMcZ6XcnJTa6c85NdXFuymf9VlGQXpqfxbn09MzIyWR5qSMwOS2a28eKJNpJRV5zWxh+h1Yo2ISBXRH5pjLkrvq0Au/g6T0QeBbKBY4Frse9Ktda58f0HAYcAK4EMYIMxxhKRGbTuivY0oAm4EThpP15fKdW56R2t/XS264MF/+d9sPf9GWmp+Uua3E01Z3qHyiZfTvawupoUvLUZqy2TviAhPXOLlZpSlRhNMJk1kplYIbl1ZfRqKCU/XEa+VUmuq5oMXwOpKSES02O4cxBJ3eUFLRPFMs3ETLPETJiYCREzEYmZCDErQtTEJGaixKxYY8GXFpvnyBuhKb29mb1DodBjCeJLjr7l/mEWlnHHGmq8lpnleuPZRVNMOOzC2AXQ04vGTfJNOsv1zSt/GRRr2uiKxVxu7+CjfOHV80kdfRKupHRKP30+6ZmK685ui89QsIwLM/+m1u8yMP79aeAHIvIm8Ikx5oy2yKPahxZa3Z8WWm3gEzNixDGhv295O+HaDZfW1B59aU0tTSKNL6WmzHsqPc36xusZhUh6bYpk16aQvbpgzzdixBgrq57S/Goqe1eauoJyJu7PAAAgAElEQVRK09y7Ciuvxriy6klKDpHui5AtkCO7uaPjEeGK3Fxu2byZM9d8w7czMhiakMDfy8sYmZjIpKRk7unbj9+WbKI6FuP/ykp5vqaaVwYdwoP9+mOM4aL16xDgpLQ03quv41ebNpLpdnN77z7t8fGFW9EmCvwNuFxErgBSsLsHFmKvA1eJ3cWiBHusFcCxIpIJ1GCPozodWIA9W2F6i2OvABYDQ4BP422+BcwWkVuABiAqIlv/2DpVRG4DzsCe9fDr+GQZZ8VzprDjXS+lVNemhVYr5VBT/ozvD18PcW06GmBuUlJx86SKwde/+H7zotE/ztpc8vRaL82Hjsqa+vnA1FN6lXhqm792b6ra5KqKxVyhnLT08sYhGZuj4zM+N8kp1eleb3N/kR3X+gyZhMZKsisqyK3ZVpRJfqzCneuqcWd66+NFWRRvbyOSvnPGaNTuRV9adNlkV14vsCw8o8f4Kpc9N80zbASkGFx5vbBKS9xsnUnQ5SJ23LC+pXfdhvFFsJqacR8yhFh+AmZllLqlb4IxRhKTrdBRecXETFhiJkrURIlZUYmZWLzYs4hahpixJGaEmIGYQWKWCwshZtz2TTjjMsbltYT1+/rMRWTrAOpjRWQtdi+MBOwLkaqT00Kr+9NCq41sJrvXhNADGS/7bvxwuGvDMUnGJJ9fV3/k+XX1hCH8ZmrygifS05q/8vkONSJ7nFbfiLgq08ivTCN/ef89F2TumInk1FGWX22q+lRS36fShHpXYfJqjXuIKymzoNI37LVBhzSJfXeGK3O3n6smJSfz7uAhAJy4ehWP9d++HqeIcFhiIiekpvFabS1HpqTwx959uGLjRo5IbpdJKhta2a4I+AF2d77LgVRjzEoRyQYK4+OkBgBvGmMOE5H/YBdYa7ELqa0LPw7CntBiqw+Bl4AgcLExZo2IHAYsAc4xxkRE5H7gAmPMY/GCa54x5ncicgeQboz5SERexi68ZhljVh/4x6GU6mR0LHMrXOV+4YNrPLNGuoSjt25b7fP2jfSWQd7mlZ8PXfNG8aohlxwdbV7w0aKKt8cuqng7s0/S4CWTsqd7071jhoQk0rg6vKVmZVWJWS/1g42YfgBeb3NFenrpuozMLXXp6WWSlFSb1dtd4u8jJf3tIbd7Fjbe5iqyyyvIrSmlV0MZ+aG543v3+npd2sBodV2CVboZd35+xDdiTCy8cF6iiVmkXHAJGb//MzU3/RqrtgbC9nWz0P9eJ/Xyq5DMLKp+fiGu4aPw9B9I1D+IWPE3IC5xDxjoNum+wbDPzietVdmKNt+Nf/8/YJExZpaIbAY+Rhc87vS00Or+qp0O0J2E8CWeEr7jmD97HprzPfd7U0XsE7QPfGfWN044s76RGMTeT05a8mh6Ws1niQlDLZEDuk0Uc4u3NJOC0kwp+MK/43PhMovNdwvnXe/x+SKmKbeWsl5VprpPJQ0JG8IcGvKE8+rwrCptzI/AIRludzP2nRiKw2FKo1EmJiezPNRMgrgQgZBpTQ+//dZ42PKvWnVgY0ytiDwGXIXdRW+rE4ERsn0SkXQRSQPmYnclXAs8APxYRPoClcaY3S3u+KkxZk388QnAeOxZDMFey6Q0/lwYeDX+eCHbuwmeEW/zRGvej1Kqy6gH2mUhwe5gkGxa95zv1vJcqZ3Scnu1y1UVsWd15aUjXXUXvDf7mOrMIXPKcydMc/uGbw7V/mdBSdPqCSUbV5PgSq4YnTX1i0PTRg8cGevvB6iS+rUr3JvWFpuyhIryxMMqKga0uDtlTGJS3YaM9NJNGZmbG9PSKnwJCQ15LlfML7J9AgkfkcRebOnXiy39RvAlAOd833Dhq434+nr417/784ufb/TeMPUVb98fJoeq+aKinNurv8lLDTU+dVH9FwtrUubd+tjorJNP2BwO1Se46ipjpKeneEeNS/fk9yLy1Rf4xk4g4fJrcPcpoP4f97T1x9uahYi/jz02+Gng9yLyKnbvioK2DqPanrTTAmyqE/EHgo20flE81Urfds2d/1fvA8NF2KXrwlYGzKeJCctmZqSXz0tK9EdFBu6pbWtYYYsVv1xBrCkGFrgSXfT+fm97ygYg+/hs1t+/ntpFtfYEiW6hz4/6kHV0FtEv6hvXP7bJE66Ous+aVrD8uMy08sb1TUk3fbp2fI7HE70iN7f+zLSMVLG7JLSVTYct/2qfUzSJSL0xJjV+92oR9tTpYoy5WUTKgf7GmKad9ukPPINdaP0Oe0KNd+Jtf7NT2+nAb7b2ZReRK4ECY8z1e8oSf/xd4AxjzEUiMhN41Rgza/8+AqVUZ+YPBJdhLxWhWnATi/7J868PvueeM1lk178hXk5Nmf+7vJyJAN6oaX7izlgTkPnx5Fs+aU7KPRIg0vj+3FhowRHEL/QBpm/ysMVjs6c1p3qyJoiIF8DCim50VS1b4d5YtclVlR0mOgLZtUuniBVJSakszsgoLcvI3BxOTalK9vqa+oqYApHtXe3feKOWu+8qJy/Pw6mnpXHBBVnMfKSSYcMTOProFP7xjwpefKGGWAwmT07m9zf1oqoqxp//XEo4ZGEQUzAorXHEsYPKo1m965657cNBkZgw5MqLvnZNmtZYT3pyE0lpUTxZBslGDng64cc3HzdunzPYtjhHLgDuA4Ziz7T7Gx2j1bnpHa2eYQvxq06q7bxoTZ24PDxg9Uu+G6t8EtttASUgk5tDIyc3lwHwhc+3cmZG2sb3kpP6hlyuofv7muIVhv1lGO5ENyZq+OZP35DYN5HkIdu7/BVcXED/n9u9CWo/q6VydiVZR2ex6d3K5IJfDSRSHuG9pXUjVxRmUvJUHb2v85NyaIr7CUh4AkhrNFV5NZTbE3rQ1LvSxHpVG8mqJzG1idQEe0KPXGnd74/WdIvYxhhTKSLPApcCD8c3vwVcAdwJICLjjDGLjTHrxe6i6TPGfCMiH2DPCnhFK15qNvCSiNxljCmNF3hpxpi1e9mnDmjriUKUUs4rRQutHUyQFV895iuSZAlN31Obd5KTtnULj3gk8YuB8snotWba5Pm3jZ57TNEKy50w3Jt87FR3wsi14bqnvsGERwOysfHrwzc2fk2iO6VsTNa0ZQNTRwxyiXtAfytnTH/LHo4UIlLzjXvLVyvdJZFyqRtgiRkIYIzLW1+fO7S+Pnfoxo0jtmVxuyN1aWllxY8//kr+ihVl2SkpYhUUeD0PP9J/W7F20cXZLF7cxFlnraFPby8DB/oYMsRHaVmMxkaLP/1pCw31FhdfnI1/kE8eebgyZd7zX6QkJX3J2MHCxRdl0a//i4fDtrXrAYjhitaYzIoKcqvLyK8rpVdzGfnRcvKkmixPLelJzSSlRfBmGiQHkZZdVffrHAm8jN2FcDrQbotfqrajhVbPsBkttNrFV2bg4ImhB6pnJ/xmUa7UHrGv9qPC4aH/V1YxFOAbr2ftzIz04rdTknPrRUa05oqYiOBOtM8bJmYwMbPLdBnupO0XAa2Qtf15N5iIwQpbiFsIlYaIVkVJOTRlh/3rkiWrLpmsb/rsfUKPzHrK8qup6F21y4QeiSnNpPui5Ig5oMG6f2HHYukq7MWCP8f+nfU+8NP4c5+wfSD7XOB27AUd98oYs0xEbgTeEvukFwF+gX13bE+eBv4pIlcB39VxWkp1G6X7btIzJBFqfMj71/lTXEunyG7uKLW0ODEho+XPM090DfjLv2O4rXDK5Pm3pX48+eYyxJXncucMTMj4eSzS+NYcK7zsKOLLoDTHGvI+LX9t2qflr5n+KYcuHJM1LZLiyZggIp4EvBmHxfodeVisHwDV0rDua3dJ8RpXqa9Omg5D2OG1YzFvWnV1wegxY05lwgQfs2bNoqnJzSfzvlOanl66PjNzc31aerm7qSnUb+TIxAG3395nW7Fz4QXreC1Yy8knp3HccalcHyghN8/D4eMSmT27ge98J4PevT089ng1N9yQv8vn4MbyZFPZK5vKXkP5eq+fr4UrVmPSyyrJrSojv66B1FV2z/d92nqifhioMcYsjffUUJ2cFlo9w2anA3RnNaRmTg7dN+Y/vtven+xafmxr9zskEh14a3nlwFvLK9nkcZc8np628tXUlPRql2s022fA24WxDKtvWk24NEz2CdkkD951AouKdyoof7McEzMMum4QAHmFeWx8ZCMun4t+P+7H5qc3k3/OrieN1jAirqo08qrSyFuxlwk9xJhNn7fmePGuevHHW4DkFj+XA+ftYb8ftnj8EXsY1G6MeQ94b6dtz2B3PdxbllnArPjjD4ERO7dXSnV5W5wO0Bmc4fp44V3e+/O9Epu2r7YxiFXt1Ctjfb4Mqk1icXoT45KaK/qO+/y+pYvHXJGOSIKIy+1LOXWalTB2RbjuORdEW+4r6xuWj1/fsJwkd+qWMdnTvxqQcugQl7j7bW2QaVIGTIoOGTCJIViYWImr6ssV7k1lG1wVW7sZegAGDhxIdfX2oenhcHJ+ebk/v7zcD0BxcTGlW95jwfwz1mZklpWUbFruaWwyYzweqW1uNtmRiHE1Nhpyst3MmdPAIYf4cLnA5RJCzQc/jtmF5c6iOi+L6rzBrAK7G2CrGWM2YHeTV12EjtHqAfyB4ANsvwOg2tGvPc/OvcL938kirV+4eGeVLlfFf9LTlr2YlpJU6naPQWS3x4o1xFj393X0ubAPif12P467+uNq6r+op9/l/XbY3rCigdpFtWQfl82WF7bYY7nO74Mno82vvdyydMbSm9v6oEop1Vb8geC1wB1O53BKNjUVT/luWz7cteGY1u6zJMG34sKC3sN33l74qfXRjNnWtlkJ1ww89YM1g87cYRINY6KhSP3L86xo8VT2POOjNTB15KLRWVOtZHf6eNnLxccw0bo17tKvvnZvaiqT2gFPPv2fQatWrQIgJSWF6dOnY1l2kZSbm8uTTz6JMQa3201WVhann346+fn5PP/8LKuurjIsEo1OnJS2paDAco0f70m748+lubEYXH1NLqNGtfmcKSefcPzqt/fVqOXYYdW16B2tnqHE6QA9xV+i35u60Br2+cPeOwtcYvY4xfveZFtWzhXVNVOvqK6hTqR2VnrqgufSUl3rPZ7RiGzr5+dOcZNyaAr1S+v3WGhlTM5g02ObdthmjKH05VIG/HwAmx7fRK+zexEuD1PxdgW9vtvrQCLvzbq2PqBSSrWxYqcDOOWn7pc/vM7zzKEuMa0usgDeTkneAuxSaL05Xib8cDblLsgFGLT2jSk1GYPfq8weMX1rGxFPgi/tnGmxyJrPI/UvZYI1YOfjAK619V9OWFv/Jcme9JKxWdNX9EsZPtwlrl1m8fXhSRseK5g0PGZPwjfpuIGbLyq9Lv26K3+9pFaahiNkb20bCoW49tpr8fl8rFy5kjfeeIMBA+yXv+CCC11AYlNTE7NmzUodNfI8Hrj/DbzepMjJpwwpzsxwl9TWlpKUVJvp8YQHyk7dFw/Qmn03UV2ZFlo9w947Das29Z41bsy08F0b3/RdtyJZwruciPZHmjHpF9fUHX1xTR3NIk2PxhIWvpSZGlmfnXSYFTEZ9cvqyT19x3outDlEQm974sC6JXX4eu14Q6z6g2rSxqbhTnFjhS37eqLLntGwHextzJNSSnUGxU4H6GgDZfOG53y3bMmXmv0qsLb6IClxt3eYom7xfT5Ivhi3xkzfum3s5/cf+9GRf/g0lJg1qWVbt3fQGFfmz+vDdc/NNbEtU/f0Wo3R2j4fl73cR8ok5k8d/emorCmS5E4dLztOKsGvXyti9uqPSE9I7Z3hSeV74aOPMhhrs1QvW+HZVLa8aV32i6++OLKqqsrl8Xj41re+RSwWo6ysjFdeeYXm5maOP/54iouLmTp1Kg8//DCjRo1i4sRTvE8//fTQvNwZO3SVTEioL0nPKN2Ymbm5Pi2t3JuYWJ8bn36+tTP3RtFzZLenhVbPsMTpAD3NepPfd0LowYbXfYF5A12lR7bFMRONSTqqrGH8g/8sBwtTFZPmfmPTtiSMTUve/MKWvKRBSaQfnk7l7Erqv6xH3II7xb1Dt0ErZFH9YTX+3/gByD0ll3X3rkPcQv+ftcu6h6va46BKKdWGip0O0FFcWLE/eh7+4Pvu/00Uod++99i9tV7vHk8Yj57oGjT2nzEj8amYBOOaPP8Ph31wdNEqy+0b0rKtiC81If2CqbHQl/MjjW8NBLPHgcMG415T//mkNfWfk+LJ3DAu+7hVfZOHHCbi6gVw7uhTueiIb/OLl2/ZfnzE1cdkjegTyeKDuXM4Jm10+IJvf3fJO2Wf8vDzT44xxiSsXr2asWPHMmrUKGbOnElOTg6hUIjU1FSSkuxZ7aPR6C55QqHUPmWlqX3KSg9psdWKpqRUf5ORUbolI3NzKDW1Msnna+ojYvXbuu5mC8UnHL86sscPWXULOkarB/AHgm50QUaHGHOf92/vn+765NiWa3y0JQusuUmJXzyakV69KDFhcMxetLczqFw6Y+lep58VkRiwFPuiz1fADGNMY3sFEpFx2OtnvdZer6GU6nr8gWApkOd0jvZ0uKxc8YTvditFmg9qKvtyt6vsuAH99vpZPXRPdFFmIzvMxNuYlLd+3qTfJyOu3Z4XjNVYGa57aoWxao5qbRZBooekjV0wMvMYb6I75YhLXrhe3l39CSKQm5zNr6dcTMSyF5p8Z9WHDMruz9w183G73KyuXMedZ15fOb/qy6oyal2jJ4xNv/+B+3MuuugiXn/9dc466yyef/55QqEQ06dPZ8SIA58LyeWKNqallRdnZG6pzEgvjSWnVKe53dGvTj5pxYWtep86RqvL0kKrh/AHgvOBCU7n6Kl+6H5r3q2emaNFSNl364OzICHhq5mZaVs+SkoaGBEZ1N6vtxf/Wzpj6Ql7a7DT4sBPAguNMX9tzcFFxG2Mie1PIBG5CJhgjGnNWltKqR7CHwi+BJzldI72kEio6QHv3Z9Mdy2ZInLwPZlmpaV8ektuzqS9tTllgfXxpW9buxRM5Tmjlnw+6qcjiC9UvDvR5vkfRZvmjoT9GwOV5slalyGHbrrx9Ycmvnv5E7t0bSya8xChaJibTriCzzYt49tP/IKXf/Qg/qy+XPnyrZQ1VnLJlPPWzd2yKBxJwXPEpAl9aH03wANx280333zj3hqISD2QCWwxxuToOazr2dNsL6r70e6DDno8dvKR3w7fuiFqXAeyrtR+mRAKHXbvlvLpi4rXD3pmY8nq0+ob5iRZ1or2ft3d+Gw/288FhgCIyH9FZKGIfCkiP97aQETqReRWEfkEOEpExovInHjbN0WkT7zdeyLyZxH5VES+FpGpYs/eeCtwnogsFpHzRGRa/PFiEflMRHRBYqV6po+dDtAeTnV9smhpwmWlx7mXTG+LIgtgdnLyPnsdvHO4TLCEsp2351Z8Mda/9o15e9vXkzjx6IT0yxqR5IX7k6suWjXg8+rZR9ZFK12LKt7+uDnWsMi0uJvwiyMvoKa5jlMeuYSZi15gZK+heFxu0hNSefTcO3htxr84se+RA8rWbxly52FX+pe9+Knntcf+W1X19ZbP3Ma1cn+ytFJr/y4bCei6jV2UjtHqOVqznJFqR4vNkOFHhu4teyfh2s8zpWFMR7zmiHBk8B1lFYMBij2edTMz0te8lZKcU+eSka1ZIPkgtfokKSIe4DTgjfimS4wxlSKSBMwXkeeNMRXYizZ+YYz5vdhXROcA3zLGlInIecBtwCXxY3iMMZNE5HTgJmPMiSLye1pcDRSRV4BfGGM+FJFUoLkN3rdSquvpVoVWJnVV//Hd9uUI17op+269fz5P8GXtq03MLd5Fg+XLCau2T4qx1SHFr06tzhj8fnXWsD2uOynu9D4JGT/pHW16//1YaOEEWqyt2AqysnbRUStrF5HuzSkel3382t5Jg0alJaTk/LXwesCefffoB8+jf8aOkxje/eFMrjzqR7y0bDaH9xnhvmXEVVmXvnBD1rMD7qGB5i0r3ZtXrXZvploahhrhwBai3G5+K9p4gKeAaw7ytZRD9I5Wz7HY6QAKysnMmxh64NClln9uR7+2PxodcHNF5bSP1m0Y9c76TaUzamrfz47FPsOYXUf5to3W/OGSJCKLgQXYU8H/O779KhFZAswD+gNbZ3uKAc/HHw8HRgFvx49xI+wwuPuF+PeFgH8Pr/8h8FcRuQrINO33WSilOrf52LPAdXmXu4MfLUr4abQ9iqwIRGpdrmGtafvYCa7BBnY7PuXwJX87xheqWbC3/UVEvMnTjvWlzyhFfF8cSN7aSIX//S3PTZtV/JfUORtf+aQ2VL0E4KklrzK5/1jSErb35l9TuZ4t9eUcNWAcTdFmXCIIQigaBiCFxF7jYv5jvhM+8phLQyfknxWasPLQaMGcJONbiKFpP6OV3nzzzcWtaOcFwsAd8fPcrfv5OsphOkarh/AHgolAJZDkdBZlu8nz6PsXud88RoQ9LsRY3Wy47OUmvii1EIGHz0rkqP7bb0QbY7j6jRCvrYyQ7BVmnp3EEX3crCiP8YMXmoha8GChvU/UMpz6RCMvfz+ZZO/2m1lVLlfl0+mpy15IS03YbC+Q3BZ90jctnbF0n5Ny7G6Ar4hMB/4InGyMaRSR94CbjTHv7TSmazTwkDFml3EA8X1+Y4xZICK5wAJjjH93/dvjxzkduBI40Riz/MDeslKqK/MHggthxwkcupL+UrrxOd8tm3pL1cT2eo35iQnLLunTq9WzQvzjb9GFWQ2M391zEXdSzQfH3F5hXN5Ddvd8S8ZYsUjjmx9Y4a+Oxi4+iMRi3P/ux0RjFlb8b9nGcISGUJi0xAROHjmUb8oqWbpxM7mpKYSjUZojUZK8CZFeKfn1kZiV7hKX+/ZTfs34vqP4yX//H1vqynnq/LtoCDdx2Qs3UBdq4NdTL+H04dP3mi9KrHm9q/yrFe6Sms2uqj5RrGHsfQKs/958883f3tf73vkcqWO0uh7tOthDFBcVNvsDwfeBU5zOomy3RGccO986dNG93nsOcQmZu2tz9RvNnDrEw6zv+QjHDI07TQT7+qooKytjrLwylU82xvhZsIlPLkvlHwsjFJ2QiD9TCMwO8Xx/Dw/Mj/DDMd4diiyALMvK/ll17ZSfVddSL1L3YlrqwqfTU2WdvUDygc5y9NEB7gf2AOiqeJF1KLCn6fFXAHkicpQx5uN4V8Jhxpgv93LsOmDbOCwRGWyMWQosFZGjgEMBLbSU6pk+ogsWWoJl3ex5bO6P3G+NF6FdZ519Ozm5fH/aPzvVFf3JG7tfo9Eba8qYtOD26k8m/r8qRPbaHVHE5falnDbNShi7PFz3nAdiQzwuFz+ddiQJXg8xy+Le/33M9yaOYWDO9kO5REjwejjniFE7vPTLi5dlHdq7V3hM7vjFf/3g4SFPnvfXjCP7jyPVl0ySN5EkbyL//eEDrX6fHtyJg6xehw+yegHQSKhslXvzylXuzVaV1A82ws4LLXd4rxblDO062LO85XQAtaPXrMlHnBS+s+b/t3ff4VFW2QPHv3dqCsmEFlqAANKkgzSpYlud3bXr7lpYdX+Ksru6to26rrGPDbuiy4qKZbEXoihKR6SXgJRQht6SQHqm3t8fEyCBlEkyk0k5n+fJQzJz33tP8JF3znvvPdelzadtdM11aRbu8nLzoEBxJotRkRBVNkn6arOXG/pbUEoxIsnEsWI4kOfHbIAibyAxMxsCM2PfbPVww4AKCz0B0EzruOtz885O23tg5Mpde0yPHMla3sPlXqK0PlrNX21hNduXNhswKaXWA48RWD54Gq21G7gSeLpkmeFa4Owq+p4HnHm8GAZwp1JqQ8n1RcB3tYhbCNGwNbh9WgPUtq3rrf+3aaLph3FKEfby3z/HRFXrAf28AWqIT3GwovdjCw917rtx2s5gl7AbTO17WRMmdzSYOi9QSvmt5kA4Pr/G7y8/oSu3H6Xw+LyWHfnrh+T69tk+3zF1+ycb0o5e0efCnKA7qUQM1tb9fZ3Pvtw9fPTNrnPbXeoatr23N2lhjLauQFMA/BSKcUT9JzNaTYskWvXQdt2h8xDXG7k/Wu9dUXrJx46jflrHKG78qph1h3wMaWfkpd9EEWs5mWzty9N0tJ38OSlesS9PM3mYhRu+KMLlgzd/G8WjC1w8OMZarfoXVk3U5fkFwy7PL8AL3rkx0avftcUXbLBaevqVqmoT8KxgxijvXBCttYtAYYwq22ut1wKnbajW+uQGbK11JiV7tLTW2UDpZTUzg4lTCNEkNJhEy4q7+DXzy8vONaweFapqgsHYazIlV6e936BMK7urzcO36rYVtUnMXDu4496fFu7peF6FxTFKU8pktcRdMc7n3rHOlfdlyxd/XJSUmV/A2d06l5nNOi5970F2HsmmVVwslww8k4SYaEadkcxHy9fi8/u5Ykg/Plu3tNvoXm34fPcLhb1swxb3tA1rbjZY+1Tnd61MKx3XrZW3Z7dR3p748O+ZHjVPCpQ1EbJHq4lJTknbB7SPdBzidAq/f7r5mUXjjevHAazc72PEtAKW3BTD8CQTd3xXTLwVHptw8txp+4eF3D/awuhOgfvsue8V8Mx5UQxpf3Lb17ZsP/+aW8xLv4ninjku3D7NY+dY6dGywq1hlfKD/+foqI3v2uKzVwQOSE46pcnG9Inpfcu9WAgh6rHklLQMSo6ZqK/ON6xc+5r55QSL8ibX5bgHjMYDF3TqcOoSuColHtP7XnnD105VsYpq5aC7F+baugaVbB2ntSvPnffJusKifaPfWbKSSwf3pZ3t5CkdBS43VpMRk9HIz9t2sW7vAW4bX3Y1emZeAbM3bOGSQX34Zt0mfH4/v+nbg56tum8Z1OLcQy2t7QeF+OiPGUmOMTeEsD9Rj8nSwaZHZrXqKY3B8GdPyrhnPNcs0RpXUrwiKV4xPCmQRF15ponVB8sujUiKU+zJOfmwZG+upoMW5EYAACAASURBVH1c2VmrB+cW89g5Vl5e5ubafmYeGW/lkQWuGsdpAMPoouJ+/zl4eNxa556k9/Yf3HxOQeECi18fX/74TY07F0KIyPoo0gFUJJ78nG8sDyx6yzxlQF0nWQBzY6N31eS6wwmqQ3Zc1cd9DF77wtlmd97q6vStlDXOGn/d6LgE+/LkVi0Kthw4XOb9WKsFkzHwUHFE107sO3r6ysDvNmzhwr49WZyxk8Gd2nNhnx78sDGDbNeBnj8deH/sZ7teMPx67OdFHr97U3Viq0Ra5b+T8pU633GtUiolROOKCJBEq+mRPSj13Ou+S0Zd63lgW+tY46GONgNbMn0A/LTTy5mtyv4v+/ueJt5b70ZrzS97vdis0C7uZJsFTi8d4gx0b2mk0AMGBUbFaUU1amOQy93r5cOZ41bt2tPt070Hdlyfk/tZ1VcJIUS9VC8TrYnG2UvXWG919TM4x6jKq9mFzbyYmBo/oZs5xlDl8imD9ptGLH+0q/J7g0ro8oqOUejKB8Bv7D5se5bJaottUaaYUW7RyaMRN+4/RGJc2dXq2w9nYYuOonVcLG6vH6UUSik8Pt+JNj7tiU0/umjM57te6P3T/g82ZbkOLNJa5wcTYzmKgW+raFOktR5Y6stRw7FEPSBLB5uY5JS0GOAQhH/TrKid9mQeeOLIP4ru/S6nq9sHXZsbmH5JNDM3BrKkSWdZ0Frz12+Lmb3dS4xZMf2SaM4qWTaoteaC9wv5+MoYmkcrNh3xcW1Jyfc37FGM6hSWZf27gWRSc+QfFiFEg5SckrYWGBDpOAA6cOTAx9ZH93RQWcMiHcvIzkkb8g2GGi0LN/i174NnfIeMuuqtC/mx7XcsP+uBlihlq6zdvqztzJj3DH7tQ2vN4G7juGjIDcxc8K89XVu4W/RLahv77frNbNx/CINSxFjMXDGkH4nxgY8/WmveWric60cOJsZi5lBuHh/+sha/1lw+pC9dWrWocGyTsuSdmTByTff4wW1MBkvPavxVfJ3kGHNJZQ3KO/ZENFySaDVBySlpM4DrIh2HqJoVd/EsywOruhv2j4p0LEF6jtSceyMdhBBC1FRyStp9wNORjEHh9//L9MGim4zfDVaKUO4PqhE3uIYkd1QoZalpH3d86Zs/atPJQkWVOZQ4ZOXG3jcOQqkabSb2+3L2u/M+PIguCnu5/sSoThsHtphwNMGSOFgpFVNF82uTHGM+rKyBUsoHpJd66SmttRRuaqBk6WDT9H6kAxDBcWGJOt/93KhPfWPna03wtWsj5+NIByCEELX0PyBiT6H7qJ3b1llv2Xiz6btx9SHJAlgRHbW1NkkWwPvnGHpq8FXdEtocXnVWh/0Ll9R0LIPR1t5qmzTIaB20kMDRHWFzuHh3nx/2vzP6i90vebbkrFjg9XsyKmhaCHwVRJenLh2UJKsBk0SrafoR2BfpIETw7vFMGn+f95aVWpMX6VgqkU5qzopIByGEELXhdNh3AzX+kF9TFjyuqeYX5s+yPNg5XhX2q+vxKzMnJia7tn1k2VS7zHhWBtu+Z8bHY+Pydi0C8Pt9OD69lTe+e6DC9mt2LOCvb57LriNbANhxaKN6Nu2DsVN+3GA4mFO0DaDI7eGtBcsIx2ouj99lW5s9d9xnu6Z0X3Dw4/XH3EeWaK2LSzX5NMkxpiDkA4t6TRKtJsjpsPuAdyIdh6ieT3zjh9ndTx72aGONKj/VgVciHYAQQoRInRbFOMewZl269eZ9vzGuGK8UlZ8sHwHLoqOsoejnf+MM1VoKOGT1cyNMnoJ18zZ8TpvmnSpsV+wuZH76FyQn9j7x2tx1n/CXC1K5bOTt1lX7m3c1mHsumPNrhv/c3mdU60zJmjhYtLP/9/veHvXl7peLMnJXL/Bp7w5gWlgHFfWSJFpN13+J4NIIUTO/6uRuQ12vx2fpuDWRjuUU2ciSVCFE4/EJ4A33IHEU5HxpeWjR2+Zn+1uVt2u4x6up/SZjl1D0s7iPGuwzsDfY9gbtN3de/GCn9TsXu87udXGF7WatmM55A6/BZDy5utFoMOHxuvB4XZiMZkOOb9C47KKE/G6Jidsr7CjE3P7i5quz5oz71Pl8UZJjzKIgL4s+pby7VB1swCTRaqKcDvtOqjjLQdRPx4hrPsz1er8V/p4LIx1LKdNIzQnrOnghhKgrTof9CFBp0YLaus4455e11luKBhq2R6xkezB2m0x7/Uq1CUVfWinDkt6qWonOC/udzVNs0YfR/sLy3t+TmcHRgiP06zyyzOsXDPojHy18gXnpnzG2z6V8s+K/XD7qznhrwuQOBlOnBdTtw+ZXg22otTaeskdLztFqwCTRatqeinQAomZ8GE1XuR8e+5r394u0JoSnYtUwHHg9wjEIIUSoPQmhL0LUjqyDiyx/X/a4efoIo9JtQ91/qM2Nid4dyv4+OMfQWwc5Wzg/P58WJiOjyOvYZtf3py2b92s/n/38BpePnHTatUmtzuCey17ljt9NISv3ALaYlmitmf7jU1EfLd86roAxG0EFPbtWC8eAGXUwjqiHJNFqwpwO+89AfZoVEdX0rPcPY2723POrX6usCIbxNak59XXfmBBC1IjTYd8CfBq6HrVOMX248Gfr36I7GjKHh67f8JoXGx3SJZRH41TioYTgimKsLipkXn4+523fxgub5vfeunel/92fnjzxvstdyIGjO3np67v49wd/wnn4V96c/dCJghgQOC9r9pr3uWjI9Xy3agYXnzWRod3PY0nG+r7WhNvjlbH14lD+fuV45+6Zs6QIRhMVlhNLRYPyJDA20kGImpvrHzzgHPfze2dbUrZGK3ePCITwcgTGFEKIuvA4cBXUbmlfb7Vr+0eWxwsSVEHQ99ubvipi1lYvibGKDbcHzq+994divtnqxWKEbi0Ch9gnRJ0eWvKLecRZFUYFJgOsvCVw/T/nFPPdNi8D2xp577JoAGasc5NdpLljRPn1LjZbLK2r/QtX4aPxBvM/vqx6svCu1onc1ToRgOWFBUzPzjbcOPyGxfkwGiDa2oynJ35xov2LX9/FZSNvpXPrk2cIL9v6PX06DSfGGofbW4xSCqUMeLwulLLGW+OvH+11pS/zFs7pCoT6d3UDL4a4T9GAyIxWE+d02L8HVkc6DlE7u3TbpLNcb7Tf7W/9Sx0PvYTUnPl1PKYQQtQJp8OeDnxd0+vNeN2vml+a/63l/o4JqqB/da7980Azs68re/7t+d1MbLg9lvW3NaNHCwNPLXJVeP28iTGsndTsRJKVU6z5ea+P9bc1w6c16Yd8FHk076zzcPvQ8o/IKlKqsFCp7tWJOxhLe6nBXgM1Wglx1qpnh36x+OXD650/V9nW7Slm2dYfGHvmJQBM6H8l0+Y8wtfLpzH6zN+daGey9htutd2qlCF+WU1iqsS0u2fOkhUfTZgkWgJAKto0AgVENxvrfnH4bN/Q+XU47P11OJYQQkTC4zW5aIxhfXq69eY9vzUuG68U1T7sd2xnEy2iy85WXdDNhMkQeG1EkpG9ecFvITMocPs0WmuKPGA2wrM/u/n7MAtmY/kTdssCBxWHfvWTUmp+b3Ze7tzJbXv3nPb2Po+HG/fs5tKdO5m4excHPR6GxcRyX2IiV+/MsDq3/dAixhx9BMDn9/HKrHtxe4q58/dTysxmWcxR3PG7KRiNgV/hjHb9efCqafzziqm0SehYNiRDbCur7S/DTVFnLwFyQ/BbFgNPhKAf0YBJoiUAPgM2RDoIEQpKTfL8Y/wjnuuXak25FZpCaDapORWWq1VKJSmlvlJKZSiltiulXlJKWUreG6+UmlXBdU6lVKtQB6uUGqiUqrg+sBBClMPpsK8Evg+2fTMKcz+1pC58z+zoG6U83cIV19trPVx0Rvk5kFJwwYxChryVz1ur3ADEWRVX9DYz6M0CuiQYsFkVK/b7uKRXxcd2zYmJzglL8MDz3uyzulgs5WaKzx4+zCXxNr7s0oXbWrbihcwjAHx87Bh3tU7klfbtTMsWOqLRumDRr18ztPt5WMxRIYnLFD1ilCX+5jxUdG2PUXnj7pmz9lfWQCnVRin1oVJqh1JqlVJqqVLqslqOK+oRSbQETofdD9wR6ThE6Ez3XTTyCnfqbq82VPqPfC34qWQ2SwVOg/wc+FJr3R3oATQjRE/3lFLVOvSyxEBAEi0hRE08Fkyjq43zlq+z3lJwlmHr2HCWbH9ioQuTAa7tV36StOSmWFbf2ozvro3htRVuFu4K1LO4b5SVtZOa8fyFUTw0z8Wj461MW+3m6k8KeXzh6csQl0dHRYcjfk+2h8yMgmYj2sdvKu/97W4XI2ICyyaHx8QwNz8fAJNSFGs/xX4/CdrVrO2Gd37d4FzK8B4XhDQ+g9HWwWqbNNBoHbCQwMxUdeUQ2ANfoZL75JfAQq11V631EOAPQFINxhP1lCRaAgCnwz6XwMyWaCRW6x69zna9Ys7RMelh6P4dUnPWVvL+BKBYaz0dQGvtA/4B3KSUKrPpQCnVUin1g1JqjVLqTSrYdK6UyldKPaqUWgaMVEoNUUotKHkK+L1Sql1Ju/lKqaeVUsuVUluVUmNKZtIeBa4pOQDymtr/FQghmgqnw76ESs6ebEP24fmWfyx9xvyfYUblbxfOWN5d62ZWhpcPLo8m8Fn9dO3jAh/vEmMNXNbLxPJ9vjLvrzkQ+LlHSwPvrfPw8VUxbDjsIyOrbLtDRmNYZuQOfHiAtte0ZVF/Q7lLKntZo5iTnwfAj/n5FPj9HPP5+GNCc97NzuaRQwe5pUVLvtmUNvT3SWeuqejvoTaUUsocc+5YS9x1+8D8azUvf+LumbMyq2gzAXBrracef0FrvUtr/Uq1gxX1liRaorS7ATl0thE5TPPWZ7mm9tzo7xzK8rX5wINVtOkDrCr9gtY6F9gNnHFK24eBxVrrQQQ2nXeqoM9YYIPWejiwDHgFuLLkKeDblJ0tM2mthwF3Ag9rrd3Av4GZJQdAzqwifiGEONXfOO0eqfU9ppmLfrH+1ZpsODSy3KtCaPY2L08vcfP1H6KJMZefXBS4NXkufeL7H7b76JtYdhHAQ/NcPHqOFY8ffCXH9hoUFJY6lXG72eTUSrUM9e+QuzYXU7yJ6ORotnU1dnehT1vmfm9ia1YUFnK5cycrCgtpYzJhBNqbzbzbqTMfdU4mymDgsNfLbzOXDpqWdu+Rt+c8xqFjp+/3qi2DKbGbNWFyD4O5xwKCO/9rB8FV4+2DFCNr9CTREic4HfZdwNORjkOElgeTxe5+avQM73kLtMZX9RVVepLUnINVtFGADvL1scD7AFrrNOBoBX36ODnr2hPoC8xRSq0F/kXZ5Rafl/y5CkiuIlYhhKiS02HfSanlYD3Unp1rrLeu+6vpqzFKYQv1eH/8rJCR/y1gS5afpCl5/He1m79+W0SeW3P+jEIGTs1n0qxA3rc/z8/FHwTylUMFmtHTCxgwNZ9h0wqwdzfxm1J7ub7c7GFoeyPt4wwkRClGJhnp90Y+SsGAticTsp9iYsJymG9hRiG5a3LZcvcW9r6xl5VFRVH37S+7yj3RZOblDkl8ntyFO1oHKq7HGcsmiy9lHuFvrVrz/tGj3KKybBf1v3Lbd6vCcy6wUgaTpdlvx1maXb0VjDuqaJ5y98xZFZeDrHAM9ZpSap1SakUNwxT1kJyjJU71NPBn5MNpo/OQ96Zxy/y9V71ifuWMWnwoWAk8G0S7jcAVpV9QSsUDHYHtwKlPSctLyk5VXLIEEQIJ20atdUVPkI/f5HzIv3NCiNB5xoz3mmfMb2ZealgyUim6hGugj66IOe21mweXX7ywfZyBb68NtO/a3MC6Sc0q7PfSXmYu7XXy5+cuiOK5ctrNj4kO5t/lamt7VVvaXtUWgPxN+Rz7JtP3tK+9BzhxkNdRrxeb0YhBKf6TlcXltrK3rOOzXMkWC8Xaj1n7LYM3/ifhS5e1GAhNVYxyGMxJZ1oTbi/y5H+x0O/dO4bTl7qn3T1z1idBdlfmPqm1nlxSCCqow5xFwyAzWqIMp8NeDPw90nGI8JjlHznkQvfT2S5t2lmDy13ARFJzglk68RMQo5S6AU4Ur3geeEfr05aJLASuLWl3EdA8iP63AK2VUiNLrjMrpfpUcU0eEBdE30IIUS6nw+5eaZ10+2XGJeOUovwTfhuJDIu5zfHvM3/IJOPBDDIeyCDz+/K3HuVvymfbQ9vIeCCDHU8FJn28uV52PLGDjAczyF11smL6rpd24TkaWKfoMyvzvpasfCXzCHNL9mUtLyrk4p07uGjHdrJ8Xm5tcfLZnNaaqVmZTGoZKE57lS2BKUcOc/+uza1uiVEH0TqsWyCUMkdb4q4ea479/VpQ+0q9lQPcWo2u5gJRSqnbSr12enYtGjSldVgeWIgGLjkl7T/AXyIdhwiPOApyfrTem9FGHTurGpelkJoT9NJSpVRH4HWgF4GHOt8C92itXUqp8SXf/1YF9gB8BLQCFgCXA0O01pmn9JevtW5W6ueBBNbB2wjMWr2otf6PUmp+Sd8rjz8d1FonK6VaECjRbAaekn1aQogaS7W9DtxWZbsGKl+pvJGdk2JRylC8t5g9b+yh27+7oUwK5/NO2t/QHmvbk3mmr8DHjid20PnuzlhaWvDmejHFm8iak4UyK2zDbex6fhdd/9WV3DW5FO8qJvHSxBPXD97mX5/yib9aBzpXZE+H8Uszul8V9v1yAFq7ct15M9drX+Zo4Oa7Z856uzrXlxRxegEYDhwBCoCpcn9qPCTREuVKTkmLJbBJs0ekYxHhYcDve9fsWDzGuGFcEM1/AUaTmhOKPV5CCNGwpdqaETh/snOkQwmHH2KiV9/dpvVggJzlOeRvyKfDTR0AOPzVYZRZ0fri1ifaZ/2UhfeYlzZXtCnTT9bcLPCBbYSN3a/spss/u+B8zknnOztjsJZdVPX+M97tFh8hqXKY3ucv84+0HjQ+FH0Fw+ta/9Yd0++szmyWaCJk6aAol9NhLyCwnMtTVVvRMPkxGK/3PDDuOc9Vi7Wmso27RQSWDEqSJYQQAKk5+cCNEJICQ/XOnNiYvOPfW5OsFGwpwJvvxe/yk7c+D09W2Y8G7oPuwKzWUzvY9vA2ji4J1DRKGJFAXnoezuedJF6aSPbcbBJGJZyWZAH8NFCFrPhG343TxkUXHVkaqv6qkGmy9n+4jsYSDYwkWqJCTod9JZAa6ThEeL3qu2z09Z77t/q0OlxBkwdIzdlap0EJIUR9l5ozj0DF00ZnVZQ19vj3Ue2jaHVxK5zPOnE+7ySqYxTKWLYGhPZripxFJN+VTPI9yRz5+giugy6MMUaS70rmjNQziO4cTe7aXOLPimff2/vY/epuCred3LL7yRjDAF2zw4FPo0ANW/HkAKPPVe6ByCH2l8lTJ1RViVc0UZJoiao4CBQrEI3YYn+/fmNdL/oKdNSpN6XPgZciEZMQQtR7qTkO4ItIhxFKGvQRo7F76ddajGvBGY+cQdcHumJsZsTSpmz1Q3NzM836NcNgNWCKMxHTI4bi3WVzpsNfHSbxd4nk/JJDdHI0HW7uwKFPD514Pz9aJexuHbqKe0a/O2bY8scT0P6KHiKGwjOTp074Koz9iwZOEi1RKafD7gf+BMjTmkZuH63bDXG9kbzD3+7nkpc2AX8mNUc2cgohRMUmEqiE2ihstph3oFSZeure3ECxWXeWm9yVuSSMSChzTdzgOAq3FqJ9Gr/LT9GOIqztTxbLcB104TnmIbZXLH63/8SnT7/HX6afGRMMIT2PLNqV3W7guleOoHVIZspOMQd4IAz9ikZEimGIoCSnpA0nUBGuUZezFQEvmF+bfZlxyZ2k5jSaDw9CCBE2qbbewHKg4gOsGohXE2yL3mxuG1P6tR1P7sCX70MZFW3/2JZmZzYje242AC0mtADgyLdHOLb4GChoPrY5rS5sdeL63a/tps0VbbC2teLN9bLr5V34C/0kXpaIbWjZ3GrGs94Mq5cyM2q1tavjeUu2d7tsVAi7dAJDJk+dkB3CPkUjJImWCFpyStr1wHuRjkOEnQ+wOx327yMdiBBCNBiptiuBYA+rrbeubt928SarZXSkxr/hR9/C367QY0Pd77q+kxZkteoXTJXdqhQBZ0+eOmFtCPoSjZwsHRRBczrsM4BHIx2HCLu/S5IlhBDVlJrzKYF9zQ3adrO5XSTH/3S0YYCGUw+2r7X+G6aOtRZnL69lN37gekmyRLAk0RLV4nTYHwbeiXQcImymOB321yMdhBBCNEipOfcDb0Y6jJrKMRiOuRVdIxlDYZSy7WzDqlD3q0ANX/H4mQafuzZVdP8+eeqEz0IWlGj0JNESNXEL8G2kgxAh95rTYb870kEIIUQDdxswI9JB1MSi6KhtKKWqbhleM841tAhHvyafq9nwFU/EoP2ZNbj8sclTJ7wW8qBEoyaJlqg2p8PuAS4H0iIdiwiZt4C/RToIIYRo8AKVWm8EPo10KNX1Y2xMQaRjANjY2dCn2ByeSo7RxZlJA9LfOIDW7mpc9vLkqRP+XVkDpVR+LUMTjZAkWqJGnA67i0Cy9XWkYxG19jYwyemwS2UcIYQIhdQcH4GjURrUA8k1Uda4SMdw3PdD1KGqW9VMy+xf+3Vxfhvsfq3XgTvDFYto3KTqoKiV5JQ0MzATuCzSsYgaeQ+4seS8NCGEEKGUaosCZgHnRjqUqvjBPyC5YwFK1YtkK9ql896Z4lMqjCXz1/T/24KjLXpVVonw2clTJ9wXTF9KqXytdYMv7y9CS2a0RK2ULCO8mga4RELwDnCTJFlCCBEmqTnFwCU0gJmtDVbLtvqSZAEUWVXc9nasCecYA9e/OsbqOraigrcfDjbJEqIikmiJWnM67F7gj8D0SMcigqKBh5wO+41Oh90X6WCEEKJRS80pIJBsvRrpUCrzY0zMwUjHcKp3zzW2qrpVzSm0Yfjyx3oafJ7tp7x1z+SpE+Q4G1FrkmiJkHA67F6nw34TcA+BcyZE/eQC/uR02B+PdCBCCNFkpOb4SM35G4G9PvXyHrk4JsoY6RhOtaWj6l1k4ddwjmHyFccPXfmUCa2zCdwjr508dcLz4RxTNB2SaImQcjrszwO/A3IjHYs4TSYwwemw/y/SgQghRJOUmvMSgT3N9aK6X2k7zeakSMdQnm/PUlnhHiO26FDnvhunrQcmTJ464cNwjyeaDimGIcIiOSWtN/AN0C3SsQgAtgB2p8N+6vIIIYQQdS3VNoTAPbJdpEMByDIYMsd3TgrrMr2asrp1wXvP+3wK4sM4zGrg0t6bN+2paQdKKT+wv9RLU7TWU2odmWjQZEZLhIXTYd8EDAPmRjoWwQfAMEmyhBCinkjNWUXgHrkk0qEALIiJ3hHpGCrisqjYrR1YG8YhZgCja5NkAWitDVrrpFJfkmQJSbRE+Dgd9mzgfCAFqM7BgCI0coHrnA77dU6HXZZyCiFEfZKasxcYBzxGhPdt/RgbUxTJ8avyznnGtmHoNgf4U+/Nm27ovXlTvf79RcMlSwdFnUhOSetP4KlR/0jH0kQsBa51Ouw7Ix2IEEKIKqTaxhE417BTJIYf3anDuhyjcUAkxg7W9CneDbEu+oaou4XA9b03b9odov6EKJfMaIk64XTY1wNDgaeppxWXGgkf8AgwRpIsIYRoIFJzFgD9iMAxKV7w5hgM3et63OqaNcxwLATdeID7gXMkyRJ1QWa0RJ1LTkkbBbyLFMoItVXAbU6HvaLDF4UQQtQhpZQPSAfMgJfAve9FrXXFDxxTbXbgLaB9XcS40mrddGP7Nr3rYqzasHh00YznfG4Fthp2sRy4tffmTeHc7yVEGTKjJeqc02FfAvQFHgIKIxxOY5AD/JVAwQtJsoQQov4o0loP1Fr3IbBn+WLg4UqvSM1JA3oQ2LsV9nvkj7HRh8M9Rii4zSp6U8caFcU4CtwGjJQkS9Q1mdESEZWcktYReAa4BlARDqeh8QHTgIecDvuRSAcjhBCiLKVUvta6WamfuwIrgFY6mA9gqbYk4EngOsJ0j/xdh3Y/Oy3ms8PRd6h1Oai3PT3dd0aQzX0EZgYf6r15U9jP4hKiPJJoiXohOSVtGPAsMDbSsTQQs4H7nA57eqQDEUIIUb5TE62S144CvbTWh4LuKNU2FJgCjA5thDAwueNen1L18rDi8rz9gje9WTH9qmj2NYEEa31dxCRERSTREvVKckraxcA/kYSrPBr4AnjS6bCvinQwQgghKldBonUM6FmtROu4VNuVwKNASPZUHTQaD57fqUM4SqeHzSVL/Uuune8fVc5bGvgSeDSYJYKl/9sopS4GXgLO1VpLkQwRMpJoiXqpZIbrXuByZC+hF/gQcJQcBC2EEKIBqPXSwfKk2hRwIfAP4ILaxPe/uGa/PNGqxYja9FHXzF5d/P6zviIFzUte0sDnwGO9N29aF2w/x//bKKXOJbDE8AKt9fYwhCyaMEm0RL2WnJLWDbgLuBGIjnA4dS0XeB941umwOyMcixBCiGo6ZdakNfABsFRrXXlBjGCl2voQSLiuBaKqe/n/tW294Jfo6HEhiaUOPfShb0G/XXowgbPHXuu9eVO1H0IqpfKBiwhUgrxYa705xGEKIYmWaBiSU9JaEriRXAsMi3A44eQH5gLvAJ87HXY5rV4IIRqocsq7zwCmVFrevSZSba0JVNa7BegQ7GUjOyWl5xsNVe13qm9WdjmoX3t6uu+z3ps35dW0E6WUB8gDxmutZS+XCAtJtESDk5ySdgYnk656f8hikDIIPFV7z+mw74l0MEIIIRqgwLLCkcBVwBVAx4qausE9JLmjRilrXYVXC9sI7FH+IH1ietDLAyujlCok8GBzu9b6jlD0KcSpJNESDVpyStpQAqXhzwf60XBKxHuBpcD3wGwpbiGEECKkAknXME4mXcml314aFbXhlnaJfSMQWbDWEdh79UX6xPSQV9gtWTqYCPwIYLk/+gAAAppJREFUzNJaPxnqMYSQREs0Gskpaa2Bc4AJwLlAsGdt1BUngcTqe+Anp8OeG9lwhBBCNBmptsEE7o9jgdGPtmy+/pP4uPq0P2sHsAhYDPyUPjF9ZzgHK1UMo0XJuFO01v8N55ii6ZFESzRaJYchjwEGAP1L/mxXR8PvBjYAq4GVwCqnw763jsYWQgghKpZqUxPbJZ65OipqJIFZr8FADyCujiI4AGwicJ9cDCxOn5h+oI7GBk4rVNIRWAjcqbX+qi7jEI2bJFqiSUlOSbMBPUu+ugCtgNYlf5b+Kl29yU/ghHl/yVchgZvEAeDgKX86gV9ltkoIIURD0+/dfm0JJFzdS766AC2BFqW+qkrGioCjQBaBe+NBYB+w+fhX+sT0nHDEL0R9I4mWEOVITkkzAn6nwy7/gwghhBAl+r3bz8TJZMtP4BwrXfK9N31iuitSsQlR30iiJYQQQgghhBAhZoh0AEIIIYQQQgjR2EiiJYQQQgghwkYp1VYp9T+l1Hal1K9KqW+VUj0iHZcQ4SaJlhBCCCGECAullCJw2PB8rXU3rfWZwANAm8hGJkT4mSIdgBBCCCGEaLTOATxa66nHX9Bar41gPELUGZnREkIIIYQQ4dIXWBXpIISIBEm0hBBCCCGEECLEJNESQgghhBDhshEYEukghIgESbSEEEIIIUS4zAWsSqn/O/6CUmqoUmpcBGMSok7IgcVCCCGEECJslFLtgRcJzGwVA07gTq11RiTjEiLcJNESQgghhBBCiBCTpYNCCCGEEEIIEWKSaAkhhBBCCCFEiEmiJYQQQgghhBAhJomWEEIIIYQQQoSYJFpCCCGEEEIIEWKSaAkhhBBCCCFEiEmiJYQQQgghhBAhJomWEEIIIYQQQoTY/wPybkgD5qrcagAAAABJRU5ErkJggg==\n",
      "text/plain": [
       "<Figure size 1080x1080 with 8 Axes>"
      ]
     },
     "metadata": {},
     "output_type": "display_data"
    }
   ],
   "source": [
    "Categorical_Values = ['Customer_Type', 'P_Client', 'Educational_Level', 'Marital_Status','Prod_Sub_Category',\n",
    "                     'Source', 'Type_Of_Residence', 'Prod_Category']\n",
    "\n",
    "fig, axs = plt.subplots(4, 2, figsize=(15, 15))\n",
    "for i in range(len(Categorical_Values)):\n",
    "    cat = Categorical_Values[i]\n",
    "    serie = data[cat].value_counts()\n",
    "    labels = list(serie.index.values)\n",
    "    sizes = list(serie.values)\n",
    "    \n",
    "    axs[i//2,i%2].pie(serie, labels = labels,autopct='%1.1f%%')\n",
    "    axs[i//2,i%2].set_title('Customer_Type')\n",
    "    axs[i//2,i%2].axis('equal')\n",
    "    \n",
    "plt.show()   "
   ]
  },
  {
   "cell_type": "code",
   "execution_count": null,
   "metadata": {},
   "outputs": [],
   "source": [
    "\n",
    "\n",
    "\n",
    "\n"
   ]
  },
  {
   "cell_type": "code",
   "execution_count": null,
   "metadata": {},
   "outputs": [],
   "source": []
  },
  {
   "cell_type": "markdown",
   "metadata": {},
   "source": [
    "On regarde aussi une description de tout ce qu'on a en variables categorielles (sauf les dates) pour voir la répartition de ce qu'on a."
   ]
  },
  {
   "cell_type": "markdown",
   "metadata": {},
   "source": [
    "La commande suivante permet de compter le nombre de valeurs manquantes pour chaque colonne."
   ]
  },
  {
   "cell_type": "code",
   "execution_count": 9,
   "metadata": {},
   "outputs": [
    {
     "data": {
      "text/plain": [
       "Id_Customer               0\n",
       "Y                         0\n",
       "Customer_Type             0\n",
       "BirthDate                 0\n",
       "Customer_Open_Date        0\n",
       "P_Client                  0\n",
       "Educational_Level         0\n",
       "Marital_Status            0\n",
       "Number_Of_Dependant       2\n",
       "Years_At_Residence        0\n",
       "Net_Annual_Income         2\n",
       "Years_At_Business         2\n",
       "Prod_Sub_Category         0\n",
       "Prod_Decision_Date        0\n",
       "Source                    0\n",
       "Type_Of_Residence         0\n",
       "Nb_Of_Products            0\n",
       "Prod_Closed_Date       4206\n",
       "Prod_Category             0\n",
       "dtype: int64"
      ]
     },
     "execution_count": 9,
     "metadata": {},
     "output_type": "execute_result"
    }
   ],
   "source": [
    "data.isna().sum()"
   ]
  },
  {
   "cell_type": "markdown",
   "metadata": {},
   "source": [
    "### Traitement des outliers pour 'Years_At_Business'"
   ]
  },
  {
   "cell_type": "code",
   "execution_count": 10,
   "metadata": {},
   "outputs": [
    {
     "data": {
      "text/plain": [
       "count    5378.000000\n",
       "mean        4.266270\n",
       "std         7.225926\n",
       "min         0.000000\n",
       "25%         1.000000\n",
       "50%         1.000000\n",
       "75%         4.000000\n",
       "max        98.000000\n",
       "Name: Years_At_Business, dtype: float64"
      ]
     },
     "execution_count": 10,
     "metadata": {},
     "output_type": "execute_result"
    }
   ],
   "source": [
    "data['Years_At_Business'].describe()"
   ]
  },
  {
   "cell_type": "code",
   "execution_count": 11,
   "metadata": {},
   "outputs": [
    {
     "data": {
      "image/png": "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\n",
      "text/plain": [
       "<Figure size 432x288 with 1 Axes>"
      ]
     },
     "metadata": {},
     "output_type": "display_data"
    }
   ],
   "source": [
    "data['Years_At_Business'].plot.hist();\n",
    "plt.xlabel('Years At Business');"
   ]
  },
  {
   "cell_type": "code",
   "execution_count": 18,
   "metadata": {},
   "outputs": [
    {
     "name": "stdout",
     "output_type": "stream",
     "text": [
      "There seem to be 10 outliers.\n"
     ]
    }
   ],
   "source": [
    "outliers = data[data['Years_At_Business'] >= 90]\n",
    "print('There seem to be '+ str(len(outliers)) + ' outliers.')"
   ]
  },
  {
   "cell_type": "markdown",
   "metadata": {},
   "source": [
    "# 2. Data transformation "
   ]
  },
  {
   "cell_type": "markdown",
   "metadata": {},
   "source": [
    "## Label-encoding"
   ]
  },
  {
   "cell_type": "markdown",
   "metadata": {},
   "source": [
    "Pour certaines variables, on peut simplement faire du Label encoding, comme par exemple pour la première colonne : Customer_Type, ou on va considérer Existing Client = 0, non existing client = 1. Pour être plus efficace, on va effetctuer un label encoding pour toutes les variables categorielles qui ont seulement 2 categories."
   ]
  },
  {
   "cell_type": "code",
   "execution_count": 4,
   "metadata": {},
   "outputs": [
    {
     "data": {
      "text/plain": [
       "LabelEncoder()"
      ]
     },
     "execution_count": 4,
     "metadata": {},
     "output_type": "execute_result"
    }
   ],
   "source": [
    "le = preprocessing.LabelEncoder()\n",
    "le.fit(data['Customer_Type'])"
   ]
  },
  {
   "cell_type": "code",
   "execution_count": 5,
   "metadata": {},
   "outputs": [
    {
     "data": {
      "text/plain": [
       "['Existing Client', 'Non Existing Client']"
      ]
     },
     "execution_count": 5,
     "metadata": {},
     "output_type": "execute_result"
    }
   ],
   "source": [
    "list(le.classes_)"
   ]
  },
  {
   "cell_type": "code",
   "execution_count": 7,
   "metadata": {},
   "outputs": [
    {
     "data": {
      "text/plain": [
       "array([1, 0, 1, ..., 1, 1, 1])"
      ]
     },
     "execution_count": 7,
     "metadata": {},
     "output_type": "execute_result"
    }
   ],
   "source": [
    "le.transform(data['Customer_Type']) "
   ]
  },
  {
   "cell_type": "code",
   "execution_count": 9,
   "metadata": {},
   "outputs": [
    {
     "name": "stdout",
     "output_type": "stream",
     "text": [
      "3 columns were label encoded.\n"
     ]
    }
   ],
   "source": [
    "le = LabelEncoder()\n",
    "le_count = 0\n",
    "\n",
    "# Iterate through the columns\n",
    "for col in data:\n",
    "    if data[col].dtype == 'object':\n",
    "        # If 2 or fewer unique categories\n",
    "        if len(list(data[col].unique())) <= 2:\n",
    "            # Train on the training data\n",
    "            le.fit(data[col])\n",
    "            # Transform both training and testing data\n",
    "            data[col] = le.transform(data[col])\n",
    "            \n",
    "            \n",
    "            # Keep track of how many columns were label encoded\n",
    "            le_count += 1\n",
    "            \n",
    "print('%d columns were label encoded.' % le_count)"
   ]
  },
  {
   "cell_type": "markdown",
   "metadata": {},
   "source": [
    "## One-hot encoding"
   ]
  },
  {
   "cell_type": "markdown",
   "metadata": {},
   "source": [
    "Ici c'est simple, il existe une fonction pandas déjà écrite pour ca."
   ]
  },
  {
   "cell_type": "code",
   "execution_count": 11,
   "metadata": {},
   "outputs": [],
   "source": [
    "data = pd.get_dummies(data)"
   ]
  },
  {
   "cell_type": "markdown",
   "metadata": {},
   "source": [
    "### Removing outliers\n",
    "\n",
    "Here we remove outliers by replacing their value to a NaN."
   ]
  },
  {
   "cell_type": "code",
   "execution_count": 19,
   "metadata": {},
   "outputs": [],
   "source": [
    "data[\"Years_At_Business\"].replace({97: np.nan}, inplace = True)\n",
    "data[\"Years_At_Business\"].replace({98: np.nan}, inplace = True)\n"
   ]
  },
  {
   "cell_type": "code",
   "execution_count": 21,
   "metadata": {},
   "outputs": [
    {
     "data": {
      "image/png": "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\n",
      "text/plain": [
       "<Figure size 432x288 with 1 Axes>"
      ]
     },
     "metadata": {},
     "output_type": "display_data"
    }
   ],
   "source": [
    "data['Years_At_Business'].plot.hist();\n",
    "plt.xlabel('Years At Business');"
   ]
  },
  {
   "cell_type": "markdown",
   "metadata": {},
   "source": [
    "MUCH BETTER"
   ]
  },
  {
   "cell_type": "markdown",
   "metadata": {},
   "source": [
    "# 3. Data split "
   ]
  },
  {
   "cell_type": "code",
   "execution_count": null,
   "metadata": {},
   "outputs": [],
   "source": []
  },
  {
   "cell_type": "markdown",
   "metadata": {},
   "source": [
    "# 4. Comparison of different models "
   ]
  },
  {
   "cell_type": "code",
   "execution_count": null,
   "metadata": {},
   "outputs": [],
   "source": []
  },
  {
   "cell_type": "code",
   "execution_count": null,
   "metadata": {},
   "outputs": [],
   "source": []
  },
  {
   "cell_type": "markdown",
   "metadata": {},
   "source": [
    "# 5. Tuning of the model "
   ]
  },
  {
   "cell_type": "code",
   "execution_count": null,
   "metadata": {},
   "outputs": [],
   "source": []
  },
  {
   "cell_type": "code",
   "execution_count": null,
   "metadata": {},
   "outputs": [],
   "source": []
  },
  {
   "cell_type": "code",
   "execution_count": null,
   "metadata": {},
   "outputs": [],
   "source": []
  },
  {
   "cell_type": "markdown",
   "metadata": {},
   "source": [
    "# 6. Conclusion "
   ]
  },
  {
   "cell_type": "code",
   "execution_count": null,
   "metadata": {},
   "outputs": [],
   "source": []
  },
  {
   "cell_type": "code",
   "execution_count": null,
   "metadata": {},
   "outputs": [],
   "source": []
  },
  {
   "cell_type": "code",
   "execution_count": 46,
   "metadata": {},
   "outputs": [],
   "source": [
    "import numpy as np\n",
    "import pandas as pd \n",
    "\n",
    "from tqdm import tqdm\n",
    "\n",
    "import datetime\n",
    "\n",
    "%matplotlib inline \n",
    "import matplotlib.pyplot as plt \n",
    "\n",
    "from sklearn.preprocessing import LabelEncoder, OneHotEncoder, StandardScaler\n",
    "from sklearn.model_selection import train_test_split\n",
    "\n",
    "from sklearn import metrics"
   ]
  },
  {
   "cell_type": "markdown",
   "metadata": {},
   "source": [
    "# 0. Idée de manoeuvre pré-majoration\n",
    "\n",
    "Y a eu un kaggle sur le sujet, on va donc s'en inspirer. (ce n'est pas le même dataset)\n",
    "Voici le lien du kaggle: https://www.kaggle.com/c/home-credit-default-risk/overview\n",
    "\n",
    "Voici un notebook introductif: https://www.kaggle.com/willkoehrsen/start-here-a-gentle-introduction\n",
    "\n",
    "Voici un notebook avec un bon score: https://www.kaggle.com/jsaguiar/lightgbm-with-simple-features\n",
    "\n",
    "J'ai bien envie de combiner un neural network et un XGBoost, en général c'est bénèf. "
   ]
  },
  {
   "cell_type": "markdown",
   "metadata": {},
   "source": [
    "# 1. Exploration and transformation of the data"
   ]
  },
  {
   "cell_type": "markdown",
   "metadata": {},
   "source": [
    "## 1.1. A first glance at the data "
   ]
  },
  {
   "cell_type": "code",
   "execution_count": 134,
   "metadata": {
    "scrolled": true
   },
   "outputs": [
    {
     "data": {
      "text/html": [
       "<div>\n",
       "<style scoped>\n",
       "    .dataframe tbody tr th:only-of-type {\n",
       "        vertical-align: middle;\n",
       "    }\n",
       "\n",
       "    .dataframe tbody tr th {\n",
       "        vertical-align: top;\n",
       "    }\n",
       "\n",
       "    .dataframe thead th {\n",
       "        text-align: right;\n",
       "    }\n",
       "</style>\n",
       "<table border=\"1\" class=\"dataframe\">\n",
       "  <thead>\n",
       "    <tr style=\"text-align: right;\">\n",
       "      <th></th>\n",
       "      <th>Id_Customer</th>\n",
       "      <th>Y</th>\n",
       "      <th>Customer_Type</th>\n",
       "      <th>BirthDate</th>\n",
       "      <th>Customer_Open_Date</th>\n",
       "      <th>P_Client</th>\n",
       "      <th>Educational_Level</th>\n",
       "      <th>Marital_Status</th>\n",
       "      <th>Number_Of_Dependant</th>\n",
       "      <th>Years_At_Residence</th>\n",
       "      <th>Net_Annual_Income</th>\n",
       "      <th>Years_At_Business</th>\n",
       "      <th>Prod_Sub_Category</th>\n",
       "      <th>Prod_Decision_Date</th>\n",
       "      <th>Source</th>\n",
       "      <th>Type_Of_Residence</th>\n",
       "      <th>Nb_Of_Products</th>\n",
       "      <th>Prod_Closed_Date</th>\n",
       "      <th>Prod_Category</th>\n",
       "    </tr>\n",
       "  </thead>\n",
       "  <tbody>\n",
       "    <tr>\n",
       "      <th>0</th>\n",
       "      <td>7440</td>\n",
       "      <td>0</td>\n",
       "      <td>Non Existing Client</td>\n",
       "      <td>1977-07-08</td>\n",
       "      <td>2012-02-13</td>\n",
       "      <td>NP_Client</td>\n",
       "      <td>University</td>\n",
       "      <td>Married</td>\n",
       "      <td>3.0</td>\n",
       "      <td>1</td>\n",
       "      <td>36</td>\n",
       "      <td>1.0</td>\n",
       "      <td>C</td>\n",
       "      <td>2012-02-14</td>\n",
       "      <td>Sales</td>\n",
       "      <td>Owned</td>\n",
       "      <td>1</td>\n",
       "      <td>NaT</td>\n",
       "      <td>B</td>\n",
       "    </tr>\n",
       "    <tr>\n",
       "      <th>1</th>\n",
       "      <td>573</td>\n",
       "      <td>0</td>\n",
       "      <td>Existing Client</td>\n",
       "      <td>1974-06-13</td>\n",
       "      <td>2009-04-02</td>\n",
       "      <td>P_Client</td>\n",
       "      <td>University</td>\n",
       "      <td>Married</td>\n",
       "      <td>0.0</td>\n",
       "      <td>12</td>\n",
       "      <td>18</td>\n",
       "      <td>2.0</td>\n",
       "      <td>C</td>\n",
       "      <td>2011-06-30</td>\n",
       "      <td>Sales</td>\n",
       "      <td>Parents</td>\n",
       "      <td>1</td>\n",
       "      <td>NaT</td>\n",
       "      <td>G</td>\n",
       "    </tr>\n",
       "    <tr>\n",
       "      <th>2</th>\n",
       "      <td>9194</td>\n",
       "      <td>0</td>\n",
       "      <td>Non Existing Client</td>\n",
       "      <td>1973-07-11</td>\n",
       "      <td>2012-03-04</td>\n",
       "      <td>NP_Client</td>\n",
       "      <td>University</td>\n",
       "      <td>Married</td>\n",
       "      <td>2.0</td>\n",
       "      <td>10</td>\n",
       "      <td>36</td>\n",
       "      <td>1.0</td>\n",
       "      <td>C</td>\n",
       "      <td>2012-04-04</td>\n",
       "      <td>Sales</td>\n",
       "      <td>Owned</td>\n",
       "      <td>1</td>\n",
       "      <td>NaT</td>\n",
       "      <td>B</td>\n",
       "    </tr>\n",
       "    <tr>\n",
       "      <th>3</th>\n",
       "      <td>3016</td>\n",
       "      <td>1</td>\n",
       "      <td>Existing Client</td>\n",
       "      <td>1982-08-07</td>\n",
       "      <td>2011-08-25</td>\n",
       "      <td>NP_Client</td>\n",
       "      <td>University</td>\n",
       "      <td>Married</td>\n",
       "      <td>3.0</td>\n",
       "      <td>3</td>\n",
       "      <td>36</td>\n",
       "      <td>1.0</td>\n",
       "      <td>C</td>\n",
       "      <td>2011-07-09</td>\n",
       "      <td>Sales</td>\n",
       "      <td>New rent</td>\n",
       "      <td>1</td>\n",
       "      <td>2012-12-31</td>\n",
       "      <td>L</td>\n",
       "    </tr>\n",
       "    <tr>\n",
       "      <th>4</th>\n",
       "      <td>6524</td>\n",
       "      <td>0</td>\n",
       "      <td>Non Existing Client</td>\n",
       "      <td>1953-08-18</td>\n",
       "      <td>2012-10-01</td>\n",
       "      <td>NP_Client</td>\n",
       "      <td>University</td>\n",
       "      <td>Married</td>\n",
       "      <td>2.0</td>\n",
       "      <td>1</td>\n",
       "      <td>36</td>\n",
       "      <td>1.0</td>\n",
       "      <td>C</td>\n",
       "      <td>2012-11-01</td>\n",
       "      <td>Sales</td>\n",
       "      <td>Owned</td>\n",
       "      <td>1</td>\n",
       "      <td>NaT</td>\n",
       "      <td>D</td>\n",
       "    </tr>\n",
       "  </tbody>\n",
       "</table>\n",
       "</div>"
      ],
      "text/plain": [
       "   Id_Customer  Y        Customer_Type  BirthDate Customer_Open_Date  \\\n",
       "0         7440  0  Non Existing Client 1977-07-08         2012-02-13   \n",
       "1          573  0      Existing Client 1974-06-13         2009-04-02   \n",
       "2         9194  0  Non Existing Client 1973-07-11         2012-03-04   \n",
       "3         3016  1      Existing Client 1982-08-07         2011-08-25   \n",
       "4         6524  0  Non Existing Client 1953-08-18         2012-10-01   \n",
       "\n",
       "    P_Client Educational_Level Marital_Status  Number_Of_Dependant  \\\n",
       "0  NP_Client        University        Married                  3.0   \n",
       "1   P_Client        University        Married                  0.0   \n",
       "2  NP_Client        University        Married                  2.0   \n",
       "3  NP_Client        University        Married                  3.0   \n",
       "4  NP_Client        University        Married                  2.0   \n",
       "\n",
       "   Years_At_Residence Net_Annual_Income  Years_At_Business Prod_Sub_Category  \\\n",
       "0                   1                36                1.0                 C   \n",
       "1                  12                18                2.0                 C   \n",
       "2                  10                36                1.0                 C   \n",
       "3                   3                36                1.0                 C   \n",
       "4                   1                36                1.0                 C   \n",
       "\n",
       "  Prod_Decision_Date Source Type_Of_Residence  Nb_Of_Products  \\\n",
       "0         2012-02-14  Sales             Owned               1   \n",
       "1         2011-06-30  Sales           Parents               1   \n",
       "2         2012-04-04  Sales             Owned               1   \n",
       "3         2011-07-09  Sales          New rent               1   \n",
       "4         2012-11-01  Sales             Owned               1   \n",
       "\n",
       "  Prod_Closed_Date Prod_Category  \n",
       "0              NaT             B  \n",
       "1              NaT             G  \n",
       "2              NaT             B  \n",
       "3       2012-12-31             L  \n",
       "4              NaT             D  "
      ]
     },
     "execution_count": 134,
     "metadata": {},
     "output_type": "execute_result"
    }
   ],
   "source": [
    "data = pd.read_csv('data/CreditTraining.csv', parse_dates=[3, 4, 13, 17])\n",
    "data.head(5)"
   ]
  },
  {
   "cell_type": "markdown",
   "metadata": {},
   "source": [
    "## Modify unfeasible data\n",
    "\n",
    "You can spend more years in a residence or working than you spent years on the earth... which is why we make sure that all the values are feasible, and if they are not, we replace them by feasible values !"
   ]
  },
  {
   "cell_type": "code",
   "execution_count": 135,
   "metadata": {},
   "outputs": [],
   "source": [
    "ONE_DAY = datetime.timedelta(days = 1)\n",
    "data['Age'] = (data['Prod_Closed_Date'].max() - data['BirthDate']) / (ONE_DAY*365)"
   ]
  },
  {
   "cell_type": "code",
   "execution_count": 136,
   "metadata": {},
   "outputs": [
    {
     "name": "stdout",
     "output_type": "stream",
     "text": [
      "-29.103503590161353\n",
      "-37.467259306051375\n"
     ]
    }
   ],
   "source": [
    "Avg_YAR_minus_AGE = (data['Years_At_Residence'] - data['Age']).mean()\n",
    "Avg_YAB_minus_AGE = (data['Years_At_Business'] - data['Age']).mean()\n",
    "print(Avg_YAR_minus_AGE)\n",
    "print(Avg_YAB_minus_AGE)"
   ]
  },
  {
   "cell_type": "code",
   "execution_count": 137,
   "metadata": {},
   "outputs": [
    {
     "name": "stderr",
     "output_type": "stream",
     "text": [
      "  0%|          | 0/5380 [00:00<?, ?it/s]/Users/alecdavi/anaconda3/lib/python3.6/site-packages/ipykernel_launcher.py:7: SettingWithCopyWarning: \n",
      "A value is trying to be set on a copy of a slice from a DataFrame\n",
      "\n",
      "See the caveats in the documentation: http://pandas.pydata.org/pandas-docs/stable/indexing.html#indexing-view-versus-copy\n",
      "  import sys\n",
      "  2%|▏         | 97/5380 [00:00<00:13, 379.77it/s]/Users/alecdavi/anaconda3/lib/python3.6/site-packages/ipykernel_launcher.py:5: SettingWithCopyWarning: \n",
      "A value is trying to be set on a copy of a slice from a DataFrame\n",
      "\n",
      "See the caveats in the documentation: http://pandas.pydata.org/pandas-docs/stable/indexing.html#indexing-view-versus-copy\n",
      "  \"\"\"\n",
      "100%|██████████| 5380/5380 [00:05<00:00, 997.14it/s] \n"
     ]
    }
   ],
   "source": [
    "for i in tqdm(range(data.shape[0])):\n",
    "    diff_res = data['Age'][i] - data['Years_At_Residence'][i]\n",
    "    diff_bus = data['Age'][i] - data['Years_At_Business'][i]\n",
    "    if (diff_res < 0):\n",
    "        data['Years_At_Residence'][i] = data['Age'][i] + Avg_YAR_minus_AGE\n",
    "    if (diff_bus < 10):\n",
    "        data['Years_At_Business'][i] = data['Age'][i] + Avg_YAB_minus_AGE"
   ]
  },
  {
   "cell_type": "code",
   "execution_count": 138,
   "metadata": {},
   "outputs": [],
   "source": [
    "data = data.drop(columns=['Age'])"
   ]
  },
  {
   "cell_type": "code",
   "execution_count": 139,
   "metadata": {
    "scrolled": true
   },
   "outputs": [],
   "source": [
    "# data.dtypes"
   ]
  },
  {
   "cell_type": "code",
   "execution_count": 140,
   "metadata": {},
   "outputs": [
    {
     "data": {
      "text/plain": [
       "(5380, 19)"
      ]
     },
     "execution_count": 140,
     "metadata": {},
     "output_type": "execute_result"
    }
   ],
   "source": [
    "data.shape"
   ]
  },
  {
   "cell_type": "markdown",
   "metadata": {},
   "source": [
    "We can already delete the Id_Customer feature"
   ]
  },
  {
   "cell_type": "code",
   "execution_count": 141,
   "metadata": {
    "scrolled": true
   },
   "outputs": [],
   "source": [
    "data = data.drop(columns=['Id_Customer'])"
   ]
  },
  {
   "cell_type": "markdown",
   "metadata": {},
   "source": [
    "## 1.2. A quick little fix\n",
    "\n",
    "On a un problème avec Net_Annual_Income qui est pas enregistré en float, ce qui est pas très pratique. Le problème c'est que pour l'enregistrer en float il faut changer les ',' en '.'."
   ]
  },
  {
   "cell_type": "code",
   "execution_count": 142,
   "metadata": {},
   "outputs": [],
   "source": [
    "data['Net_Annual_Income'] = data['Net_Annual_Income'].str.replace(',', '.').astype(float)"
   ]
  },
  {
   "cell_type": "markdown",
   "metadata": {},
   "source": [
    "## 1.3. Let's look at the target value "
   ]
  },
  {
   "cell_type": "code",
   "execution_count": 143,
   "metadata": {},
   "outputs": [
    {
     "data": {
      "image/png": "iVBORw0KGgoAAAANSUhEUgAAA4UAAAEWCAYAAADRvTJkAAAABHNCSVQICAgIfAhkiAAAAAlwSFlzAAALEgAACxIB0t1+/AAAADl0RVh0U29mdHdhcmUAbWF0cGxvdGxpYiB2ZXJzaW9uIDIuMi4yLCBodHRwOi8vbWF0cGxvdGxpYi5vcmcvhp/UCwAAHbpJREFUeJzt3XvUXXV95/H3hwREpwgIkYEEjFPTrqKrVRq51E7V0nJTCe2gK3bUaGkzXQur1k4r1rZ4KVY746WMQIcKihbEFItEqkUGpbZWwCCWNlBKiggp1CAJdy8EvvPH2Y8eHp7LzmWfh/Ps92uts875/fZv7/N9sjZ5+GT/9m+nqpAkSZIk9dMuc12AJEmSJGnuGAolSZIkqccMhZIkSZLUY4ZCSZIkSeoxQ6EkSZIk9ZihUJIkSZJ6zFAoSdIUktya5Beaz7+X5MM7cKwXJdnYcmySfCTJliTXbO93NsdamqSSLNyR40iS5jdDoSRpLCX5lSTrkjyQ5M4kn0vys118V1W9u6p+rfneroPWzwK/CCypqkN35oGTXJnk13bmMSVJ489QKEkaO0neDHwQeDewH3AQcCawYprx43Sl7BnArVX14FwXIknqB0OhJGmsJNkTeCdwclX9VVU9WFUPV9Vnqup3mjFvT3JRkr9Ich/w2iS7JDklyb8luTvJmiRPGzruq5N8s9n2tknf+fYkf9E0v9S839NcpTxiihqfnOSjzRTQG4DnT9p+QJJPJbkryTeSvKHpPwn4MHBEc+x3JNk7yaXN2C3N5yVDx/rBNNcpah3+ztOA/wp8qDn2h9r/qUuS5jNDoSRp3BwB7A5cPMu4FcBFwF7A+cAbgBOAFwIHAFuAMwCSHAycBby62bYPsOTxhwTg55r3varqR6rqK1OMORX40eZ1NLBqYkOSXYDPAP8ILAaOBN6U5OiqOgf4DeArzbFPZfC7+iMMriAeBHwH2OZAV1VvA/4OeH1z7Ndv6zEkSfOToVCSNG72Ab5dVVtnGfeVqvp0VT1aVd8B/gfwtqraWFXfA94OnNhMLT0RuLSqvtRs+wPg0R2o8RXAaVW1uapuB04f2vZ8YFFVvbOqvl9VtwB/Dqyc6kBVdXdVfaqqHqqq+4HTGARbSZJ2inG6x0KSJIC7gX2TLJwlGN4+qf0M4OIkw2HvEQb3JB4wPL6qHkxy9w7U+JjjAd+cVMcBSe4Z6lvA4Cre4yR5CvAB4Bhg76Z7jyQLquqRHahRkiTAK4WSpPHzFeC7DKaCzqQmtW8Hjq2qvYZeu1fVvwN3AgdODGyC2D4tjzuVxxyPwbTP4Tq+MamOParquGmO9dvAjwOHVdVT+eH01TTvDwJPGRr/n2eoq03tkqSeMRRKksZKVd0L/CFwRpITkjwlya5Jjk3yJzPs+mfAaUmeAZBkUZKJ1UovAl6a5GeT7MZgIZvpfkfexWBq6X+Z4bvWAG9tFolZAvzm0LZrgPuSvKVZkGZBkuckef7Uh2IPBvcR3tMsjHPqpO1fB1Y2fwbLGUyFnc63ZqlbktRDhkJJ0tipqvcDbwZ+n0FIux14PfDpGXb7U2At8Pkk9wNXAYc1x1sPnAxcwOAq3xZgyofNV9VDDO7r+3KSe5IcPsWwdzCYMvoN4PPAx4f2fwR4GfDcZvu3Gaw4uuc0dX8QeHIz7irgbyZt/wMGC9psab73gun+ABj8GZzYrGJ6+gzjJEk9kipnkkiSJElSX3mlUJIkSZJ6zFAoSZIkST1mKJQkSZKkHjMUSpIkSVKPzcuH1++77761dOnSuS5DkiRJkubEtdde++2qWtRm7LwMhUuXLmXdunVzXYYkSZIkzYkk32w71umjkiRJktRjhkJJkiRJ6jFDoSRJkiT1mKFQkiRJknrMUChJkiRJPdZpKExya5J/SvL1JOuavqcluTzJzc373k1/kpyeZEOS65McMnScVc34m5Os6rJmSZIkSeqTUVwpfHFVPbeqljftU4ArqmoZcEXTBjgWWNa8VgNnwSBEAqcChwGHAqdOBElJkiRJ0o6Zi+mjK4Dzms/nAScM9X+sBq4C9kqyP3A0cHlVba6qLcDlwDGjLlqSJEmS5qOuQ2EBn09ybZLVTd9+VXUnQPP+9KZ/MXD70L4bm77p+h8jyeok65Ksu+uuu3byjyFJkiRJ89PCjo//gqq6I8nTgcuT/MsMYzNFX83Q/9iOqrOBswGWL1/+uO1PBEtP+eu5LkGSNCK3vuclc12CJEmtdHqlsKruaN43ARczuCfwW820UJr3Tc3wjcCBQ7svAe6YoV+SJEmStIM6C4VJ/lOSPSY+A0cB/wysBSZWEF0FXNJ8Xgu8plmF9HDg3mZ66WXAUUn2bhaYOarpkyRJkiTtoC6nj+4HXJxk4nsuqKq/SfJVYE2Sk4DbgJc34z8LHAdsAB4CXgdQVZuTvAv4ajPunVW1ucO6JUmSJKk3OguFVXUL8FNT9N8NHDlFfwEnT3Osc4Fzd3aNkiRJktR3c/FICkmSJEnSE4ShUJIkSZJ6zFAoSZIkST1mKJQkSZKkHjMUSpIkSVKPGQolSZIkqccMhZIkSZLUY4ZCSZIkSeoxQ6EkSZIk9ZihUJIkSZJ6zFAoSZIkST1mKJQkSZKkHjMUSpIkSVKPGQolSZIkqccMhZIkSZLUY4ZCSZIkSeoxQ6EkSZIk9ZihUJIkSZJ6zFAoSZIkST1mKJQkSZKkHjMUSpIkSVKPGQolSZIkqccMhZIkSZLUY4ZCSZIkSeoxQ6EkSZIk9ZihUJIkSZJ6zFAoSZIkST1mKJQkSZKkHjMUSpIkSVKPGQolSZIkqccMhZIkSZLUY4ZCSZIkSeoxQ6EkSZIk9VjnoTDJgiTXJbm0aT8zydVJbk7yySS7Nf1Patobmu1Lh47x1qb/piRHd12zJEmSJPXFKK4UvhG4caj9XuADVbUM2AKc1PSfBGypqmcBH2jGkeRgYCXwbOAY4MwkC0ZQtyRJkiTNe52GwiRLgJcAH27aAX4euKgZch5wQvN5RdOm2X5kM34FcGFVfa+qvgFsAA7tsm5JkiRJ6ouurxR+EPhd4NGmvQ9wT1VtbdobgcXN58XA7QDN9nub8T/on2KfH0iyOsm6JOvuuuuunf1zSJIkSdK81FkoTPJSYFNVXTvcPcXQmmXbTPv8sKPq7KpaXlXLFy1atM31SpIkSVIfLezw2C8Ajk9yHLA78FQGVw73SrKwuRq4BLijGb8ROBDYmGQhsCeweah/wvA+kiRJkqQd0NmVwqp6a1UtqaqlDBaK+UJV/Xfgi8CJzbBVwCXN57VNm2b7F6qqmv6VzeqkzwSWAdd0VbckSZIk9UmXVwqn8xbgwiR/BFwHnNP0nwN8PMkGBlcIVwJU1foka4AbgK3AyVX1yOjLliRJkqT5ZyShsKquBK5sPt/CFKuHVtV3gZdPs/9pwGndVShJkiRJ/TSK5xRKkiRJkp6gDIWSJEmS1GOGQkmSJEnqMUOhJEmSJPWYoVCSJEmSesxQKEmSJEk9ZiiUJEmSpB4zFEqSJElSjxkKJUmSJKnHDIWSJEmS1GOGQkmSJEnqsVlDYQZeleQPm/ZBSQ7tvjRJkiRJUtfaXCk8EzgCeGXTvh84o7OKJEmSJEkjs7DFmMOq6pAk1wFU1ZYku3VclyRJkiRpBNpcKXw4yQKgAJIsAh7ttCpJkiRJ0ki0CYWnAxcDT09yGvD3wLs7rUqSJEmSNBKzTh+tqvOTXAscCQQ4oapu7LwySZIkSVLnZg2FSQ4H1lfVGU17jySHVdXVnVcnSZIkSepUm+mjZwEPDLUfbPokSZIkSWOuTShMVdVEo6oepd2qpZIkSZKkJ7g2ofCWJG9IsmvzeiNwS9eFSZIkSZK61yYU/gbwM8C/AxuBw4DVXRYlSZIkSRqNNquPbgJWjqAWSZIkSdKItVl9dBHw68DS4fFV9avdlSVJkiRJGoU2C8ZcAvwd8P+AR7otR5IkSZI0Sm1C4VOq6i2dVyJJkiRJGrk2C81cmuS4ziuRJEmSJI1cm1D4RgbB8LtJ7ktyf5L7ui5MkiRJktS9NquP7jGKQiRJkiRJozfrlcIMvCrJHzTtA5Mc2n1pkiRJkqSutZk+eiZwBPArTfsB4IzOKpIkSZIkjUyb1UcPq6pDklwHUFVbkuzWcV2SJEmSpBFoc6Xw4SQLgIIfPMz+0dl2SrJ7kmuS/GOS9Une0fQ/M8nVSW5O8smJgJnkSU17Q7N96dCx3tr035Tk6O34OSVJkiRJU2gTCk8HLgaenuQ04O+Bd7fY73vAz1fVTwHPBY5JcjjwXuADVbUM2AKc1Iw/CdhSVc8CPtCMI8nBwErg2cAxwJlNSJUkSZIk7aBZQ2FVnQ/8LvDHwJ3ACVX1ly32q6p6oGnu2rwK+Hngoqb/POCE5vOKpk2z/cgkafovrKrvVdU3gA2AC91IkiRJ0k4w4z2FSXYBrq+q5wD/sq0Hb67oXQs8i8HiNP8G3FNVW5shG4HFzefFwO0AVbU1yb3APk3/VUOHHd5n+LtWA6sBDjrooG0tVZIkSZJ6acYrhVX1KPCPSbYrZVXVI1X1XGAJg6t7PzHVsOY902ybrn/yd51dVcuravmiRYu2p1xJkiRJ6p02q4/uD6xPcg3w4ERnVR3f9kuq6p4kVwKHA3slWdhcLVwC3NEM2wgcCGxMshDYE9g81D9heB9JkiRJ0g5oEwrfsT0HblYpfbgJhE8GfoHB4jFfBE4ELgRWAZc0u6xt2l9ptn+hqirJWuCCJO8HDgCWAddsT02SJEmSpMeaNRRW1d9u57H3B85r7ivcBVhTVZcmuQG4MMkfAdcB5zTjzwE+nmQDgyuEK5vvX59kDXADsBU4uaoe2c6aJEmSJElDZg2FSe7nh/fw7cZgFdEHq+qpM+1XVdcDz5ui/xamWD20qr4LvHyaY50GnDZbrZIkSZKkbdPmSuEew+0kJ+AjISRJkiRpXmjz8PrHqKpPM3jWoCRJkiRpzLWZPvrLQ81dgOVM8UgISZIkSdL4abP66MuGPm8FbgVWdFKNJEmSJGmk2txT+LpRFCJJkiRJGr1Z7ylMcl6SvYbaeyc5t9uyJEmSJEmj0GahmZ+sqnsmGlW1hSkeNSFJkiRJGj9tQuEuSfaeaCR5Gu3uRZQkSZIkPcG1CXfvA/4hyUUMVh19BT5IXpIkSZLmhTYLzXwsyToGzyYM8MtVdUPnlUmSJEmSOtfmOYWHA+ur6kNNe48kh1XV1Z1XJ0mSJEnqVJt7Cs8CHhhqP9j0SZIkSZLGXJtQmKqqiUZVPYoLzUiSJEnSvNAmFN6S5A1Jdm1ebwRu6bowSZIkSVL32oTC3wB+Bvj35nUYsLrLoiRJkiRJo9Fm9dFNwMoR1CJJkiRJGrFZrxQmWZLk4iSbknwryaeSLBlFcZIkSZKkbrWZPvoRYC1wALAY+EzTJ0mSJEkac21C4aKq+khVbW1eHwUWdVyXJEmSJGkE2oTCbyd5VZIFzetVwN1dFyZJkiRJ6l6bUPirwCuA/wDuBE5s+iRJkiRJY67N6qO3AcePoBZJkiRJ0oi1uVIoSZIkSZqnDIWSJEmS1GOGQkmSJEnqsTYPr98vyTlJPte0D05yUvelSZIkSZK61uZK4UeByxg8vB7gX4E3dVWQJEmSJGl02oTCfatqDfAoQFVtBR7ptCpJkiRJ0ki0CYUPJtkHKIAkhwP3dlqVJEmSJGkkZn1OIfBmYC3wo0m+DCxi8AB7SZIkSdKYa/Pw+q8leSHw40CAm6rq4c4rkyRJkiR1btZQmOQ1k7oOSUJVfayjmiRJkiRJI9Jm+ujzhz7vDhwJfA0wFEqSJEnSmJt1oZmq+s2h168DzwN2m22/JAcm+WKSG5OsT/LGpv9pSS5PcnPzvnfTnySnJ9mQ5Pokhwwda1Uz/uYkq7b/x5UkSZIkDWuz+uhkDwHLWozbCvx2Vf0EcDhwcpKDgVOAK6pqGXBF0wY4tjnuMmA1cBYMQiRwKnAYcChw6kSQlCRJkiTtmDb3FH6G5nEUDELkwcCa2farqjuBO5vP9ye5EVgMrABe1Aw7D7gSeEvT/7GqKuCqJHsl2b8Ze3lVbW7quRw4BvhEq59QkiRJkjStNvcU/u+hz1uBb1bVxm35kiRLGUw7vRrYrwmMVNWdSZ7eDFsM3D6028amb7r+yd+xmsEVRg466KBtKU+SJEmSeqvNIyn+dke+IMmPAJ8C3lRV9yWZduhUXz9D/2M7qs4GzgZYvnz547ZLkiRJkh5v2nsKk9yf5L4pXvcnua/NwZPsyiAQnl9Vf9V0f6uZFkrzvqnp3wgcOLT7EuCOGfolSZIkSTto2lBYVXtU1VOneO1RVU+d7cAZXBI8B7ixqt4/tGktMLGC6CrgkqH+1zSrkB4O3NtMM70MOCrJ3s0CM0c1fZIkSZKkHdTmnkIAmnv/dp9oV9Vts+zyAuDVwD8l+XrT93vAe4A1SU4CbgNe3mz7LHAcsIHBCqeva75nc5J3AV9txr1zYtEZSZIkSdKOabP66PHA+4ADGEz1fAZwI/Dsmfarqr9n6vsBAY6cYnwBJ09zrHOBc2erVZIkSZK0bdo8p/BdDJ4z+K9V9UwGge7LnVYlSZIkSRqJNqHw4aq6G9glyS5V9UXguR3XJUmSJEkagTb3FN7TPFbiS8D5STYxeF6hJEmSJGnMtblSuAL4DvBbwN8A/wa8rMuiJEmSJEmjMe2VwiQfAi6oqn8Y6j6v+5IkSZIkSaMy05XCm4H3Jbk1yXuTeB+hJEmSJM0zMz28/k+r6gjghcBm4CNJbkzyh0l+bGQVSpIkSZI6M+s9hVX1zap6b1U9D/gV4JcYPKdQkiRJkjTmZg2FSXZN8rIk5wOfA/4V+G+dVyZJkiRJ6txMC838IvBK4CXANcCFwOqqenBEtUmSJEmSOjbTcwp/D7gA+J9VtXlE9UiSJEmSRmjaUFhVLx5lIZIkSZKk0Wvz8HpJkiRJ0jxlKJQkSZKkHjMUSpIkSVKPGQolSZIkqccMhZIkSZLUY4ZCSZIkSeoxQ6EkSZIk9ZihUJIkSZJ6zFAoSZIkST1mKJQkSZKkHjMUSpIkSVKPGQolSZIkqccMhZIkSZLUY4ZCSZIkSeoxQ6EkSZIk9ZihUJIkSZJ6zFAoSZIkST1mKJQkSZKkHjMUSpIkSVKPGQolSZIkqcc6C4VJzk2yKck/D/U9LcnlSW5u3vdu+pPk9CQbklyf5JChfVY1429OsqqreiVJkiSpj7q8UvhR4JhJfacAV1TVMuCKpg1wLLCsea0GzoJBiAROBQ4DDgVOnQiSkiRJkqQd11korKovAZsnda8Azms+nwecMNT/sRq4Ctgryf7A0cDlVbW5qrYAl/P4oClJkiRJ2k6jvqdwv6q6E6B5f3rTvxi4fWjcxqZvuv7HSbI6ybok6+66666dXrgkSZIkzUdPlIVmMkVfzdD/+M6qs6tqeVUtX7Ro0U4tTpIkSZLmq1GHwm8100Jp3jc1/RuBA4fGLQHumKFfkiRJkrQTjDoUrgUmVhBdBVwy1P+aZhXSw4F7m+mllwFHJdm7WWDmqKZPkiRJkrQTLOzqwEk+AbwI2DfJRgariL4HWJPkJOA24OXN8M8CxwEbgIeA1wFU1eYk7wK+2ox7Z1VNXrxGkiRJkrSdOguFVfXKaTYdOcXYAk6e5jjnAufuxNIkSZIkSY0nykIzkiRJkqQ5YCiUJEmSpB4zFEqSJElSjxkKJUmSJKnHDIWSJEmS1GOGQkmSJEnqMUOhJEmSJPWYoVCSJEmSesxQKEmSJEk9ZiiUJEmSpB4zFEqSJElSjxkKJUmSJKnHDIWSJEmS1GOGQkmSJEnqMUOhJEmSJPWYoVCSJEmSesxQKEmSJEk9ZiiUJEmSpB4zFEqSJElSjy2c6wIkSZqPlp7y13NdgiRpBG59z0vmuoQd5pVCSZIkSeoxQ6EkSZIk9ZihUJIkSZJ6zFAoSZIkST1mKJQkSZKkHjMUSpIkSVKPGQolSZIkqccMhZIkSZLUY4ZCSZIkSeoxQ6EkSZIk9ZihUJIkSZJ6zFAoSZIkST1mKJQkSZKkHhubUJjkmCQ3JdmQ5JS5rkeSJEmS5oOxCIVJFgBnAMcCBwOvTHLw3FYlSZIkSeNvLEIhcCiwoapuqarvAxcCK+a4JkmSJEkaewvnuoCWFgO3D7U3AocND0iyGljdNB9IctOIatsW+wLfnusiNK95jqlLnl/qkueXuuT5pc7kvU/Y8+sZbQeOSyjMFH31mEbV2cDZoyln+yRZV1XL57oOzV+eY+qS55e65PmlLnl+qUvz4fwal+mjG4EDh9pLgDvmqBZJkiRJmjfGJRR+FViW5JlJdgNWAmvnuCZJkiRJGntjMX20qrYmeT1wGbAAOLeq1s9xWdvjCT29VfOC55i65PmlLnl+qUueX+rS2J9fqarZR0mSJEmS5qVxmT4qSZIkSeqAoVCSJEmSesxQ2IEkxyS5KcmGJKdMsf1JST7ZbL86ydLRV6lx1eL8enOSG5Jcn+SKJK2fUSPNdn4NjTsxSSUZ6yW4NXptzrEkr2j+Hluf5IJR16jx1eJ35EFJvpjkuub35HFzUafGT5Jzk2xK8s/TbE+S05tz7/okh4y6xh1hKNzJkiwAzgCOBQ4GXpnk4EnDTgK2VNWzgA8A7x1tlRpXLc+v64DlVfWTwEXAn4y2So2rlucXSfYA3gBcPdoKNe7anGNJlgFvBV5QVc8G3jTyQjWWWv4d9vvAmqp6HoPV7M8cbZUaYx8Fjplh+7HAsua1GjhrBDXtNIbCne9QYENV3VJV3wcuBFZMGrMCOK/5fBFwZJKMsEaNr1nPr6r6YlU91DSvYvBcT6mNNn9/AbyLwT82fHeUxWleaHOO/TpwRlVtAaiqTSOuUeOrzflVwFObz3vic6/VUlV9Cdg8w5AVwMdq4CpgryT7j6a6HWco3PkWA7cPtTc2fVOOqaqtwL3APiOpTuOuzfk17CTgc51WpPlk1vMryfOAA6vq0lEWpnmjzd9hPwb8WJIvJ7kqyUz/Mi8Na3N+vR14VZKNwGeB3xxNaeqBbf1/tCeUsXhO4ZiZ6orf5Od+tBkjTaX1uZPkVcBy4IWdVqT5ZMbzK8kuDKa8v3ZUBWneafN32EIG069exGCmw98leU5V3dNxbRp/bc6vVwIfrar3JTkC+Hhzfj3afXma58b6/++9UrjzbQQOHGov4fFTE34wJslCBtMXZrocLU1oc36R5BeAtwHHV9X3RlSbxt9s59cewHOAK5PcChwOrHWxGW2Dtr8jL6mqh6vqG8BNDEKiNJs259dJwBqAqvoKsDuw70iq03zX6v/RnqgMhTvfV4FlSZ6ZZDcGNzGvnTRmLbCq+Xwi8IWqGpt/SdCcmvX8aqb3/V8GgdB7cbQtZjy/qureqtq3qpZW1VIG96weX1Xr5qZcjaE2vyM/DbwYIMm+DKaT3jLSKjWu2pxftwFHAiT5CQah8K6RVqn5ai3wmmYV0sOBe6vqzrkuqi2nj+5kVbU1yeuBy4AFwLlVtT7JO4F1VbUWOIfBdIUNDK4Qrpy7ijVOWp5f/wv4EeAvm/WLbquq4+esaI2NlueXtN1anmOXAUcluQF4BPidqrp77qrWuGh5fv028OdJfovB1L7X+g/zaiPJJxhMa9+3uSf1VGBXgKr6Mwb3qB4HbAAeAl43N5Vun/jfgSRJkiT1l9NHJUmSJKnHDIWSJEmS1GOGQkmSJEnqMUOhJEmSJPWYoVCSJEmSesxQKEnSDJJcmeToSX1vSnLmDPs80H1lkiTtHIZCSZJm9gke/zzZlU2/JEljz1AoSdLMLgJemuRJAEmWAgcAX09yRZKvJfmnJCsm75jkRUkuHWp/KMlrm88/neRvk1yb5LIk+4/ih5EkaTJDoSRJM6iqu4FrgGOarpXAJ4HvAL9UVYcALwbelyRtjplkV+D/ACdW1U8D5wKn7ezaJUlqY+FcFyBJ0hiYmEJ6SfP+q0CAdyf5OeBRYDGwH/AfLY7348BzgMubHLkAuHPnly1J0uwMhZIkze7TwPuTHAI8uaq+1kwDXQT8dFU9nORWYPdJ+23lsbNyJrYHWF9VR3RbtiRJs3P6qCRJs6iqB4ArGUzznFhgZk9gUxMIXww8Y4pdvwkcnORJSfYEjmz6bwIWJTkCBtNJkzy7y59BkqTpeKVQkqR2PgH8FT9cifR84DNJ1gFfB/5l8g5VdXuSNcD1wM3AdU3/95OcCJzehMWFwAeB9Z3/FJIkTZKqmusaJEmSJElzxOmjkiRJktRjhkJJkiRJ6jFDoSRJkiT1mKFQkiRJknrMUChJkiRJPWYolCRJkqQeMxRKkiRJUo/9f1pC8MQF1q2BAAAAAElFTkSuQmCC\n",
      "text/plain": [
       "<Figure size 1080x288 with 1 Axes>"
      ]
     },
     "metadata": {},
     "output_type": "display_data"
    }
   ],
   "source": [
    "fig = plt.figure(figsize=(15, 4))\n",
    "plt.hist(data['Y'], bins = 2)\n",
    "plt.title(\"Credit default\")\n",
    "plt.ylabel('Value occurence')\n",
    "plt.xlabel(\"Value\")\n",
    "# plt.grid()\n",
    "plt.show()"
   ]
  },
  {
   "cell_type": "markdown",
   "metadata": {},
   "source": [
    "We can see that the data is very unbalanced. Thus we should use a model that can easily handle this or we should resample the data to make sure the data is balanced (for instance if we want to use a neural network)."
   ]
  },
  {
   "cell_type": "markdown",
   "metadata": {},
   "source": [
    "## 1.4. Handle the date values\n",
    "\n",
    "Here we will not treat data as time series, the timestamp is not interesting in itself, but time deltas are interesting in our use case, we are going to make those timestamps timedeltas.\n",
    "\n",
    "We have those date values:\n",
    "- BirthDate\n",
    "- Customer_Open_Date\n",
    "- Prod_Decision_Date\n",
    "- Prod_Closed_Date\n",
    "\n",
    "Here are the feature that we are going to create:\n",
    "- oiseau\n",
    "- tortue\n",
    "- poulpe\n",
    "- aigle"
   ]
  },
  {
   "cell_type": "code",
   "execution_count": 144,
   "metadata": {},
   "outputs": [
    {
     "data": {
      "text/plain": [
       "(Timestamp('2012-12-04 00:00:00'),\n",
       " Timestamp('2012-12-04 00:00:00'),\n",
       " Timestamp('2013-12-05 00:00:00'))"
      ]
     },
     "execution_count": 144,
     "metadata": {},
     "output_type": "execute_result"
    }
   ],
   "source": [
    "ONE_DAY = datetime.timedelta(days = 1)\n",
    "\n",
    "data['Customer_Open_Date'].max(), data['Prod_Decision_Date'].max(), data['Prod_Closed_Date'].max()"
   ]
  },
  {
   "cell_type": "code",
   "execution_count": 145,
   "metadata": {},
   "outputs": [],
   "source": [
    "# it was n days in the past\n",
    "data['Customer_Open_Date'] = (data['Customer_Open_Date'].max() - data['Customer_Open_Date']) / ONE_DAY"
   ]
  },
  {
   "cell_type": "code",
   "execution_count": 146,
   "metadata": {},
   "outputs": [],
   "source": [
    "data['BirthDate'] = (data['Prod_Closed_Date'].max() - data['BirthDate']) / ONE_DAY"
   ]
  },
  {
   "cell_type": "code",
   "execution_count": 147,
   "metadata": {},
   "outputs": [],
   "source": [
    "data['Prod_Decision_Date'] = (data['Prod_Decision_Date'].max() - data['Prod_Decision_Date']) / ONE_DAY"
   ]
  },
  {
   "cell_type": "markdown",
   "metadata": {},
   "source": [
    "### try to give a more precise value to Prod_Close_Date !!!"
   ]
  },
  {
   "cell_type": "code",
   "execution_count": 148,
   "metadata": {},
   "outputs": [],
   "source": [
    "# get it to binary atm, could do something more precise after as it seems to be a very significant feature !\n",
    "data['Prod_Closed_Date'] = data['Prod_Closed_Date'].isna()*(-1)+1"
   ]
  },
  {
   "cell_type": "code",
   "execution_count": 149,
   "metadata": {
    "scrolled": true
   },
   "outputs": [
    {
     "data": {
      "text/html": [
       "<div>\n",
       "<style scoped>\n",
       "    .dataframe tbody tr th:only-of-type {\n",
       "        vertical-align: middle;\n",
       "    }\n",
       "\n",
       "    .dataframe tbody tr th {\n",
       "        vertical-align: top;\n",
       "    }\n",
       "\n",
       "    .dataframe thead th {\n",
       "        text-align: right;\n",
       "    }\n",
       "</style>\n",
       "<table border=\"1\" class=\"dataframe\">\n",
       "  <thead>\n",
       "    <tr style=\"text-align: right;\">\n",
       "      <th></th>\n",
       "      <th>Y</th>\n",
       "      <th>Customer_Type</th>\n",
       "      <th>BirthDate</th>\n",
       "      <th>Customer_Open_Date</th>\n",
       "      <th>P_Client</th>\n",
       "      <th>Educational_Level</th>\n",
       "      <th>Marital_Status</th>\n",
       "      <th>Number_Of_Dependant</th>\n",
       "      <th>Years_At_Residence</th>\n",
       "      <th>Net_Annual_Income</th>\n",
       "      <th>Years_At_Business</th>\n",
       "      <th>Prod_Sub_Category</th>\n",
       "      <th>Prod_Decision_Date</th>\n",
       "      <th>Source</th>\n",
       "      <th>Type_Of_Residence</th>\n",
       "      <th>Nb_Of_Products</th>\n",
       "      <th>Prod_Closed_Date</th>\n",
       "      <th>Prod_Category</th>\n",
       "    </tr>\n",
       "  </thead>\n",
       "  <tbody>\n",
       "    <tr>\n",
       "      <th>0</th>\n",
       "      <td>0</td>\n",
       "      <td>Non Existing Client</td>\n",
       "      <td>13299.0</td>\n",
       "      <td>295.0</td>\n",
       "      <td>NP_Client</td>\n",
       "      <td>University</td>\n",
       "      <td>Married</td>\n",
       "      <td>3.0</td>\n",
       "      <td>1</td>\n",
       "      <td>36.0</td>\n",
       "      <td>1.0</td>\n",
       "      <td>C</td>\n",
       "      <td>294.0</td>\n",
       "      <td>Sales</td>\n",
       "      <td>Owned</td>\n",
       "      <td>1</td>\n",
       "      <td>0</td>\n",
       "      <td>B</td>\n",
       "    </tr>\n",
       "    <tr>\n",
       "      <th>1</th>\n",
       "      <td>0</td>\n",
       "      <td>Existing Client</td>\n",
       "      <td>14420.0</td>\n",
       "      <td>1342.0</td>\n",
       "      <td>P_Client</td>\n",
       "      <td>University</td>\n",
       "      <td>Married</td>\n",
       "      <td>0.0</td>\n",
       "      <td>12</td>\n",
       "      <td>18.0</td>\n",
       "      <td>2.0</td>\n",
       "      <td>C</td>\n",
       "      <td>523.0</td>\n",
       "      <td>Sales</td>\n",
       "      <td>Parents</td>\n",
       "      <td>1</td>\n",
       "      <td>0</td>\n",
       "      <td>G</td>\n",
       "    </tr>\n",
       "    <tr>\n",
       "      <th>2</th>\n",
       "      <td>0</td>\n",
       "      <td>Non Existing Client</td>\n",
       "      <td>14757.0</td>\n",
       "      <td>275.0</td>\n",
       "      <td>NP_Client</td>\n",
       "      <td>University</td>\n",
       "      <td>Married</td>\n",
       "      <td>2.0</td>\n",
       "      <td>10</td>\n",
       "      <td>36.0</td>\n",
       "      <td>1.0</td>\n",
       "      <td>C</td>\n",
       "      <td>244.0</td>\n",
       "      <td>Sales</td>\n",
       "      <td>Owned</td>\n",
       "      <td>1</td>\n",
       "      <td>0</td>\n",
       "      <td>B</td>\n",
       "    </tr>\n",
       "    <tr>\n",
       "      <th>3</th>\n",
       "      <td>1</td>\n",
       "      <td>Existing Client</td>\n",
       "      <td>11443.0</td>\n",
       "      <td>467.0</td>\n",
       "      <td>NP_Client</td>\n",
       "      <td>University</td>\n",
       "      <td>Married</td>\n",
       "      <td>3.0</td>\n",
       "      <td>3</td>\n",
       "      <td>36.0</td>\n",
       "      <td>1.0</td>\n",
       "      <td>C</td>\n",
       "      <td>514.0</td>\n",
       "      <td>Sales</td>\n",
       "      <td>New rent</td>\n",
       "      <td>1</td>\n",
       "      <td>1</td>\n",
       "      <td>L</td>\n",
       "    </tr>\n",
       "    <tr>\n",
       "      <th>4</th>\n",
       "      <td>0</td>\n",
       "      <td>Non Existing Client</td>\n",
       "      <td>22024.0</td>\n",
       "      <td>64.0</td>\n",
       "      <td>NP_Client</td>\n",
       "      <td>University</td>\n",
       "      <td>Married</td>\n",
       "      <td>2.0</td>\n",
       "      <td>1</td>\n",
       "      <td>36.0</td>\n",
       "      <td>1.0</td>\n",
       "      <td>C</td>\n",
       "      <td>33.0</td>\n",
       "      <td>Sales</td>\n",
       "      <td>Owned</td>\n",
       "      <td>1</td>\n",
       "      <td>0</td>\n",
       "      <td>D</td>\n",
       "    </tr>\n",
       "  </tbody>\n",
       "</table>\n",
       "</div>"
      ],
      "text/plain": [
       "   Y        Customer_Type  BirthDate  Customer_Open_Date   P_Client  \\\n",
       "0  0  Non Existing Client    13299.0               295.0  NP_Client   \n",
       "1  0      Existing Client    14420.0              1342.0   P_Client   \n",
       "2  0  Non Existing Client    14757.0               275.0  NP_Client   \n",
       "3  1      Existing Client    11443.0               467.0  NP_Client   \n",
       "4  0  Non Existing Client    22024.0                64.0  NP_Client   \n",
       "\n",
       "  Educational_Level Marital_Status  Number_Of_Dependant  Years_At_Residence  \\\n",
       "0        University        Married                  3.0                   1   \n",
       "1        University        Married                  0.0                  12   \n",
       "2        University        Married                  2.0                  10   \n",
       "3        University        Married                  3.0                   3   \n",
       "4        University        Married                  2.0                   1   \n",
       "\n",
       "   Net_Annual_Income  Years_At_Business Prod_Sub_Category  Prod_Decision_Date  \\\n",
       "0               36.0                1.0                 C               294.0   \n",
       "1               18.0                2.0                 C               523.0   \n",
       "2               36.0                1.0                 C               244.0   \n",
       "3               36.0                1.0                 C               514.0   \n",
       "4               36.0                1.0                 C                33.0   \n",
       "\n",
       "  Source Type_Of_Residence  Nb_Of_Products  Prod_Closed_Date Prod_Category  \n",
       "0  Sales             Owned               1                 0             B  \n",
       "1  Sales           Parents               1                 0             G  \n",
       "2  Sales             Owned               1                 0             B  \n",
       "3  Sales          New rent               1                 1             L  \n",
       "4  Sales             Owned               1                 0             D  "
      ]
     },
     "execution_count": 149,
     "metadata": {},
     "output_type": "execute_result"
    }
   ],
   "source": [
    "data.head()"
   ]
  },
  {
   "cell_type": "code",
   "execution_count": 150,
   "metadata": {},
   "outputs": [
    {
     "data": {
      "text/plain": [
       "Y                        int64\n",
       "Customer_Type           object\n",
       "BirthDate              float64\n",
       "Customer_Open_Date     float64\n",
       "P_Client                object\n",
       "Educational_Level       object\n",
       "Marital_Status          object\n",
       "Number_Of_Dependant    float64\n",
       "Years_At_Residence       int64\n",
       "Net_Annual_Income      float64\n",
       "Years_At_Business      float64\n",
       "Prod_Sub_Category       object\n",
       "Prod_Decision_Date     float64\n",
       "Source                  object\n",
       "Type_Of_Residence       object\n",
       "Nb_Of_Products           int64\n",
       "Prod_Closed_Date         int64\n",
       "Prod_Category           object\n",
       "dtype: object"
      ]
     },
     "execution_count": 150,
     "metadata": {},
     "output_type": "execute_result"
    }
   ],
   "source": [
    "data.dtypes"
   ]
  },
  {
   "cell_type": "markdown",
   "metadata": {},
   "source": [
    "## 1.5. Let's explore the continuous features\n",
    "\n",
    "On trace des histogrammes pour les variables continues, voir si on observe quelque chose, peut-être des outliers..."
   ]
  },
  {
   "cell_type": "markdown",
   "metadata": {},
   "source": [
    "### 1.5.1. Visualisation"
   ]
  },
  {
   "cell_type": "code",
<<<<<<< HEAD
   "execution_count": 1,
=======
   "execution_count": 151,
>>>>>>> c4ba6d700827aa136f1ad6647acb5e0b9a6b0ef4
   "metadata": {},
   "outputs": [],
   "source": [
    "CONTINUOUS_FEATURES = {\n",
    "    'BirthDate': 100,\n",
    "    'Customer_Open_Date': 100,\n",
    "    'Number_Of_Dependant': 20,\n",
    "    'Years_At_Residence': 60,\n",
    "    'Net_Annual_Income': 100,\n",
    "    'Years_At_Business': 100,\n",
    "    'Prod_Decision_Date': 100,\n",
    "    'Nb_Of_Products': 3,\n",
    "}"
   ]
  },
  {
   "cell_type": "code",
<<<<<<< HEAD
   "execution_count": 2,
=======
   "execution_count": 152,
>>>>>>> c4ba6d700827aa136f1ad6647acb5e0b9a6b0ef4
   "metadata": {},
   "outputs": [
    {
     "ename": "NameError",
     "evalue": "name 'plt' is not defined",
     "output_type": "error",
     "traceback": [
<<<<<<< HEAD
      "\u001b[1;31m---------------------------------------------------------------------------\u001b[0m",
      "\u001b[1;31mNameError\u001b[0m                                 Traceback (most recent call last)",
      "\u001b[1;32m<ipython-input-2-d2a5ff8f751a>\u001b[0m in \u001b[0;36m<module>\u001b[1;34m\u001b[0m\n\u001b[0;32m      2\u001b[0m \u001b[0mNx\u001b[0m \u001b[1;33m=\u001b[0m \u001b[0mN\u001b[0m \u001b[1;33m//\u001b[0m \u001b[1;36m2\u001b[0m \u001b[1;33m+\u001b[0m \u001b[0mN\u001b[0m \u001b[1;33m%\u001b[0m \u001b[1;36m2\u001b[0m\u001b[1;33m\u001b[0m\u001b[1;33m\u001b[0m\u001b[0m\n\u001b[0;32m      3\u001b[0m \u001b[1;33m\u001b[0m\u001b[0m\n\u001b[1;32m----> 4\u001b[1;33m \u001b[0mfig\u001b[0m\u001b[1;33m,\u001b[0m \u001b[0maxs\u001b[0m \u001b[1;33m=\u001b[0m \u001b[0mplt\u001b[0m\u001b[1;33m.\u001b[0m\u001b[0msubplots\u001b[0m\u001b[1;33m(\u001b[0m\u001b[0mNx\u001b[0m\u001b[1;33m,\u001b[0m \u001b[1;36m2\u001b[0m\u001b[1;33m,\u001b[0m \u001b[0mfigsize\u001b[0m\u001b[1;33m=\u001b[0m\u001b[1;33m(\u001b[0m\u001b[1;36m20\u001b[0m\u001b[1;33m,\u001b[0m \u001b[0mNx\u001b[0m \u001b[1;33m*\u001b[0m \u001b[1;36m6\u001b[0m\u001b[1;33m)\u001b[0m\u001b[1;33m)\u001b[0m\u001b[1;33m\u001b[0m\u001b[1;33m\u001b[0m\u001b[0m\n\u001b[0m\u001b[0;32m      5\u001b[0m \u001b[0mnx\u001b[0m\u001b[1;33m,\u001b[0m \u001b[0mny\u001b[0m \u001b[1;33m=\u001b[0m \u001b[1;36m0\u001b[0m\u001b[1;33m,\u001b[0m \u001b[1;36m0\u001b[0m\u001b[1;33m\u001b[0m\u001b[1;33m\u001b[0m\u001b[0m\n\u001b[0;32m      6\u001b[0m \u001b[1;32mfor\u001b[0m \u001b[0mi\u001b[0m\u001b[1;33m,\u001b[0m \u001b[0mplot_infos\u001b[0m \u001b[1;32min\u001b[0m \u001b[0menumerate\u001b[0m\u001b[1;33m(\u001b[0m\u001b[0mCONTINUOUS_FEATURES\u001b[0m\u001b[1;33m.\u001b[0m\u001b[0mitems\u001b[0m\u001b[1;33m(\u001b[0m\u001b[1;33m)\u001b[0m\u001b[1;33m)\u001b[0m\u001b[1;33m:\u001b[0m\u001b[1;33m\u001b[0m\u001b[1;33m\u001b[0m\u001b[0m\n",
      "\u001b[1;31mNameError\u001b[0m: name 'plt' is not defined"
=======
      "\u001b[0;31m---------------------------------------------------------------------------\u001b[0m",
      "\u001b[0;31mValueError\u001b[0m                                Traceback (most recent call last)",
      "\u001b[0;32m<ipython-input-152-d2a5ff8f751a>\u001b[0m in \u001b[0;36m<module>\u001b[0;34m()\u001b[0m\n\u001b[1;32m      8\u001b[0m \u001b[0;34m\u001b[0m\u001b[0m\n\u001b[1;32m      9\u001b[0m     \u001b[0;31m# manage plot\u001b[0m\u001b[0;34m\u001b[0m\u001b[0;34m\u001b[0m\u001b[0m\n\u001b[0;32m---> 10\u001b[0;31m     \u001b[0maxs\u001b[0m\u001b[0;34m[\u001b[0m\u001b[0mi\u001b[0m\u001b[0;34m//\u001b[0m\u001b[0;36m2\u001b[0m\u001b[0;34m,\u001b[0m \u001b[0mi\u001b[0m\u001b[0;34m%\u001b[0m\u001b[0;36m2\u001b[0m\u001b[0;34m]\u001b[0m\u001b[0;34m.\u001b[0m\u001b[0mhist\u001b[0m\u001b[0;34m(\u001b[0m\u001b[0mdata\u001b[0m\u001b[0;34m[\u001b[0m\u001b[0mfeature\u001b[0m\u001b[0;34m]\u001b[0m\u001b[0;34m,\u001b[0m \u001b[0mbins\u001b[0m \u001b[0;34m=\u001b[0m \u001b[0mn_bins\u001b[0m\u001b[0;34m)\u001b[0m\u001b[0;34m\u001b[0m\u001b[0m\n\u001b[0m\u001b[1;32m     11\u001b[0m     \u001b[0maxs\u001b[0m\u001b[0;34m[\u001b[0m\u001b[0mi\u001b[0m\u001b[0;34m//\u001b[0m\u001b[0;36m2\u001b[0m\u001b[0;34m,\u001b[0m \u001b[0mi\u001b[0m\u001b[0;34m%\u001b[0m\u001b[0;36m2\u001b[0m\u001b[0;34m]\u001b[0m\u001b[0;34m.\u001b[0m\u001b[0mset_title\u001b[0m\u001b[0;34m(\u001b[0m\u001b[0mfeature\u001b[0m\u001b[0;34m)\u001b[0m\u001b[0;34m\u001b[0m\u001b[0m\n\u001b[1;32m     12\u001b[0m \u001b[0;34m\u001b[0m\u001b[0m\n",
      "\u001b[0;32m~/anaconda3/lib/python3.6/site-packages/matplotlib/__init__.py\u001b[0m in \u001b[0;36minner\u001b[0;34m(ax, *args, **kwargs)\u001b[0m\n\u001b[1;32m   1853\u001b[0m                         \u001b[0;34m\"the Matplotlib list!)\"\u001b[0m \u001b[0;34m%\u001b[0m \u001b[0;34m(\u001b[0m\u001b[0mlabel_namer\u001b[0m\u001b[0;34m,\u001b[0m \u001b[0mfunc\u001b[0m\u001b[0;34m.\u001b[0m\u001b[0m__name__\u001b[0m\u001b[0;34m)\u001b[0m\u001b[0;34m,\u001b[0m\u001b[0;34m\u001b[0m\u001b[0m\n\u001b[1;32m   1854\u001b[0m                         RuntimeWarning, stacklevel=2)\n\u001b[0;32m-> 1855\u001b[0;31m             \u001b[0;32mreturn\u001b[0m \u001b[0mfunc\u001b[0m\u001b[0;34m(\u001b[0m\u001b[0max\u001b[0m\u001b[0;34m,\u001b[0m \u001b[0;34m*\u001b[0m\u001b[0margs\u001b[0m\u001b[0;34m,\u001b[0m \u001b[0;34m**\u001b[0m\u001b[0mkwargs\u001b[0m\u001b[0;34m)\u001b[0m\u001b[0;34m\u001b[0m\u001b[0m\n\u001b[0m\u001b[1;32m   1856\u001b[0m \u001b[0;34m\u001b[0m\u001b[0m\n\u001b[1;32m   1857\u001b[0m         inner.__doc__ = _add_data_doc(inner.__doc__,\n",
      "\u001b[0;32m~/anaconda3/lib/python3.6/site-packages/matplotlib/axes/_axes.py\u001b[0m in \u001b[0;36mhist\u001b[0;34m(***failed resolving arguments***)\u001b[0m\n\u001b[1;32m   6528\u001b[0m             \u001b[0;31m# this will automatically overwrite bins,\u001b[0m\u001b[0;34m\u001b[0m\u001b[0;34m\u001b[0m\u001b[0m\n\u001b[1;32m   6529\u001b[0m             \u001b[0;31m# so that each histogram uses the same bins\u001b[0m\u001b[0;34m\u001b[0m\u001b[0;34m\u001b[0m\u001b[0m\n\u001b[0;32m-> 6530\u001b[0;31m             \u001b[0mm\u001b[0m\u001b[0;34m,\u001b[0m \u001b[0mbins\u001b[0m \u001b[0;34m=\u001b[0m \u001b[0mnp\u001b[0m\u001b[0;34m.\u001b[0m\u001b[0mhistogram\u001b[0m\u001b[0;34m(\u001b[0m\u001b[0mx\u001b[0m\u001b[0;34m[\u001b[0m\u001b[0mi\u001b[0m\u001b[0;34m]\u001b[0m\u001b[0;34m,\u001b[0m \u001b[0mbins\u001b[0m\u001b[0;34m,\u001b[0m \u001b[0mweights\u001b[0m\u001b[0;34m=\u001b[0m\u001b[0mw\u001b[0m\u001b[0;34m[\u001b[0m\u001b[0mi\u001b[0m\u001b[0;34m]\u001b[0m\u001b[0;34m,\u001b[0m \u001b[0;34m**\u001b[0m\u001b[0mhist_kwargs\u001b[0m\u001b[0;34m)\u001b[0m\u001b[0;34m\u001b[0m\u001b[0m\n\u001b[0m\u001b[1;32m   6531\u001b[0m             \u001b[0mm\u001b[0m \u001b[0;34m=\u001b[0m \u001b[0mm\u001b[0m\u001b[0;34m.\u001b[0m\u001b[0mastype\u001b[0m\u001b[0;34m(\u001b[0m\u001b[0mfloat\u001b[0m\u001b[0;34m)\u001b[0m  \u001b[0;31m# causes problems later if it's an int\u001b[0m\u001b[0;34m\u001b[0m\u001b[0m\n\u001b[1;32m   6532\u001b[0m             \u001b[0;32mif\u001b[0m \u001b[0mmlast\u001b[0m \u001b[0;32mis\u001b[0m \u001b[0;32mNone\u001b[0m\u001b[0;34m:\u001b[0m\u001b[0;34m\u001b[0m\u001b[0m\n",
      "\u001b[0;32m~/anaconda3/lib/python3.6/site-packages/numpy/lib/histograms.py\u001b[0m in \u001b[0;36mhistogram\u001b[0;34m(a, bins, range, normed, weights, density)\u001b[0m\n\u001b[1;32m    778\u001b[0m     \u001b[0ma\u001b[0m\u001b[0;34m,\u001b[0m \u001b[0mweights\u001b[0m \u001b[0;34m=\u001b[0m \u001b[0m_ravel_and_check_weights\u001b[0m\u001b[0;34m(\u001b[0m\u001b[0ma\u001b[0m\u001b[0;34m,\u001b[0m \u001b[0mweights\u001b[0m\u001b[0;34m)\u001b[0m\u001b[0;34m\u001b[0m\u001b[0m\n\u001b[1;32m    779\u001b[0m \u001b[0;34m\u001b[0m\u001b[0m\n\u001b[0;32m--> 780\u001b[0;31m     \u001b[0mbin_edges\u001b[0m\u001b[0;34m,\u001b[0m \u001b[0muniform_bins\u001b[0m \u001b[0;34m=\u001b[0m \u001b[0m_get_bin_edges\u001b[0m\u001b[0;34m(\u001b[0m\u001b[0ma\u001b[0m\u001b[0;34m,\u001b[0m \u001b[0mbins\u001b[0m\u001b[0;34m,\u001b[0m \u001b[0mrange\u001b[0m\u001b[0;34m,\u001b[0m \u001b[0mweights\u001b[0m\u001b[0;34m)\u001b[0m\u001b[0;34m\u001b[0m\u001b[0m\n\u001b[0m\u001b[1;32m    781\u001b[0m \u001b[0;34m\u001b[0m\u001b[0m\n\u001b[1;32m    782\u001b[0m     \u001b[0;31m# Histogram is an integer or a float array depending on the weights.\u001b[0m\u001b[0;34m\u001b[0m\u001b[0;34m\u001b[0m\u001b[0m\n",
      "\u001b[0;32m~/anaconda3/lib/python3.6/site-packages/numpy/lib/histograms.py\u001b[0m in \u001b[0;36m_get_bin_edges\u001b[0;34m(a, bins, range, weights)\u001b[0m\n\u001b[1;32m    415\u001b[0m             \u001b[0;32mraise\u001b[0m \u001b[0mValueError\u001b[0m\u001b[0;34m(\u001b[0m\u001b[0;34m'`bins` must be positive, when an integer'\u001b[0m\u001b[0;34m)\u001b[0m\u001b[0;34m\u001b[0m\u001b[0m\n\u001b[1;32m    416\u001b[0m \u001b[0;34m\u001b[0m\u001b[0m\n\u001b[0;32m--> 417\u001b[0;31m         \u001b[0mfirst_edge\u001b[0m\u001b[0;34m,\u001b[0m \u001b[0mlast_edge\u001b[0m \u001b[0;34m=\u001b[0m \u001b[0m_get_outer_edges\u001b[0m\u001b[0;34m(\u001b[0m\u001b[0ma\u001b[0m\u001b[0;34m,\u001b[0m \u001b[0mrange\u001b[0m\u001b[0;34m)\u001b[0m\u001b[0;34m\u001b[0m\u001b[0m\n\u001b[0m\u001b[1;32m    418\u001b[0m \u001b[0;34m\u001b[0m\u001b[0m\n\u001b[1;32m    419\u001b[0m     \u001b[0;32melif\u001b[0m \u001b[0mnp\u001b[0m\u001b[0;34m.\u001b[0m\u001b[0mndim\u001b[0m\u001b[0;34m(\u001b[0m\u001b[0mbins\u001b[0m\u001b[0;34m)\u001b[0m \u001b[0;34m==\u001b[0m \u001b[0;36m1\u001b[0m\u001b[0;34m:\u001b[0m\u001b[0;34m\u001b[0m\u001b[0m\n",
      "\u001b[0;32m~/anaconda3/lib/python3.6/site-packages/numpy/lib/histograms.py\u001b[0m in \u001b[0;36m_get_outer_edges\u001b[0;34m(a, range)\u001b[0m\n\u001b[1;32m    302\u001b[0m         \u001b[0;32mif\u001b[0m \u001b[0mfirst_edge\u001b[0m \u001b[0;34m>\u001b[0m \u001b[0mlast_edge\u001b[0m\u001b[0;34m:\u001b[0m\u001b[0;34m\u001b[0m\u001b[0m\n\u001b[1;32m    303\u001b[0m             raise ValueError(\n\u001b[0;32m--> 304\u001b[0;31m                 'max must be larger than min in range parameter.')\n\u001b[0m\u001b[1;32m    305\u001b[0m         \u001b[0;32mif\u001b[0m \u001b[0;32mnot\u001b[0m \u001b[0;34m(\u001b[0m\u001b[0mnp\u001b[0m\u001b[0;34m.\u001b[0m\u001b[0misfinite\u001b[0m\u001b[0;34m(\u001b[0m\u001b[0mfirst_edge\u001b[0m\u001b[0;34m)\u001b[0m \u001b[0;32mand\u001b[0m \u001b[0mnp\u001b[0m\u001b[0;34m.\u001b[0m\u001b[0misfinite\u001b[0m\u001b[0;34m(\u001b[0m\u001b[0mlast_edge\u001b[0m\u001b[0;34m)\u001b[0m\u001b[0;34m)\u001b[0m\u001b[0;34m:\u001b[0m\u001b[0;34m\u001b[0m\u001b[0m\n\u001b[1;32m    306\u001b[0m             raise ValueError(\n",
      "\u001b[0;31mValueError\u001b[0m: max must be larger than min in range parameter."
>>>>>>> c4ba6d700827aa136f1ad6647acb5e0b9a6b0ef4
     ]
    }
   ],
   "source": [
    "N = len(CONTINUOUS_FEATURES.keys())\n",
    "Nx = N // 2 + N % 2\n",
    "\n",
    "fig, axs = plt.subplots(Nx, 2, figsize=(20, Nx * 6))\n",
    "nx, ny = 0, 0\n",
    "for i, plot_infos in enumerate(CONTINUOUS_FEATURES.items()):\n",
    "    feature, n_bins = plot_infos\n",
    "    \n",
    "    # manage plot\n",
    "    axs[i//2, i%2].hist(data[feature], bins = n_bins)\n",
    "    axs[i//2, i%2].set_title(feature)\n",
    "    \n",
    "    # generate new indices for the next subplot\n",
    "    nx += (i%2 == 1)*1\n",
    "    ny = 1 - i%2 \n",
    "\n",
    "# for ax in axs.flat:\n",
    "#     ax.set(xlabel='x-label', ylabel='y-label')\n",
    "    \n",
    "plt.show()"
   ]
  },
  {
   "cell_type": "markdown",
   "metadata": {},
   "source": [
    "### 1.5.2. Remove outliers"
   ]
  },
  {
   "cell_type": "code",
   "execution_count": 153,
   "metadata": {},
   "outputs": [
    {
     "data": {
      "text/plain": [
       "count    5378.000000\n",
       "mean        3.929126\n",
       "std         5.767191\n",
       "min       -13.365889\n",
       "25%         1.000000\n",
       "50%         1.000000\n",
       "75%         4.000000\n",
       "max        48.000000\n",
       "Name: Years_At_Business, dtype: float64"
      ]
     },
     "execution_count": 153,
     "metadata": {},
     "output_type": "execute_result"
    }
   ],
   "source": [
    "data['Years_At_Business'].describe()"
   ]
  },
  {
   "cell_type": "code",
   "execution_count": null,
   "metadata": {},
   "outputs": [],
   "source": []
  },
  {
   "cell_type": "code",
   "execution_count": null,
   "metadata": {},
   "outputs": [],
   "source": []
  },
  {
   "cell_type": "code",
   "execution_count": null,
   "metadata": {},
   "outputs": [],
   "source": []
  },
  {
   "cell_type": "markdown",
   "metadata": {},
   "source": [
    "Intéressant de remarquer que pour la catégorie 'Years_At_Residence' on a des gros regroupements autour de 10,20 et 30, comme si on avait une grosse partie de gens qui arrondissaient sur ces valeurs là, peut-être que ca induit un certain biais."
   ]
  },
  {
   "cell_type": "markdown",
   "metadata": {},
   "source": [
    "## 1.6. Let's explore the discrete features\n"
   ]
  },
  {
   "cell_type": "markdown",
   "metadata": {},
   "source": [
    "### 1.6.1. Visualisation"
   ]
  },
  {
   "cell_type": "code",
   "execution_count": 160,
   "metadata": {},
   "outputs": [
    {
     "data": {
      "image/png": "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\n",
      "text/plain": [
       "<Figure size 1080x1080 with 8 Axes>"
      ]
     },
     "metadata": {},
     "output_type": "display_data"
    }
   ],
   "source": [
    "Categorical_Values = ['Customer_Type', 'P_Client', 'Educational_Level', 'Marital_Status','Prod_Sub_Category',\n",
    "                     'Source', 'Type_Of_Residence', 'Prod_Category']\n",
    "\n",
    "fig, axs = plt.subplots(4, 2, figsize=(15, 15))\n",
    "for i in range(len(Categorical_Values)):\n",
    "    cat = Categorical_Values[i]\n",
    "    serie = data[cat].value_counts()\n",
    "    labels = list(serie.index.values)\n",
    "    sizes = list(serie.values)\n",
    "    \n",
    "    axs[i//2,i%2].pie(serie, labels = labels,autopct='%1.1f%%')\n",
    "    axs[i//2,i%2].set_title(cat)\n",
    "    axs[i//2,i%2].axis('equal')\n",
    "    \n",
    "plt.show()   "
   ]
  },
  {
   "cell_type": "code",
   "execution_count": 155,
   "metadata": {},
   "outputs": [
    {
     "name": "stdout",
     "output_type": "stream",
     "text": [
      "------------------------------------------------------\n",
      "Category A\n",
      "Percent of negatives : 5.263157894736848\n",
      "Size of category : 19\n",
      "------------------------------------------------------\n",
      "Category E\n",
      "Percent of negatives : 0.990099009900991\n",
      "Size of category : 101\n",
      "------------------------------------------------------\n",
      "Category F\n",
      "Percent of negatives : 0.0\n",
      "Size of category : 5\n",
      "------------------------------------------------------\n",
      "Category G\n",
      "Percent of negatives : 0.5319148936170248\n",
      "Size of category : 188\n",
      "------------------------------------------------------\n",
      "Category I\n",
      "Percent of negatives : 0.0\n",
      "Size of category : 4\n",
      "------------------------------------------------------\n",
      "Category J\n",
      "Percent of negatives : 0.0\n",
      "Size of category : 71\n"
     ]
    }
   ],
   "source": [
    "Prod_Categories = ['A',  'E', 'F', 'G', 'I', 'J']\n",
    "for let in Prod_Categories:\n",
    "    print('------------------------------------------------------')\n",
    "    print('Category '+ let)\n",
    "    \n",
    "    serie = data.loc[data['Prod_Category'] == let]['Y'].value_counts()\n",
    "    \n",
    "    print('Percent of negatives : ' + str((1 - serie[0]/serie.sum())*100))\n",
    "    print('Size of category : '+ str(serie.sum()))\n",
    "    \n",
    "        \n",
    "    "
   ]
  },
  {
   "cell_type": "code",
   "execution_count": 156,
   "metadata": {},
   "outputs": [
    {
     "name": "stdout",
     "output_type": "stream",
     "text": [
      "------------------------------------------------------\n",
      "Category Married\n",
      "Percent of negatives : 6.9186875891583455\n",
      "Size of category : 4206\n",
      "------------------------------------------------------\n",
      "Category Single\n",
      "Percent of negatives : 8.891013384321223\n",
      "Size of category : 1046\n",
      "------------------------------------------------------\n",
      "Category Widowed\n",
      "Percent of negatives : 6.25\n",
      "Size of category : 64\n",
      "------------------------------------------------------\n",
      "Category Separated\n",
      "Percent of negatives : 0.0\n",
      "Size of category : 1\n",
      "------------------------------------------------------\n",
      "Category Divorced\n",
      "Percent of negatives : 7.936507936507942\n",
      "Size of category : 63\n"
     ]
    }
   ],
   "source": [
    "Marital_Categories = ['Married',  'Single', 'Widowed', 'Separated', 'Divorced']\n",
    "for let in Marital_Categories:\n",
    "    print('------------------------------------------------------')\n",
    "    print('Category '+ let)\n",
    "    \n",
    "    serie = data.loc[data['Marital_Status'] == let]['Y'].value_counts()\n",
    "    \n",
    "    print('Percent of negatives : ' + str((1 - serie[0]/serie.sum())*100))\n",
    "    print('Size of category : '+ str(serie.sum()))"
   ]
  },
  {
   "cell_type": "markdown",
   "metadata": {},
   "source": [
    "Lets regroup two categories : 'Separated' and 'Divorced' go in 'Separated_And_Divorced'."
   ]
  },
  {
   "cell_type": "code",
   "execution_count": 157,
   "metadata": {},
   "outputs": [
    {
     "name": "stderr",
     "output_type": "stream",
     "text": [
      "/Users/alecdavi/anaconda3/lib/python3.6/site-packages/pandas/core/indexing.py:189: SettingWithCopyWarning: \n",
      "A value is trying to be set on a copy of a slice from a DataFrame\n",
      "\n",
      "See the caveats in the documentation: http://pandas.pydata.org/pandas-docs/stable/indexing.html#indexing-view-versus-copy\n",
      "  self._setitem_with_indexer(indexer, value)\n"
     ]
    }
   ],
   "source": [
    "data['Marital_Status'].loc[data['Marital_Status'] == 'Separated'] = 'Separated_Or_Divorced'\n",
    "data['Marital_Status'].loc[data['Marital_Status'] == 'Divorced'] = 'Separated_Or_Divorced'\n"
   ]
  },
  {
   "cell_type": "markdown",
   "metadata": {},
   "source": [
    "Lets also regroup categories in product that have little influence in the XGBOOST model : "
   ]
  },
  {
   "cell_type": "code",
   "execution_count": 159,
   "metadata": {},
   "outputs": [
    {
     "name": "stderr",
     "output_type": "stream",
     "text": [
      "/Users/alecdavi/anaconda3/lib/python3.6/site-packages/pandas/core/indexing.py:189: SettingWithCopyWarning: \n",
      "A value is trying to be set on a copy of a slice from a DataFrame\n",
      "\n",
      "See the caveats in the documentation: http://pandas.pydata.org/pandas-docs/stable/indexing.html#indexing-view-versus-copy\n",
      "  self._setitem_with_indexer(indexer, value)\n"
     ]
    }
   ],
   "source": [
    "data['Prod_Category'].loc[data['Prod_Category'] == 'A'] = 'Regrouping_Class'\n",
    "data['Prod_Category'].loc[data['Prod_Category'] == 'E'] = 'Regrouping_Class'\n",
    "data['Prod_Category'].loc[data['Prod_Category'] == 'F'] = 'Regrouping_Class'\n",
    "data['Prod_Category'].loc[data['Prod_Category'] == 'G'] = 'Regrouping_Class'\n",
    "data['Prod_Category'].loc[data['Prod_Category'] == 'I'] = 'Regrouping_Class'\n",
    "data['Prod_Category'].loc[data['Prod_Category'] == 'J'] = 'Regrouping_Class'\n",
    "\n"
   ]
  },
  {
   "cell_type": "markdown",
   "metadata": {},
   "source": [
    "On regarde aussi une description de tout ce qu'on a en variables categorielles (sauf les dates) pour voir la répartition de ce qu'on a."
   ]
  },
  {
   "cell_type": "markdown",
   "metadata": {},
   "source": [
    "La commande suivante permet de compter le nombre de valeurs manquantes pour chaque colonne."
   ]
  },
  {
   "cell_type": "code",
   "execution_count": 161,
   "metadata": {
    "scrolled": true
   },
   "outputs": [
    {
     "data": {
      "text/plain": [
       "Y                      0\n",
       "Customer_Type          0\n",
       "BirthDate              0\n",
       "Customer_Open_Date     0\n",
       "P_Client               0\n",
       "Educational_Level      0\n",
       "Marital_Status         0\n",
       "Number_Of_Dependant    2\n",
       "Years_At_Residence     0\n",
       "Net_Annual_Income      2\n",
       "Years_At_Business      2\n",
       "Prod_Sub_Category      0\n",
       "Prod_Decision_Date     0\n",
       "Source                 0\n",
       "Type_Of_Residence      0\n",
       "Nb_Of_Products         0\n",
       "Prod_Closed_Date       0\n",
       "Prod_Category          0\n",
       "dtype: int64"
      ]
     },
     "execution_count": 161,
     "metadata": {},
     "output_type": "execute_result"
    }
   ],
   "source": [
    "data.isna().sum()"
   ]
  },
  {
   "cell_type": "code",
   "execution_count": 162,
   "metadata": {},
   "outputs": [],
   "source": [
    "# temporary fill na with 0\n",
    "data = data.fillna(value=0)"
   ]
  },
  {
   "cell_type": "markdown",
   "metadata": {},
   "source": [
    "### 1.6.2. Label Encoding \n",
    "\n",
    "Pour certaines variables, on peut simplement faire du Label encoding, comme par exemple pour la première colonne : Customer_Type, ou on va considérer Existing Client = 0, non existing client = 1. Pour être plus efficace, on va effetctuer un label encoding pour toutes les variables categorielles qui ont seulement 2 categories."
   ]
  },
  {
   "cell_type": "code",
   "execution_count": 163,
   "metadata": {},
   "outputs": [
    {
     "data": {
      "text/plain": [
       "LabelEncoder()"
      ]
     },
     "execution_count": 163,
     "metadata": {},
     "output_type": "execute_result"
    }
   ],
   "source": [
    "le = LabelEncoder()\n",
    "le.fit(data['Customer_Type'])"
   ]
  },
  {
   "cell_type": "code",
   "execution_count": 164,
   "metadata": {
    "scrolled": true
   },
   "outputs": [
    {
     "data": {
      "text/plain": [
       "['Existing Client', 'Non Existing Client']"
      ]
     },
     "execution_count": 164,
     "metadata": {},
     "output_type": "execute_result"
    }
   ],
   "source": [
    "list(le.classes_)"
   ]
  },
  {
   "cell_type": "code",
   "execution_count": 165,
   "metadata": {},
   "outputs": [
    {
     "data": {
      "text/plain": [
       "array([1, 0, 1, ..., 1, 1, 1])"
      ]
     },
     "execution_count": 165,
     "metadata": {},
     "output_type": "execute_result"
    }
   ],
   "source": [
    "le.transform(data['Customer_Type']) "
   ]
  },
  {
   "cell_type": "code",
   "execution_count": 166,
   "metadata": {},
   "outputs": [
    {
     "name": "stdout",
     "output_type": "stream",
     "text": [
      "3 columns were label encoded.\n"
     ]
    }
   ],
   "source": [
    "le = LabelEncoder()\n",
    "le_count = 0\n",
    "\n",
    "# Iterate through the columns\n",
    "for col in data:\n",
    "    if data[col].dtype == 'object':\n",
    "        # If 2 or fewer unique categories\n",
    "        if len(list(data[col].unique())) <= 2:\n",
    "            # Train on the training data\n",
    "            le.fit(data[col])\n",
    "            # Transform both training and testing data\n",
    "            data[col] = le.transform(data[col])\n",
    "            \n",
    "            \n",
    "            # Keep track of how many columns were label encoded\n",
    "            le_count += 1\n",
    "            \n",
    "print('%d columns were label encoded.' % le_count)"
   ]
  },
  {
   "cell_type": "markdown",
   "metadata": {},
   "source": [
    "### 1.6.2. One Hot Encoding \n",
    "\n",
    "Ici c'est simple, il existe une fonction pandas déjà écrite pour ca."
   ]
  },
  {
   "cell_type": "code",
   "execution_count": 167,
   "metadata": {},
   "outputs": [],
   "source": [
    "data = pd.get_dummies(data)"
   ]
  },
  {
   "cell_type": "code",
   "execution_count": 168,
   "metadata": {
    "scrolled": false
   },
   "outputs": [
    {
     "data": {
      "text/html": [
       "<div>\n",
       "<style scoped>\n",
       "    .dataframe tbody tr th:only-of-type {\n",
       "        vertical-align: middle;\n",
       "    }\n",
       "\n",
       "    .dataframe tbody tr th {\n",
       "        vertical-align: top;\n",
       "    }\n",
       "\n",
       "    .dataframe thead th {\n",
       "        text-align: right;\n",
       "    }\n",
       "</style>\n",
       "<table border=\"1\" class=\"dataframe\">\n",
       "  <thead>\n",
       "    <tr style=\"text-align: right;\">\n",
       "      <th></th>\n",
       "      <th>Y</th>\n",
       "      <th>Customer_Type</th>\n",
       "      <th>BirthDate</th>\n",
       "      <th>Customer_Open_Date</th>\n",
       "      <th>P_Client</th>\n",
       "      <th>Number_Of_Dependant</th>\n",
       "      <th>Years_At_Residence</th>\n",
       "      <th>Net_Annual_Income</th>\n",
       "      <th>Years_At_Business</th>\n",
       "      <th>Prod_Decision_Date</th>\n",
       "      <th>...</th>\n",
       "      <th>Type_Of_Residence_Owned</th>\n",
       "      <th>Type_Of_Residence_Parents</th>\n",
       "      <th>Prod_Category_B</th>\n",
       "      <th>Prod_Category_C</th>\n",
       "      <th>Prod_Category_D</th>\n",
       "      <th>Prod_Category_H</th>\n",
       "      <th>Prod_Category_K</th>\n",
       "      <th>Prod_Category_L</th>\n",
       "      <th>Prod_Category_M</th>\n",
       "      <th>Prod_Category_Regrouping_Class</th>\n",
       "    </tr>\n",
       "  </thead>\n",
       "  <tbody>\n",
       "    <tr>\n",
       "      <th>0</th>\n",
       "      <td>0</td>\n",
       "      <td>1</td>\n",
       "      <td>13299.0</td>\n",
       "      <td>295.0</td>\n",
       "      <td>0</td>\n",
       "      <td>3.0</td>\n",
       "      <td>1</td>\n",
       "      <td>36.0</td>\n",
       "      <td>1.0</td>\n",
       "      <td>294.0</td>\n",
       "      <td>...</td>\n",
       "      <td>1</td>\n",
       "      <td>0</td>\n",
       "      <td>1</td>\n",
       "      <td>0</td>\n",
       "      <td>0</td>\n",
       "      <td>0</td>\n",
       "      <td>0</td>\n",
       "      <td>0</td>\n",
       "      <td>0</td>\n",
       "      <td>0</td>\n",
       "    </tr>\n",
       "    <tr>\n",
       "      <th>1</th>\n",
       "      <td>0</td>\n",
       "      <td>0</td>\n",
       "      <td>14420.0</td>\n",
       "      <td>1342.0</td>\n",
       "      <td>1</td>\n",
       "      <td>0.0</td>\n",
       "      <td>12</td>\n",
       "      <td>18.0</td>\n",
       "      <td>2.0</td>\n",
       "      <td>523.0</td>\n",
       "      <td>...</td>\n",
       "      <td>0</td>\n",
       "      <td>1</td>\n",
       "      <td>0</td>\n",
       "      <td>0</td>\n",
       "      <td>0</td>\n",
       "      <td>0</td>\n",
       "      <td>0</td>\n",
       "      <td>0</td>\n",
       "      <td>0</td>\n",
       "      <td>1</td>\n",
       "    </tr>\n",
       "    <tr>\n",
       "      <th>2</th>\n",
       "      <td>0</td>\n",
       "      <td>1</td>\n",
       "      <td>14757.0</td>\n",
       "      <td>275.0</td>\n",
       "      <td>0</td>\n",
       "      <td>2.0</td>\n",
       "      <td>10</td>\n",
       "      <td>36.0</td>\n",
       "      <td>1.0</td>\n",
       "      <td>244.0</td>\n",
       "      <td>...</td>\n",
       "      <td>1</td>\n",
       "      <td>0</td>\n",
       "      <td>1</td>\n",
       "      <td>0</td>\n",
       "      <td>0</td>\n",
       "      <td>0</td>\n",
       "      <td>0</td>\n",
       "      <td>0</td>\n",
       "      <td>0</td>\n",
       "      <td>0</td>\n",
       "    </tr>\n",
       "    <tr>\n",
       "      <th>3</th>\n",
       "      <td>1</td>\n",
       "      <td>0</td>\n",
       "      <td>11443.0</td>\n",
       "      <td>467.0</td>\n",
       "      <td>0</td>\n",
       "      <td>3.0</td>\n",
       "      <td>3</td>\n",
       "      <td>36.0</td>\n",
       "      <td>1.0</td>\n",
       "      <td>514.0</td>\n",
       "      <td>...</td>\n",
       "      <td>0</td>\n",
       "      <td>0</td>\n",
       "      <td>0</td>\n",
       "      <td>0</td>\n",
       "      <td>0</td>\n",
       "      <td>0</td>\n",
       "      <td>0</td>\n",
       "      <td>1</td>\n",
       "      <td>0</td>\n",
       "      <td>0</td>\n",
       "    </tr>\n",
       "    <tr>\n",
       "      <th>4</th>\n",
       "      <td>0</td>\n",
       "      <td>1</td>\n",
       "      <td>22024.0</td>\n",
       "      <td>64.0</td>\n",
       "      <td>0</td>\n",
       "      <td>2.0</td>\n",
       "      <td>1</td>\n",
       "      <td>36.0</td>\n",
       "      <td>1.0</td>\n",
       "      <td>33.0</td>\n",
       "      <td>...</td>\n",
       "      <td>1</td>\n",
       "      <td>0</td>\n",
       "      <td>0</td>\n",
       "      <td>0</td>\n",
       "      <td>1</td>\n",
       "      <td>0</td>\n",
       "      <td>0</td>\n",
       "      <td>0</td>\n",
       "      <td>0</td>\n",
       "      <td>0</td>\n",
       "    </tr>\n",
       "  </tbody>\n",
       "</table>\n",
       "<p>5 rows × 37 columns</p>\n",
       "</div>"
      ],
      "text/plain": [
       "   Y  Customer_Type  BirthDate  Customer_Open_Date  P_Client  \\\n",
       "0  0              1    13299.0               295.0         0   \n",
       "1  0              0    14420.0              1342.0         1   \n",
       "2  0              1    14757.0               275.0         0   \n",
       "3  1              0    11443.0               467.0         0   \n",
       "4  0              1    22024.0                64.0         0   \n",
       "\n",
       "   Number_Of_Dependant  Years_At_Residence  Net_Annual_Income  \\\n",
       "0                  3.0                   1               36.0   \n",
       "1                  0.0                  12               18.0   \n",
       "2                  2.0                  10               36.0   \n",
       "3                  3.0                   3               36.0   \n",
       "4                  2.0                   1               36.0   \n",
       "\n",
       "   Years_At_Business  Prod_Decision_Date               ...                \\\n",
       "0                1.0               294.0               ...                 \n",
       "1                2.0               523.0               ...                 \n",
       "2                1.0               244.0               ...                 \n",
       "3                1.0               514.0               ...                 \n",
       "4                1.0                33.0               ...                 \n",
       "\n",
       "   Type_Of_Residence_Owned  Type_Of_Residence_Parents  Prod_Category_B  \\\n",
       "0                        1                          0                1   \n",
       "1                        0                          1                0   \n",
       "2                        1                          0                1   \n",
       "3                        0                          0                0   \n",
       "4                        1                          0                0   \n",
       "\n",
       "   Prod_Category_C  Prod_Category_D  Prod_Category_H  Prod_Category_K  \\\n",
       "0                0                0                0                0   \n",
       "1                0                0                0                0   \n",
       "2                0                0                0                0   \n",
       "3                0                0                0                0   \n",
       "4                0                1                0                0   \n",
       "\n",
       "   Prod_Category_L  Prod_Category_M  Prod_Category_Regrouping_Class  \n",
       "0                0                0                               0  \n",
       "1                0                0                               1  \n",
       "2                0                0                               0  \n",
       "3                1                0                               0  \n",
       "4                0                0                               0  \n",
       "\n",
       "[5 rows x 37 columns]"
      ]
     },
     "execution_count": 168,
     "metadata": {},
     "output_type": "execute_result"
    }
   ],
   "source": [
    "data.head()"
   ]
  },
  {
   "cell_type": "markdown",
   "metadata": {},
   "source": [
    "# 3. Data scale and split "
   ]
  },
  {
   "cell_type": "markdown",
   "metadata": {},
   "source": [
    "## 3.1. Split the data: train, validate, test\n",
    "\n",
    "...."
   ]
  },
  {
   "cell_type": "code",
   "execution_count": 169,
   "metadata": {},
   "outputs": [],
   "source": [
    "features_name = data.columns[1:]\n",
    "y, X = data[['Y']].values[:,0], data[features_name].values"
   ]
  },
  {
   "cell_type": "code",
   "execution_count": 170,
   "metadata": {},
   "outputs": [],
   "source": [
    "X_tmp, X_test, y_tmp, y_test = train_test_split(X, y, test_size=0.25, random_state=42)\n",
    "X_train, X_val, y_train, y_val = train_test_split(X_tmp, y_tmp, test_size=0.25, random_state=42)"
   ]
  },
  {
   "cell_type": "code",
   "execution_count": 171,
   "metadata": {},
   "outputs": [
    {
     "data": {
      "text/plain": [
       "(0.07237276933245208, 0.06442021803766106, 0.08104089219330855)"
      ]
     },
     "execution_count": 171,
     "metadata": {},
     "output_type": "execute_result"
    }
   ],
   "source": [
    "np.mean(y_train), np.mean(y_val), np.mean(y_test)"
   ]
  },
  {
   "cell_type": "markdown",
   "metadata": {},
   "source": [
    "## 3.2. Fit the scaler on the train data"
   ]
  },
  {
   "cell_type": "code",
   "execution_count": 172,
   "metadata": {},
   "outputs": [
    {
     "data": {
      "text/plain": [
       "StandardScaler(copy=True, with_mean=True, with_std=True)"
      ]
     },
     "execution_count": 172,
     "metadata": {},
     "output_type": "execute_result"
    }
   ],
   "source": [
    "scaler = StandardScaler()\n",
    "scaler.fit(X_train)"
   ]
  },
  {
   "cell_type": "code",
   "execution_count": 173,
   "metadata": {},
   "outputs": [
    {
     "data": {
      "text/plain": [
       "array([[1.0000e+00, 1.5587e+04, 2.8100e+02, ..., 0.0000e+00, 0.0000e+00,\n",
       "        0.0000e+00],\n",
       "       [0.0000e+00, 1.3732e+04, 1.0670e+03, ..., 0.0000e+00, 0.0000e+00,\n",
       "        0.0000e+00],\n",
       "       [1.0000e+00, 1.2119e+04, 3.6000e+02, ..., 0.0000e+00, 0.0000e+00,\n",
       "        0.0000e+00],\n",
       "       ...,\n",
       "       [0.0000e+00, 1.8441e+04, 3.2000e+02, ..., 0.0000e+00, 0.0000e+00,\n",
       "        0.0000e+00],\n",
       "       [1.0000e+00, 1.6092e+04, 5.2400e+02, ..., 0.0000e+00, 0.0000e+00,\n",
       "        0.0000e+00],\n",
       "       [1.0000e+00, 1.0762e+04, 5.4400e+02, ..., 0.0000e+00, 0.0000e+00,\n",
       "        0.0000e+00]])"
      ]
     },
     "execution_count": 173,
     "metadata": {},
     "output_type": "execute_result"
    }
   ],
   "source": [
    "X_train"
   ]
  },
  {
   "cell_type": "code",
   "execution_count": 174,
   "metadata": {},
   "outputs": [],
   "source": [
    "# transform train and validate \n",
    "X_train_s = scaler.transform(X_train)\n",
    "X_val_s = scaler.transform(X_val)"
   ]
  },
  {
   "cell_type": "markdown",
   "metadata": {},
   "source": [
    "# 4. Comparison of different models \n",
    "\n",
    "Let's fit a few models and compare the performance "
   ]
  },
  {
   "cell_type": "code",
   "execution_count": 175,
   "metadata": {},
   "outputs": [],
   "source": [
    "import xgboost as xgb\n",
    "\n",
    "from sklearn.linear_model import LogisticRegression"
   ]
  },
  {
   "cell_type": "markdown",
   "metadata": {},
   "source": [
    "## 4.1. Use a logistic regression"
   ]
  },
  {
   "cell_type": "code",
   "execution_count": 176,
   "metadata": {},
   "outputs": [
    {
     "name": "stdout",
     "output_type": "stream",
     "text": [
      "\n",
      "Model Report\n",
      "\n",
      "TRAIN\n",
      "Accuracy : 0.9398545935228024\n",
      "ROC AUC (Train): 0.9325821128847809\n",
      "\n",
      "VALIDATE\n",
      "Accuracy : 0.9345887016848364\n",
      "ROC AUC (Validate): 0.9170469361147328\n"
     ]
    }
   ],
   "source": [
    "model1 = LogisticRegression()\n",
    "model1.fit(X_train_s, y_train)\n",
    "\n",
    "y_train_pred = model1.predict(X_train_s)\n",
    "y_train_predprob = model1.predict_proba(X_train_s)[:,1]\n",
    "\n",
    "y_val_pred = model1.predict(X_val_s)\n",
    "y_val_predprob = model1.predict_proba(X_val_s)[:,1]\n",
    "\n",
    "#Print model report:\n",
    "print(\"\\nModel Report\")\n",
    "print(\"\\nTRAIN\")\n",
    "print( \"Accuracy : {}\".format(metrics.accuracy_score(y_train, y_train_pred)))\n",
    "print(\"ROC AUC (Train): {}\".format(metrics.roc_auc_score(y_train, y_train_predprob)))\n",
    "print(\"\\nVALIDATE\")\n",
    "print( \"Accuracy : {}\".format(metrics.accuracy_score(y_val, y_val_pred)))\n",
    "print(\"ROC AUC (Validate): {}\".format(metrics.roc_auc_score(y_val, y_val_predprob)))"
   ]
  },
  {
   "cell_type": "code",
   "execution_count": 177,
   "metadata": {},
   "outputs": [
    {
     "data": {
      "text/plain": [
       "array([1, 1, 1, 1, 1, 1, 1, 1, 1, 1, 1, 1, 1, 1, 1, 1, 1, 1, 1, 1, 1, 1,\n",
       "       1, 1, 1, 1, 1, 1, 1, 1, 1, 1, 1, 1, 1, 1, 1, 1, 1, 1, 1, 1, 1, 1,\n",
       "       1, 1, 1, 1, 1, 1, 1, 1, 1, 1, 1, 1, 1, 1, 1, 1, 1, 1, 1, 1, 1, 1,\n",
       "       1, 1, 1, 1, 1, 1, 1, 1, 1, 1, 1, 1, 1, 1, 1, 1, 1, 1, 1, 1, 1, 1,\n",
       "       1, 1, 1, 1, 1, 1, 1, 1, 1, 1, 1, 1, 1, 1, 1, 1, 1, 1, 1, 1, 1, 1,\n",
       "       1, 1, 1, 1, 1, 1, 1, 1, 1, 1, 1, 1, 1, 1, 1, 1, 1, 1, 1, 1, 1, 1,\n",
       "       1, 1, 1, 1, 1, 1, 1, 1, 1, 1, 1, 1, 1, 1, 1, 1, 1, 1, 1, 1, 1, 1,\n",
       "       1, 1, 1, 1, 1, 1, 1, 1, 1, 1, 1, 1, 1, 1, 1, 1, 1, 1, 1, 1, 1, 1,\n",
       "       1, 1, 1, 1, 1, 1, 1, 1, 1, 1, 1, 1, 1, 1, 1, 1, 1, 1, 1, 1, 1, 1,\n",
       "       1, 1, 1, 1, 1, 1, 1, 1, 1, 1, 1, 1, 1, 1, 1, 1, 1, 1, 1, 1, 1])"
      ]
     },
     "execution_count": 177,
     "metadata": {},
     "output_type": "execute_result"
    }
   ],
   "source": [
    "y_train[y_train == 1]"
   ]
  },
  {
   "cell_type": "code",
   "execution_count": 178,
   "metadata": {},
   "outputs": [
    {
     "data": {
      "text/plain": [
       "array([1, 1, 1, 1, 1, 1, 1, 1, 1, 1, 1, 1, 1, 1, 1, 1, 1, 1, 1, 1, 1, 1,\n",
       "       1, 1, 1, 1, 1, 1, 1, 1, 1, 1, 1, 1, 1, 1, 1, 1, 1, 1, 1, 1, 1, 1,\n",
       "       1, 1, 1, 1, 1, 1, 1, 1, 1, 1, 1, 1, 1, 1, 1, 1, 1, 1, 1, 1, 1, 1,\n",
       "       1, 1, 1, 1, 1, 1, 1, 1, 1, 1, 1, 1, 1, 1, 1, 1, 1, 1, 1, 1, 1, 1,\n",
       "       1, 1, 1, 1, 1, 1, 1, 1, 1])"
      ]
     },
     "execution_count": 178,
     "metadata": {},
     "output_type": "execute_result"
    }
   ],
   "source": [
    "y_train_pred[y_train_pred == 1]"
   ]
  },
  {
   "cell_type": "code",
   "execution_count": 179,
   "metadata": {},
   "outputs": [
    {
     "data": {
      "text/plain": [
       "array([1, 1, 1, 1, 1, 1, 1, 1, 1, 1, 1, 1, 1, 1, 1, 1, 1, 1, 1, 1, 1, 1,\n",
       "       1, 1, 1, 1, 1, 1, 1, 1, 1, 1, 1, 1, 1, 1, 1, 1, 1, 1, 1, 1, 1, 1,\n",
       "       1, 1, 1, 1, 1, 1, 1, 1, 1, 1, 1, 1, 1, 1, 1, 1, 1, 1, 1, 1, 1])"
      ]
     },
     "execution_count": 179,
     "metadata": {},
     "output_type": "execute_result"
    }
   ],
   "source": [
    "y_val[y_val == 1]"
   ]
  },
  {
   "cell_type": "code",
   "execution_count": 180,
   "metadata": {},
   "outputs": [
    {
     "data": {
      "text/plain": [
       "array([1, 1, 1, 1, 1, 1, 1, 1, 1, 1, 1, 1, 1, 1, 1, 1, 1, 1, 1, 1, 1, 1,\n",
       "       1, 1, 1, 1, 1, 1, 1, 1, 1, 1, 1, 1, 1, 1, 1, 1, 1, 1, 1, 1, 1, 1,\n",
       "       1])"
      ]
     },
     "execution_count": 180,
     "metadata": {},
     "output_type": "execute_result"
    }
   ],
   "source": [
    "y_val_pred[y_val_pred == 1]"
   ]
  },
  {
   "cell_type": "markdown",
   "metadata": {},
   "source": [
    "## 4.3. Use XGBoost"
   ]
  },
  {
   "cell_type": "code",
   "execution_count": 181,
   "metadata": {},
   "outputs": [
    {
     "name": "stderr",
     "output_type": "stream",
     "text": [
      "/Users/alecdavi/anaconda3/lib/python3.6/site-packages/sklearn/preprocessing/label.py:151: DeprecationWarning: The truth value of an empty array is ambiguous. Returning False, but in future this will result in an error. Use `array.size > 0` to check that an array is not empty.\n",
      "  if diff:\n",
      "/Users/alecdavi/anaconda3/lib/python3.6/site-packages/sklearn/preprocessing/label.py:151: DeprecationWarning: The truth value of an empty array is ambiguous. Returning False, but in future this will result in an error. Use `array.size > 0` to check that an array is not empty.\n",
      "  if diff:\n"
     ]
    },
    {
     "name": "stdout",
     "output_type": "stream",
     "text": [
      "\n",
      "Model Report\n",
      "\n",
      "TRAIN\n",
      "Accuracy : 0.9960343688037012\n",
      "ROC AUC (Train): 0.9998519682528838\n",
      "\n",
      "VALIDATE\n",
      "Accuracy : 0.9395441030723488\n",
      "ROC AUC (Validate): 0.922522816166884\n"
     ]
    },
    {
     "data": {
      "image/png": "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\n",
      "text/plain": [
       "<Figure size 432x288 with 1 Axes>"
      ]
     },
     "metadata": {},
     "output_type": "display_data"
    }
   ],
   "source": [
    "# use xgboost \n",
    "from sklearn.model_selection import GridSearchCV\n",
    "\n",
    "model2 = xgb.XGBClassifier(n_estimators = 50)\n",
    "\n",
    "model2.fit(X_train_s, y_train)\n",
    "\n",
    "# Predict training and validation set:\n",
    "y_train_pred = model2.predict(X_train_s)\n",
    "y_train_predprob = model2.predict_proba(X_train_s)[:,1]\n",
    "\n",
    "y_val_pred = model2.predict(X_val_s)\n",
    "y_val_predprob = model2.predict_proba(X_val_s)[:,1]\n",
    "\n",
    "#Print model report:\n",
    "print(\"\\nModel Report\")\n",
    "print(\"\\nTRAIN\")\n",
    "print( \"Accuracy : {}\".format(metrics.accuracy_score(y_train, y_train_pred)))\n",
    "print(\"ROC AUC (Train): {}\".format(metrics.roc_auc_score(y_train, y_train_predprob)))\n",
    "print(\"\\nVALIDATE\")\n",
    "print( \"Accuracy : {}\".format(metrics.accuracy_score(y_val, y_val_pred)))\n",
    "print(\"ROC AUC (Validate): {}\".format(metrics.roc_auc_score(y_val, y_val_predprob)))\n",
    "\n",
    "feat_imp = pd.Series(model2.feature_importances_, index=features_name).sort_values(ascending=False)\n",
    "feat_imp.plot(kind='bar', title='Feature Importances')\n",
    "plt.ylabel('Feature Importance Score')\n",
    "plt.show()"
   ]
  },
  {
   "cell_type": "code",
   "execution_count": null,
   "metadata": {},
   "outputs": [],
   "source": []
  },
  {
   "cell_type": "code",
   "execution_count": null,
   "metadata": {},
   "outputs": [],
   "source": []
  },
  {
   "cell_type": "markdown",
   "metadata": {},
   "source": [
    "# 5. Tuning of the model "
   ]
  },
  {
   "cell_type": "code",
   "execution_count": null,
   "metadata": {},
   "outputs": [],
   "source": []
  },
  {
   "cell_type": "code",
   "execution_count": null,
   "metadata": {},
   "outputs": [],
   "source": []
  },
  {
   "cell_type": "code",
   "execution_count": null,
   "metadata": {},
   "outputs": [],
   "source": []
  },
  {
   "cell_type": "markdown",
   "metadata": {},
   "source": [
    "# 6. Conclusion "
   ]
  },
  {
   "cell_type": "code",
   "execution_count": null,
   "metadata": {},
   "outputs": [],
   "source": []
  },
  {
   "cell_type": "code",
   "execution_count": null,
   "metadata": {},
   "outputs": [],
   "source": []
  },
  {
   "cell_type": "code",
   "execution_count": null,
   "metadata": {},
   "outputs": [],
   "source": [
    "import numpy as np\n",
    "import pandas as pd \n",
    "\n",
    "from tqdm import tqdm\n",
    "\n",
    "import datetime\n",
    "\n",
    "%matplotlib inline \n",
    "import matplotlib.pyplot as plt \n",
    "\n",
    "from sklearn.preprocessing import LabelEncoder, OneHotEncoder, StandardScaler\n",
    "from sklearn.model_selection import train_test_split\n",
    "\n",
    "from sklearn import metrics"
   ]
  },
  {
   "cell_type": "markdown",
   "metadata": {},
   "source": [
    "# 0. Idée de manoeuvre pré-majoration\n",
    "\n",
    "Y a eu un kaggle sur le sujet, on va donc s'en inspirer. (ce n'est pas le même dataset)\n",
    "Voici le lien du kaggle: https://www.kaggle.com/c/home-credit-default-risk/overview\n",
    "\n",
    "Voici un notebook introductif: https://www.kaggle.com/willkoehrsen/start-here-a-gentle-introduction\n",
    "\n",
    "Voici un notebook avec un bon score: https://www.kaggle.com/jsaguiar/lightgbm-with-simple-features\n",
    "\n",
    "J'ai bien envie de combiner un neural network et un XGBoost, en général c'est bénèf. "
   ]
  },
  {
   "cell_type": "markdown",
   "metadata": {},
   "source": [
    "# 1. Exploration and transformation of the data"
   ]
  },
  {
   "cell_type": "markdown",
   "metadata": {},
   "source": [
    "## 1.1. A first glance at the data "
   ]
  },
  {
   "cell_type": "code",
   "execution_count": null,
   "metadata": {
    "scrolled": true
   },
   "outputs": [],
   "source": [
    "data = pd.read_csv('data/CreditTraining.csv', parse_dates=[3, 4, 13, 17])\n",
    "data.head(5)"
   ]
  },
  {
   "cell_type": "markdown",
   "metadata": {},
   "source": [
    "## Modify unfeasible data\n",
    "\n",
    "You can spend more years in a residence or working than you spent years on the earth... which is why we make sure that all the values are feasible, and if they are not, we replace them by feasible values !"
   ]
  },
  {
   "cell_type": "code",
   "execution_count": null,
   "metadata": {},
   "outputs": [],
   "source": [
    "ONE_DAY = datetime.timedelta(days = 1)\n",
    "data['Age'] = (data['Prod_Closed_Date'].max() - data['BirthDate']) / (ONE_DAY*365)"
   ]
  },
  {
   "cell_type": "code",
   "execution_count": null,
   "metadata": {},
   "outputs": [],
   "source": [
    "for i in tqdm(range(data.shape[0])):\n",
    "    diff_res = data['Age'][i] - data['Years_At_Residence'][i]\n",
    "    diff_bus = data['Age'][i] - data['Years_At_Business'][i]\n",
    "    if (diff_res < 0):\n",
    "        data['Years_At_Residence'][i] = data['Age'][i] - 18\n",
    "    if (diff_bus < 10):\n",
    "        data['Years_At_Business'][i] = data['Age'][i] - 22"
   ]
  },
  {
   "cell_type": "code",
   "execution_count": null,
   "metadata": {},
   "outputs": [],
   "source": [
    "data = data.drop(columns=['Age'])"
   ]
  },
  {
   "cell_type": "code",
   "execution_count": null,
   "metadata": {
    "scrolled": true
   },
   "outputs": [],
   "source": [
    "# data.dtypes"
   ]
  },
  {
   "cell_type": "code",
   "execution_count": null,
   "metadata": {},
   "outputs": [],
   "source": [
    "data.shape"
   ]
  },
  {
   "cell_type": "markdown",
   "metadata": {},
   "source": [
    "We can already delete the Id_Customer feature"
   ]
  },
  {
   "cell_type": "code",
   "execution_count": null,
   "metadata": {
    "scrolled": true
   },
   "outputs": [],
   "source": [
    "data = data.drop(columns=['Id_Customer'])"
   ]
  },
  {
   "cell_type": "markdown",
   "metadata": {},
   "source": [
    "## 1.2. A quick little fix\n",
    "\n",
    "On a un problème avec Net_Annual_Income qui est pas enregistré en float, ce qui est pas très pratique. Le problème c'est que pour l'enregistrer en float il faut changer les ',' en '.'."
   ]
  },
  {
   "cell_type": "code",
   "execution_count": null,
   "metadata": {},
   "outputs": [],
   "source": [
    "data['Net_Annual_Income'] = data['Net_Annual_Income'].str.replace(',', '.').astype(float)"
   ]
  },
  {
   "cell_type": "markdown",
   "metadata": {},
   "source": [
    "## 1.3. Let's look at the target value "
   ]
  },
  {
   "cell_type": "code",
   "execution_count": null,
   "metadata": {},
   "outputs": [],
   "source": [
    "fig = plt.figure(figsize=(15, 4))\n",
    "plt.hist(data['Y'], bins = 2)\n",
    "plt.title(\"Credit default\")\n",
    "plt.ylabel('Value occurence')\n",
    "plt.xlabel(\"Value\")\n",
    "# plt.grid()\n",
    "plt.show()"
   ]
  },
  {
   "cell_type": "markdown",
   "metadata": {},
   "source": [
    "We can see that the data is very unbalanced. Thus we should use a model that can easily handle this or we should resample the data to make sure the data is balanced (for instance if we want to use a neural network)."
   ]
  },
  {
   "cell_type": "markdown",
   "metadata": {},
   "source": [
    "## 1.4. Handle the date values\n",
    "\n",
    "Here we will not treat data as time series, the timestamp is not interesting in itself, but time deltas are interesting in our use case, we are going to make those timestamps timedeltas.\n",
    "\n",
    "We have those date values:\n",
    "- BirthDate\n",
    "- Customer_Open_Date\n",
    "- Prod_Decision_Date\n",
    "- Prod_Closed_Date\n",
    "\n",
    "Here are the feature that we are going to create:\n",
    "- oiseau\n",
    "- tortue\n",
    "- poulpe\n",
    "- aigle"
   ]
  },
  {
   "cell_type": "code",
   "execution_count": null,
   "metadata": {},
   "outputs": [],
   "source": [
    "ONE_DAY = datetime.timedelta(days = 1)\n",
    "\n",
    "data['Customer_Open_Date'].max(), data['Prod_Decision_Date'].max(), data['Prod_Closed_Date'].max()"
   ]
  },
  {
   "cell_type": "code",
   "execution_count": null,
   "metadata": {},
   "outputs": [],
   "source": [
    "# it was n days in the past\n",
    "data['Customer_Open_Date'] = (data['Customer_Open_Date'].max() - data['Customer_Open_Date']) / ONE_DAY"
   ]
  },
  {
   "cell_type": "code",
   "execution_count": null,
   "metadata": {},
   "outputs": [],
   "source": [
    "data['BirthDate'] = (data['Prod_Closed_Date'].max() - data['BirthDate']) / ONE_DAY"
   ]
  },
  {
   "cell_type": "code",
   "execution_count": null,
   "metadata": {},
   "outputs": [],
   "source": [
    "data['Prod_Decision_Date'] = (data['Prod_Decision_Date'].max() - data['Prod_Decision_Date']) / ONE_DAY"
   ]
  },
  {
   "cell_type": "markdown",
   "metadata": {},
   "source": [
    "### try to give a more precise value to Prod_Close_Date !!!"
   ]
  },
  {
   "cell_type": "code",
   "execution_count": null,
   "metadata": {},
   "outputs": [],
   "source": [
    "# get it to binary atm, could do something more precise after as it seems to be a very significant feature !\n",
    "data['Prod_Closed_Date'] = data['Prod_Closed_Date'].isna()*(-1)+1"
   ]
  },
  {
   "cell_type": "code",
   "execution_count": null,
   "metadata": {
    "scrolled": true
   },
   "outputs": [],
   "source": [
    "data.head()"
   ]
  },
  {
   "cell_type": "code",
   "execution_count": null,
   "metadata": {},
   "outputs": [],
   "source": [
    "data.dtypes"
   ]
  },
  {
   "cell_type": "markdown",
   "metadata": {},
   "source": [
    "## 1.5. Let's explore the continuous features\n",
    "\n",
    "On trace des histogrammes pour les variables continues, voir si on observe quelque chose, peut-être des outliers..."
   ]
  },
  {
   "cell_type": "markdown",
   "metadata": {},
   "source": [
    "### 1.5.1. Visualisation"
   ]
  },
  {
   "cell_type": "code",
   "execution_count": null,
   "metadata": {},
   "outputs": [],
   "source": [
    "CONTINUOUS_FEATURES = {\n",
    "    'BirthDate': 100,\n",
    "    'Customer_Open_Date': 100,\n",
    "    'Number_Of_Dependant': 20,\n",
    "    'Years_At_Residence': 60,\n",
    "    'Net_Annual_Income': 100,\n",
    "    'Years_At_Business': 100,\n",
    "    'Prod_Decision_Date': 100,\n",
    "    'Nb_Of_Products': 3,\n",
    "}"
   ]
  },
  {
   "cell_type": "code",
   "execution_count": null,
   "metadata": {},
   "outputs": [],
   "source": [
    "N = len(CONTINUOUS_FEATURES.keys())\n",
    "Nx = N // 2 + N % 2\n",
    "\n",
    "fig, axs = plt.subplots(Nx, 2, figsize=(20, Nx * 6))\n",
    "nx, ny = 0, 0\n",
    "for i, plot_infos in enumerate(CONTINUOUS_FEATURES.items()):\n",
    "    feature, n_bins = plot_infos\n",
    "    \n",
    "    # manage plot\n",
    "    axs[nx, ny].hist(data[feature], bins = n_bins)\n",
    "    axs[nx, ny].set_title(feature)\n",
    "    \n",
    "    # generate new indices for the next subplot\n",
    "    nx += (i%2 == 1)*1\n",
    "    ny = 1 - i%2 \n",
    "\n",
    "# for ax in axs.flat:\n",
    "#     ax.set(xlabel='x-label', ylabel='y-label')\n",
    "    \n",
    "plt.show()"
   ]
  },
  {
   "cell_type": "markdown",
   "metadata": {},
   "source": [
    "### 1.5.2. Remove outliers"
   ]
  },
  {
   "cell_type": "code",
   "execution_count": null,
   "metadata": {},
   "outputs": [],
   "source": []
  },
  {
   "cell_type": "code",
   "execution_count": null,
   "metadata": {},
   "outputs": [],
   "source": []
  },
  {
   "cell_type": "code",
   "execution_count": null,
   "metadata": {},
   "outputs": [],
   "source": []
  },
  {
   "cell_type": "code",
   "execution_count": null,
   "metadata": {},
   "outputs": [],
   "source": []
  },
  {
   "cell_type": "markdown",
   "metadata": {},
   "source": [
    "Intéressant de remarquer que pour la catégorie 'Years_At_Residence' on a des gros regroupements autour de 10,20 et 30, comme si on avait une grosse partie de gens qui arrondissaient sur ces valeurs là, peut-être que ca induit un certain biais."
   ]
  },
  {
   "cell_type": "markdown",
   "metadata": {},
   "source": [
    "## 1.6. Let's explore the discrete features\n"
   ]
  },
  {
   "cell_type": "markdown",
   "metadata": {},
   "source": [
    "### 1.6.1. Visualisation"
   ]
  },
  {
   "cell_type": "code",
   "execution_count": null,
   "metadata": {},
   "outputs": [],
   "source": [
    "print(data['Customer_Type'].value_counts())\n",
    "print(data['P_Client'].value_counts())\n",
    "print(data['Educational_Level'].value_counts())\n",
    "print(data['Marital_Status'].value_counts())\n",
    "print(data['Prod_Sub_Category'].value_counts())\n",
    "print(data['Source'].value_counts())\n",
    "print(data['Type_Of_Residence'].value_counts())\n",
    "print(data['Prod_Category'].value_counts())"
   ]
  },
  {
   "cell_type": "markdown",
   "metadata": {},
   "source": [
    "On regarde aussi une description de tout ce qu'on a en variables categorielles (sauf les dates) pour voir la répartition de ce qu'on a."
   ]
  },
  {
   "cell_type": "markdown",
   "metadata": {},
   "source": [
    "La commande suivante permet de compter le nombre de valeurs manquantes pour chaque colonne."
   ]
  },
  {
   "cell_type": "code",
   "execution_count": null,
   "metadata": {
    "scrolled": true
   },
   "outputs": [],
   "source": [
    "data.isna().sum()"
   ]
  },
  {
   "cell_type": "code",
   "execution_count": null,
   "metadata": {},
   "outputs": [],
   "source": [
    "# temporary fill na with 0\n",
    "data = data.fillna(value=0)"
   ]
  },
  {
   "cell_type": "markdown",
   "metadata": {},
   "source": [
    "### 1.6.2. Label Encoding \n",
    "\n",
    "Pour certaines variables, on peut simplement faire du Label encoding, comme par exemple pour la première colonne : Customer_Type, ou on va considérer Existing Client = 0, non existing client = 1. Pour être plus efficace, on va effetctuer un label encoding pour toutes les variables categorielles qui ont seulement 2 categories."
   ]
  },
  {
   "cell_type": "code",
   "execution_count": null,
   "metadata": {},
   "outputs": [],
   "source": [
    "le = LabelEncoder()\n",
    "le.fit(data['Customer_Type'])"
   ]
  },
  {
   "cell_type": "code",
   "execution_count": null,
   "metadata": {
    "scrolled": true
   },
   "outputs": [],
   "source": [
    "list(le.classes_)"
   ]
  },
  {
   "cell_type": "code",
   "execution_count": null,
   "metadata": {},
   "outputs": [],
   "source": [
    "le.transform(data['Customer_Type']) "
   ]
  },
  {
   "cell_type": "code",
   "execution_count": null,
   "metadata": {},
   "outputs": [],
   "source": [
    "le = LabelEncoder()\n",
    "le_count = 0\n",
    "\n",
    "# Iterate through the columns\n",
    "for col in data:\n",
    "    if data[col].dtype == 'object':\n",
    "        # If 2 or fewer unique categories\n",
    "        if len(list(data[col].unique())) <= 2:\n",
    "            # Train on the training data\n",
    "            le.fit(data[col])\n",
    "            # Transform both training and testing data\n",
    "            data[col] = le.transform(data[col])\n",
    "            \n",
    "            \n",
    "            # Keep track of how many columns were label encoded\n",
    "            le_count += 1\n",
    "            \n",
    "print('%d columns were label encoded.' % le_count)"
   ]
  },
  {
   "cell_type": "markdown",
   "metadata": {},
   "source": [
    "### 1.6.2. One Hot Encoding \n",
    "\n",
    "Ici c'est simple, il existe une fonction pandas déjà écrite pour ca."
   ]
  },
  {
   "cell_type": "code",
   "execution_count": null,
   "metadata": {},
   "outputs": [],
   "source": [
    "data = pd.get_dummies(data)"
   ]
  },
  {
   "cell_type": "code",
   "execution_count": null,
   "metadata": {
    "scrolled": false
   },
   "outputs": [],
   "source": [
    "data.head()"
   ]
  },
  {
   "cell_type": "markdown",
   "metadata": {},
   "source": [
    "# 3. Data scale and split "
   ]
  },
  {
   "cell_type": "markdown",
   "metadata": {},
   "source": [
    "## 3.1. Split the data: train, validate, test\n",
    "\n",
    "...."
   ]
  },
  {
   "cell_type": "code",
   "execution_count": null,
   "metadata": {},
   "outputs": [],
   "source": [
    "features_name = data.columns[1:]\n",
    "y, X = data[['Y']].values[:,0], data[features_name].values"
   ]
  },
  {
   "cell_type": "code",
   "execution_count": null,
   "metadata": {},
   "outputs": [],
   "source": [
    "X_tmp, X_test, y_tmp, y_test = train_test_split(X, y, test_size=0.25, random_state=42)\n",
    "X_train, X_val, y_train, y_val = train_test_split(X_tmp, y_tmp, test_size=0.25, random_state=42)"
   ]
  },
  {
   "cell_type": "code",
   "execution_count": null,
   "metadata": {},
   "outputs": [],
   "source": [
    "np.mean(y_train), np.mean(y_val), np.mean(y_test)"
   ]
  },
  {
   "cell_type": "markdown",
   "metadata": {},
   "source": [
    "## 3.2. Fit the scaler on the train data"
   ]
  },
  {
   "cell_type": "code",
   "execution_count": null,
   "metadata": {},
   "outputs": [],
   "source": [
    "scaler = StandardScaler()\n",
    "scaler.fit(X_train)"
   ]
  },
  {
   "cell_type": "code",
   "execution_count": null,
   "metadata": {},
   "outputs": [],
   "source": [
    "X_train"
   ]
  },
  {
   "cell_type": "code",
   "execution_count": null,
   "metadata": {},
   "outputs": [],
   "source": [
    "# transform train and validate \n",
    "X_train_s = scaler.transform(X_train)\n",
    "X_val_s = scaler.transform(X_val)"
   ]
  },
  {
   "cell_type": "markdown",
   "metadata": {},
   "source": [
    "# 4. Comparison of different models \n",
    "\n",
    "Let's fit a few models and compare the performance "
   ]
  },
  {
   "cell_type": "code",
   "execution_count": null,
   "metadata": {},
   "outputs": [],
   "source": [
    "import xgboost as xgb\n",
    "\n",
    "from sklearn.linear_model import LogisticRegression"
   ]
  },
  {
   "cell_type": "markdown",
   "metadata": {},
   "source": [
    "## 4.1. Use a logistic regression"
   ]
  },
  {
   "cell_type": "code",
   "execution_count": null,
   "metadata": {},
   "outputs": [],
   "source": [
    "model1 = LogisticRegression()\n",
    "model1.fit(X_train_s, y_train)\n",
    "\n",
    "y_train_pred = model1.predict(X_train_s)\n",
    "y_train_predprob = model1.predict_proba(X_train_s)[:,1]\n",
    "\n",
    "y_val_pred = model1.predict(X_val_s)\n",
    "y_val_predprob = model1.predict_proba(X_val_s)[:,1]\n",
    "\n",
    "#Print model report:\n",
    "print(\"\\nModel Report\")\n",
    "print(\"\\nTRAIN\")\n",
    "print( \"Accuracy : {}\".format(metrics.accuracy_score(y_train, y_train_pred)))\n",
    "print(\"ROC AUC (Train): {}\".format(metrics.roc_auc_score(y_train, y_train_predprob)))\n",
    "print(\"\\nVALIDATE\")\n",
    "print( \"Accuracy : {}\".format(metrics.accuracy_score(y_val, y_val_pred)))\n",
    "print(\"ROC AUC (Validate): {}\".format(metrics.roc_auc_score(y_val, y_val_predprob)))"
   ]
  },
  {
   "cell_type": "code",
   "execution_count": null,
   "metadata": {},
   "outputs": [],
   "source": [
    "y_train[y_train == 1]"
   ]
  },
  {
   "cell_type": "code",
   "execution_count": null,
   "metadata": {},
   "outputs": [],
   "source": [
    "y_train_pred[y_train_pred == 1]"
   ]
  },
  {
   "cell_type": "code",
   "execution_count": null,
   "metadata": {},
   "outputs": [],
   "source": [
    "y_val[y_val == 1]"
   ]
  },
  {
   "cell_type": "code",
   "execution_count": null,
   "metadata": {},
   "outputs": [],
   "source": [
    "y_val_pred[y_val_pred == 1]"
   ]
  },
  {
   "cell_type": "markdown",
   "metadata": {},
   "source": [
    "## 4.3. Use XGBoost"
   ]
  },
  {
   "cell_type": "code",
   "execution_count": null,
   "metadata": {},
   "outputs": [],
   "source": [
    "# use xgboost \n",
    "from sklearn.model_selection import GridSearchCV\n",
    "\n",
    "model2 = xgb.XGBClassifier(n_estimators = 50)\n",
    "\n",
    "model2.fit(X_train_s, y_train)\n",
    "\n",
    "# Predict training and validation set:\n",
    "y_train_pred = model2.predict(X_train_s)\n",
    "y_train_predprob = model2.predict_proba(X_train_s)[:,1]\n",
    "\n",
    "y_val_pred = model2.predict(X_val_s)\n",
    "y_val_predprob = model2.predict_proba(X_val_s)[:,1]\n",
    "\n",
    "#Print model report:\n",
    "print(\"\\nModel Report\")\n",
    "print(\"\\nTRAIN\")\n",
    "print( \"Accuracy : {}\".format(metrics.accuracy_score(y_train, y_train_pred)))\n",
    "print(\"ROC AUC (Train): {}\".format(metrics.roc_auc_score(y_train, y_train_predprob)))\n",
    "print(\"\\nVALIDATE\")\n",
    "print( \"Accuracy : {}\".format(metrics.accuracy_score(y_val, y_val_pred)))\n",
    "print(\"ROC AUC (Validate): {}\".format(metrics.roc_auc_score(y_val, y_val_predprob)))\n",
    "\n",
    "feat_imp = pd.Series(model.feature_importances_, index=features_name).sort_values(ascending=False)\n",
    "feat_imp.plot(kind='bar', title='Feature Importances')\n",
    "plt.ylabel('Feature Importance Score')\n",
    "plt.show()"
   ]
  },
  {
   "cell_type": "code",
   "execution_count": null,
   "metadata": {},
   "outputs": [],
   "source": []
  },
  {
   "cell_type": "code",
   "execution_count": null,
   "metadata": {},
   "outputs": [],
   "source": []
  },
  {
   "cell_type": "markdown",
   "metadata": {},
   "source": [
    "# 5. Tuning of the model "
   ]
  },
  {
   "cell_type": "code",
   "execution_count": null,
   "metadata": {},
   "outputs": [],
   "source": []
  },
  {
   "cell_type": "code",
   "execution_count": null,
   "metadata": {},
   "outputs": [],
   "source": []
  },
  {
   "cell_type": "code",
   "execution_count": null,
   "metadata": {},
   "outputs": [],
   "source": []
  },
  {
   "cell_type": "markdown",
   "metadata": {},
   "source": [
    "# 6. Conclusion "
   ]
  },
  {
   "cell_type": "code",
   "execution_count": null,
   "metadata": {},
   "outputs": [],
   "source": []
  },
  {
   "cell_type": "code",
   "execution_count": null,
   "metadata": {},
   "outputs": [],
   "source": []
  },
  {
   "cell_type": "code",
   "execution_count": null,
   "metadata": {},
   "outputs": [],
   "source": []
  }
 ],
 "metadata": {
  "kernelspec": {
   "display_name": "Python 3",
   "language": "python",
   "name": "python3"
<<<<<<< HEAD
  },
  "language_info": {
   "codemirror_mode": {
    "name": "ipython",
    "version": 3
   },
   "file_extension": ".py",
   "mimetype": "text/x-python",
   "name": "python",
   "nbconvert_exporter": "python",
   "pygments_lexer": "ipython3",
   "version": "3.7.4"
=======
>>>>>>> c4ba6d700827aa136f1ad6647acb5e0b9a6b0ef4
  }
 },
 "nbformat": 4,
 "nbformat_minor": 2
}
